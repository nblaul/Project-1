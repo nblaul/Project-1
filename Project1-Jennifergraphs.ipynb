{
 "cells": [
  {
   "cell_type": "code",
   "execution_count": 51,
   "metadata": {},
   "outputs": [],
   "source": [
    "# Dependencies and Setup\n",
    "import matplotlib.pyplot as plt\n",
    "import pandas as pd\n",
    "import numpy as np\n",
    "import requests\n",
    "import gmaps\n",
    "import os\n",
    "import time\n",
    "import scipy.stats as sts\n",
    "from scipy.stats import linregress\n",
    "from matplotlib import pyplot as plt\n",
    "import json\n",
    "from pprint import pprint\n",
    "pd.options.display.max_rows = 50 "
   ]
  },
  {
   "cell_type": "code",
   "execution_count": 52,
   "metadata": {},
   "outputs": [],
   "source": [
    "path_stats_file = \"data_resources/QB Stats and Weather Data.csv\"\n",
    "QB_df = pd.read_csv(path_stats_file)"
   ]
  },
  {
   "cell_type": "code",
   "execution_count": 53,
   "metadata": {},
   "outputs": [],
   "source": [
    "qb_df = pd.read_csv(path_stats_file)"
   ]
  },
  {
   "cell_type": "code",
   "execution_count": 4,
   "metadata": {},
   "outputs": [
    {
     "data": {
      "text/plain": [
       "clear sky               786\n",
       "overcast                392\n",
       "mostly cloudy           227\n",
       "partly cloudy           219\n",
       "scattered clouds        138\n",
       "overcast clouds         120\n",
       "broken clouds            95\n",
       "light rain               83\n",
       "few clouds               61\n",
       "rain                     57\n",
       "moderate rain            33\n",
       "cloudy                   33\n",
       "haze                     22\n",
       "light snow               16\n",
       "snow                      8\n",
       "mist                      6\n",
       "heavy intensity rain      4\n",
       "chance rain               4\n",
       "breeze                    2\n",
       "cold                      2\n",
       "thunderstorm              2\n",
       "very heavy rain           2\n",
       "shower rain               2\n",
       "fog                       2\n",
       "heavy rain                2\n",
       "Name: conditions, dtype: int64"
      ]
     },
     "execution_count": 4,
     "metadata": {},
     "output_type": "execute_result"
    }
   ],
   "source": [
    "#value_counts on conditions\n",
    "QB_conditions = QB_df[[\"QB Rating\", \"conditions\"]]\n",
    "QB_conditions[\"conditions\"].value_counts()"
   ]
  },
  {
   "cell_type": "code",
   "execution_count": 5,
   "metadata": {},
   "outputs": [
    {
     "data": {
      "text/plain": [
       "39.15"
      ]
     },
     "execution_count": 5,
     "metadata": {},
     "output_type": "execute_result"
    }
   ],
   "source": [
    "#Wind speed stats\n",
    "QB_wind = QB_df[[\"QB Rating\", \"windSpeed\"]]\n",
    "QB_wind[\"windSpeed\"].max()"
   ]
  },
  {
   "cell_type": "code",
   "execution_count": 6,
   "metadata": {},
   "outputs": [
    {
     "data": {
      "text/plain": [
       "0.0"
      ]
     },
     "execution_count": 6,
     "metadata": {},
     "output_type": "execute_result"
    }
   ],
   "source": [
    "QB_wind[\"windSpeed\"].min()"
   ]
  },
  {
   "cell_type": "code",
   "execution_count": 7,
   "metadata": {},
   "outputs": [
    {
     "data": {
      "text/plain": [
       "8.022395157803778"
      ]
     },
     "execution_count": 7,
     "metadata": {},
     "output_type": "execute_result"
    }
   ],
   "source": [
    "QB_wind[\"windSpeed\"].mean()"
   ]
  },
  {
   "cell_type": "code",
   "execution_count": 8,
   "metadata": {},
   "outputs": [
    {
     "data": {
      "text/plain": [
       "7.0"
      ]
     },
     "execution_count": 8,
     "metadata": {},
     "output_type": "execute_result"
    }
   ],
   "source": [
    "QB_wind[\"windSpeed\"].median()"
   ]
  },
  {
   "cell_type": "code",
   "execution_count": 9,
   "metadata": {},
   "outputs": [
    {
     "data": {
      "text/plain": [
       "11"
      ]
     },
     "execution_count": 9,
     "metadata": {},
     "output_type": "execute_result"
    }
   ],
   "source": [
    "#high wind (>25)\n",
    "QB_highwinds = QB_df[[\"QB Rating\", \"windSpeed\"]]\n",
    "QB_highwinds = QB_df.query('windSpeed > 25')\n",
    "QB_highwinds[\"windSpeed\"].count()\n"
   ]
  },
  {
   "cell_type": "code",
   "execution_count": 10,
   "metadata": {},
   "outputs": [
    {
     "data": {
      "text/plain": [
       "125.61274509803921"
      ]
     },
     "execution_count": 10,
     "metadata": {},
     "output_type": "execute_result"
    }
   ],
   "source": [
    "QB_highwinds[\"QB Rating\"].max()"
   ]
  },
  {
   "cell_type": "code",
   "execution_count": 11,
   "metadata": {},
   "outputs": [
    {
     "data": {
      "text/plain": [
       "52.08333333333334"
      ]
     },
     "execution_count": 11,
     "metadata": {},
     "output_type": "execute_result"
    }
   ],
   "source": [
    "QB_highwinds[\"QB Rating\"].min()"
   ]
  },
  {
   "cell_type": "code",
   "execution_count": 12,
   "metadata": {},
   "outputs": [
    {
     "data": {
      "text/plain": [
       "85.10456884008579"
      ]
     },
     "execution_count": 12,
     "metadata": {},
     "output_type": "execute_result"
    }
   ],
   "source": [
    "QB_highwinds[\"QB Rating\"].mean()"
   ]
  },
  {
   "cell_type": "code",
   "execution_count": 13,
   "metadata": {},
   "outputs": [
    {
     "data": {
      "text/plain": [
       "79.73484848484848"
      ]
     },
     "execution_count": 13,
     "metadata": {},
     "output_type": "execute_result"
    }
   ],
   "source": [
    "QB_highwinds[\"QB Rating\"].median()"
   ]
  },
  {
   "cell_type": "code",
   "execution_count": 14,
   "metadata": {},
   "outputs": [
    {
     "data": {
      "text/plain": [
       "QB Rating   conditions          \n",
       "110.218254  heavy intensity rain    1\n",
       "97.537879   heavy rain              1\n",
       "91.388889   thunderstorm            1\n",
       "91.319444   heavy intensity rain    1\n",
       "87.916667   very heavy rain         1\n",
       "86.322464   heavy intensity rain    1\n",
       "79.583333   thunderstorm            1\n",
       "77.840909   very heavy rain         1\n",
       "59.821429   heavy intensity rain    1\n",
       "57.025194   heavy rain              1\n",
       "dtype: int64"
      ]
     },
     "execution_count": 14,
     "metadata": {},
     "output_type": "execute_result"
    }
   ],
   "source": [
    "#value_counts on heavy rain\n",
    "QB_heavyrain = QB_df[[\"QB Rating\", \"conditions\"]]\n",
    "QB_heavyrain = QB_heavyrain.query('conditions == \"heavy intensity rain\" or conditions == \"very heavy rain\"or conditions == \"heavy rain\"  or  conditions == \"thunderstorm\" ')\n",
    "QB_heavyrain.value_counts()\n"
   ]
  },
  {
   "cell_type": "code",
   "execution_count": 15,
   "metadata": {},
   "outputs": [
    {
     "data": {
      "text/plain": [
       "110.21825396825398"
      ]
     },
     "execution_count": 15,
     "metadata": {},
     "output_type": "execute_result"
    }
   ],
   "source": [
    "#QB Rating stats in heavy rain\n",
    "#Includes \"heavy rain\", \"very heavy rain\", \"heavy intensity rain\" and thunderstorms\n",
    "QB_heavyrain[\"QB Rating\"].max()"
   ]
  },
  {
   "cell_type": "code",
   "execution_count": 16,
   "metadata": {},
   "outputs": [
    {
     "data": {
      "text/plain": [
       "57.0251937984496"
      ]
     },
     "execution_count": 16,
     "metadata": {},
     "output_type": "execute_result"
    }
   ],
   "source": [
    "QB_heavyrain[\"QB Rating\"].min()"
   ]
  },
  {
   "cell_type": "code",
   "execution_count": 17,
   "metadata": {},
   "outputs": [
    {
     "data": {
      "text/plain": [
       "83.89744613183694"
      ]
     },
     "execution_count": 17,
     "metadata": {},
     "output_type": "execute_result"
    }
   ],
   "source": [
    "QB_heavyrain[\"QB Rating\"].mean()"
   ]
  },
  {
   "cell_type": "code",
   "execution_count": 18,
   "metadata": {},
   "outputs": [
    {
     "data": {
      "text/plain": [
       "87.11956521739131"
      ]
     },
     "execution_count": 18,
     "metadata": {},
     "output_type": "execute_result"
    }
   ],
   "source": [
    "QB_heavyrain[\"QB Rating\"].median()"
   ]
  },
  {
   "cell_type": "code",
   "execution_count": 19,
   "metadata": {},
   "outputs": [
    {
     "data": {
      "text/plain": [
       "117"
      ]
     },
     "execution_count": 19,
     "metadata": {},
     "output_type": "execute_result"
    }
   ],
   "source": [
    "#high temperature (>85)\n",
    "QB_hightemp = QB_df[[\"QB Rating\", \"temperature\"]]\n",
    "QB_hightemp = QB_hightemp.query('temperature > 85')\n",
    "QB_hightemp[\"QB Rating\"].count()"
   ]
  },
  {
   "cell_type": "code",
   "execution_count": 20,
   "metadata": {},
   "outputs": [],
   "source": [
    "#QB stats in high temperatures(>85)"
   ]
  },
  {
   "cell_type": "code",
   "execution_count": 21,
   "metadata": {},
   "outputs": [
    {
     "data": {
      "text/plain": [
       "158.33333333333331"
      ]
     },
     "execution_count": 21,
     "metadata": {},
     "output_type": "execute_result"
    }
   ],
   "source": [
    "QB_hightemp[\"QB Rating\"].max()"
   ]
  },
  {
   "cell_type": "code",
   "execution_count": 22,
   "metadata": {},
   "outputs": [
    {
     "data": {
      "text/plain": [
       "13.446969696969699"
      ]
     },
     "execution_count": 22,
     "metadata": {},
     "output_type": "execute_result"
    }
   ],
   "source": [
    "QB_hightemp[\"QB Rating\"].min()"
   ]
  },
  {
   "cell_type": "code",
   "execution_count": 23,
   "metadata": {},
   "outputs": [
    {
     "data": {
      "text/plain": [
       "89.05486488607615"
      ]
     },
     "execution_count": 23,
     "metadata": {},
     "output_type": "execute_result"
    }
   ],
   "source": [
    "QB_hightemp[\"QB Rating\"].mean()"
   ]
  },
  {
   "cell_type": "code",
   "execution_count": 24,
   "metadata": {},
   "outputs": [
    {
     "data": {
      "text/plain": [
       "91.19897959183672"
      ]
     },
     "execution_count": 24,
     "metadata": {},
     "output_type": "execute_result"
    }
   ],
   "source": [
    "QB_hightemp[\"QB Rating\"].median()"
   ]
  },
  {
   "cell_type": "code",
   "execution_count": 25,
   "metadata": {},
   "outputs": [
    {
     "data": {
      "text/plain": [
       "104"
      ]
     },
     "execution_count": 25,
     "metadata": {},
     "output_type": "execute_result"
    }
   ],
   "source": [
    "#low temperature (<32)\n",
    "QB_lowtemp = QB_df[[\"QB Rating\", \"temperature\"]]\n",
    "QB_lowtemp = QB_lowtemp.query('temperature < 32')\n",
    "QB_lowtemp[\"QB Rating\"].count()"
   ]
  },
  {
   "cell_type": "code",
   "execution_count": 26,
   "metadata": {},
   "outputs": [],
   "source": [
    "#QB stats in low temperatures(<32)"
   ]
  },
  {
   "cell_type": "code",
   "execution_count": 27,
   "metadata": {},
   "outputs": [
    {
     "data": {
      "text/plain": [
       "150.81521739130437"
      ]
     },
     "execution_count": 27,
     "metadata": {},
     "output_type": "execute_result"
    }
   ],
   "source": [
    "QB_lowtemp[\"QB Rating\"].max()"
   ]
  },
  {
   "cell_type": "code",
   "execution_count": 28,
   "metadata": {},
   "outputs": [
    {
     "data": {
      "text/plain": [
       "9.280303030303028"
      ]
     },
     "execution_count": 28,
     "metadata": {},
     "output_type": "execute_result"
    }
   ],
   "source": [
    "QB_lowtemp[\"QB Rating\"].min()"
   ]
  },
  {
   "cell_type": "code",
   "execution_count": 29,
   "metadata": {},
   "outputs": [
    {
     "data": {
      "text/plain": [
       "78.92892045933391"
      ]
     },
     "execution_count": 29,
     "metadata": {},
     "output_type": "execute_result"
    }
   ],
   "source": [
    "QB_lowtemp[\"QB Rating\"].mean()"
   ]
  },
  {
   "cell_type": "code",
   "execution_count": 30,
   "metadata": {},
   "outputs": [
    {
     "data": {
      "text/plain": [
       "82.85942192192192"
      ]
     },
     "execution_count": 30,
     "metadata": {},
     "output_type": "execute_result"
    }
   ],
   "source": [
    "QB_lowtemp[\"QB Rating\"].median()"
   ]
  },
  {
   "cell_type": "code",
   "execution_count": 31,
   "metadata": {},
   "outputs": [
    {
     "data": {
      "text/plain": [
       "158.33333333333331"
      ]
     },
     "execution_count": 31,
     "metadata": {},
     "output_type": "execute_result"
    }
   ],
   "source": [
    "#all conditions\n",
    "QB_df[\"QB Rating\"].max()"
   ]
  },
  {
   "cell_type": "code",
   "execution_count": 32,
   "metadata": {},
   "outputs": [
    {
     "data": {
      "text/plain": [
       "0.0"
      ]
     },
     "execution_count": 32,
     "metadata": {},
     "output_type": "execute_result"
    }
   ],
   "source": [
    "QB_df[\"QB Rating\"].min()"
   ]
  },
  {
   "cell_type": "code",
   "execution_count": 33,
   "metadata": {},
   "outputs": [],
   "source": [
    "QB_overall_mean=QB_df[\"QB Rating\"].mean()"
   ]
  },
  {
   "cell_type": "code",
   "execution_count": 34,
   "metadata": {},
   "outputs": [
    {
     "data": {
      "text/plain": [
       "88.95202020202021"
      ]
     },
     "execution_count": 34,
     "metadata": {},
     "output_type": "execute_result"
    }
   ],
   "source": [
    "QB_df[\"QB Rating\"].median()"
   ]
  },
  {
   "cell_type": "code",
   "execution_count": 35,
   "metadata": {},
   "outputs": [
    {
     "data": {
      "image/png": "[encoded data removed]",
      "text/plain": [
       "<Figure size 432x288 with 1 Axes>"
      ]
     },
     "metadata": {
      "needs_background": "light"
     },
     "output_type": "display_data"
    }
   ],
   "source": [
    "#look for outliers\n",
    "QBRating=QB_df[\"QB Rating\"]\n",
    "fig, ax = plt.subplots()\n",
    "ax.set_title('QB Game Ratings 2015-2020')\n",
    "ax.set_ylabel('QB Rating')\n",
    "ax.boxplot(QBRating)\n",
    "plt.show()"
   ]
  },
  {
   "cell_type": "code",
   "execution_count": 36,
   "metadata": {},
   "outputs": [
    {
     "name": "stdout",
     "output_type": "stream",
     "text": [
      "The lower quartile of QB Rating is: 71.73214285714286\n",
      "The upper quartile of QB Rating is: 107.68136160714286\n",
      "The interquartile range of QB Rating is: 35.94921875\n",
      "The the median of QB Rating is: 88.95202020202021 \n",
      "Values below 17.80831473214286 could be outliers.\n",
      "Values above 161.60518973214286 could be outliers.\n"
     ]
    }
   ],
   "source": [
    "quartiles = QBRating.quantile([0.25,0.5,0.75])\n",
    "lowerq = quartiles[0.25]\n",
    "upperq = quartiles[0.75]\n",
    "iqr = upperq-lowerq  \n",
    "\n",
    "print(f\"The lower quartile of QB Rating is: {lowerq}\")\n",
    "print(f\"The upper quartile of QB Rating is: {upperq}\")\n",
    "print(f\"The interquartile range of QB Rating is: {iqr}\")\n",
    "print(f\"The the median of QB Rating is: {quartiles[0.5]} \")\n",
    "\n",
    "lower_bound = lowerq - (1.5*iqr)\n",
    "upper_bound = upperq + (1.5*iqr)\n",
    "print(f\"Values below {lower_bound} could be outliers.\")\n",
    "print(f\"Values above {upper_bound} could be outliers.\")"
   ]
  },
  {
   "cell_type": "code",
   "execution_count": 37,
   "metadata": {},
   "outputs": [
    {
     "data": {
      "text/plain": [
       "199     45.0\n",
       "726     33.8\n",
       "858     70.0\n",
       "1174    19.0\n",
       "1190    61.0\n",
       "1507    33.0\n",
       "1682    87.0\n",
       "1723    69.0\n",
       "1736    58.0\n",
       "2049    77.0\n",
       "2171    57.0\n",
       "2181    72.0\n",
       "2294    39.0\n",
       "2304    38.0\n",
       "Name: temperature, dtype: float64"
      ]
     },
     "execution_count": 37,
     "metadata": {},
     "output_type": "execute_result"
    }
   ],
   "source": [
    "small_outliers_df = QB_df.loc[QB_df[\"QB Rating\"] < lower_bound]\n",
    "small_outliers_df.temperature"
   ]
  },
  {
   "cell_type": "code",
   "execution_count": 38,
   "metadata": {},
   "outputs": [
    {
     "name": "stdout",
     "output_type": "stream",
     "text": [
      "NormaltestResult(statistic=4.09620590334466, pvalue=0.128979351713012)\n"
     ]
    },
    {
     "data": {
      "image/png": "[encoded data removed]",
      "text/plain": [
       "<Figure size 432x288 with 1 Axes>"
      ]
     },
     "metadata": {
      "needs_background": "light"
     },
     "output_type": "display_data"
    }
   ],
   "source": [
    "plt.title(\"QB rating vs windspeed\")\n",
    "plt.xlabel(\"wind conditions\")\n",
    "plt.ylabel(\"QB player Rating\")\n",
    "plt.scatter(QB_wind[\"windSpeed\"], QB_wind[\"QB Rating\"], color='r')\n",
    "print(sts.normaltest(QB_wind[\"QB Rating\"].sample(100)))\n",
    "#Does this have value?\n",
    "#p-value indicates accept null hypothesis"
   ]
  },
  {
   "cell_type": "code",
   "execution_count": 54,
   "metadata": {},
   "outputs": [],
   "source": [
    "QB_highwinds_mean=QB_highwinds[\"QB Rating\"].mean()\n",
    "QB_heavyrain_mean=QB_heavyrain[\"QB Rating\"].mean()\n",
    "QB_hightemp_mean=QB_hightemp[\"QB Rating\"].mean()\n",
    "QB_lowtemp_mean=QB_lowtemp[\"QB Rating\"].mean()\n",
    "QB_overall_mean=QB_df[\"QB Rating\"].mean()"
   ]
  },
  {
   "cell_type": "code",
   "execution_count": 42,
   "metadata": {},
   "outputs": [
    {
     "name": "stdout",
     "output_type": "stream",
     "text": [
      "NormaltestResult(statistic=0.7283689756303233, pvalue=0.6947630076094631)\n",
      "Variance = 700.6024744365968\n",
      "Standard Deviation = 26.46889635849211\n"
     ]
    },
    {
     "data": {
      "image/png": "[encoded data removed]",
      "text/plain": [
       "<Figure size 432x288 with 1 Axes>"
      ]
     },
     "metadata": {
      "needs_background": "light"
     },
     "output_type": "display_data"
    }
   ],
   "source": [
    "plt.title(\"QB rating vs low temperature\")\n",
    "plt.xlabel(\"temperature\")\n",
    "plt.ylabel(\"QB player Rating\")\n",
    "plt.scatter(QB_lowtemp[\"temperature\"], QB_lowtemp[\"QB Rating\"], color='b')\n",
    "plt.axhline(y=QB_overall_mean, color=\"gray\", linestyle = '-')\n",
    "plt.axhline(y=QB_lowtemp_mean, color=\"b\", linestyle = 'dotted')\n",
    "print(sts.normaltest(QB_lowtemp[\"QB Rating\"]))\n",
    "print(f'Variance = {QB_lowtemp[\"QB Rating\"].var()}')\n",
    "print(f'Standard Deviation = {QB_lowtemp[\"QB Rating\"].std()}')"
   ]
  },
  {
   "cell_type": "code",
   "execution_count": 55,
   "metadata": {},
   "outputs": [
    {
     "name": "stdout",
     "output_type": "stream",
     "text": [
      "NormaltestResult(statistic=0.7347783725666823, pvalue=0.6925400654953082)\n",
      "Variance = 838.7517048753682\n",
      "Standard Deviation = 28.961210348936874\n"
     ]
    },
    {
     "data": {
      "image/png": "[encoded data removed]",
      "text/plain": [
       "<Figure size 432x288 with 1 Axes>"
      ]
     },
     "metadata": {
      "needs_background": "light"
     },
     "output_type": "display_data"
    }
   ],
   "source": [
    "plt.title(\"QB rating vs high temperature\")\n",
    "plt.xlabel(\"temperature\")\n",
    "plt.ylabel(\"QB player Rating\")\n",
    "plt.scatter(QB_hightemp[\"temperature\"], QB_hightemp[\"QB Rating\"], color='m')\n",
    "plt.axhline(y=QB_overall_mean, color=\"gray\", linestyle = '-')\n",
    "plt.axhline(y=QB_hightemp_mean, color=\"m\", linestyle = 'dotted')\n",
    "ax.text(100, 89.2549, 'Mean QB Rating All Conditions', va='center', ha=\"left\", bbox=dict(facecolor=\"w\",alpha=0.5),\n",
    "        transform=ax.get_yaxis_transform())\n",
    "print(sts.normaltest(QB_hightemp[\"QB Rating\"]))\n",
    "print(f'Variance = {QB_hightemp[\"QB Rating\"].var()}')\n",
    "print(f'Standard Deviation = {QB_hightemp[\"QB Rating\"].std()}')"
   ]
  },
  {
   "cell_type": "code",
   "execution_count": 56,
   "metadata": {},
   "outputs": [
    {
     "name": "stdout",
     "output_type": "stream",
     "text": [
      "NormaltestResult(statistic=0.7347783725666823, pvalue=0.6925400654953082)\n",
      "Variance = 445.8688657552428\n",
      "Standard Deviation = 21.115607160468837\n"
     ]
    },
    {
     "data": {
      "image/png": "[encoded data removed]",
      "text/plain": [
       "<Figure size 432x288 with 1 Axes>"
      ]
     },
     "metadata": {
      "needs_background": "light"
     },
     "output_type": "display_data"
    }
   ],
   "source": [
    "plt.title(\"QB rating vs High Winds\")\n",
    "plt.xlabel(\"High Winds\")\n",
    "plt.ylabel(\"QB player Rating\")\n",
    "plt.scatter(QB_highwinds[\"windSpeed\"], QB_highwinds[\"QB Rating\"], color='g')\n",
    "plt.axhline(y=QB_overall_mean, color=\"gray\", linestyle = '-')\n",
    "plt.axhline(y=QB_highwinds_mean, color=\"g\", linestyle = 'dotted')\n",
    "print(sts.normaltest(QB_hightemp[\"QB Rating\"]))\n",
    "print(f'Variance = {QB_highwinds[\"QB Rating\"].var()}')\n",
    "print(f'Standard Deviation = {QB_highwinds[\"QB Rating\"].std()}')"
   ]
  },
  {
   "cell_type": "code",
   "execution_count": 45,
   "metadata": {},
   "outputs": [
    {
     "name": "stdout",
     "output_type": "stream",
     "text": [
      "NormaltestResult(statistic=0.3855215988285118, pvalue=0.8246792142992982)\n",
      "Variance = 263.239413687631\n",
      "Standard Deviation = 16.22465450133318\n"
     ]
    },
    {
     "name": "stderr",
     "output_type": "stream",
     "text": [
      "C:\\Users\\jenpu\\Anaconda3\\lib\\site-packages\\scipy\\stats\\stats.py:1603: UserWarning: kurtosistest only valid for n>=20 ... continuing anyway, n=10\n",
      "  warnings.warn(\"kurtosistest only valid for n>=20 ... continuing \"\n"
     ]
    },
    {
     "data": {
      "image/png": "[encoded data removed]",
      "text/plain": [
       "<Figure size 432x288 with 1 Axes>"
      ]
     },
     "metadata": {
      "needs_background": "light"
     },
     "output_type": "display_data"
    }
   ],
   "source": [
    "plt.title(\"QB rating vs Heavy Rain\")\n",
    "plt.xlabel(\"Heavy Rain\")\n",
    "plt.ylabel(\"QB player Rating\")\n",
    "plt.scatter(QB_heavyrain[\"conditions\"], QB_heavyrain[\"QB Rating\"], color='r')\n",
    "plt.axhline(y=QB_overall_mean, color=\"gray\", linestyle = '-')\n",
    "plt.axhline(y=QB_heavyrain_mean, color=\"r\", linestyle = 'dotted')\n",
    "print(sts.normaltest(QB_heavyrain[\"QB Rating\"]))\n",
    "print(f'Variance = {QB_heavyrain[\"QB Rating\"].var()}')\n",
    "print(f'Standard Deviation = {QB_heavyrain[\"QB Rating\"].std()}')"
   ]
  },
  {
   "cell_type": "code",
   "execution_count": 57,
   "metadata": {},
   "outputs": [],
   "source": [
    "QB_means=pd.Series([QB_highwinds_mean, QB_heavyrain_mean,QB_hightemp_mean, QB_lowtemp_mean],\\\n",
    "                   index=[\"high wind\", \"heavy rain\", \"high temp\", \"low temp\"])"
   ]
  },
  {
   "cell_type": "code",
   "execution_count": 58,
   "metadata": {},
   "outputs": [],
   "source": [
    "#for chi-sq\n",
    "comparison_df=pd.DataFrame([QB_means]).T"
   ]
  },
  {
   "cell_type": "code",
   "execution_count": 59,
   "metadata": {},
   "outputs": [],
   "source": [
    "#for chi-sq\n",
    "comparison_df[1]=QB_overall_mean"
   ]
  },
  {
   "cell_type": "code",
   "execution_count": 60,
   "metadata": {},
   "outputs": [
    {
     "data": {
      "text/html": [
       "<div>\n",
       "<style scoped>\n",
       "    .dataframe tbody tr th:only-of-type {\n",
       "        vertical-align: middle;\n",
       "    }\n",
       "\n",
       "    .dataframe tbody tr th {\n",
       "        vertical-align: top;\n",
       "    }\n",
       "\n",
       "    .dataframe thead th {\n",
       "        text-align: right;\n",
       "    }\n",
       "</style>\n",
       "<table border=\"1\" class=\"dataframe\">\n",
       "  <thead>\n",
       "    <tr style=\"text-align: right;\">\n",
       "      <th></th>\n",
       "      <th>observed</th>\n",
       "      <th>expected</th>\n",
       "    </tr>\n",
       "  </thead>\n",
       "  <tbody>\n",
       "    <tr>\n",
       "      <th>high wind</th>\n",
       "      <td>85.104569</td>\n",
       "      <td>89.254916</td>\n",
       "    </tr>\n",
       "    <tr>\n",
       "      <th>heavy rain</th>\n",
       "      <td>83.897446</td>\n",
       "      <td>89.254916</td>\n",
       "    </tr>\n",
       "    <tr>\n",
       "      <th>high temp</th>\n",
       "      <td>89.054865</td>\n",
       "      <td>89.254916</td>\n",
       "    </tr>\n",
       "    <tr>\n",
       "      <th>low temp</th>\n",
       "      <td>78.928920</td>\n",
       "      <td>89.254916</td>\n",
       "    </tr>\n",
       "  </tbody>\n",
       "</table>\n",
       "</div>"
      ],
      "text/plain": [
       "             observed   expected\n",
       "high wind   85.104569  89.254916\n",
       "heavy rain  83.897446  89.254916\n",
       "high temp   89.054865  89.254916\n",
       "low temp    78.928920  89.254916"
      ]
     },
     "execution_count": 60,
     "metadata": {},
     "output_type": "execute_result"
    }
   ],
   "source": [
    "#for chi-sq\n",
    "comparison_df.columns=[\"observed\", \"expected\"]\n",
    "\n",
    "comparison_df"
   ]
  },
  {
   "cell_type": "code",
   "execution_count": 65,
   "metadata": {},
   "outputs": [
    {
     "data": {
      "text/plain": [
       "<AxesSubplot:>"
      ]
     },
     "execution_count": 65,
     "metadata": {},
     "output_type": "execute_result"
    },
    {
     "data": {
      "image/png": "[encoded data removed]",
      "text/plain": [
       "<Figure size 432x288 with 1 Axes>"
      ]
     },
     "metadata": {
      "needs_background": "light"
     },
     "output_type": "display_data"
    }
   ],
   "source": [
    "comparison_df.boxplot()"
   ]
  },
  {
   "cell_type": "code",
   "execution_count": 66,
   "metadata": {},
   "outputs": [
    {
     "data": {
      "text/plain": [
       "5.991464547107979"
      ]
     },
     "execution_count": 66,
     "metadata": {},
     "output_type": "execute_result"
    }
   ],
   "source": [
    "critical_value = sts.chi2.ppf(q = 0.95, df = 2)\n",
    "critical_value"
   ]
  },
  {
   "cell_type": "code",
   "execution_count": 67,
   "metadata": {},
   "outputs": [
    {
     "data": {
      "text/plain": [
       "Power_divergenceResult(statistic=1.7096431367253235, pvalue=0.6347920379455683)"
      ]
     },
     "execution_count": 67,
     "metadata": {},
     "output_type": "execute_result"
    }
   ],
   "source": [
    "sts.chisquare(comparison_df['observed'],comparison_df['expected'])\n",
    "#compare statistic to critical value...what does it mean?"
   ]
  },
  {
   "cell_type": "code",
   "execution_count": null,
   "metadata": {},
   "outputs": [],
   "source": [
    "#for Anova build the dataframe\n",
    "#columns = weather condition, QB Rating\n",
    "#want to consolidate conditions to defined extremes"
   ]
  },
  {
   "cell_type": "code",
   "execution_count": null,
   "metadata": {},
   "outputs": [],
   "source": [
    "#for ANOVA\n",
    "#comparison_df.boxplot(\"QB_Rating\", by=\"weather\", figsize=(20, 10))"
   ]
  },
  {
   "cell_type": "code",
   "execution_count": 68,
   "metadata": {},
   "outputs": [
    {
     "data": {
      "text/plain": [
       "lastName\n",
       "Henne        111.197917\n",
       "Mahomes      110.147117\n",
       "Wilson       103.407367\n",
       "Brees        103.204613\n",
       "Rodgers      102.493012\n",
       "Weeden       102.243590\n",
       "Jackson      100.585098\n",
       "Tannehill     99.699027\n",
       "McCarron      99.483300\n",
       "Ryan          99.388318\n",
       "Name: QB Rating, dtype: float64"
      ]
     },
     "execution_count": 68,
     "metadata": {},
     "output_type": "execute_result"
    }
   ],
   "source": [
    "QB_index=QB_df.set_index(\"lastName\").groupby([\"lastName\"])\n",
    "Avg_QB_Rating_df=QB_index[\"QB Rating\"].mean()\n",
    "\n",
    "Avg_QB_Rating_df.sort_values(ascending=False).head(10)\n"
   ]
  },
  {
   "cell_type": "code",
   "execution_count": 69,
   "metadata": {},
   "outputs": [
    {
     "data": {
      "text/plain": [
       "lastName\n",
       "Kizer       58.452828\n",
       "Finley      58.249311\n",
       "Stanton     58.244048\n",
       "Peterman    56.657218\n",
       "Luton       56.153447\n",
       "Sudfeld     52.762681\n",
       "Walker      49.177171\n",
       "Sanchez     44.402882\n",
       "Stidham     42.547591\n",
       "Tolzien     33.796296\n",
       "Name: QB Rating, dtype: float64"
      ]
     },
     "execution_count": 69,
     "metadata": {},
     "output_type": "execute_result"
    }
   ],
   "source": [
    "Avg_QB_Rating_df.sort_values(ascending=False).tail(10)"
   ]
  },
  {
   "cell_type": "code",
   "execution_count": 70,
   "metadata": {},
   "outputs": [
    {
     "data": {
      "text/plain": [
       "Romo        2\n",
       "Heinicke    2\n",
       "DiNucci     1\n",
       "Blough      1\n",
       "Tolzien     1\n",
       "Cook        1\n",
       "Rypien      1\n",
       "Fales       1\n",
       "Mannion     1\n",
       "Henne       1\n",
       "Name: lastName, dtype: int64"
      ]
     },
     "execution_count": 70,
     "metadata": {},
     "output_type": "execute_result"
    }
   ],
   "source": [
    "games_played=QB_df[\"lastName\"]\n",
    "games_played.value_counts().tail(10)"
   ]
  },
  {
   "cell_type": "code",
   "execution_count": 71,
   "metadata": {},
   "outputs": [
    {
     "data": {
      "text/plain": [
       "Brady             82\n",
       "Wilson            82\n",
       "Rivers            80\n",
       "Carr              79\n",
       "Rodgers           68\n",
       "Dalton            68\n",
       "Roethlisberger    67\n",
       "Newton            66\n",
       "Manning           63\n",
       "Wentz             60\n",
       "Name: lastName, dtype: int64"
      ]
     },
     "execution_count": 71,
     "metadata": {},
     "output_type": "execute_result"
    }
   ],
   "source": [
    "games_played.value_counts().head(10)"
   ]
  },
  {
   "cell_type": "code",
   "execution_count": 72,
   "metadata": {},
   "outputs": [],
   "source": [
    "games_played_query=QB_df.query"
   ]
  },
  {
   "cell_type": "code",
   "execution_count": 73,
   "metadata": {},
   "outputs": [
    {
     "data": {
      "text/plain": [
       "Wilson     82\n",
       "Rodgers    68\n",
       "Mahomes    42\n",
       "Jackson    34\n",
       "Brees      26\n",
       "Name: lastName, dtype: int64"
      ]
     },
     "execution_count": 73,
     "metadata": {},
     "output_type": "execute_result"
    }
   ],
   "source": [
    "games_played_query=QB_df.query('lastName == \"Mahomes\"or lastName == \"Wilson\"  or lastName == \"Brees\" or \\\n",
    "lastName == \"Rodgers\" or lastName == \"Jackson\" ')\n",
    "\n",
    "games_played_query[\"lastName\"].value_counts()"
   ]
  },
  {
   "cell_type": "code",
   "execution_count": 131,
   "metadata": {},
   "outputs": [
    {
     "data": {
      "text/plain": [
       "0     0-10\n",
       "1     0-10\n",
       "2    11-25\n",
       "3    11-25\n",
       "4    11-25\n",
       "Name: windSpeed, dtype: category\n",
       "Categories (3, object): ['0-10' < '11-25' < '26-40']"
      ]
     },
     "execution_count": 131,
     "metadata": {},
     "output_type": "execute_result"
    }
   ],
   "source": [
    "#Create bins for wind speed\n",
    "bins=[-1, 10, 25, 40]\n",
    "group_labels=[\"0-10\", \"11-25\", \"26-40\"]\n",
    "pd.cut(QB_wind[\"windSpeed\"], bins, labels=group_labels).head()"
   ]
  },
  {
   "cell_type": "code",
   "execution_count": 132,
   "metadata": {
    "scrolled": true
   },
   "outputs": [],
   "source": [
    "QB_df['Wind Category'] = pd.cut(QB_df['windSpeed'], bins, labels=group_labels)"
   ]
  },
  {
   "cell_type": "code",
   "execution_count": 133,
   "metadata": {},
   "outputs": [],
   "source": [
    "for qb_name,df_temp in QB_df.groupby(['lastName']):\n",
    "    \n",
    "    \n",
    "    temp_group = df_temp.groupby(['Wind Category'])['QB Rating'].mean()"
   ]
  },
  {
   "cell_type": "code",
   "execution_count": 134,
   "metadata": {},
   "outputs": [
    {
     "data": {
      "text/plain": [
       "['0-10', '11-25', '26-40']"
      ]
     },
     "execution_count": 134,
     "metadata": {},
     "output_type": "execute_result"
    }
   ],
   "source": [
    "list(temp_group.index)"
   ]
  },
  {
   "cell_type": "code",
   "execution_count": 135,
   "metadata": {},
   "outputs": [],
   "source": [
    "#top 5 by QB Rating\n",
    "top_five_rating=[\"Mahomes\", \"Wilson\", \"Brees\", \"Rodgers\", \"Jackson\"]\n",
    "top_QB_Rating_df= QB_df[QB_df.lastName.isin(top_five_rating)].copy()"
   ]
  },
  {
   "cell_type": "code",
   "execution_count": 136,
   "metadata": {},
   "outputs": [],
   "source": [
    "qb_wind_rating_df = pd.DataFrame(top_QB_Rating_df.groupby\\\n",
    "                                 (['lastName', 'Wind Category'])[\"QB Rating\"].mean().dropna()).reset_index()"
   ]
  },
  {
   "cell_type": "code",
   "execution_count": 137,
   "metadata": {},
   "outputs": [],
   "source": [
    "# Shaun says: don't use temp_group (from cell below)\n",
    "#temp_group=\n",
    "final_wind_df = pd.DataFrame({}, index=list(temp_group.index))\n",
    "\n",
    "for idx,row in qb_wind_rating_df.iterrows():\n",
    "    final_wind_df.loc[row[\"Wind Category\"], row[\"lastName\"]] = row[\"QB Rating\"]"
   ]
  },
  {
   "cell_type": "code",
   "execution_count": 104,
   "metadata": {},
   "outputs": [
    {
     "name": "stdout",
     "output_type": "stream",
     "text": [
      "Brady mean= QB Rating    99.381003\n",
      "dtype: float64\n",
      "Carr mean = QB Rating    94.489262\n",
      "dtype: float64\n",
      "Rivers mean = QB Rating    94.394207\n",
      "dtype: float64\n",
      "Rodgers mean = QB Rating    102.493012\n",
      "dtype: float64\n",
      "Wilson mean = QB Rating    103.407367\n",
      "dtype: float64\n",
      "Brees mean = QB Rating    103.204613\n",
      "dtype: float64\n",
      "Jackson mean = QB Rating    100.585098\n",
      "dtype: float64\n",
      "Mahomes mean = QB Rating    110.147117\n",
      "dtype: float64\n"
     ]
    }
   ],
   "source": [
    "Brady=QB_df[[\"QB Rating\", \"lastName\"]]\n",
    "Brady=Brady.query('lastName == \"Brady\"')\n",
    "Carr=QB_df[[\"QB Rating\", \"lastName\"]]\n",
    "Carr=Carr.query('lastName == \"Carr\"')\n",
    "Rivers=QB_df[[\"QB Rating\", \"lastName\"]]\n",
    "Rivers=Rivers.query('lastName == \"Rivers\"')\n",
    "Rodgers=QB_df[[\"QB Rating\", \"lastName\"]]\n",
    "Rodgers=Rodgers.query('lastName == \"Rodgers\"')\n",
    "Wilson=QB_df[[\"QB Rating\", \"lastName\"]]\n",
    "Wilson=Wilson.query('lastName == \"Wilson\"')\n",
    "Brees=QB_df[[\"QB Rating\", \"lastName\"]]\n",
    "Brees=Brees.query('lastName == \"Brees\"')\n",
    "Jackson=QB_df[[\"QB Rating\", \"lastName\"]]\n",
    "Jackson=Jackson.query('lastName == \"Jackson\"')\n",
    "Mahomes=QB_df[[\"QB Rating\", \"lastName\"]]\n",
    "Mahomes=Mahomes.query('lastName == \"Mahomes\"')\n",
    "print(f'Brady mean= {Brady.mean()}')\n",
    "print(f'Carr mean = {Carr.mean()}')\n",
    "print(f'Rivers mean = {Rivers.mean()}')\n",
    "print(f'Rodgers mean = {Rodgers.mean()}')\n",
    "print(f'Wilson mean = {Wilson.mean()}')\n",
    "print(f'Brees mean = {Brees.mean()}')\n",
    "print(f'Jackson mean = {Jackson.mean()}')\n",
    "print(f'Mahomes mean = {Mahomes.mean()}')"
   ]
  },
  {
   "cell_type": "code",
   "execution_count": 138,
   "metadata": {},
   "outputs": [
    {
     "data": {
      "text/plain": [
       "<matplotlib.lines.Line2D at 0x1cca7c2f910>"
      ]
     },
     "execution_count": 138,
     "metadata": {},
     "output_type": "execute_result"
    },
    {
     "data": {
      "image/png": "[encoded data removed]",
      "text/plain": [
       "<Figure size 1080x720 with 1 Axes>"
      ]
     },
     "metadata": {
      "needs_background": "light"
     },
     "output_type": "display_data"
    }
   ],
   "source": [
    "final_wind_df.plot(kind=\"bar\", width = .8, ylim= (80, 120), figsize = (15, 10), \\\n",
    "                    color= {\"Brees\": \"purple\", \"Jackson\": \"red\", \"Mahomes\": \"green\", \"Rodgers\": \"m\", \"Wilson\": \"b\"}) \n",
    "plt.title(\"Top 5 QB (min 10 games played) by QB rating (with means)\")\n",
    "plt.xlabel(\"Wind Speed Category\")\n",
    "plt.ylabel(\"QB player Rating\")\n",
    "plt.axhline(y=QB_overall_mean, color=\"gray\", linestyle = '-')\n",
    "plt.axhline(y=103.2, color=\"purple\", linestyle = '-')\n",
    "plt.axhline(y=100.6, color=\"red\", linestyle = '-')\n",
    "plt.axhline(y=110.1, color=\"green\", linestyle = '-')\n",
    "plt.axhline(y=102.5, color=\"m\", linestyle = '-')\n",
    "plt.axhline(y=103.4, color=\"b\", linestyle = '--')\n",
    "#, color={\"Brees\": \"gray\", \"Jackson\": \"gray\", \"Mahomes\": \"green\", \"Rodgers\": \"gray\", \"Wilson\": \"gray\"})"
   ]
  },
  {
   "cell_type": "code",
   "execution_count": 139,
   "metadata": {},
   "outputs": [],
   "source": [
    "#top 5 by games played\n",
    "top_five_games=[\"Brady\", \"Rivers\", \"Rodgers\", \"Carr\", \"Wilson\"]\n",
    "top_game_df= QB_df[QB_df.lastName.isin(top_five_games)].copy()\n"
   ]
  },
  {
   "cell_type": "code",
   "execution_count": 140,
   "metadata": {},
   "outputs": [],
   "source": [
    "for qb_name,df_temp in QB_df.groupby(['lastName']):\n",
    "    \n",
    "    \n",
    "    temp_group = df_temp.groupby(['Wind Category'])['QB Rating'].mean()"
   ]
  },
  {
   "cell_type": "code",
   "execution_count": 141,
   "metadata": {},
   "outputs": [
    {
     "data": {
      "text/plain": [
       "['0-10', '11-25', '26-40']"
      ]
     },
     "execution_count": 141,
     "metadata": {},
     "output_type": "execute_result"
    }
   ],
   "source": [
    "list(temp_group.index)"
   ]
  },
  {
   "cell_type": "code",
   "execution_count": 142,
   "metadata": {},
   "outputs": [],
   "source": [
    "qb_wind_game_df = pd.DataFrame(top_game_df.groupby(['lastName', 'Wind Category'])[\"QB Rating\"].mean().dropna()).reset_index()\n"
   ]
  },
  {
   "cell_type": "code",
   "execution_count": 143,
   "metadata": {},
   "outputs": [],
   "source": [
    "final_wind_game_df = pd.DataFrame({}, index=list(temp_group.index))\n",
    "\n",
    "for idx,row in qb_wind_game_df.iterrows():\n",
    "    final_wind_game_df.loc[row[\"Wind Category\"], row[\"lastName\"]] = row[\"QB Rating\"]"
   ]
  },
  {
   "cell_type": "code",
   "execution_count": 144,
   "metadata": {},
   "outputs": [
    {
     "data": {
      "text/plain": [
       "<matplotlib.lines.Line2D at 0x1cca7d282b0>"
      ]
     },
     "execution_count": 144,
     "metadata": {},
     "output_type": "execute_result"
    },
    {
     "data": {
      "image/png": "[encoded data removed]",
      "text/plain": [
       "<Figure size 1080x720 with 1 Axes>"
      ]
     },
     "metadata": {
      "needs_background": "light"
     },
     "output_type": "display_data"
    }
   ],
   "source": [
    "final_wind_game_df.plot(kind=\"bar\", width = .8, ylim= (80, 120), figsize = (15, 10), color= {\"Brady\": \"cyan\", \"Carr\": \"pink\", \"Rivers\": \"yellow\", \"Rodgers\": \"m\", \"Wilson\": \"b\"}) \n",
    "plt.title(\"QB Rating of Top 5 QB by QB games played\")\n",
    "plt.xlabel(\"Wind Category\")\n",
    "plt.ylabel(\"QB player Rating\")\n",
    "\n",
    "plt.axhline(y=QB_overall_mean, color=\"gray\", linestyle = '-')\n",
    "plt.axhline(y=99.4, color=\"cyan\", linestyle = '-')\n",
    "plt.axhline(y=94.5, color=\"pink\", linestyle = '-')\n",
    "plt.axhline(y=94.4, color=\"y\", linestyle = '--')\n",
    "plt.axhline(y=102.5, color=\"m\", linestyle = '-')\n",
    "plt.axhline(y=103.4, color=\"b\", linestyle = '-')\n",
    "\n"
   ]
  },
  {
   "cell_type": "code",
   "execution_count": 145,
   "metadata": {},
   "outputs": [],
   "source": [
    "#bottom 5 by games rating with 10+ games\n",
    "bottom_five_rating=[\"Kizer\", \"Foles\", \"Driskel\", \"Haskins\", \"Gabbert\"]\n",
    "bottom_five_df= QB_df[QB_df.lastName.isin(bottom_five_rating)].copy()"
   ]
  },
  {
   "cell_type": "code",
   "execution_count": 146,
   "metadata": {},
   "outputs": [],
   "source": [
    "qb_wind_bottom_df = pd.DataFrame(bottom_five_df.groupby(['lastName', 'Wind Category'])[\"QB Rating\"].mean().dropna()).reset_index()"
   ]
  },
  {
   "cell_type": "code",
   "execution_count": 147,
   "metadata": {},
   "outputs": [],
   "source": [
    "final_wind_bottom_df = pd.DataFrame({}, index=list(temp_group.index))\n",
    "\n",
    "for idx,row in qb_wind_bottom_df.iterrows():\n",
    "    final_wind_bottom_df.loc[row[\"Wind Category\"], row[\"lastName\"]] = row[\"QB Rating\"]"
   ]
  },
  {
   "cell_type": "code",
   "execution_count": 102,
   "metadata": {},
   "outputs": [
    {
     "name": "stdout",
     "output_type": "stream",
     "text": [
      "Kizer mean= QB Rating    58.452828\n",
      "dtype: float64\n",
      "Foles mean = QB Rating    73.506912\n",
      "dtype: float64\n",
      "Driskel mean = QB Rating    77.895184\n",
      "dtype: float64\n",
      "Haskins mean = QB Rating    76.691263\n",
      "dtype: float64\n",
      "Gabbert mean = QB Rating    75.902264\n",
      "dtype: float64\n"
     ]
    }
   ],
   "source": [
    "Kizer=QB_df[[\"QB Rating\", \"lastName\"]]\n",
    "Kizer=Kizer.query('lastName == \"Kizer\"')\n",
    "Foles=QB_df[[\"QB Rating\", \"lastName\"]]\n",
    "Foles=Foles.query('lastName == \"Foles\"')\n",
    "Driskel=QB_df[[\"QB Rating\", \"lastName\"]]\n",
    "Driskel=Driskel.query('lastName == \"Driskel\"')\n",
    "Haskins=QB_df[[\"QB Rating\", \"lastName\"]]\n",
    "Haskins=Haskins.query('lastName == \"Haskins\"')\n",
    "Gabbert=QB_df[[\"QB Rating\", \"lastName\"]]\n",
    "Gabbert=Gabbert.query('lastName == \"Gabbert\"')\n",
    "print(f'Kizer mean= {Kizer.mean()}')\n",
    "print(f'Foles mean = {Foles.mean()}')\n",
    "print(f'Driskel mean = {Driskel.mean()}')\n",
    "print(f'Haskins mean = {Haskins.mean()}')\n",
    "print(f'Gabbert mean = {Gabbert.mean()}')\n"
   ]
  },
  {
   "cell_type": "code",
   "execution_count": 148,
   "metadata": {},
   "outputs": [
    {
     "data": {
      "text/plain": [
       "<matplotlib.lines.Line2D at 0x1cca7dcc7f0>"
      ]
     },
     "execution_count": 148,
     "metadata": {},
     "output_type": "execute_result"
    },
    {
     "data": {
      "image/png": "[encoded data removed]",
      "text/plain": [
       "<Figure size 1080x720 with 1 Axes>"
      ]
     },
     "metadata": {
      "needs_background": "light"
     },
     "output_type": "display_data"
    }
   ],
   "source": [
    "final_wind_bottom_df.plot(kind=\"bar\", width = .8, ylim= (20, 100), figsize = (15, 10), color= {\"Kizer\": \"blue\", \"Foles\": \"green\", \"Driskel\": \"orange\", \"Haskins\": \"m\", \"Gabbert\": \"r\"}) \n",
    "plt.title(\"Bottom 5 QB (min 10 games played) by QB rating (with means)\")\n",
    "plt.xlabel(\"Wind Speed Category\")\n",
    "plt.ylabel(\"QB player Rating\")\n",
    "\n",
    "plt.axhline(y=QB_overall_mean, color=\"gray\", linestyle = '-')\n",
    "plt.axhline(y=58, color=\"b\", linestyle = '-')\n",
    "plt.axhline(y=74, color=\"g\", linestyle = '-')\n",
    "plt.axhline(y=78, color=\"orange\", linestyle = '-')\n",
    "plt.axhline(y=77, color=\"m\", linestyle = '-')\n",
    "plt.axhline(y=76, color=\"r\", linestyle = '-')\n"
   ]
  },
  {
   "cell_type": "code",
   "execution_count": 149,
   "metadata": {},
   "outputs": [],
   "source": [
    "QB_temperature = QB_df[[\"QB Rating\", \"temperature\"]]"
   ]
  },
  {
   "cell_type": "code",
   "execution_count": 150,
   "metadata": {},
   "outputs": [
    {
     "data": {
      "text/plain": [
       "0    moderate(33-85) \n",
       "1    moderate(33-85) \n",
       "2    moderate(33-85) \n",
       "3    moderate(33-85) \n",
       "4    moderate(33-85) \n",
       "Name: temperature, dtype: category\n",
       "Categories (3, object): ['freezing (<=32)' < 'moderate(33-85) ' < 'hot (>85)']"
      ]
     },
     "execution_count": 150,
     "metadata": {},
     "output_type": "execute_result"
    }
   ],
   "source": [
    "#Create bins for temperature\n",
    "bins=[-1, 32, 85, 100,]\n",
    "group_labels=[\"freezing (<=32)\", \"moderate(33-85) \", \"hot (>85)\"]\n",
    "pd.cut(QB_temperature[\"temperature\"], bins, labels=group_labels).head()"
   ]
  },
  {
   "cell_type": "code",
   "execution_count": 151,
   "metadata": {},
   "outputs": [],
   "source": [
    "QB_df['Temperature Category'] = pd.cut(QB_df['temperature'], bins, labels=group_labels)\n",
    "#QB_df"
   ]
  },
  {
   "cell_type": "code",
   "execution_count": null,
   "metadata": {},
   "outputs": [],
   "source": [
    "#top 5 by QB Rating\n",
    "top_five_rating=[\"Mahomes\", \"Wilson\", \"Brees\", \"Rodgers\", \"Jackson\"]\n",
    "top_QB_Rating_df= QB_df[QB_df.lastName.isin(top_five_rating)].copy()"
   ]
  },
  {
   "cell_type": "code",
   "execution_count": 158,
   "metadata": {},
   "outputs": [],
   "source": [
    "for qb_name,df_temp in QB_df.groupby(['lastName']):\n",
    "    \n",
    "    \n",
    "    temp_group = df_temp.groupby(['Temperature Category'])['QB Rating'].mean()"
   ]
  },
  {
   "cell_type": "code",
   "execution_count": 159,
   "metadata": {},
   "outputs": [],
   "source": [
    "qb_temperature_rating_df = pd.DataFrame(top_QB_Rating_df.groupby\\\n",
    "                               (['lastName', 'Temperature Category'])[\"QB Rating\"].mean().dropna()).reset_index()\n"
   ]
  },
  {
   "cell_type": "code",
   "execution_count": 160,
   "metadata": {},
   "outputs": [],
   "source": [
    "final_temperature_rating_df = pd.DataFrame({}, index=list(temp_group.index))\n",
    "\n",
    "for idx,row in qb_temperature_rating_df.iterrows():\n",
    "    final_temperature_rating_df.loc[row[\"Temperature Category\"], row[\"lastName\"]] = row[\"QB Rating\"]"
   ]
  },
  {
   "cell_type": "code",
   "execution_count": 164,
   "metadata": {},
   "outputs": [
    {
     "data": {
      "text/plain": [
       "<matplotlib.lines.Line2D at 0x1cca07ff460>"
      ]
     },
     "execution_count": 164,
     "metadata": {},
     "output_type": "execute_result"
    },
    {
     "data": {
      "image/png": "[encoded data removed]",
      "text/plain": [
       "<Figure size 1080x720 with 1 Axes>"
      ]
     },
     "metadata": {
      "needs_background": "light"
     },
     "output_type": "display_data"
    }
   ],
   "source": [
    "final_temperature_rating_df.plot(kind=\"bar\", width = .8, ylim= (80, 170), figsize = (15, 10), \\\n",
    "                    color= {\"Brees\": \"purple\", \"Jackson\": \"red\", \"Mahomes\": \"green\", \"Rodgers\": \"m\", \"Wilson\": \"b\"}) \n",
    "plt.title(\"Top 5 QB (min 10 games played) by QB rating (with means)\")\n",
    "plt.xlabel(\"Temperature Category\")\n",
    "plt.ylabel(\"QB player Rating\")\n",
    "plt.axhline(y=QB_overall_mean, color=\"gray\", linestyle = '-')\n",
    "plt.axhline(y=103.2, color=\"purple\", linestyle = '-')\n",
    "plt.axhline(y=100.6, color=\"red\", linestyle = '-')\n",
    "plt.axhline(y=110.1, color=\"green\", linestyle = '-')\n",
    "plt.axhline(y=102.5, color=\"m\", linestyle = '-')\n",
    "plt.axhline(y=103.4, color=\"b\", linestyle = '--')"
   ]
  },
  {
   "cell_type": "code",
   "execution_count": null,
   "metadata": {},
   "outputs": [],
   "source": []
  },
  {
   "cell_type": "code",
   "execution_count": 153,
   "metadata": {},
   "outputs": [],
   "source": [
    "#top 5 by games played\n",
    "top_five_games=[\"Brady\", \"Rivers\", \"Rodgers\", \"Carr\", \"Wilson\"]\n",
    "top_game_df= QB_df[QB_df.lastName.isin(top_five_games)].copy()\n"
   ]
  },
  {
   "cell_type": "code",
   "execution_count": 154,
   "metadata": {},
   "outputs": [],
   "source": [
    "for qb_name,df_temp in QB_df.groupby(['lastName']):\n",
    "    \n",
    "    \n",
    "    temp_group = df_temp.groupby(['Temperature Category'])['QB Rating'].mean()"
   ]
  },
  {
   "cell_type": "code",
   "execution_count": 128,
   "metadata": {},
   "outputs": [],
   "source": [
    "qb_temperature_game_df = pd.DataFrame(top_game_df.groupby\\\n",
    "                               (['lastName', 'Temperature Category'])[\"QB Rating\"].mean().dropna()).reset_index()\n"
   ]
  },
  {
   "cell_type": "code",
   "execution_count": 156,
   "metadata": {},
   "outputs": [
    {
     "data": {
      "text/plain": [
       "['freezing (<=32)', 'moderate(33-85) ', 'hot (>85)']"
      ]
     },
     "execution_count": 156,
     "metadata": {},
     "output_type": "execute_result"
    }
   ],
   "source": [
    "list(temp_group.index)"
   ]
  },
  {
   "cell_type": "code",
   "execution_count": 155,
   "metadata": {},
   "outputs": [],
   "source": [
    "final_temperature_df = pd.DataFrame({}, index=list(temp_group.index))\n",
    "\n",
    "for idx,row in qb_temperature_game_df.iterrows():\n",
    "    final_temperature_df.loc[row[\"Temperature Category\"], row[\"lastName\"]] = row[\"QB Rating\"]"
   ]
  },
  {
   "cell_type": "code",
   "execution_count": 157,
   "metadata": {},
   "outputs": [
    {
     "data": {
      "text/plain": [
       "<matplotlib.lines.Line2D at 0x1cca831d5b0>"
      ]
     },
     "execution_count": 157,
     "metadata": {},
     "output_type": "execute_result"
    },
    {
     "data": {
      "image/png": "[encoded data removed]",
      "text/plain": [
       "<Figure size 1080x720 with 1 Axes>"
      ]
     },
     "metadata": {
      "needs_background": "light"
     },
     "output_type": "display_data"
    }
   ],
   "source": [
    "final_temperature_df.plot(kind=\"bar\", width = .8, ylim= (80, 120), figsize = (15, 10), color= {\"Brady\": \"cyan\", \"Carr\": \"pink\", \"Rivers\": \"yellow\", \"Rodgers\": \"m\", \"Wilson\": \"b\"}) \n",
    "plt.title(\"Top 5 QB (min 10 games played) by QB rating (with means)\")\n",
    "plt.xlabel(\"Temperature Category\")\n",
    "plt.ylabel(\"QB player Rating\")\n",
    "plt.axhline(y=QB_overall_mean, color=\"gray\", linestyle = '-')\n",
    "plt.axhline(y=99.4, color=\"cyan\", linestyle = '-')\n",
    "plt.axhline(y=94.5, color=\"pink\", linestyle = '-')\n",
    "plt.axhline(y=94.4, color=\"y\", linestyle = '--')\n",
    "plt.axhline(y=102.5, color=\"m\", linestyle = '-')\n",
    "plt.axhline(y=103.4, color=\"b\", linestyle = '-')\n"
   ]
  },
  {
   "cell_type": "code",
   "execution_count": 165,
   "metadata": {},
   "outputs": [],
   "source": [
    "#bottom 5 by games rating with 10+ games\n",
    "bottom_five_rating=[\"Kizer\", \"Foles\", \"Driskel\", \"Haskins\", \"Gabbert\"]\n",
    "bottom_five_df= QB_df[QB_df.lastName.isin(bottom_five_rating)].copy()"
   ]
  },
  {
   "cell_type": "code",
   "execution_count": null,
   "metadata": {},
   "outputs": [],
   "source": [
    "for qb_name,df_temp in QB_df.groupby(['lastName']):\n",
    "    \n",
    "    \n",
    "    temp_group = df_temp.groupby(['Temperature Category'])['QB Rating'].mean()"
   ]
  },
  {
   "cell_type": "code",
   "execution_count": 166,
   "metadata": {},
   "outputs": [],
   "source": [
    "qb_temperature_bottom_df = pd.DataFrame(bottom_five_df.groupby\\\n",
    "                               (['lastName', 'Temperature Category'])[\"QB Rating\"].mean().dropna()).reset_index()\n"
   ]
  },
  {
   "cell_type": "code",
   "execution_count": 167,
   "metadata": {},
   "outputs": [],
   "source": [
    "final_temperature_bottom_df = pd.DataFrame({}, index=list(temp_group.index))\n",
    "for idx,row in qb_temperature_bottom_df.iterrows():\n",
    "    final_temperature_bottom_df.loc[row[\"Temperature Category\"], row[\"lastName\"]] = row[\"QB Rating\"]"
   ]
  },
  {
   "cell_type": "code",
   "execution_count": 168,
   "metadata": {},
   "outputs": [
    {
     "data": {
      "text/plain": [
       "<matplotlib.lines.Line2D at 0x1ccaa5f7910>"
      ]
     },
     "execution_count": 168,
     "metadata": {},
     "output_type": "execute_result"
    },
    {
     "data": {
      "image/png": "[encoded data removed]",
      "text/plain": [
       "<Figure size 1080x720 with 1 Axes>"
      ]
     },
     "metadata": {
      "needs_background": "light"
     },
     "output_type": "display_data"
    }
   ],
   "source": [
    "final_temperature_bottom_df.plot(kind=\"bar\", width = .8, ylim= (20, 100), figsize = (15, 10), color= {\"Kizer\": \"blue\", \"Foles\": \"green\", \"Driskel\": \"orange\", \"Haskins\": \"m\", \"Gabbert\": \"r\"}) \n",
    "plt.title(\"Bottom 5 QB (min 10 games played) by QB rating (with means)\")\n",
    "plt.xlabel(\"Temperature Category\")\n",
    "plt.ylabel(\"QB player Rating\")\n",
    "\n",
    "plt.axhline(y=QB_overall_mean, color=\"gray\", linestyle = '-')\n",
    "plt.axhline(y=58, color=\"b\", linestyle = '-')\n",
    "plt.axhline(y=74, color=\"g\", linestyle = '-')\n",
    "plt.axhline(y=78, color=\"orange\", linestyle = '-')\n",
    "plt.axhline(y=77, color=\"m\", linestyle = '-')\n",
    "plt.axhline(y=76, color=\"r\", linestyle = '-')\n"
   ]
  },
  {
   "cell_type": "code",
   "execution_count": null,
   "metadata": {},
   "outputs": [],
   "source": []
  },
  {
   "cell_type": "code",
   "execution_count": null,
   "metadata": {},
   "outputs": [],
   "source": []
  },
  {
   "cell_type": "code",
   "execution_count": null,
   "metadata": {},
   "outputs": [],
   "source": []
  },
  {
   "cell_type": "code",
   "execution_count": null,
   "metadata": {},
   "outputs": [],
   "source": [
    "fig, ax = plt.subplots()\n",
    "for qb_name,df_temp in top_QB_Rating_df.groupby(['lastName']):\n",
    "\n",
    "    if qb_name==\"Henne\":\n",
    "        color=\"b\"\n",
    "    else:\n",
    "        color=\"gray\"\n",
    "        \n",
    "    temp_group = df_temp.groupby(['Wind Category'])['QB Rating'].mean()\n",
    "    ax = pd.DataFrame(temp_group).reset_index().plot(ax=ax, kind='line', x='Wind Category',y='QB Rating', c=color, label=qb_name)\n",
    "\n",
    "#x_axis = np.arange(len(\"Wind Category\"))    \n",
    "#tick_locations = [value for value in x_axis]\n",
    "\n",
    "#plt.xticks(tick_locations, group_labels)\n",
    "plt.legend()\n",
    "plt.show()"
   ]
  },
  {
   "cell_type": "code",
   "execution_count": null,
   "metadata": {},
   "outputs": [],
   "source": [
    "fig, ax = plt.subplots()\n",
    "for qb_name,df_temp in top_QB_Rating_df.groupby(['lastName']):\n",
    "\n",
    "    if qb_name==\"Jackson\":\n",
    "        color=\"orange\"\n",
    "    else:\n",
    "        color=\"gray\"\n",
    "        \n",
    "    temp_group = df_temp.groupby(['Wind Category'])['QB Rating'].mean()\n",
    "    ax = pd.DataFrame(temp_group).reset_index().plot(ax=ax, kind='line', x='Wind Category',y='QB Rating', c=color, label=qb_name)\n",
    "\n",
    "#x_axis = np.arange(len(\"Wind Category\"))    \n",
    "#tick_locations = [value for value in x_axis]\n",
    "\n",
    "#plt.xticks(tick_locations, group_labels)\n",
    "plt.legend()\n",
    "plt.show()"
   ]
  },
  {
   "cell_type": "code",
   "execution_count": null,
   "metadata": {},
   "outputs": [],
   "source": [
    "fig, ax = plt.subplots()\n",
    "for qb_name,df_temp in top_QB_Rating_df.groupby(['lastName']):\n",
    "\n",
    "    if qb_name==\"Mahomes\":\n",
    "        color=\"g\"\n",
    "    else:\n",
    "        color=\"gray\"\n",
    "        \n",
    "    temp_group = df_temp.groupby(['Wind Category'])['QB Rating'].mean()\n",
    "    ax = pd.DataFrame(temp_group).reset_index().plot(ax=ax, kind='line', x='Wind Category',y='QB Rating', c=color, label=qb_name)\n",
    "\n",
    "#x_axis = np.arange(len(\"Wind Category\"))    \n",
    "#tick_locations = [value for value in x_axis]\n",
    "\n",
    "#plt.xticks(tick_locations, group_labels)\n",
    "plt.legend()\n",
    "plt.show()"
   ]
  },
  {
   "cell_type": "code",
   "execution_count": null,
   "metadata": {},
   "outputs": [],
   "source": [
    "fig, ax = plt.subplots()\n",
    "for qb_name,df_temp in top_QB_df.groupby(['lastName']):\n",
    "    if qb_name==\"Wilson\":\n",
    "        color=\"m\"\n",
    "    else:\n",
    "        color=\"gray\"\n",
    "    \n",
    "    temp_group = df_temp.groupby(['Wind Category'])['QB Rating'].mean()\n",
    "    ax = pd.DataFrame(temp_group).reset_index().plot(ax=ax, kind='line', x='Wind Category',y='QB Rating',c=color, label=qb_name)\n",
    "#xticks=\n",
    "plt.legend()\n",
    "plt.show()"
   ]
  },
  {
   "cell_type": "code",
   "execution_count": null,
   "metadata": {},
   "outputs": [],
   "source": [
    "fig, ax = plt.subplots()\n",
    "for qb_name,df_temp in top_QB_df.groupby(['lastName']):\n",
    "    if qb_name==\"Carr\":\n",
    "        color=\"y\"\n",
    "    else:\n",
    "        color=\"gray\"\n",
    "    \n",
    "    temp_group = df_temp.groupby(['Wind Category'])['QB Rating'].mean()\n",
    "    ax = pd.DataFrame(temp_group).reset_index().plot(ax=ax, kind='line', x='Wind Category',y='QB Rating',c=color, label=qb_name)\n",
    "#xticks=\n",
    "plt.legend()\n",
    "plt.show()"
   ]
  },
  {
   "cell_type": "code",
   "execution_count": null,
   "metadata": {},
   "outputs": [],
   "source": [
    "fig, ax = plt.subplots()\n",
    "for qb_name,df_temp in top_QB_df.groupby(['lastName']):\n",
    "    if qb_name==\"Brady\":\n",
    "        color=\"b\"\n",
    "    else:\n",
    "        color=\"gray\"\n",
    "    \n",
    "    temp_group = df_temp.groupby(['Wind Category'])['QB Rating'].mean()\n",
    "    ax = pd.DataFrame(temp_group).reset_index().plot(ax=ax, kind='line', x='Wind Category',y='QB Rating',c=color, label=qb_name)\n",
    "\n",
    "#x_axis = np.arange(len(\"Wind Category\"))    \n",
    "#tick_locations = [value for value in x_axis]\n",
    "\n",
    "#plt.xticks(tick_locations, group_labels)\n",
    "plt.legend()\n",
    "plt.show()"
   ]
  },
  {
   "cell_type": "code",
   "execution_count": null,
   "metadata": {},
   "outputs": [],
   "source": [
    "fig, ax = plt.subplots()\n",
    "for qb_name,df_temp in top_QB_df.groupby(['lastName']):\n",
    "    if qb_name==\"Rivers\":\n",
    "        color=\"g\"\n",
    "    else:\n",
    "        color=\"gray\"\n",
    "    \n",
    "    temp_group = df_temp.groupby(['Wind Category'])['QB Rating'].mean()\n",
    "    ax = pd.DataFrame(temp_group).reset_index().plot(ax=ax, kind='line', x='Wind Category',y='QB Rating',c=color, label=qb_name)\n",
    "#xticks=\n",
    "plt.legend()\n",
    "plt.show()"
   ]
  },
  {
   "cell_type": "code",
   "execution_count": null,
   "metadata": {},
   "outputs": [],
   "source": [
    "fig, ax = plt.subplots()\n",
    "for qb_name,df_temp in top_QB_Rating_df.groupby(['lastName']):\n",
    "\n",
    "    if qb_name==\"Weeden\":\n",
    "        color=\"r\"\n",
    "    else:\n",
    "        color=\"gray\"\n",
    "        \n",
    "    temp_group = df_temp.groupby(['Wind Category'])['QB Rating'].mean()\n",
    "    ax = pd.DataFrame(temp_group).reset_index().plot(ax=ax, kind='line', x='Wind Category',y='QB Rating', c=color, label=qb_name)\n",
    "\n",
    "#x_axis = np.arange(len(\"Wind Category\"))    \n",
    "#tick_locations = [value for value in x_axis]\n",
    "\n",
    "#plt.xticks(tick_locations, group_labels)\n",
    "plt.legend()\n",
    "plt.show()"
   ]
  },
  {
   "cell_type": "code",
   "execution_count": null,
   "metadata": {},
   "outputs": [],
   "source": [
    "fig, ax = plt.subplots()\n",
    "for qb_name,df_temp in top_QB_Rating_df.groupby(['lastName']):\n",
    "\n",
    "    if qb_name==\"Wilson\":\n",
    "        color=\"purple\"\n",
    "    else:\n",
    "        color=\"gray\"\n",
    "        \n",
    "    temp_group = df_temp.groupby(['Wind Category'])['QB Rating'].mean()\n",
    "    ax = pd.DataFrame(temp_group).reset_index().plot(ax=ax, kind='line', x='Wind Category',y='QB Rating', c=color, label=qb_name)\n",
    "\n",
    "#x_axis = np.arange(len(\"Wind Category\"))    \n",
    "#tick_locations = [value for value in x_axis]\n",
    "\n",
    "#plt.xticks(tick_locations, group_labels)\n",
    "plt.legend()\n",
    "plt.show()"
   ]
  },
  {
   "cell_type": "code",
   "execution_count": null,
   "metadata": {},
   "outputs": [],
   "source": [
    "fig, ax = plt.subplots()\n",
    "for qb_name,df_temp in top_QB_df.groupby(['lastName']):\n",
    "    if qb_name==\"Rodgers\":\n",
    "        color=\"r\"\n",
    "    else:\n",
    "        color=\"gray\"\n",
    "    \n",
    "    temp_group = df_temp.groupby(['Wind Category'])['QB Rating'].mean()\n",
    "    ax = pd.DataFrame(temp_group).reset_index().plot(ax=ax, kind='line', x='Wind Category',y='QB Rating',c=color, label=qb_name)\n",
    "#xticks=\n",
    "ax.set_xlim(left=0, right=6)\n",
    "\n",
    "plt.legend()\n",
    "plt.show()"
   ]
  },
  {
   "cell_type": "code",
   "execution_count": null,
   "metadata": {},
   "outputs": [],
   "source": [
    "QB_index=QB_df.set_index(\"lastName\").groupby([\"lastName\"])\n",
    "Avg_QB_Rating_df=QB_index[\"QB Rating\"].mean()\n",
    "\n",
    "Avg_QB_Rating_df.sort_values(ascending=False).tail(20)"
   ]
  },
  {
   "cell_type": "code",
   "execution_count": null,
   "metadata": {},
   "outputs": [],
   "source": [
    "games_played_query=QB_df.query('lastName == \"Tolzien\"or lastName == \"Stidham\"  or lastName == \"Sanchez\" or \\\n",
    "lastName == \"Walker\" or lastName == \"Sudfield\" ')\n",
    "\n",
    "games_played_query[\"lastName\"].value_counts()"
   ]
  },
  {
   "cell_type": "code",
   "execution_count": null,
   "metadata": {},
   "outputs": [],
   "source": [
    "games_played_query=QB_df.query('lastName == \"Luten\"or lastName == \"Peterman\"  or lastName == \"Stanton\" or \\\n",
    "lastName == \"Finley\" or lastName == \"Kizer\" ')\n",
    "\n",
    "games_played_query[\"lastName\"].value_counts()"
   ]
  },
  {
   "cell_type": "code",
   "execution_count": null,
   "metadata": {},
   "outputs": [],
   "source": [
    "games_played_query=QB_df.query('lastName == \"Hurts\" or lastName == \"Griffin\"  or lastName == \"Falk\" or \\\n",
    "lastName == \"Petty\" or lastName == \"Rosen\" ')\n",
    "\n",
    "games_played_query[\"lastName\"].value_counts()"
   ]
  },
  {
   "cell_type": "code",
   "execution_count": null,
   "metadata": {},
   "outputs": [],
   "source": [
    "games_played_query=QB_df.query('lastName == \"DiNucci\"or lastName == \"Clausen\"  or lastName == \"Savage\" or \\\n",
    "lastName == \"Rypien\" or lastName == \"Cassel\" ')\n",
    "\n",
    "games_played_query[\"lastName\"].value_counts()"
   ]
  },
  {
   "cell_type": "code",
   "execution_count": null,
   "metadata": {},
   "outputs": [],
   "source": [
    "#fig, ax = plt.subplots()\n",
    "#bar_colors = [\"blue\", \"red\", \"green\", \"yellow\", \"purple\"]\n",
    "#for qb_name,df_temp in top_QB_Rating_df.groupby(['lastName']):\n",
    "    \n",
    "   # c = bar_colors.pop()\n",
    "    ##temp_group = df_temp.groupby(['Wind Category'])['QB Rating'].mean()\n",
    "    #ax = pd.DataFrame(temp_group).reset_index().plot(ax=ax, kind='bar', x='Wind Category',y='QB Rating', label=qb_name,color=c)\n",
    "\n",
    "#x_axis = np.arange(len(\"Wind Category\"))    \n",
    "#tick_locations = [value for value in x_axis]\n",
    "\n",
    "#plt.xticks(tick_locations, group_labels)\n",
    "#plt.legend()\n",
    "#plt.show()\n",
    "#print(sts.normaltest(top_QB_Rating_df[\"QB Rating\"]))"
   ]
  },
  {
   "cell_type": "code",
   "execution_count": null,
   "metadata": {},
   "outputs": [],
   "source": [
    "QB_wind.loc[\"Wind Category\"]=pd.cut(QB_wind[\"windSpeed\"], bins, labels=group_labels)\n",
    "QB_wind.head()"
   ]
  },
  {
   "cell_type": "code",
   "execution_count": null,
   "metadata": {},
   "outputs": [],
   "source": [
    "windspeed_group_df= QB_wind.groupby(\"Wind Category\")\n",
    "print(windspeed_group_df[\"QB Rating\"].count())"
   ]
  },
  {
   "cell_type": "code",
   "execution_count": null,
   "metadata": {},
   "outputs": [],
   "source": [
    "windspeed_top5_df= QB_wind.groupby(\"Wind Category\")\n",
    "print(windspeed_top5_df[\"QB Rating\"].count())"
   ]
  },
  {
   "cell_type": "code",
   "execution_count": null,
   "metadata": {},
   "outputs": [],
   "source": [
    "plt.title(\"QB rating vs windspeed\")\n",
    "plt.xlabel(\"wind conditions\")\n",
    "plt.ylabel(\"QB player Rating\")\n",
    "plt.scatter(windspeed_group_df[\"Wind Category\"], windspeed_group_df[\"QB Rating\"], color='r')"
   ]
  },
  {
   "cell_type": "code",
   "execution_count": null,
   "metadata": {},
   "outputs": [],
   "source": [
    "QB_rating_condition_narrow = QB_rating_condition.query('conditions == \"clear sky\" or conditions == \"overcast clouds\" or conditions == \"light snow\" ')\n",
    "QB_rating_condition_narrow"
   ]
  },
  {
   "cell_type": "code",
   "execution_count": null,
   "metadata": {},
   "outputs": [],
   "source": [
    "x_axis_pd = QB_rating_condition_narrow[\"conditions\"]\n",
    "x_axis_pd "
   ]
  },
  {
   "cell_type": "code",
   "execution_count": null,
   "metadata": {},
   "outputs": [],
   "source": [
    "plt.title(\"QB rating vs weather conditions\")\n",
    "plt.xlabel(\"weather conditions\")\n",
    "plt.ylabel(\"QB player Rating\")\n",
    "plt.bar(QB_rating_condition_narrow[\"conditions\"], QB_rating_condition_narrow[\"QB Rating\"], color='b', alpha=0.5, align=\"center\")"
   ]
  },
  {
   "cell_type": "code",
   "execution_count": null,
   "metadata": {},
   "outputs": [],
   "source": [
    "x_axis_wind_speed = weather_QB_pd[\"windSpeed\"]\n",
    "x_axis_wind_speed\n",
    "y_axis_wind_speed = weather_QB_pd[\"QB Rating\"]\n",
    "plt.xlabel(\"wind speed\")\n",
    "plt.ylabel(\"QB player Rating\")\n",
    "plt.bar(x_axis_wind_speed, y_axis_wind_speed , color='b', alpha=0.5, align=\"center\")"
   ]
  },
  {
   "cell_type": "code",
   "execution_count": null,
   "metadata": {},
   "outputs": [],
   "source": [
    "QB_rating_temperature = weather_QB_pd[[\"QB Rating\", \"temperature\"]]\n",
    "\n",
    "#Remove Nan from dataSet\n",
    "QB_rating_temperature[\"temperature\"].value_counts()"
   ]
  },
  {
   "cell_type": "code",
   "execution_count": null,
   "metadata": {},
   "outputs": [],
   "source": [
    "QB_rating_temperature.dropna(inplace=True)"
   ]
  },
  {
   "cell_type": "code",
   "execution_count": null,
   "metadata": {},
   "outputs": [],
   "source": [
    "QB_rating_temperature\n"
   ]
  },
  {
   "cell_type": "code",
   "execution_count": null,
   "metadata": {},
   "outputs": [],
   "source": [
    "x_values= QB_rating_temperature[\"temperature\"]\n",
    "y_values= QB_rating_temperature[\"QB Rating\"]\n",
    "(slope, intercept, rvalue, pvalue, stderr) = linregress(x_values, y_values)\n",
    "regress_values = x_values * slope + intercept\n",
    "line_eq = \"y = \" + str(round(slope,2)) + \"x + \" + str(round(intercept,2))\n",
    "plt.scatter(x_values,y_values)\n",
    "\n",
    "plt.plot(x_values,regress_values,\"r-\")\n",
    "plt.annotate(line_eq,(10,20),fontsize=15,color=\"red\")\n",
    "plt.title(\"QB_rating' VS  Temperature\")\n",
    "plt.xlabel('temperature')\n",
    "plt.ylabel('QB Rating')\n",
    "plt.xlim(0,100)\n",
    "plt.ylim(0,200)\n",
    "plt.grid(True)\n",
    "plt.show()\n",
    "print(f\"The r-squared value is: {rvalue**2}\")\n",
    "print(f\"The p-value is : {p})\n"
   ]
  },
  {
   "cell_type": "code",
   "execution_count": null,
   "metadata": {},
   "outputs": [],
   "source": []
  },
  {
   "cell_type": "code",
   "execution_count": null,
   "metadata": {},
   "outputs": [],
   "source": [
    " QB_rating_temperature[\"QB Rating\"]"
   ]
  },
  {
   "cell_type": "code",
   "execution_count": null,
   "metadata": {},
   "outputs": [],
   "source": [
    "fig, ax = plt.subplots()\n",
    "for qb_name,df_temp in top_QB_df.groupby(['lastName']):\n",
    "    \n",
    "    \n",
    "    temp_group = df_temp.groupby(['Wind Category'])['QB Rating'].mean()\n",
    "    ax = pd.DataFrame(temp_group).reset_index().plot(ax=ax, kind='line', x='Wind Category',y='QB Rating', label=qb_name)\n",
    "\n",
    "#x_axis = np.arange(len(\"Wind Category\"))    \n",
    "#tick_locations = [value for value in x_axis]\n",
    "\n",
    "#plt.xticks(tick_locations, group_labels)\n",
    "plt.legend()\n",
    "plt.show()\n",
    "print(sts.normaltest(top_QB_df[\"QB Rating\"]))"
   ]
  },
  {
   "cell_type": "code",
   "execution_count": null,
   "metadata": {},
   "outputs": [],
   "source": []
  },
  {
   "cell_type": "code",
   "execution_count": null,
   "metadata": {},
   "outputs": [],
   "source": []
  },
  {
   "cell_type": "code",
   "execution_count": null,
   "metadata": {},
   "outputs": [],
   "source": []
  },
  {
   "cell_type": "code",
   "execution_count": null,
   "metadata": {},
   "outputs": [],
   "source": []
  },
  {
   "cell_type": "code",
   "execution_count": null,
   "metadata": {},
   "outputs": [],
   "source": [
    "#Rain\n",
    "QB_rating_rain_df1 = weather_QB_pd.query('(conditions == \"rain rain \" or conditions == \"heavy intensity rain\") and lastName == \"Jackson\" ')\n",
    "\n",
    "QB_rating_rain_df1"
   ]
  },
  {
   "cell_type": "code",
   "execution_count": null,
   "metadata": {},
   "outputs": [],
   "source": []
  },
  {
   "cell_type": "code",
   "execution_count": null,
   "metadata": {},
   "outputs": [],
   "source": []
  },
  {
   "cell_type": "code",
   "execution_count": null,
   "metadata": {},
   "outputs": [],
   "source": [
    "QB_rating_rain_df2 = weather_QB_pd.query('conditions == \"heavy intensity rain\"')\n",
    "\n",
    "QB_rating_rain_df2"
   ]
  },
  {
   "cell_type": "code",
   "execution_count": null,
   "metadata": {},
   "outputs": [],
   "source": [
    "weather_QB_pd[[\"QB Rating\"]].describe"
   ]
  },
  {
   "cell_type": "code",
   "execution_count": null,
   "metadata": {},
   "outputs": [],
   "source": [
    "#weather data weather_QB_pd\n",
    "weather_QB_pd[[\"windSpeed\",\"temperature\",\"conditions\"]]"
   ]
  },
  {
   "cell_type": "code",
   "execution_count": null,
   "metadata": {},
   "outputs": [],
   "source": []
  },
  {
   "cell_type": "code",
   "execution_count": null,
   "metadata": {},
   "outputs": [],
   "source": []
  },
  {
   "cell_type": "code",
   "execution_count": null,
   "metadata": {},
   "outputs": [],
   "source": []
  },
  {
   "cell_type": "code",
   "execution_count": null,
   "metadata": {},
   "outputs": [],
   "source": []
  },
  {
   "cell_type": "code",
   "execution_count": null,
   "metadata": {},
   "outputs": [],
   "source": []
  },
  {
   "cell_type": "code",
   "execution_count": null,
   "metadata": {},
   "outputs": [],
   "source": []
  },
  {
   "cell_type": "code",
   "execution_count": null,
   "metadata": {},
   "outputs": [],
   "source": []
  },
  {
   "cell_type": "code",
   "execution_count": null,
   "metadata": {},
   "outputs": [],
   "source": []
  },
  {
   "cell_type": "code",
   "execution_count": null,
   "metadata": {},
   "outputs": [],
   "source": []
  },
  {
   "cell_type": "code",
   "execution_count": null,
   "metadata": {},
   "outputs": [],
   "source": []
  },
  {
   "cell_type": "code",
   "execution_count": null,
   "metadata": {},
   "outputs": [],
   "source": []
  },
  {
   "cell_type": "code",
   "execution_count": null,
   "metadata": {},
   "outputs": [],
   "source": []
  },
  {
   "cell_type": "code",
   "execution_count": null,
   "metadata": {},
   "outputs": [],
   "source": []
  },
  {
   "cell_type": "code",
   "execution_count": null,
   "metadata": {},
   "outputs": [],
   "source": []
  },
  {
   "cell_type": "code",
   "execution_count": null,
   "metadata": {},
   "outputs": [],
   "source": [
    "\n"
   ]
  },
  {
   "cell_type": "code",
   "execution_count": null,
   "metadata": {},
   "outputs": [],
   "source": []
  },
  {
   "cell_type": "code",
   "execution_count": null,
   "metadata": {},
   "outputs": [],
   "source": []
  },
  {
   "cell_type": "code",
   "execution_count": null,
   "metadata": {},
   "outputs": [],
   "source": []
  },
  {
   "cell_type": "code",
   "execution_count": null,
   "metadata": {},
   "outputs": [],
   "source": []
  },
  {
   "cell_type": "code",
   "execution_count": null,
   "metadata": {},
   "outputs": [],
   "source": []
  },
  {
   "cell_type": "code",
   "execution_count": null,
   "metadata": {},
   "outputs": [],
   "source": []
  },
  {
   "cell_type": "code",
   "execution_count": null,
   "metadata": {},
   "outputs": [],
   "source": []
  },
  {
   "cell_type": "code",
   "execution_count": null,
   "metadata": {},
   "outputs": [],
   "source": []
  },
  {
   "cell_type": "code",
   "execution_count": null,
   "metadata": {},
   "outputs": [],
   "source": []
  },
  {
   "cell_type": "code",
   "execution_count": null,
   "metadata": {},
   "outputs": [],
   "source": []
  }
 ],
 "metadata": {
  "kernelspec": {
   "display_name": "Python 3",
   "language": "python",
   "name": "python3"
  },
  "language_info": {
   "codemirror_mode": {
    "name": "ipython",
    "version": 3
   },
   "file_extension": ".py",
   "mimetype": "text/x-python",
   "name": "python",
   "nbconvert_exporter": "python",
   "pygments_lexer": "ipython3",
   "version": "3.8.5"
  },
  "latex_envs": {
   "LaTeX_envs_menu_present": true,
   "autoclose": false,
   "autocomplete": true,
   "bibliofile": "biblio.bib",
   "cite_by": "apalike",
   "current_citInitial": 1,
   "eqLabelWithNumbers": true,
   "eqNumInitial": 1,
   "hotkeys": {
    "equation": "Ctrl-E",
    "itemize": "Ctrl-I"
   },
   "labels_anchors": false,
   "latex_user_defs": false,
   "report_style_numbering": false,
   "user_envs_cfg": false
  }
 },
 "nbformat": 4,
 "nbformat_minor": 4
}
