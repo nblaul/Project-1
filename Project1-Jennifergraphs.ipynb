{
 "cells": [
  {
   "cell_type": "code",
   "execution_count": 135,
   "metadata": {},
   "outputs": [],
   "source": [
    "# Dependencies and Setup\n",
    "import matplotlib.pyplot as plt\n",
    "import pandas as pd\n",
    "import numpy as np\n",
    "import requests\n",
    "import gmaps\n",
    "import os\n",
    "import time\n",
    "import scipy.stats as sts\n",
    "from scipy.stats import linregress\n",
    "from matplotlib import pyplot as plt\n",
    "import json\n",
    "from pprint import pprint\n",
    "pd.options.display.max_rows = 10 "
   ]
  },
  {
   "cell_type": "code",
   "execution_count": 136,
   "metadata": {},
   "outputs": [
    {
     "data": {
      "text/html": [
       "<div>\n",
       "<style scoped>\n",
       "    .dataframe tbody tr th:only-of-type {\n",
       "        vertical-align: middle;\n",
       "    }\n",
       "\n",
       "    .dataframe tbody tr th {\n",
       "        vertical-align: top;\n",
       "    }\n",
       "\n",
       "    .dataframe thead th {\n",
       "        text-align: right;\n",
       "    }\n",
       "</style>\n",
       "<table border=\"1\" class=\"dataframe\">\n",
       "  <thead>\n",
       "    <tr style=\"text-align: right;\">\n",
       "      <th></th>\n",
       "      <th>Unnamed: 0</th>\n",
       "      <th>gameId</th>\n",
       "      <th>season_x</th>\n",
       "      <th>week</th>\n",
       "      <th>lastName</th>\n",
       "      <th>firstName</th>\n",
       "      <th>position</th>\n",
       "      <th>uniformNumber</th>\n",
       "      <th>opponent</th>\n",
       "      <th>team</th>\n",
       "      <th>...</th>\n",
       "      <th>rec</th>\n",
       "      <th>recYds</th>\n",
       "      <th>recTds</th>\n",
       "      <th>QB Rating</th>\n",
       "      <th>season_y</th>\n",
       "      <th>type</th>\n",
       "      <th>surface</th>\n",
       "      <th>temperature</th>\n",
       "      <th>conditions</th>\n",
       "      <th>windSpeed</th>\n",
       "    </tr>\n",
       "  </thead>\n",
       "  <tbody>\n",
       "    <tr>\n",
       "      <th>0</th>\n",
       "      <td>0</td>\n",
       "      <td>3603</td>\n",
       "      <td>2015</td>\n",
       "      <td>1</td>\n",
       "      <td>Kaepernick</td>\n",
       "      <td>C</td>\n",
       "      <td>QB</td>\n",
       "      <td>7</td>\n",
       "      <td>Vikings</td>\n",
       "      <td>49ers</td>\n",
       "      <td>...</td>\n",
       "      <td>0</td>\n",
       "      <td>0</td>\n",
       "      <td>0</td>\n",
       "      <td>83.012821</td>\n",
       "      <td>2015</td>\n",
       "      <td>Regular</td>\n",
       "      <td>Grass</td>\n",
       "      <td>66.2</td>\n",
       "      <td>mostly cloudy</td>\n",
       "      <td>9.2</td>\n",
       "    </tr>\n",
       "    <tr>\n",
       "      <th>1</th>\n",
       "      <td>11</td>\n",
       "      <td>3590</td>\n",
       "      <td>2015</td>\n",
       "      <td>1</td>\n",
       "      <td>Cutler</td>\n",
       "      <td>J</td>\n",
       "      <td>QB</td>\n",
       "      <td>6</td>\n",
       "      <td>Packers</td>\n",
       "      <td>Bears</td>\n",
       "      <td>...</td>\n",
       "      <td>0</td>\n",
       "      <td>0</td>\n",
       "      <td>0</td>\n",
       "      <td>67.476852</td>\n",
       "      <td>2015</td>\n",
       "      <td>Regular</td>\n",
       "      <td>Grass</td>\n",
       "      <td>69.1</td>\n",
       "      <td>mostly cloudy</td>\n",
       "      <td>8.1</td>\n",
       "    </tr>\n",
       "    <tr>\n",
       "      <th>2</th>\n",
       "      <td>22</td>\n",
       "      <td>3599</td>\n",
       "      <td>2015</td>\n",
       "      <td>1</td>\n",
       "      <td>Dalton</td>\n",
       "      <td>A</td>\n",
       "      <td>QB</td>\n",
       "      <td>14</td>\n",
       "      <td>Raiders</td>\n",
       "      <td>Bengals</td>\n",
       "      <td>...</td>\n",
       "      <td>0</td>\n",
       "      <td>0</td>\n",
       "      <td>0</td>\n",
       "      <td>115.931373</td>\n",
       "      <td>2015</td>\n",
       "      <td>Regular</td>\n",
       "      <td>Grass</td>\n",
       "      <td>64.0</td>\n",
       "      <td>scattered clouds</td>\n",
       "      <td>15.0</td>\n",
       "    </tr>\n",
       "    <tr>\n",
       "      <th>3</th>\n",
       "      <td>32</td>\n",
       "      <td>3589</td>\n",
       "      <td>2015</td>\n",
       "      <td>1</td>\n",
       "      <td>Taylor</td>\n",
       "      <td>T</td>\n",
       "      <td>QB</td>\n",
       "      <td>2</td>\n",
       "      <td>Colts</td>\n",
       "      <td>Bills</td>\n",
       "      <td>...</td>\n",
       "      <td>0</td>\n",
       "      <td>0</td>\n",
       "      <td>0</td>\n",
       "      <td>123.793860</td>\n",
       "      <td>2015</td>\n",
       "      <td>Regular</td>\n",
       "      <td>Turf</td>\n",
       "      <td>53.1</td>\n",
       "      <td>light rain</td>\n",
       "      <td>13.8</td>\n",
       "    </tr>\n",
       "    <tr>\n",
       "      <th>4</th>\n",
       "      <td>42</td>\n",
       "      <td>3598</td>\n",
       "      <td>2015</td>\n",
       "      <td>1</td>\n",
       "      <td>Manning</td>\n",
       "      <td>P</td>\n",
       "      <td>QB</td>\n",
       "      <td>18</td>\n",
       "      <td>Ravens</td>\n",
       "      <td>Broncos</td>\n",
       "      <td>...</td>\n",
       "      <td>0</td>\n",
       "      <td>0</td>\n",
       "      <td>0</td>\n",
       "      <td>59.895833</td>\n",
       "      <td>2015</td>\n",
       "      <td>Regular</td>\n",
       "      <td>Grass</td>\n",
       "      <td>82.9</td>\n",
       "      <td>mostly cloudy</td>\n",
       "      <td>11.5</td>\n",
       "    </tr>\n",
       "  </tbody>\n",
       "</table>\n",
       "<p>5 rows × 30 columns</p>\n",
       "</div>"
      ],
      "text/plain": [
       "   Unnamed: 0  gameId  season_x  week    lastName firstName position  \\\n",
       "0           0    3603      2015     1  Kaepernick         C       QB   \n",
       "1          11    3590      2015     1      Cutler         J       QB   \n",
       "2          22    3599      2015     1      Dalton         A       QB   \n",
       "3          32    3589      2015     1      Taylor         T       QB   \n",
       "4          42    3598      2015     1     Manning         P       QB   \n",
       "\n",
       "   uniformNumber opponent     team  ...  rec  recYds  recTds   QB Rating  \\\n",
       "0              7  Vikings    49ers  ...    0       0       0   83.012821   \n",
       "1              6  Packers    Bears  ...    0       0       0   67.476852   \n",
       "2             14  Raiders  Bengals  ...    0       0       0  115.931373   \n",
       "3              2    Colts    Bills  ...    0       0       0  123.793860   \n",
       "4             18   Ravens  Broncos  ...    0       0       0   59.895833   \n",
       "\n",
       "   season_y     type  surface  temperature        conditions  windSpeed  \n",
       "0      2015  Regular    Grass         66.2     mostly cloudy        9.2  \n",
       "1      2015  Regular    Grass         69.1     mostly cloudy        8.1  \n",
       "2      2015  Regular    Grass         64.0  scattered clouds       15.0  \n",
       "3      2015  Regular     Turf         53.1        light rain       13.8  \n",
       "4      2015  Regular    Grass         82.9     mostly cloudy       11.5  \n",
       "\n",
       "[5 rows x 30 columns]"
      ]
     },
     "execution_count": 136,
     "metadata": {},
     "output_type": "execute_result"
    }
   ],
   "source": [
    "path_stats_file = \"data_resources/QB Stats and Weather Data.csv\"\n",
    "QB_df = pd.read_csv(path_stats_file)\n",
    "QB_df.head()"
   ]
  },
  {
   "cell_type": "code",
   "execution_count": 29,
   "metadata": {},
   "outputs": [
    {
     "data": {
      "text/plain": [
       "clear sky               786\n",
       "overcast                392\n",
       "mostly cloudy           227\n",
       "partly cloudy           219\n",
       "scattered clouds        138\n",
       "overcast clouds         120\n",
       "broken clouds            95\n",
       "light rain               83\n",
       "few clouds               61\n",
       "rain                     57\n",
       "moderate rain            33\n",
       "cloudy                   33\n",
       "haze                     22\n",
       "light snow               16\n",
       "snow                      8\n",
       "mist                      6\n",
       "heavy intensity rain      4\n",
       "chance rain               4\n",
       "fog                       2\n",
       "thunderstorm              2\n",
       "very heavy rain           2\n",
       "breeze                    2\n",
       "heavy rain                2\n",
       "cold                      2\n",
       "shower rain               2\n",
       "Name: conditions, dtype: int64"
      ]
     },
     "execution_count": 29,
     "metadata": {},
     "output_type": "execute_result"
    }
   ],
   "source": [
    "#value_counts on conditions\n",
    "QB_conditions = QB_df[[\"QB Rating\", \"conditions\"]]\n",
    "QB_conditions\n",
    "QB_conditions[\"conditions\"].value_counts()"
   ]
  },
  {
   "cell_type": "code",
   "execution_count": 6,
   "metadata": {},
   "outputs": [
    {
     "data": {
      "text/plain": [
       "0.00     165\n",
       "3.36     101\n",
       "4.70      88\n",
       "4.60      85\n",
       "6.90      82\n",
       "        ... \n",
       "2.37       2\n",
       "3.60       2\n",
       "2.59       2\n",
       "5.12       2\n",
       "15.14      1\n",
       "Name: windSpeed, Length: 118, dtype: int64"
      ]
     },
     "execution_count": 6,
     "metadata": {},
     "output_type": "execute_result"
    }
   ],
   "source": [
    "#value_counts on windspeed\n",
    "QB_windconditions = QB_df[[\"QB Rating\", \"windSpeed\"]]\n",
    "QB_windconditions[\"windSpeed\"].value_counts()"
   ]
  },
  {
   "cell_type": "code",
   "execution_count": 30,
   "metadata": {},
   "outputs": [
    {
     "data": {
      "text/plain": [
       "39.15"
      ]
     },
     "execution_count": 30,
     "metadata": {},
     "output_type": "execute_result"
    }
   ],
   "source": [
    "#Wind speed stats\n",
    "QB_wind = QB_df[[\"QB Rating\", \"windSpeed\"]]\n",
    "QB_wind[\"windSpeed\"].max()"
   ]
  },
  {
   "cell_type": "code",
   "execution_count": 31,
   "metadata": {},
   "outputs": [
    {
     "data": {
      "text/plain": [
       "0.0"
      ]
     },
     "execution_count": 31,
     "metadata": {},
     "output_type": "execute_result"
    }
   ],
   "source": [
    "QB_wind[\"windSpeed\"].min()"
   ]
  },
  {
   "cell_type": "code",
   "execution_count": 32,
   "metadata": {},
   "outputs": [
    {
     "data": {
      "text/plain": [
       "8.022395157803778"
      ]
     },
     "execution_count": 32,
     "metadata": {},
     "output_type": "execute_result"
    }
   ],
   "source": [
    "QB_wind[\"windSpeed\"].mean()"
   ]
  },
  {
   "cell_type": "code",
   "execution_count": 33,
   "metadata": {},
   "outputs": [
    {
     "data": {
      "text/plain": [
       "7.0"
      ]
     },
     "execution_count": 33,
     "metadata": {},
     "output_type": "execute_result"
    }
   ],
   "source": [
    "QB_wind[\"windSpeed\"].median()"
   ]
  },
  {
   "cell_type": "code",
   "execution_count": 43,
   "metadata": {},
   "outputs": [
    {
     "data": {
      "text/plain": [
       "11"
      ]
     },
     "execution_count": 43,
     "metadata": {},
     "output_type": "execute_result"
    }
   ],
   "source": [
    "#high wind (>25)\n",
    "QB_highwinds = game_stats_df[[\"QB Rating\", \"windSpeed\"]]\n",
    "QB_highwinds = QB_rating_highwindconditions.query('windSpeed > 25')\n",
    "QB_highwinds[\"windSpeed\"].count()\n",
    "#How is this an odd number?"
   ]
  },
  {
   "cell_type": "code",
   "execution_count": 47,
   "metadata": {},
   "outputs": [
    {
     "data": {
      "text/plain": [
       "125.61274509803921"
      ]
     },
     "execution_count": 47,
     "metadata": {},
     "output_type": "execute_result"
    }
   ],
   "source": [
    "QB_highwinds[\"QB Rating\"].max()"
   ]
  },
  {
   "cell_type": "code",
   "execution_count": 48,
   "metadata": {},
   "outputs": [
    {
     "data": {
      "text/plain": [
       "52.08333333333334"
      ]
     },
     "execution_count": 48,
     "metadata": {},
     "output_type": "execute_result"
    }
   ],
   "source": [
    "QB_highwinds[\"QB Rating\"].min()"
   ]
  },
  {
   "cell_type": "code",
   "execution_count": 49,
   "metadata": {},
   "outputs": [
    {
     "data": {
      "text/plain": [
       "85.10456884008579"
      ]
     },
     "execution_count": 49,
     "metadata": {},
     "output_type": "execute_result"
    }
   ],
   "source": [
    "QB_highwinds[\"QB Rating\"].mean()"
   ]
  },
  {
   "cell_type": "code",
   "execution_count": 50,
   "metadata": {},
   "outputs": [
    {
     "data": {
      "text/plain": [
       "79.73484848484848"
      ]
     },
     "execution_count": 50,
     "metadata": {},
     "output_type": "execute_result"
    }
   ],
   "source": [
    "QB_highwinds[\"QB Rating\"].median()"
   ]
  },
  {
   "cell_type": "code",
   "execution_count": 35,
   "metadata": {},
   "outputs": [
    {
     "data": {
      "text/plain": [
       "QB Rating   conditions          \n",
       "110.218254  heavy intensity rain    1\n",
       "97.537879   heavy rain              1\n",
       "91.388889   thunderstorm            1\n",
       "91.319444   heavy intensity rain    1\n",
       "87.916667   very heavy rain         1\n",
       "86.322464   heavy intensity rain    1\n",
       "79.583333   thunderstorm            1\n",
       "77.840909   very heavy rain         1\n",
       "59.821429   heavy intensity rain    1\n",
       "57.025194   heavy rain              1\n",
       "dtype: int64"
      ]
     },
     "execution_count": 35,
     "metadata": {},
     "output_type": "execute_result"
    }
   ],
   "source": [
    "#value_counts on heavy rain\n",
    "QB_heavyrain = QB_df[[\"QB Rating\", \"conditions\"]]\n",
    "QB_heavyrain = QB_heavyrain.query('conditions == \"heavy intensity rain\" or conditions == \"very heavy rain\"or conditions == \"heavy rain\"  or  conditions == \"thunderstorm\" ')\n",
    "QB_heavyrain.value_counts()\n"
   ]
  },
  {
   "cell_type": "code",
   "execution_count": 37,
   "metadata": {},
   "outputs": [
    {
     "data": {
      "text/plain": [
       "110.21825396825398"
      ]
     },
     "execution_count": 37,
     "metadata": {},
     "output_type": "execute_result"
    }
   ],
   "source": [
    "#QB Rating stats in heavy rain\n",
    "#Includes \"heavy rain\", \"very heavy rain\", \"heavy intensity rain\" and thunderstorms\n",
    "QB_heavyrain[\"QB Rating\"].max()"
   ]
  },
  {
   "cell_type": "code",
   "execution_count": 38,
   "metadata": {},
   "outputs": [
    {
     "data": {
      "text/plain": [
       "57.0251937984496"
      ]
     },
     "execution_count": 38,
     "metadata": {},
     "output_type": "execute_result"
    }
   ],
   "source": [
    "QB_heavyrain[\"QB Rating\"].min()"
   ]
  },
  {
   "cell_type": "code",
   "execution_count": 40,
   "metadata": {},
   "outputs": [
    {
     "data": {
      "text/plain": [
       "83.89744613183694"
      ]
     },
     "execution_count": 40,
     "metadata": {},
     "output_type": "execute_result"
    }
   ],
   "source": [
    "QB_heavyrain[\"QB Rating\"].mean()"
   ]
  },
  {
   "cell_type": "code",
   "execution_count": 41,
   "metadata": {},
   "outputs": [
    {
     "data": {
      "text/plain": [
       "87.11956521739131"
      ]
     },
     "execution_count": 41,
     "metadata": {},
     "output_type": "execute_result"
    }
   ],
   "source": [
    "QB_heavyrain[\"QB Rating\"].median()"
   ]
  },
  {
   "cell_type": "code",
   "execution_count": 53,
   "metadata": {},
   "outputs": [
    {
     "data": {
      "text/plain": [
       "63.958333     1\n",
       "117.408192    1\n",
       "78.298611     1\n",
       "83.083333     1\n",
       "45.370370     1\n",
       "             ..\n",
       "94.886364     1\n",
       "47.559524     1\n",
       "93.005952     1\n",
       "101.539855    1\n",
       "93.750000     1\n",
       "Name: QB Rating, Length: 117, dtype: int64"
      ]
     },
     "execution_count": 53,
     "metadata": {},
     "output_type": "execute_result"
    }
   ],
   "source": [
    "#high temperature (>85)\n",
    "QB_hightemp = QB_df[[\"QB Rating\", \"temperature\"]]\n",
    "QB_hightemp = QB_hightemp.query('temperature > 85')\n",
    "QB_hightemp[\"QB Rating\"].value_counts()"
   ]
  },
  {
   "cell_type": "code",
   "execution_count": null,
   "metadata": {},
   "outputs": [],
   "source": [
    "#QB stats in high temperatures(>85)"
   ]
  },
  {
   "cell_type": "code",
   "execution_count": 54,
   "metadata": {},
   "outputs": [
    {
     "data": {
      "text/plain": [
       "223.75000000000003"
      ]
     },
     "execution_count": 54,
     "metadata": {},
     "output_type": "execute_result"
    }
   ],
   "source": [
    "QB_hightemp[\"QB Rating\"].max()"
   ]
  },
  {
   "cell_type": "code",
   "execution_count": 55,
   "metadata": {},
   "outputs": [
    {
     "data": {
      "text/plain": [
       "3.869047619047628"
      ]
     },
     "execution_count": 55,
     "metadata": {},
     "output_type": "execute_result"
    }
   ],
   "source": [
    "QB_hightemp[\"QB Rating\"].min()"
   ]
  },
  {
   "cell_type": "code",
   "execution_count": 56,
   "metadata": {},
   "outputs": [
    {
     "data": {
      "text/plain": [
       "89.6397173215305"
      ]
     },
     "execution_count": 56,
     "metadata": {},
     "output_type": "execute_result"
    }
   ],
   "source": [
    "QB_hightemp[\"QB Rating\"].mean()"
   ]
  },
  {
   "cell_type": "code",
   "execution_count": 57,
   "metadata": {},
   "outputs": [
    {
     "data": {
      "text/plain": [
       "91.5277777777778"
      ]
     },
     "execution_count": 57,
     "metadata": {},
     "output_type": "execute_result"
    }
   ],
   "source": [
    "QB_hightemp[\"QB Rating\"].median()"
   ]
  },
  {
   "cell_type": "code",
   "execution_count": 58,
   "metadata": {},
   "outputs": [
    {
     "data": {
      "text/plain": [
       "223.75000000000003"
      ]
     },
     "execution_count": 58,
     "metadata": {},
     "output_type": "execute_result"
    }
   ],
   "source": [
    "#all conditions\n",
    "QB_df[\"QB Rating\"].max()"
   ]
  },
  {
   "cell_type": "code",
   "execution_count": 59,
   "metadata": {},
   "outputs": [
    {
     "data": {
      "text/plain": [
       "-91.36904761904762"
      ]
     },
     "execution_count": 59,
     "metadata": {},
     "output_type": "execute_result"
    }
   ],
   "source": [
    "QB_df[\"QB Rating\"].min()"
   ]
  },
  {
   "cell_type": "code",
   "execution_count": 60,
   "metadata": {},
   "outputs": [
    {
     "data": {
      "text/plain": [
       "89.65904650494794"
      ]
     },
     "execution_count": 60,
     "metadata": {},
     "output_type": "execute_result"
    }
   ],
   "source": [
    "QB_df[\"QB Rating\"].mean()"
   ]
  },
  {
   "cell_type": "code",
   "execution_count": 61,
   "metadata": {},
   "outputs": [
    {
     "data": {
      "text/plain": [
       "88.97832491582491"
      ]
     },
     "execution_count": 61,
     "metadata": {},
     "output_type": "execute_result"
    }
   ],
   "source": [
    "QB_df[\"QB Rating\"].median()"
   ]
  },
  {
   "cell_type": "code",
   "execution_count": 62,
   "metadata": {},
   "outputs": [
    {
     "data": {
      "image/png": "[encoded data removed]",
      "text/plain": [
       "<Figure size 432x288 with 1 Axes>"
      ]
     },
     "metadata": {
      "needs_background": "light"
     },
     "output_type": "display_data"
    }
   ],
   "source": [
    "#look for outliers\n",
    "QBRating=QB_df[\"QB Rating\"]\n",
    "fig, ax = plt.subplots()\n",
    "ax.set_title('QB Game Ratings 2015-2020')\n",
    "ax.set_ylabel('QB Rating')\n",
    "ax.boxplot(QBRating)\n",
    "plt.show()\n",
    "#Is there a correlation between outliers and weather conditions?"
   ]
  },
  {
   "cell_type": "code",
   "execution_count": 63,
   "metadata": {},
   "outputs": [
    {
     "name": "stdout",
     "output_type": "stream",
     "text": [
      "The lower quartile of QB Rating is: 71.6999299719888\n",
      "The upper quartile of QB Rating is: 107.81926406926404\n",
      "The interquartile range of QB Rating is: 36.11933409727524\n",
      "The the median of QB Rating is: 88.97832491582491 \n",
      "Values below 17.52092882607593 could be outliers.\n",
      "Values above 161.9982652151769 could be outliers.\n"
     ]
    }
   ],
   "source": [
    "quartiles = QBRating.quantile([0.25,0.5,0.75])\n",
    "lowerq = quartiles[0.25]\n",
    "upperq = quartiles[0.75]\n",
    "iqr = upperq-lowerq  \n",
    "\n",
    "print(f\"The lower quartile of QB Rating is: {lowerq}\")\n",
    "print(f\"The upper quartile of QB Rating is: {upperq}\")\n",
    "print(f\"The interquartile range of QB Rating is: {iqr}\")\n",
    "print(f\"The the median of QB Rating is: {quartiles[0.5]} \")\n",
    "\n",
    "lower_bound = lowerq - (1.5*iqr)\n",
    "upper_bound = upperq + (1.5*iqr)\n",
    "print(f\"Values below {lower_bound} could be outliers.\")\n",
    "print(f\"Values above {upper_bound} could be outliers.\")"
   ]
  },
  {
   "cell_type": "code",
   "execution_count": 67,
   "metadata": {},
   "outputs": [
    {
     "data": {
      "text/plain": [
       "0.00     165\n",
       "3.36     101\n",
       "4.70      88\n",
       "4.60      85\n",
       "6.90      82\n",
       "        ... \n",
       "2.37       2\n",
       "3.60       2\n",
       "2.59       2\n",
       "5.12       2\n",
       "15.14      1\n",
       "Name: windSpeed, Length: 118, dtype: int64"
      ]
     },
     "execution_count": 67,
     "metadata": {},
     "output_type": "execute_result"
    }
   ],
   "source": [
    "QB_wind_ranges_df = QB_wind.query('windSpeed ==0 or windSpeed <10  or windSpeed <15 or  windSpeed < 25 or windSpeed <40 ')\n",
    "QB_wind_ranges_df[\"windSpeed\"].value_counts()\n",
    "#This doesn't return desired data/need to fix"
   ]
  },
  {
   "cell_type": "code",
   "execution_count": null,
   "metadata": {},
   "outputs": [],
   "source": [
    "#Do we want to look at ouliers for weather correlation?"
   ]
  },
  {
   "cell_type": "code",
   "execution_count": 75,
   "metadata": {},
   "outputs": [
    {
     "name": "stdout",
     "output_type": "stream",
     "text": [
      "NormaltestResult(statistic=1.501133955694346, pvalue=0.47209880727991016)\n"
     ]
    },
    {
     "data": {
      "image/png": "[encoded data removed]",
      "text/plain": [
       "<Figure size 432x288 with 1 Axes>"
      ]
     },
     "metadata": {
      "needs_background": "light"
     },
     "output_type": "display_data"
    }
   ],
   "source": [
    "plt.title(\"QB rating vs windspeed\")\n",
    "plt.xlabel(\"wind conditions\")\n",
    "plt.ylabel(\"QB player Rating\")\n",
    "plt.scatter(QB_wind[\"windSpeed\"], QB_wind[\"QB Rating\"], color='r')\n",
    "print(sts.normaltest(QB_wind[\"QB Rating\"].sample(100)))\n",
    "#Does this have value?\n",
    "#p-value indicates accept null hypothesis"
   ]
  },
  {
   "cell_type": "code",
   "execution_count": 80,
   "metadata": {},
   "outputs": [
    {
     "data": {
      "text/plain": [
       "0     6-10\n",
       "1     6-10\n",
       "2    11-15\n",
       "3    11-15\n",
       "4    11-15\n",
       "Name: windSpeed, dtype: category\n",
       "Categories (6, object): ['0-5' < '6-10' < '11-15' < '16-20' < '21-25' < '26-40']"
      ]
     },
     "execution_count": 80,
     "metadata": {},
     "output_type": "execute_result"
    }
   ],
   "source": [
    "#Create bins for wind speed\n",
    "bins=[-1, 5, 10, 15, 20, 25, 40]\n",
    "group_labels=[\"0-5\", \"6-10\", \"11-15\", \"16-20\", \"21-25\", \"26-40\"]\n",
    "pd.cut(QB_wind[\"windSpeed\"], bins, labels=group_labels).head()"
   ]
  },
  {
   "cell_type": "code",
   "execution_count": 81,
   "metadata": {},
   "outputs": [
    {
     "name": "stdout",
     "output_type": "stream",
     "text": [
      "NormaltestResult(statistic=8.598104780673124, pvalue=0.013581422803803839)\n"
     ]
    },
    {
     "data": {
      "image/png": "[encoded data removed]",
      "text/plain": [
       "<Figure size 432x288 with 1 Axes>"
      ]
     },
     "metadata": {
      "needs_background": "light"
     },
     "output_type": "display_data"
    }
   ],
   "source": [
    "plt.title(\"QB rating vs windspeed\")\n",
    "plt.xlabel(\"wind conditions\")\n",
    "plt.ylabel(\"QB player Rating\")\n",
    "plt.scatter(QB_wind[\"windSpeed\"], QB_wind[\"QB Rating\"], color='r')\n",
    "print(sts.normaltest(QB_wind[\"QB Rating\"].sample(100)))\n",
    "#p-value is inconsistent with sampling"
   ]
  },
  {
   "cell_type": "code",
   "execution_count": 85,
   "metadata": {},
   "outputs": [
    {
     "name": "stdout",
     "output_type": "stream",
     "text": [
      "NormaltestResult(statistic=92.73422396027158, pvalue=7.29489634436288e-21)\n"
     ]
    },
    {
     "data": {
      "image/png": "[encoded data removed]",
      "text/plain": [
       "<Figure size 432x288 with 1 Axes>"
      ]
     },
     "metadata": {
      "needs_background": "light"
     },
     "output_type": "display_data"
    }
   ],
   "source": [
    "plt.title(\"QB rating vs windspeed\")\n",
    "plt.xlabel(\"wind conditions\")\n",
    "plt.ylabel(\"QB player Rating\")\n",
    "plt.scatter(QB_wind[\"windSpeed\"], QB_wind[\"QB Rating\"], color='r')\n",
    "print(sts.normaltest(QB_wind[\"QB Rating\"]))\n",
    "#Indicates reject the null hypothesis"
   ]
  },
  {
   "cell_type": "code",
   "execution_count": 139,
   "metadata": {},
   "outputs": [
    {
     "data": {
      "text/plain": [
       "lastName\n",
       "Mahomes     111.694725\n",
       "Henne       111.197917\n",
       "Jackson     106.716854\n",
       "Weeden      105.208333\n",
       "Wilson      105.002366\n",
       "               ...    \n",
       "Sanchez      38.289436\n",
       "Peterman     35.867977\n",
       "Stidham      33.680070\n",
       "Tolzien      27.083333\n",
       "Walker       24.325980\n",
       "Name: QB Rating, Length: 111, dtype: float64"
      ]
     },
     "execution_count": 139,
     "metadata": {},
     "output_type": "execute_result"
    }
   ],
   "source": [
    "QB_index=QB_df.set_index(\"lastName\").groupby([\"lastName\"])\n",
    "Avg_QB_Rating_df=QB_index[\"QB Rating\"].mean()\n",
    "Avg_QB_Rating_df.sort_values(ascending=False)\n"
   ]
  },
  {
   "cell_type": "code",
   "execution_count": 90,
   "metadata": {},
   "outputs": [
    {
     "data": {
      "text/html": [
       "<div>\n",
       "<style scoped>\n",
       "    .dataframe tbody tr th:only-of-type {\n",
       "        vertical-align: middle;\n",
       "    }\n",
       "\n",
       "    .dataframe tbody tr th {\n",
       "        vertical-align: top;\n",
       "    }\n",
       "\n",
       "    .dataframe thead th {\n",
       "        text-align: right;\n",
       "    }\n",
       "</style>\n",
       "<table border=\"1\" class=\"dataframe\">\n",
       "  <thead>\n",
       "    <tr style=\"text-align: right;\">\n",
       "      <th></th>\n",
       "      <th>Unnamed: 0</th>\n",
       "      <th>gameId</th>\n",
       "      <th>season_x</th>\n",
       "      <th>week</th>\n",
       "      <th>lastName</th>\n",
       "      <th>firstName</th>\n",
       "      <th>position</th>\n",
       "      <th>uniformNumber</th>\n",
       "      <th>opponent</th>\n",
       "      <th>team</th>\n",
       "      <th>...</th>\n",
       "      <th>rec</th>\n",
       "      <th>recYds</th>\n",
       "      <th>recTds</th>\n",
       "      <th>QB Rating</th>\n",
       "      <th>season_y</th>\n",
       "      <th>type</th>\n",
       "      <th>surface</th>\n",
       "      <th>temperature</th>\n",
       "      <th>conditions</th>\n",
       "      <th>windSpeed</th>\n",
       "    </tr>\n",
       "  </thead>\n",
       "  <tbody>\n",
       "    <tr>\n",
       "      <th>15</th>\n",
       "      <td>213</td>\n",
       "      <td>3588</td>\n",
       "      <td>2015</td>\n",
       "      <td>1</td>\n",
       "      <td>Brady</td>\n",
       "      <td>T</td>\n",
       "      <td>QB</td>\n",
       "      <td>12</td>\n",
       "      <td>Steelers</td>\n",
       "      <td>Patriots</td>\n",
       "      <td>...</td>\n",
       "      <td>0</td>\n",
       "      <td>0</td>\n",
       "      <td>0</td>\n",
       "      <td>146.354167</td>\n",
       "      <td>2015</td>\n",
       "      <td>Regular</td>\n",
       "      <td>Turf</td>\n",
       "      <td>64.9</td>\n",
       "      <td>overcast</td>\n",
       "      <td>5.80</td>\n",
       "    </tr>\n",
       "    <tr>\n",
       "      <th>41</th>\n",
       "      <td>547</td>\n",
       "      <td>3609</td>\n",
       "      <td>2015</td>\n",
       "      <td>2</td>\n",
       "      <td>Brady</td>\n",
       "      <td>T</td>\n",
       "      <td>QB</td>\n",
       "      <td>12</td>\n",
       "      <td>Bills</td>\n",
       "      <td>Patriots</td>\n",
       "      <td>...</td>\n",
       "      <td>0</td>\n",
       "      <td>0</td>\n",
       "      <td>0</td>\n",
       "      <td>105.387931</td>\n",
       "      <td>2015</td>\n",
       "      <td>Regular</td>\n",
       "      <td>Turf</td>\n",
       "      <td>64.9</td>\n",
       "      <td>mostly cloudy</td>\n",
       "      <td>8.10</td>\n",
       "    </tr>\n",
       "    <tr>\n",
       "      <th>67</th>\n",
       "      <td>878</td>\n",
       "      <td>3626</td>\n",
       "      <td>2015</td>\n",
       "      <td>3</td>\n",
       "      <td>Brady</td>\n",
       "      <td>T</td>\n",
       "      <td>QB</td>\n",
       "      <td>12</td>\n",
       "      <td>Jaguars</td>\n",
       "      <td>Patriots</td>\n",
       "      <td>...</td>\n",
       "      <td>0</td>\n",
       "      <td>0</td>\n",
       "      <td>0</td>\n",
       "      <td>118.948413</td>\n",
       "      <td>2015</td>\n",
       "      <td>Regular</td>\n",
       "      <td>Turf</td>\n",
       "      <td>73.0</td>\n",
       "      <td>clear sky</td>\n",
       "      <td>0.00</td>\n",
       "    </tr>\n",
       "    <tr>\n",
       "      <th>152</th>\n",
       "      <td>2083</td>\n",
       "      <td>3684</td>\n",
       "      <td>2015</td>\n",
       "      <td>7</td>\n",
       "      <td>Brady</td>\n",
       "      <td>T</td>\n",
       "      <td>QB</td>\n",
       "      <td>12</td>\n",
       "      <td>Jets</td>\n",
       "      <td>Patriots</td>\n",
       "      <td>...</td>\n",
       "      <td>0</td>\n",
       "      <td>0</td>\n",
       "      <td>0</td>\n",
       "      <td>94.290123</td>\n",
       "      <td>2015</td>\n",
       "      <td>Regular</td>\n",
       "      <td>Turf</td>\n",
       "      <td>60.1</td>\n",
       "      <td>overcast</td>\n",
       "      <td>6.90</td>\n",
       "    </tr>\n",
       "    <tr>\n",
       "      <th>172</th>\n",
       "      <td>2386</td>\n",
       "      <td>3693</td>\n",
       "      <td>2015</td>\n",
       "      <td>8</td>\n",
       "      <td>Brady</td>\n",
       "      <td>T</td>\n",
       "      <td>QB</td>\n",
       "      <td>12</td>\n",
       "      <td>Dolphins</td>\n",
       "      <td>Patriots</td>\n",
       "      <td>...</td>\n",
       "      <td>0</td>\n",
       "      <td>0</td>\n",
       "      <td>0</td>\n",
       "      <td>133.223684</td>\n",
       "      <td>2015</td>\n",
       "      <td>Regular</td>\n",
       "      <td>Turf</td>\n",
       "      <td>59.0</td>\n",
       "      <td>clear sky</td>\n",
       "      <td>11.50</td>\n",
       "    </tr>\n",
       "    <tr>\n",
       "      <th>...</th>\n",
       "      <td>...</td>\n",
       "      <td>...</td>\n",
       "      <td>...</td>\n",
       "      <td>...</td>\n",
       "      <td>...</td>\n",
       "      <td>...</td>\n",
       "      <td>...</td>\n",
       "      <td>...</td>\n",
       "      <td>...</td>\n",
       "      <td>...</td>\n",
       "      <td>...</td>\n",
       "      <td>...</td>\n",
       "      <td>...</td>\n",
       "      <td>...</td>\n",
       "      <td>...</td>\n",
       "      <td>...</td>\n",
       "      <td>...</td>\n",
       "      <td>...</td>\n",
       "      <td>...</td>\n",
       "      <td>...</td>\n",
       "      <td>...</td>\n",
       "    </tr>\n",
       "    <tr>\n",
       "      <th>2157</th>\n",
       "      <td>29876</td>\n",
       "      <td>5347</td>\n",
       "      <td>2020</td>\n",
       "      <td>10</td>\n",
       "      <td>Brady</td>\n",
       "      <td>T</td>\n",
       "      <td>QB</td>\n",
       "      <td>12</td>\n",
       "      <td>Panthers</td>\n",
       "      <td>Buccaneers</td>\n",
       "      <td>...</td>\n",
       "      <td>0</td>\n",
       "      <td>0</td>\n",
       "      <td>0</td>\n",
       "      <td>123.985043</td>\n",
       "      <td>2020</td>\n",
       "      <td>Regular</td>\n",
       "      <td>Grass</td>\n",
       "      <td>71.0</td>\n",
       "      <td>broken clouds</td>\n",
       "      <td>14.99</td>\n",
       "    </tr>\n",
       "    <tr>\n",
       "      <th>2175</th>\n",
       "      <td>30137</td>\n",
       "      <td>5372</td>\n",
       "      <td>2020</td>\n",
       "      <td>11</td>\n",
       "      <td>Brady</td>\n",
       "      <td>T</td>\n",
       "      <td>QB</td>\n",
       "      <td>12</td>\n",
       "      <td>Rams</td>\n",
       "      <td>Buccaneers</td>\n",
       "      <td>...</td>\n",
       "      <td>0</td>\n",
       "      <td>0</td>\n",
       "      <td>0</td>\n",
       "      <td>61.024306</td>\n",
       "      <td>2020</td>\n",
       "      <td>Regular</td>\n",
       "      <td>Grass</td>\n",
       "      <td>69.0</td>\n",
       "      <td>clear sky</td>\n",
       "      <td>5.00</td>\n",
       "    </tr>\n",
       "    <tr>\n",
       "      <th>2195</th>\n",
       "      <td>30473</td>\n",
       "      <td>5386</td>\n",
       "      <td>2020</td>\n",
       "      <td>12</td>\n",
       "      <td>Brady</td>\n",
       "      <td>T</td>\n",
       "      <td>QB</td>\n",
       "      <td>12</td>\n",
       "      <td>Chiefs</td>\n",
       "      <td>Buccaneers</td>\n",
       "      <td>...</td>\n",
       "      <td>0</td>\n",
       "      <td>0</td>\n",
       "      <td>0</td>\n",
       "      <td>96.087398</td>\n",
       "      <td>2020</td>\n",
       "      <td>Regular</td>\n",
       "      <td>Grass</td>\n",
       "      <td>81.0</td>\n",
       "      <td>clear sky</td>\n",
       "      <td>5.00</td>\n",
       "    </tr>\n",
       "    <tr>\n",
       "      <th>2236</th>\n",
       "      <td>31119</td>\n",
       "      <td>5412</td>\n",
       "      <td>2020</td>\n",
       "      <td>14</td>\n",
       "      <td>Brady</td>\n",
       "      <td>T</td>\n",
       "      <td>QB</td>\n",
       "      <td>12</td>\n",
       "      <td>Vikings</td>\n",
       "      <td>Buccaneers</td>\n",
       "      <td>...</td>\n",
       "      <td>0</td>\n",
       "      <td>0</td>\n",
       "      <td>0</td>\n",
       "      <td>120.923913</td>\n",
       "      <td>2020</td>\n",
       "      <td>Regular</td>\n",
       "      <td>Grass</td>\n",
       "      <td>79.0</td>\n",
       "      <td>broken clouds</td>\n",
       "      <td>8.05</td>\n",
       "    </tr>\n",
       "    <tr>\n",
       "      <th>2299</th>\n",
       "      <td>32169</td>\n",
       "      <td>5464</td>\n",
       "      <td>2020</td>\n",
       "      <td>17</td>\n",
       "      <td>Brady</td>\n",
       "      <td>T</td>\n",
       "      <td>QB</td>\n",
       "      <td>12</td>\n",
       "      <td>Falcons</td>\n",
       "      <td>Buccaneers</td>\n",
       "      <td>...</td>\n",
       "      <td>0</td>\n",
       "      <td>0</td>\n",
       "      <td>0</td>\n",
       "      <td>117.835366</td>\n",
       "      <td>2020</td>\n",
       "      <td>Regular</td>\n",
       "      <td>Grass</td>\n",
       "      <td>65.0</td>\n",
       "      <td>overcast clouds</td>\n",
       "      <td>5.82</td>\n",
       "    </tr>\n",
       "  </tbody>\n",
       "</table>\n",
       "<p>82 rows × 30 columns</p>\n",
       "</div>"
      ],
      "text/plain": [
       "      Unnamed: 0  gameId  season_x  week lastName firstName position  \\\n",
       "15           213    3588      2015     1    Brady         T       QB   \n",
       "41           547    3609      2015     2    Brady         T       QB   \n",
       "67           878    3626      2015     3    Brady         T       QB   \n",
       "152         2083    3684      2015     7    Brady         T       QB   \n",
       "172         2386    3693      2015     8    Brady         T       QB   \n",
       "...          ...     ...       ...   ...      ...       ...      ...   \n",
       "2157       29876    5347      2020    10    Brady         T       QB   \n",
       "2175       30137    5372      2020    11    Brady         T       QB   \n",
       "2195       30473    5386      2020    12    Brady         T       QB   \n",
       "2236       31119    5412      2020    14    Brady         T       QB   \n",
       "2299       32169    5464      2020    17    Brady         T       QB   \n",
       "\n",
       "      uniformNumber  opponent        team  ...  rec  recYds  recTds  \\\n",
       "15               12  Steelers    Patriots  ...    0       0       0   \n",
       "41               12     Bills    Patriots  ...    0       0       0   \n",
       "67               12   Jaguars    Patriots  ...    0       0       0   \n",
       "152              12      Jets    Patriots  ...    0       0       0   \n",
       "172              12  Dolphins    Patriots  ...    0       0       0   \n",
       "...             ...       ...         ...  ...  ...     ...     ...   \n",
       "2157             12  Panthers  Buccaneers  ...    0       0       0   \n",
       "2175             12      Rams  Buccaneers  ...    0       0       0   \n",
       "2195             12    Chiefs  Buccaneers  ...    0       0       0   \n",
       "2236             12   Vikings  Buccaneers  ...    0       0       0   \n",
       "2299             12   Falcons  Buccaneers  ...    0       0       0   \n",
       "\n",
       "       QB Rating  season_y     type  surface  temperature       conditions  \\\n",
       "15    146.354167      2015  Regular     Turf         64.9         overcast   \n",
       "41    105.387931      2015  Regular     Turf         64.9    mostly cloudy   \n",
       "67    118.948413      2015  Regular     Turf         73.0        clear sky   \n",
       "152    94.290123      2015  Regular     Turf         60.1         overcast   \n",
       "172   133.223684      2015  Regular     Turf         59.0        clear sky   \n",
       "...          ...       ...      ...      ...          ...              ...   \n",
       "2157  123.985043      2020  Regular    Grass         71.0    broken clouds   \n",
       "2175   61.024306      2020  Regular    Grass         69.0        clear sky   \n",
       "2195   96.087398      2020  Regular    Grass         81.0        clear sky   \n",
       "2236  120.923913      2020  Regular    Grass         79.0    broken clouds   \n",
       "2299  117.835366      2020  Regular    Grass         65.0  overcast clouds   \n",
       "\n",
       "      windSpeed  \n",
       "15         5.80  \n",
       "41         8.10  \n",
       "67         0.00  \n",
       "152        6.90  \n",
       "172       11.50  \n",
       "...         ...  \n",
       "2157      14.99  \n",
       "2175       5.00  \n",
       "2195       5.00  \n",
       "2236       8.05  \n",
       "2299       5.82  \n",
       "\n",
       "[82 rows x 30 columns]"
      ]
     },
     "execution_count": 90,
     "metadata": {},
     "output_type": "execute_result"
    }
   ],
   "source": [
    "tom_brady = QB_df.loc[QB_df['lastName'] == 'Brady']\n",
    "QB_df['Wind Category'] = pd.cut(QB_df['windSpeed'], bins, labels=group_labels)\n",
    "tom_brady"
   ]
  },
  {
   "cell_type": "code",
   "execution_count": 86,
   "metadata": {},
   "outputs": [
    {
     "data": {
      "text/plain": [
       "Wind Category\n",
       "0-5       99.396985\n",
       "6-10      99.059497\n",
       "11-15    102.667056\n",
       "16-20     94.094788\n",
       "21-25           NaN\n",
       "26-40           NaN\n",
       "Name: QB Rating, dtype: float64"
      ]
     },
     "execution_count": 86,
     "metadata": {},
     "output_type": "execute_result"
    }
   ],
   "source": [
    "tom_group = tom_brady.groupby('Wind Category')['QB Rating'].mean()\n",
    "tom_group"
   ]
  },
  {
   "cell_type": "code",
   "execution_count": 87,
   "metadata": {},
   "outputs": [
    {
     "data": {
      "text/html": [
       "<div>\n",
       "<style scoped>\n",
       "    .dataframe tbody tr th:only-of-type {\n",
       "        vertical-align: middle;\n",
       "    }\n",
       "\n",
       "    .dataframe tbody tr th {\n",
       "        vertical-align: top;\n",
       "    }\n",
       "\n",
       "    .dataframe thead th {\n",
       "        text-align: right;\n",
       "    }\n",
       "</style>\n",
       "<table border=\"1\" class=\"dataframe\">\n",
       "  <thead>\n",
       "    <tr style=\"text-align: right;\">\n",
       "      <th></th>\n",
       "      <th>Wind Category</th>\n",
       "      <th>QB Rating</th>\n",
       "    </tr>\n",
       "  </thead>\n",
       "  <tbody>\n",
       "    <tr>\n",
       "      <th>0</th>\n",
       "      <td>0-5</td>\n",
       "      <td>99.396985</td>\n",
       "    </tr>\n",
       "    <tr>\n",
       "      <th>1</th>\n",
       "      <td>6-10</td>\n",
       "      <td>99.059497</td>\n",
       "    </tr>\n",
       "    <tr>\n",
       "      <th>2</th>\n",
       "      <td>11-15</td>\n",
       "      <td>102.667056</td>\n",
       "    </tr>\n",
       "    <tr>\n",
       "      <th>3</th>\n",
       "      <td>16-20</td>\n",
       "      <td>94.094788</td>\n",
       "    </tr>\n",
       "    <tr>\n",
       "      <th>4</th>\n",
       "      <td>21-25</td>\n",
       "      <td>NaN</td>\n",
       "    </tr>\n",
       "    <tr>\n",
       "      <th>5</th>\n",
       "      <td>26-40</td>\n",
       "      <td>NaN</td>\n",
       "    </tr>\n",
       "  </tbody>\n",
       "</table>\n",
       "</div>"
      ],
      "text/plain": [
       "  Wind Category   QB Rating\n",
       "0           0-5   99.396985\n",
       "1          6-10   99.059497\n",
       "2         11-15  102.667056\n",
       "3         16-20   94.094788\n",
       "4         21-25         NaN\n",
       "5         26-40         NaN"
      ]
     },
     "execution_count": 87,
     "metadata": {},
     "output_type": "execute_result"
    }
   ],
   "source": [
    "pd.DataFrame(tom_group).reset_index()"
   ]
  },
  {
   "cell_type": "code",
   "execution_count": 97,
   "metadata": {},
   "outputs": [],
   "source": [
    "top_five=[\"Brady\", \"Rivers\", \"Rodgers\", \"Carr\", \"Wilson\"]\n",
    "top_QB_df= weather_QB_pd[weather_QB_pd.lastName.isin(top_five)].copy()"
   ]
  },
  {
   "cell_type": "code",
   "execution_count": 98,
   "metadata": {},
   "outputs": [
    {
     "data": {
      "image/png": "[encoded data removed]",
      "text/plain": [
       "<Figure size 432x288 with 1 Axes>"
      ]
     },
     "metadata": {
      "needs_background": "light"
     },
     "output_type": "display_data"
    }
   ],
   "source": [
    "fig, ax = plt.subplots()\n",
    "for qb_name,df_temp in top_QB_df.groupby(['lastName']):\n",
    "    \n",
    "    \n",
    "    temp_group = df_temp.groupby(['Wind Category'])['QB Rating'].mean()\n",
    "    ax = pd.DataFrame(temp_group).reset_index().plot(ax=ax, kind='line', x='Wind Category',y='QB Rating', label=qb_name)\n",
    "\n",
    "#x_axis = np.arange(len(\"Wind Category\"))    \n",
    "#tick_locations = [value for value in x_axis]\n",
    "\n",
    "#plt.xticks(tick_locations, group_labels)\n",
    "plt.legend()\n",
    "plt.show()"
   ]
  },
  {
   "cell_type": "code",
   "execution_count": 92,
   "metadata": {},
   "outputs": [
    {
     "data": {
      "image/png": "[encoded data removed]",
      "text/plain": [
       "<Figure size 432x288 with 1 Axes>"
      ]
     },
     "metadata": {
      "needs_background": "light"
     },
     "output_type": "display_data"
    }
   ],
   "source": [
    "fig, ax = plt.subplots()\n",
    "for qb_name,df_temp in top_QB_df.groupby(['lastName']):\n",
    "    if qb_name==\"Brady\":\n",
    "        color=\"b\"\n",
    "    else:\n",
    "        color=\"gray\"\n",
    "    \n",
    "    temp_group = df_temp.groupby(['Wind Category'])['QB Rating'].mean()\n",
    "    ax = pd.DataFrame(temp_group).reset_index().plot(ax=ax, kind='line', x='Wind Category',y='QB Rating',c=color, label=qb_name)\n",
    "\n",
    "#x_axis = np.arange(len(\"Wind Category\"))    \n",
    "#tick_locations = [value for value in x_axis]\n",
    "\n",
    "#plt.xticks(tick_locations, group_labels)\n",
    "plt.legend()\n",
    "plt.show()"
   ]
  },
  {
   "cell_type": "code",
   "execution_count": 93,
   "metadata": {},
   "outputs": [
    {
     "data": {
      "image/png": "[encoded data removed]",
      "text/plain": [
       "<Figure size 432x288 with 1 Axes>"
      ]
     },
     "metadata": {
      "needs_background": "light"
     },
     "output_type": "display_data"
    }
   ],
   "source": [
    "fig, ax = plt.subplots()\n",
    "for qb_name,df_temp in top_QB_df.groupby(['lastName']):\n",
    "    if qb_name==\"Carr\":\n",
    "        color=\"y\"\n",
    "    else:\n",
    "        color=\"gray\"\n",
    "    \n",
    "    temp_group = df_temp.groupby(['Wind Category'])['QB Rating'].mean()\n",
    "    ax = pd.DataFrame(temp_group).reset_index().plot(ax=ax, kind='line', x='Wind Category',y='QB Rating',c=color, label=qb_name)\n",
    "#xticks=\n",
    "plt.legend()\n",
    "plt.show()"
   ]
  },
  {
   "cell_type": "code",
   "execution_count": 94,
   "metadata": {},
   "outputs": [
    {
     "data": {
      "image/png": "[encoded data removed]",
      "text/plain": [
       "<Figure size 432x288 with 1 Axes>"
      ]
     },
     "metadata": {
      "needs_background": "light"
     },
     "output_type": "display_data"
    }
   ],
   "source": [
    "fig, ax = plt.subplots()\n",
    "for qb_name,df_temp in top_QB_df.groupby(['lastName']):\n",
    "    if qb_name==\"Rodgers\":\n",
    "        color=\"r\"\n",
    "    else:\n",
    "        color=\"gray\"\n",
    "    \n",
    "    temp_group = df_temp.groupby(['Wind Category'])['QB Rating'].mean()\n",
    "    ax = pd.DataFrame(temp_group).reset_index().plot(ax=ax, kind='line', x='Wind Category',y='QB Rating',c=color, label=qb_name)\n",
    "#xticks=\n",
    "ax.set_xlim(left=0, right=6)\n",
    "\n",
    "plt.legend()\n",
    "plt.show()"
   ]
  },
  {
   "cell_type": "code",
   "execution_count": 95,
   "metadata": {},
   "outputs": [
    {
     "data": {
      "image/png": "[encoded data removed]",
      "text/plain": [
       "<Figure size 432x288 with 1 Axes>"
      ]
     },
     "metadata": {
      "needs_background": "light"
     },
     "output_type": "display_data"
    }
   ],
   "source": [
    "fig, ax = plt.subplots()\n",
    "for qb_name,df_temp in top_QB_df.groupby(['lastName']):\n",
    "    if qb_name==\"Rivers\":\n",
    "        color=\"g\"\n",
    "    else:\n",
    "        color=\"gray\"\n",
    "    \n",
    "    temp_group = df_temp.groupby(['Wind Category'])['QB Rating'].mean()\n",
    "    ax = pd.DataFrame(temp_group).reset_index().plot(ax=ax, kind='line', x='Wind Category',y='QB Rating',c=color, label=qb_name)\n",
    "#xticks=\n",
    "plt.legend()\n",
    "plt.show()"
   ]
  },
  {
   "cell_type": "code",
   "execution_count": 96,
   "metadata": {},
   "outputs": [
    {
     "data": {
      "image/png": "[encoded data removed]",
      "text/plain": [
       "<Figure size 432x288 with 1 Axes>"
      ]
     },
     "metadata": {
      "needs_background": "light"
     },
     "output_type": "display_data"
    }
   ],
   "source": [
    "fig, ax = plt.subplots()\n",
    "for qb_name,df_temp in top_QB_df.groupby(['lastName']):\n",
    "    if qb_name==\"Wilson\":\n",
    "        color=\"m\"\n",
    "    else:\n",
    "        color=\"gray\"\n",
    "    \n",
    "    temp_group = df_temp.groupby(['Wind Category'])['QB Rating'].mean()\n",
    "    ax = pd.DataFrame(temp_group).reset_index().plot(ax=ax, kind='line', x='Wind Category',y='QB Rating',c=color, label=qb_name)\n",
    "#xticks=\n",
    "plt.legend()\n",
    "plt.show()"
   ]
  },
  {
   "cell_type": "code",
   "execution_count": null,
   "metadata": {},
   "outputs": [],
   "source": []
  },
  {
   "cell_type": "code",
   "execution_count": null,
   "metadata": {},
   "outputs": [],
   "source": [
    "QB_rating_condition_wind.loc[\"Wind Category\"]=pd.cut(QB_rating_condition_wind[\"windSpeed\"], bins, labels=group_labels)\n",
    "QB_rating_condition_wind.head()"
   ]
  },
  {
   "cell_type": "code",
   "execution_count": null,
   "metadata": {},
   "outputs": [],
   "source": [
    "windspeed_group_df= QB_rating_condition_wind.groupby(\"Wind Category\")\n",
    "print(windspeed_group_df[\"QB Rating\"].count())"
   ]
  },
  {
   "cell_type": "code",
   "execution_count": null,
   "metadata": {},
   "outputs": [],
   "source": [
    "windspeed_top5_df= QB_rating_condition_wind.groupby(\"Wind Category\")\n",
    "print(windspeed_top5_df[\"QB Rating\"].count())"
   ]
  },
  {
   "cell_type": "code",
   "execution_count": null,
   "metadata": {},
   "outputs": [],
   "source": [
    "plt.title(\"QB rating vs windspeed\")\n",
    "plt.xlabel(\"wind conditions\")\n",
    "plt.ylabel(\"QB player Rating\")\n",
    "plt.scatter(windspeed_group_df[\"Wind Category\"], windspeed_group_df[\"QB Rating\"], color='r')"
   ]
  },
  {
   "cell_type": "code",
   "execution_count": null,
   "metadata": {},
   "outputs": [],
   "source": [
    "QB_rating_condition_narrow = QB_rating_condition.query('conditions == \"clear sky\" or conditions == \"overcast clouds\" or conditions == \"light snow\" ')\n",
    "QB_rating_condition_narrow"
   ]
  },
  {
   "cell_type": "code",
   "execution_count": null,
   "metadata": {},
   "outputs": [],
   "source": [
    "x_axis_pd = QB_rating_condition_narrow[\"conditions\"]\n",
    "x_axis_pd "
   ]
  },
  {
   "cell_type": "code",
   "execution_count": null,
   "metadata": {},
   "outputs": [],
   "source": [
    "plt.title(\"QB rating vs weather conditions\")\n",
    "plt.xlabel(\"weather conditions\")\n",
    "plt.ylabel(\"QB player Rating\")\n",
    "plt.bar(QB_rating_condition_narrow[\"conditions\"], QB_rating_condition_narrow[\"QB Rating\"], color='b', alpha=0.5, align=\"center\")"
   ]
  },
  {
   "cell_type": "code",
   "execution_count": null,
   "metadata": {},
   "outputs": [],
   "source": [
    "x_axis_wind_speed = weather_QB_pd[\"windSpeed\"]\n",
    "x_axis_wind_speed\n",
    "y_axis_wind_speed = weather_QB_pd[\"QB Rating\"]\n",
    "plt.xlabel(\"wind speed\")\n",
    "plt.ylabel(\"QB player Rating\")\n",
    "plt.bar(x_axis_wind_speed, y_axis_wind_speed , color='b', alpha=0.5, align=\"center\")"
   ]
  },
  {
   "cell_type": "code",
   "execution_count": null,
   "metadata": {},
   "outputs": [],
   "source": [
    "QB_rating_temperature = weather_QB_pd[[\"QB Rating\", \"temperature\"]]\n",
    "\n",
    "#Remove Nan from dataSet\n",
    "QB_rating_temperature[\"temperature\"].value_counts()"
   ]
  },
  {
   "cell_type": "code",
   "execution_count": null,
   "metadata": {},
   "outputs": [],
   "source": [
    "QB_rating_temperature.dropna(inplace=True)"
   ]
  },
  {
   "cell_type": "code",
   "execution_count": null,
   "metadata": {},
   "outputs": [],
   "source": [
    "QB_rating_temperature\n"
   ]
  },
  {
   "cell_type": "code",
   "execution_count": null,
   "metadata": {},
   "outputs": [],
   "source": [
    "x_values= QB_rating_temperature[\"temperature\"]\n",
    "y_values= QB_rating_temperature[\"QB Rating\"]\n",
    "(slope, intercept, rvalue, pvalue, stderr) = linregress(x_values, y_values)\n",
    "regress_values = x_values * slope + intercept\n",
    "line_eq = \"y = \" + str(round(slope,2)) + \"x + \" + str(round(intercept,2))\n",
    "plt.scatter(x_values,y_values)\n",
    "\n",
    "plt.plot(x_values,regress_values,\"r-\")\n",
    "plt.annotate(line_eq,(10,20),fontsize=15,color=\"red\")\n",
    "plt.title(\"QB_rating' VS  Temperature\")\n",
    "plt.xlabel('temperature')\n",
    "plt.ylabel('QB Rating')\n",
    "plt.xlim(0,100)\n",
    "plt.ylim(0,200)\n",
    "plt.grid(True)\n",
    "plt.show()\n",
    "print(f\"The r-squared value is: {rvalue**2}\")\n",
    "print(f\"The p-value is : {p})\n"
   ]
  },
  {
   "cell_type": "code",
   "execution_count": null,
   "metadata": {},
   "outputs": [],
   "source": []
  },
  {
   "cell_type": "code",
   "execution_count": null,
   "metadata": {},
   "outputs": [],
   "source": [
    " QB_rating_temperature[\"QB Rating\"]"
   ]
  },
  {
   "cell_type": "code",
   "execution_count": null,
   "metadata": {},
   "outputs": [],
   "source": []
  },
  {
   "cell_type": "code",
   "execution_count": null,
   "metadata": {},
   "outputs": [],
   "source": []
  },
  {
   "cell_type": "code",
   "execution_count": null,
   "metadata": {},
   "outputs": [],
   "source": []
  },
  {
   "cell_type": "code",
   "execution_count": null,
   "metadata": {},
   "outputs": [],
   "source": []
  },
  {
   "cell_type": "code",
   "execution_count": null,
   "metadata": {},
   "outputs": [],
   "source": [
    "#Rain\n",
    "QB_rating_rain_df1 = weather_QB_pd.query('(conditions == \"rain rain \" or conditions == \"heavy intensity rain\") and lastName == \"Jackson\" ')\n",
    "\n",
    "QB_rating_rain_df1"
   ]
  },
  {
   "cell_type": "code",
   "execution_count": null,
   "metadata": {},
   "outputs": [],
   "source": []
  },
  {
   "cell_type": "code",
   "execution_count": null,
   "metadata": {},
   "outputs": [],
   "source": []
  },
  {
   "cell_type": "code",
   "execution_count": null,
   "metadata": {},
   "outputs": [],
   "source": [
    "QB_rating_rain_df2 = weather_QB_pd.query('conditions == \"heavy intensity rain\"')\n",
    "\n",
    "QB_rating_rain_df2"
   ]
  },
  {
   "cell_type": "code",
   "execution_count": null,
   "metadata": {},
   "outputs": [],
   "source": [
    "weather_QB_pd[[\"QB Rating\"]].describe"
   ]
  },
  {
   "cell_type": "code",
   "execution_count": null,
   "metadata": {},
   "outputs": [],
   "source": [
    "#weather data weather_QB_pd\n",
    "weather_QB_pd[[\"windSpeed\",\"temperature\",\"conditions\"]]"
   ]
  },
  {
   "cell_type": "code",
   "execution_count": null,
   "metadata": {},
   "outputs": [],
   "source": []
  },
  {
   "cell_type": "code",
   "execution_count": null,
   "metadata": {},
   "outputs": [],
   "source": []
  },
  {
   "cell_type": "code",
   "execution_count": null,
   "metadata": {},
   "outputs": [],
   "source": []
  },
  {
   "cell_type": "code",
   "execution_count": null,
   "metadata": {},
   "outputs": [],
   "source": []
  },
  {
   "cell_type": "code",
   "execution_count": null,
   "metadata": {},
   "outputs": [],
   "source": []
  },
  {
   "cell_type": "code",
   "execution_count": null,
   "metadata": {},
   "outputs": [],
   "source": []
  },
  {
   "cell_type": "code",
   "execution_count": null,
   "metadata": {},
   "outputs": [],
   "source": []
  },
  {
   "cell_type": "code",
   "execution_count": null,
   "metadata": {},
   "outputs": [],
   "source": []
  },
  {
   "cell_type": "code",
   "execution_count": null,
   "metadata": {},
   "outputs": [],
   "source": []
  },
  {
   "cell_type": "code",
   "execution_count": null,
   "metadata": {},
   "outputs": [],
   "source": []
  },
  {
   "cell_type": "code",
   "execution_count": null,
   "metadata": {},
   "outputs": [],
   "source": []
  },
  {
   "cell_type": "code",
   "execution_count": null,
   "metadata": {},
   "outputs": [],
   "source": []
  },
  {
   "cell_type": "code",
   "execution_count": null,
   "metadata": {},
   "outputs": [],
   "source": []
  },
  {
   "cell_type": "code",
   "execution_count": null,
   "metadata": {},
   "outputs": [],
   "source": []
  },
  {
   "cell_type": "code",
   "execution_count": null,
   "metadata": {},
   "outputs": [],
   "source": [
    "\n"
   ]
  },
  {
   "cell_type": "code",
   "execution_count": null,
   "metadata": {},
   "outputs": [],
   "source": []
  },
  {
   "cell_type": "code",
   "execution_count": null,
   "metadata": {},
   "outputs": [],
   "source": []
  },
  {
   "cell_type": "code",
   "execution_count": null,
   "metadata": {},
   "outputs": [],
   "source": []
  },
  {
   "cell_type": "code",
   "execution_count": null,
   "metadata": {},
   "outputs": [],
   "source": []
  },
  {
   "cell_type": "code",
   "execution_count": null,
   "metadata": {},
   "outputs": [],
   "source": []
  },
  {
   "cell_type": "code",
   "execution_count": null,
   "metadata": {},
   "outputs": [],
   "source": []
  },
  {
   "cell_type": "code",
   "execution_count": null,
   "metadata": {},
   "outputs": [],
   "source": []
  },
  {
   "cell_type": "code",
   "execution_count": null,
   "metadata": {},
   "outputs": [],
   "source": []
  },
  {
   "cell_type": "code",
   "execution_count": null,
   "metadata": {},
   "outputs": [],
   "source": []
  },
  {
   "cell_type": "code",
   "execution_count": null,
   "metadata": {},
   "outputs": [],
   "source": []
  }
 ],
 "metadata": {
  "kernelspec": {
   "display_name": "Python 3",
   "language": "python",
   "name": "python3"
  },
  "language_info": {
   "codemirror_mode": {
    "name": "ipython",
    "version": 3
   },
   "file_extension": ".py",
   "mimetype": "text/x-python",
   "name": "python",
   "nbconvert_exporter": "python",
   "pygments_lexer": "ipython3",
   "version": "3.8.5"
  },
  "latex_envs": {
   "LaTeX_envs_menu_present": true,
   "autoclose": false,
   "autocomplete": true,
   "bibliofile": "biblio.bib",
   "cite_by": "apalike",
   "current_citInitial": 1,
   "eqLabelWithNumbers": true,
   "eqNumInitial": 1,
   "hotkeys": {
    "equation": "Ctrl-E",
    "itemize": "Ctrl-I"
   },
   "labels_anchors": false,
   "latex_user_defs": false,
   "report_style_numbering": false,
   "user_envs_cfg": false
  }
 },
 "nbformat": 4,
 "nbformat_minor": 4
}
