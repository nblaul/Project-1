{
 "cells": [
  {
   "cell_type": "code",
   "execution_count": 210,
   "metadata": {},
   "outputs": [],
   "source": [
    "# Dependencies and Setup\n",
    "import matplotlib.pyplot as plt\n",
    "import pandas as pd\n",
    "import numpy as np\n",
    "import requests\n",
    "import gmaps\n",
    "import os\n",
    "import time\n",
    "import scipy.stats as sts\n",
    "from scipy.stats import linregress\n",
    "from matplotlib import pyplot as plt\n",
    "import json\n",
    "from pprint import pprint\n",
    "pd.options.display.max_rows = 500 "
   ]
  },
  {
   "cell_type": "code",
   "execution_count": 52,
   "metadata": {},
   "outputs": [],
   "source": [
    "path_stats_file = \"data_resources/QB Stats and Weather Data.csv\"\n",
    "QB_df = pd.read_csv(path_stats_file)"
   ]
  },
  {
   "cell_type": "code",
   "execution_count": 53,
   "metadata": {},
   "outputs": [],
   "source": [
    "qb_df = pd.read_csv(path_stats_file)"
   ]
  },
  {
   "cell_type": "code",
   "execution_count": 4,
   "metadata": {},
   "outputs": [
    {
     "data": {
      "text/plain": [
       "clear sky               786\n",
       "overcast                392\n",
       "mostly cloudy           227\n",
       "partly cloudy           219\n",
       "scattered clouds        138\n",
       "overcast clouds         120\n",
       "broken clouds            95\n",
       "light rain               83\n",
       "few clouds               61\n",
       "rain                     57\n",
       "moderate rain            33\n",
       "cloudy                   33\n",
       "haze                     22\n",
       "light snow               16\n",
       "snow                      8\n",
       "mist                      6\n",
       "heavy intensity rain      4\n",
       "chance rain               4\n",
       "breeze                    2\n",
       "cold                      2\n",
       "thunderstorm              2\n",
       "very heavy rain           2\n",
       "shower rain               2\n",
       "fog                       2\n",
       "heavy rain                2\n",
       "Name: conditions, dtype: int64"
      ]
     },
     "execution_count": 4,
     "metadata": {},
     "output_type": "execute_result"
    }
   ],
   "source": [
    "#value_counts on conditions\n",
    "QB_conditions = QB_df[[\"QB Rating\", \"conditions\"]]\n",
    "QB_conditions[\"conditions\"].value_counts()"
   ]
  },
  {
   "cell_type": "code",
   "execution_count": 5,
   "metadata": {},
   "outputs": [
    {
     "data": {
      "text/plain": [
       "39.15"
      ]
     },
     "execution_count": 5,
     "metadata": {},
     "output_type": "execute_result"
    }
   ],
   "source": [
    "#Wind speed stats\n",
    "QB_wind = QB_df[[\"QB Rating\", \"windSpeed\"]]\n",
    "QB_wind[\"windSpeed\"].max()"
   ]
  },
  {
   "cell_type": "code",
   "execution_count": 6,
   "metadata": {},
   "outputs": [
    {
     "data": {
      "text/plain": [
       "0.0"
      ]
     },
     "execution_count": 6,
     "metadata": {},
     "output_type": "execute_result"
    }
   ],
   "source": [
    "QB_wind[\"windSpeed\"].min()"
   ]
  },
  {
   "cell_type": "code",
   "execution_count": 7,
   "metadata": {},
   "outputs": [
    {
     "data": {
      "text/plain": [
       "8.022395157803778"
      ]
     },
     "execution_count": 7,
     "metadata": {},
     "output_type": "execute_result"
    }
   ],
   "source": [
    "QB_wind[\"windSpeed\"].mean()"
   ]
  },
  {
   "cell_type": "code",
   "execution_count": 8,
   "metadata": {},
   "outputs": [
    {
     "data": {
      "text/plain": [
       "7.0"
      ]
     },
     "execution_count": 8,
     "metadata": {},
     "output_type": "execute_result"
    }
   ],
   "source": [
    "QB_wind[\"windSpeed\"].median()"
   ]
  },
  {
   "cell_type": "code",
   "execution_count": 9,
   "metadata": {},
   "outputs": [
    {
     "data": {
      "text/plain": [
       "11"
      ]
     },
     "execution_count": 9,
     "metadata": {},
     "output_type": "execute_result"
    }
   ],
   "source": [
    "#high wind (>25)\n",
    "QB_highwinds = QB_df[[\"QB Rating\", \"windSpeed\"]]\n",
    "QB_highwinds = QB_df.query('windSpeed > 25')\n",
    "QB_highwinds[\"windSpeed\"].count()\n"
   ]
  },
  {
   "cell_type": "code",
   "execution_count": 10,
   "metadata": {},
   "outputs": [
    {
     "data": {
      "text/plain": [
       "125.61274509803921"
      ]
     },
     "execution_count": 10,
     "metadata": {},
     "output_type": "execute_result"
    }
   ],
   "source": [
    "QB_highwinds[\"QB Rating\"].max()"
   ]
  },
  {
   "cell_type": "code",
   "execution_count": 11,
   "metadata": {},
   "outputs": [
    {
     "data": {
      "text/plain": [
       "52.08333333333334"
      ]
     },
     "execution_count": 11,
     "metadata": {},
     "output_type": "execute_result"
    }
   ],
   "source": [
    "QB_highwinds[\"QB Rating\"].min()"
   ]
  },
  {
   "cell_type": "code",
   "execution_count": 12,
   "metadata": {},
   "outputs": [
    {
     "data": {
      "text/plain": [
       "85.10456884008579"
      ]
     },
     "execution_count": 12,
     "metadata": {},
     "output_type": "execute_result"
    }
   ],
   "source": [
    "QB_highwinds[\"QB Rating\"].mean()"
   ]
  },
  {
   "cell_type": "code",
   "execution_count": 13,
   "metadata": {},
   "outputs": [
    {
     "data": {
      "text/plain": [
       "79.73484848484848"
      ]
     },
     "execution_count": 13,
     "metadata": {},
     "output_type": "execute_result"
    }
   ],
   "source": [
    "QB_highwinds[\"QB Rating\"].median()"
   ]
  },
  {
   "cell_type": "code",
   "execution_count": 14,
   "metadata": {},
   "outputs": [
    {
     "data": {
      "text/plain": [
       "QB Rating   conditions          \n",
       "110.218254  heavy intensity rain    1\n",
       "97.537879   heavy rain              1\n",
       "91.388889   thunderstorm            1\n",
       "91.319444   heavy intensity rain    1\n",
       "87.916667   very heavy rain         1\n",
       "86.322464   heavy intensity rain    1\n",
       "79.583333   thunderstorm            1\n",
       "77.840909   very heavy rain         1\n",
       "59.821429   heavy intensity rain    1\n",
       "57.025194   heavy rain              1\n",
       "dtype: int64"
      ]
     },
     "execution_count": 14,
     "metadata": {},
     "output_type": "execute_result"
    }
   ],
   "source": [
    "#value_counts on heavy rain\n",
    "QB_heavyrain = QB_df[[\"QB Rating\", \"conditions\"]]\n",
    "QB_heavyrain = QB_heavyrain.query('conditions == \"heavy intensity rain\" or conditions == \"very heavy rain\"or conditions == \"heavy rain\"  or  conditions == \"thunderstorm\" ')\n",
    "QB_heavyrain.value_counts()\n"
   ]
  },
  {
   "cell_type": "code",
   "execution_count": 265,
   "metadata": {},
   "outputs": [
    {
     "data": {
      "text/plain": [
       "QB Rating    81.432648\n",
       "dtype: float64"
      ]
     },
     "execution_count": 265,
     "metadata": {},
     "output_type": "execute_result"
    }
   ],
   "source": [
    "#value_counts on heavy rain\n",
    "QB_precip = QB_df[[\"lastName\", \"QB Rating\", \"conditions\"]]\n",
    "QB_precip = QB_precip.query('conditions == \"snow\" or conditions == \"light snow\" or conditions == \"shower rain\" or conditions == \"moderate rain\" or conditions == \"mist\" or conditions == \"rain\" or conditions == \"heavy intensity rain\" or conditions == \"very heavy rain\"or conditions == \"heavy rain\"  or  conditions == \"thunderstorm\" ')\n",
    "QB_precip.mean()"
   ]
  },
  {
   "cell_type": "code",
   "execution_count": 266,
   "metadata": {},
   "outputs": [
    {
     "data": {
      "text/html": [
       "<div>\n",
       "<style scoped>\n",
       "    .dataframe tbody tr th:only-of-type {\n",
       "        vertical-align: middle;\n",
       "    }\n",
       "\n",
       "    .dataframe tbody tr th {\n",
       "        vertical-align: top;\n",
       "    }\n",
       "\n",
       "    .dataframe thead th {\n",
       "        text-align: right;\n",
       "    }\n",
       "</style>\n",
       "<table border=\"1\" class=\"dataframe\">\n",
       "  <thead>\n",
       "    <tr style=\"text-align: right;\">\n",
       "      <th></th>\n",
       "      <th>lastName</th>\n",
       "      <th>QB Rating</th>\n",
       "      <th>conditions</th>\n",
       "    </tr>\n",
       "  </thead>\n",
       "  <tbody>\n",
       "    <tr>\n",
       "      <th>81</th>\n",
       "      <td>Winston</td>\n",
       "      <td>57.025194</td>\n",
       "      <td>heavy rain</td>\n",
       "    </tr>\n",
       "    <tr>\n",
       "      <th>90</th>\n",
       "      <td>Newton</td>\n",
       "      <td>97.537879</td>\n",
       "      <td>heavy rain</td>\n",
       "    </tr>\n",
       "    <tr>\n",
       "      <th>166</th>\n",
       "      <td>Luck</td>\n",
       "      <td>50.930851</td>\n",
       "      <td>rain</td>\n",
       "    </tr>\n",
       "    <tr>\n",
       "      <th>171</th>\n",
       "      <td>Newton</td>\n",
       "      <td>76.845238</td>\n",
       "      <td>rain</td>\n",
       "    </tr>\n",
       "    <tr>\n",
       "      <th>250</th>\n",
       "      <td>Osweiler</td>\n",
       "      <td>72.519841</td>\n",
       "      <td>light snow</td>\n",
       "    </tr>\n",
       "    <tr>\n",
       "      <th>261</th>\n",
       "      <td>Brady</td>\n",
       "      <td>99.305556</td>\n",
       "      <td>light snow</td>\n",
       "    </tr>\n",
       "    <tr>\n",
       "      <th>262</th>\n",
       "      <td>Carr</td>\n",
       "      <td>116.272523</td>\n",
       "      <td>rain</td>\n",
       "    </tr>\n",
       "    <tr>\n",
       "      <th>267</th>\n",
       "      <td>Mariota</td>\n",
       "      <td>69.425676</td>\n",
       "      <td>rain</td>\n",
       "    </tr>\n",
       "    <tr>\n",
       "      <th>296</th>\n",
       "      <td>Cutler</td>\n",
       "      <td>117.002688</td>\n",
       "      <td>rain</td>\n",
       "    </tr>\n",
       "    <tr>\n",
       "      <th>320</th>\n",
       "      <td>Cousins</td>\n",
       "      <td>104.233871</td>\n",
       "      <td>rain</td>\n",
       "    </tr>\n",
       "    <tr>\n",
       "      <th>347</th>\n",
       "      <td>Taylor</td>\n",
       "      <td>80.555556</td>\n",
       "      <td>light snow</td>\n",
       "    </tr>\n",
       "    <tr>\n",
       "      <th>372</th>\n",
       "      <td>Taylor</td>\n",
       "      <td>82.738095</td>\n",
       "      <td>light snow</td>\n",
       "    </tr>\n",
       "    <tr>\n",
       "      <th>382</th>\n",
       "      <td>Fitzpatrick</td>\n",
       "      <td>42.736486</td>\n",
       "      <td>light snow</td>\n",
       "    </tr>\n",
       "    <tr>\n",
       "      <th>626</th>\n",
       "      <td>McCown</td>\n",
       "      <td>75.848765</td>\n",
       "      <td>light snow</td>\n",
       "    </tr>\n",
       "    <tr>\n",
       "      <th>627</th>\n",
       "      <td>Kessler</td>\n",
       "      <td>52.083333</td>\n",
       "      <td>light snow</td>\n",
       "    </tr>\n",
       "    <tr>\n",
       "      <th>631</th>\n",
       "      <td>Tannehill</td>\n",
       "      <td>89.338235</td>\n",
       "      <td>rain</td>\n",
       "    </tr>\n",
       "    <tr>\n",
       "      <th>638</th>\n",
       "      <td>Goff</td>\n",
       "      <td>65.793011</td>\n",
       "      <td>rain</td>\n",
       "    </tr>\n",
       "    <tr>\n",
       "      <th>642</th>\n",
       "      <td>Roethlisberger</td>\n",
       "      <td>74.652778</td>\n",
       "      <td>light snow</td>\n",
       "    </tr>\n",
       "    <tr>\n",
       "      <th>665</th>\n",
       "      <td>Gabbert</td>\n",
       "      <td>50.000000</td>\n",
       "      <td>snow</td>\n",
       "    </tr>\n",
       "    <tr>\n",
       "      <th>666</th>\n",
       "      <td>Barkley</td>\n",
       "      <td>97.453704</td>\n",
       "      <td>snow</td>\n",
       "    </tr>\n",
       "    <tr>\n",
       "      <th>679</th>\n",
       "      <td>Rodgers</td>\n",
       "      <td>108.888889</td>\n",
       "      <td>light snow</td>\n",
       "    </tr>\n",
       "    <tr>\n",
       "      <th>687</th>\n",
       "      <td>Osweiler</td>\n",
       "      <td>97.559524</td>\n",
       "      <td>light snow</td>\n",
       "    </tr>\n",
       "    <tr>\n",
       "      <th>690</th>\n",
       "      <td>Taylor</td>\n",
       "      <td>100.083333</td>\n",
       "      <td>light snow</td>\n",
       "    </tr>\n",
       "    <tr>\n",
       "      <th>712</th>\n",
       "      <td>Roethlisberger</td>\n",
       "      <td>37.768817</td>\n",
       "      <td>light snow</td>\n",
       "    </tr>\n",
       "    <tr>\n",
       "      <th>894</th>\n",
       "      <td>Palmer</td>\n",
       "      <td>90.246212</td>\n",
       "      <td>shower rain</td>\n",
       "    </tr>\n",
       "    <tr>\n",
       "      <th>897</th>\n",
       "      <td>Wentz</td>\n",
       "      <td>128.333333</td>\n",
       "      <td>shower rain</td>\n",
       "    </tr>\n",
       "    <tr>\n",
       "      <th>936</th>\n",
       "      <td>Palmer</td>\n",
       "      <td>53.472222</td>\n",
       "      <td>rain</td>\n",
       "    </tr>\n",
       "    <tr>\n",
       "      <th>937</th>\n",
       "      <td>Stanton</td>\n",
       "      <td>21.726190</td>\n",
       "      <td>rain</td>\n",
       "    </tr>\n",
       "    <tr>\n",
       "      <th>947</th>\n",
       "      <td>Hundley</td>\n",
       "      <td>39.916667</td>\n",
       "      <td>rain</td>\n",
       "    </tr>\n",
       "    <tr>\n",
       "      <th>951</th>\n",
       "      <td>Goff</td>\n",
       "      <td>75.844595</td>\n",
       "      <td>rain</td>\n",
       "    </tr>\n",
       "    <tr>\n",
       "      <th>952</th>\n",
       "      <td>Brees</td>\n",
       "      <td>84.429825</td>\n",
       "      <td>rain</td>\n",
       "    </tr>\n",
       "    <tr>\n",
       "      <th>957</th>\n",
       "      <td>Beathard</td>\n",
       "      <td>46.875000</td>\n",
       "      <td>rain</td>\n",
       "    </tr>\n",
       "    <tr>\n",
       "      <th>959</th>\n",
       "      <td>Taylor</td>\n",
       "      <td>101.620370</td>\n",
       "      <td>rain</td>\n",
       "    </tr>\n",
       "    <tr>\n",
       "      <th>962</th>\n",
       "      <td>Rivers</td>\n",
       "      <td>75.972222</td>\n",
       "      <td>rain</td>\n",
       "    </tr>\n",
       "    <tr>\n",
       "      <th>965</th>\n",
       "      <td>Prescott</td>\n",
       "      <td>82.196970</td>\n",
       "      <td>rain</td>\n",
       "    </tr>\n",
       "    <tr>\n",
       "      <th>967</th>\n",
       "      <td>Wentz</td>\n",
       "      <td>84.244792</td>\n",
       "      <td>rain</td>\n",
       "    </tr>\n",
       "    <tr>\n",
       "      <th>968</th>\n",
       "      <td>Ryan</td>\n",
       "      <td>113.290230</td>\n",
       "      <td>rain</td>\n",
       "    </tr>\n",
       "    <tr>\n",
       "      <th>969</th>\n",
       "      <td>McCown</td>\n",
       "      <td>119.318182</td>\n",
       "      <td>rain</td>\n",
       "    </tr>\n",
       "    <tr>\n",
       "      <th>971</th>\n",
       "      <td>Brady</td>\n",
       "      <td>95.434397</td>\n",
       "      <td>rain</td>\n",
       "    </tr>\n",
       "    <tr>\n",
       "      <th>972</th>\n",
       "      <td>Carr</td>\n",
       "      <td>71.215986</td>\n",
       "      <td>rain</td>\n",
       "    </tr>\n",
       "    <tr>\n",
       "      <th>976</th>\n",
       "      <td>Cousins</td>\n",
       "      <td>83.600427</td>\n",
       "      <td>rain</td>\n",
       "    </tr>\n",
       "    <tr>\n",
       "      <th>994</th>\n",
       "      <td>Wilson</td>\n",
       "      <td>70.324074</td>\n",
       "      <td>rain</td>\n",
       "    </tr>\n",
       "    <tr>\n",
       "      <th>996</th>\n",
       "      <td>Cousins</td>\n",
       "      <td>91.733871</td>\n",
       "      <td>rain</td>\n",
       "    </tr>\n",
       "    <tr>\n",
       "      <th>1090</th>\n",
       "      <td>Peterman</td>\n",
       "      <td>100.833333</td>\n",
       "      <td>snow</td>\n",
       "    </tr>\n",
       "    <tr>\n",
       "      <th>1096</th>\n",
       "      <td>Brissett</td>\n",
       "      <td>71.969697</td>\n",
       "      <td>snow</td>\n",
       "    </tr>\n",
       "    <tr>\n",
       "      <th>1140</th>\n",
       "      <td>Trubisky</td>\n",
       "      <td>87.771739</td>\n",
       "      <td>light snow</td>\n",
       "    </tr>\n",
       "    <tr>\n",
       "      <th>1144</th>\n",
       "      <td>Kizer</td>\n",
       "      <td>41.666667</td>\n",
       "      <td>light snow</td>\n",
       "    </tr>\n",
       "    <tr>\n",
       "      <th>1167</th>\n",
       "      <td>Kizer</td>\n",
       "      <td>98.472222</td>\n",
       "      <td>snow</td>\n",
       "    </tr>\n",
       "    <tr>\n",
       "      <th>1185</th>\n",
       "      <td>Jones</td>\n",
       "      <td>100.462963</td>\n",
       "      <td>snow</td>\n",
       "    </tr>\n",
       "    <tr>\n",
       "      <th>1189</th>\n",
       "      <td>Allen</td>\n",
       "      <td>55.972222</td>\n",
       "      <td>rain</td>\n",
       "    </tr>\n",
       "    <tr>\n",
       "      <th>1190</th>\n",
       "      <td>Peterman</td>\n",
       "      <td>0.000000</td>\n",
       "      <td>rain</td>\n",
       "    </tr>\n",
       "    <tr>\n",
       "      <th>1192</th>\n",
       "      <td>Taylor</td>\n",
       "      <td>51.770833</td>\n",
       "      <td>rain</td>\n",
       "    </tr>\n",
       "    <tr>\n",
       "      <th>1196</th>\n",
       "      <td>Tannehill</td>\n",
       "      <td>89.880952</td>\n",
       "      <td>rain</td>\n",
       "    </tr>\n",
       "    <tr>\n",
       "      <th>1199</th>\n",
       "      <td>Manning</td>\n",
       "      <td>67.849099</td>\n",
       "      <td>rain</td>\n",
       "    </tr>\n",
       "    <tr>\n",
       "      <th>1200</th>\n",
       "      <td>Bortles</td>\n",
       "      <td>67.234848</td>\n",
       "      <td>rain</td>\n",
       "    </tr>\n",
       "    <tr>\n",
       "      <th>1206</th>\n",
       "      <td>Flacco</td>\n",
       "      <td>121.691176</td>\n",
       "      <td>rain</td>\n",
       "    </tr>\n",
       "    <tr>\n",
       "      <th>1208</th>\n",
       "      <td>Roethlisberger</td>\n",
       "      <td>60.518293</td>\n",
       "      <td>rain</td>\n",
       "    </tr>\n",
       "    <tr>\n",
       "      <th>1210</th>\n",
       "      <td>Gabbert</td>\n",
       "      <td>46.969697</td>\n",
       "      <td>rain</td>\n",
       "    </tr>\n",
       "    <tr>\n",
       "      <th>1211</th>\n",
       "      <td>Mariota</td>\n",
       "      <td>36.197917</td>\n",
       "      <td>rain</td>\n",
       "    </tr>\n",
       "    <tr>\n",
       "      <th>1246</th>\n",
       "      <td>Luck</td>\n",
       "      <td>79.583333</td>\n",
       "      <td>rain</td>\n",
       "    </tr>\n",
       "    <tr>\n",
       "      <th>1249</th>\n",
       "      <td>Wentz</td>\n",
       "      <td>84.853604</td>\n",
       "      <td>rain</td>\n",
       "    </tr>\n",
       "    <tr>\n",
       "      <th>1252</th>\n",
       "      <td>Rodgers</td>\n",
       "      <td>93.465909</td>\n",
       "      <td>rain</td>\n",
       "    </tr>\n",
       "    <tr>\n",
       "      <th>1260</th>\n",
       "      <td>Smith</td>\n",
       "      <td>110.416667</td>\n",
       "      <td>rain</td>\n",
       "    </tr>\n",
       "    <tr>\n",
       "      <th>1302</th>\n",
       "      <td>Goff</td>\n",
       "      <td>88.151042</td>\n",
       "      <td>rain</td>\n",
       "    </tr>\n",
       "    <tr>\n",
       "      <th>1304</th>\n",
       "      <td>Wilson</td>\n",
       "      <td>132.539683</td>\n",
       "      <td>rain</td>\n",
       "    </tr>\n",
       "    <tr>\n",
       "      <th>1325</th>\n",
       "      <td>Flacco</td>\n",
       "      <td>82.939189</td>\n",
       "      <td>rain</td>\n",
       "    </tr>\n",
       "    <tr>\n",
       "      <th>1328</th>\n",
       "      <td>Mariota</td>\n",
       "      <td>90.138889</td>\n",
       "      <td>rain</td>\n",
       "    </tr>\n",
       "    <tr>\n",
       "      <th>1463</th>\n",
       "      <td>Rosen</td>\n",
       "      <td>61.217949</td>\n",
       "      <td>snow</td>\n",
       "    </tr>\n",
       "    <tr>\n",
       "      <th>1472</th>\n",
       "      <td>Rodgers</td>\n",
       "      <td>79.833333</td>\n",
       "      <td>snow</td>\n",
       "    </tr>\n",
       "    <tr>\n",
       "      <th>1511</th>\n",
       "      <td>Allen</td>\n",
       "      <td>89.262821</td>\n",
       "      <td>rain</td>\n",
       "    </tr>\n",
       "    <tr>\n",
       "      <th>1514</th>\n",
       "      <td>Winston</td>\n",
       "      <td>54.916667</td>\n",
       "      <td>rain</td>\n",
       "    </tr>\n",
       "    <tr>\n",
       "      <th>1518</th>\n",
       "      <td>Manning</td>\n",
       "      <td>54.071970</td>\n",
       "      <td>rain</td>\n",
       "    </tr>\n",
       "    <tr>\n",
       "      <th>1521</th>\n",
       "      <td>Stafford</td>\n",
       "      <td>106.681034</td>\n",
       "      <td>rain</td>\n",
       "    </tr>\n",
       "    <tr>\n",
       "      <th>1527</th>\n",
       "      <td>Jackson</td>\n",
       "      <td>91.032609</td>\n",
       "      <td>rain</td>\n",
       "    </tr>\n",
       "    <tr>\n",
       "      <th>1532</th>\n",
       "      <td>Mariota</td>\n",
       "      <td>70.416667</td>\n",
       "      <td>rain</td>\n",
       "    </tr>\n",
       "    <tr>\n",
       "      <th>1538</th>\n",
       "      <td>Keenum</td>\n",
       "      <td>72.128378</td>\n",
       "      <td>rain</td>\n",
       "    </tr>\n",
       "    <tr>\n",
       "      <th>1550</th>\n",
       "      <td>Carr</td>\n",
       "      <td>89.743590</td>\n",
       "      <td>rain</td>\n",
       "    </tr>\n",
       "    <tr>\n",
       "      <th>1613</th>\n",
       "      <td>Winston</td>\n",
       "      <td>103.416667</td>\n",
       "      <td>moderate rain</td>\n",
       "    </tr>\n",
       "    <tr>\n",
       "      <th>1623</th>\n",
       "      <td>Newton</td>\n",
       "      <td>70.138889</td>\n",
       "      <td>moderate rain</td>\n",
       "    </tr>\n",
       "    <tr>\n",
       "      <th>1639</th>\n",
       "      <td>Flacco</td>\n",
       "      <td>75.790230</td>\n",
       "      <td>moderate rain</td>\n",
       "    </tr>\n",
       "    <tr>\n",
       "      <th>1645</th>\n",
       "      <td>Minshew</td>\n",
       "      <td>108.194444</td>\n",
       "      <td>moderate rain</td>\n",
       "    </tr>\n",
       "    <tr>\n",
       "      <th>1648</th>\n",
       "      <td>Rodgers</td>\n",
       "      <td>96.192529</td>\n",
       "      <td>moderate rain</td>\n",
       "    </tr>\n",
       "    <tr>\n",
       "      <th>1656</th>\n",
       "      <td>Mariota</td>\n",
       "      <td>81.666667</td>\n",
       "      <td>moderate rain</td>\n",
       "    </tr>\n",
       "    <tr>\n",
       "      <th>1658</th>\n",
       "      <td>Daniel</td>\n",
       "      <td>101.388889</td>\n",
       "      <td>mist</td>\n",
       "    </tr>\n",
       "    <tr>\n",
       "      <th>1674</th>\n",
       "      <td>Cousins</td>\n",
       "      <td>91.550926</td>\n",
       "      <td>mist</td>\n",
       "    </tr>\n",
       "    <tr>\n",
       "      <th>1705</th>\n",
       "      <td>Rivers</td>\n",
       "      <td>77.840909</td>\n",
       "      <td>very heavy rain</td>\n",
       "    </tr>\n",
       "    <tr>\n",
       "      <th>1720</th>\n",
       "      <td>Hodges</td>\n",
       "      <td>87.916667</td>\n",
       "      <td>very heavy rain</td>\n",
       "    </tr>\n",
       "    <tr>\n",
       "      <th>1725</th>\n",
       "      <td>Garoppolo</td>\n",
       "      <td>59.821429</td>\n",
       "      <td>heavy intensity rain</td>\n",
       "    </tr>\n",
       "    <tr>\n",
       "      <th>1730</th>\n",
       "      <td>Murray</td>\n",
       "      <td>78.273810</td>\n",
       "      <td>moderate rain</td>\n",
       "    </tr>\n",
       "    <tr>\n",
       "      <th>1740</th>\n",
       "      <td>Jackson</td>\n",
       "      <td>69.375000</td>\n",
       "      <td>rain</td>\n",
       "    </tr>\n",
       "    <tr>\n",
       "      <th>1742</th>\n",
       "      <td>Wilson</td>\n",
       "      <td>65.193089</td>\n",
       "      <td>rain</td>\n",
       "    </tr>\n",
       "    <tr>\n",
       "      <th>1744</th>\n",
       "      <td>Keenum</td>\n",
       "      <td>91.319444</td>\n",
       "      <td>heavy intensity rain</td>\n",
       "    </tr>\n",
       "    <tr>\n",
       "      <th>1749</th>\n",
       "      <td>Mayfield</td>\n",
       "      <td>79.233871</td>\n",
       "      <td>moderate rain</td>\n",
       "    </tr>\n",
       "    <tr>\n",
       "      <th>1759</th>\n",
       "      <td>Brady</td>\n",
       "      <td>96.875000</td>\n",
       "      <td>moderate rain</td>\n",
       "    </tr>\n",
       "    <tr>\n",
       "      <th>1835</th>\n",
       "      <td>Prescott</td>\n",
       "      <td>64.204545</td>\n",
       "      <td>rain</td>\n",
       "    </tr>\n",
       "    <tr>\n",
       "      <th>1840</th>\n",
       "      <td>Driskel</td>\n",
       "      <td>50.946970</td>\n",
       "      <td>moderate rain</td>\n",
       "    </tr>\n",
       "    <tr>\n",
       "      <th>1842</th>\n",
       "      <td>Brady</td>\n",
       "      <td>70.777027</td>\n",
       "      <td>rain</td>\n",
       "    </tr>\n",
       "    <tr>\n",
       "      <th>1850</th>\n",
       "      <td>Haskins</td>\n",
       "      <td>47.485632</td>\n",
       "      <td>moderate rain</td>\n",
       "    </tr>\n",
       "    <tr>\n",
       "      <th>1851</th>\n",
       "      <td>Garoppolo</td>\n",
       "      <td>110.218254</td>\n",
       "      <td>heavy intensity rain</td>\n",
       "    </tr>\n",
       "    <tr>\n",
       "      <th>1863</th>\n",
       "      <td>Rodgers</td>\n",
       "      <td>125.378788</td>\n",
       "      <td>moderate rain</td>\n",
       "    </tr>\n",
       "    <tr>\n",
       "      <th>1866</th>\n",
       "      <td>Jackson</td>\n",
       "      <td>86.322464</td>\n",
       "      <td>heavy intensity rain</td>\n",
       "    </tr>\n",
       "    <tr>\n",
       "      <th>1930</th>\n",
       "      <td>Darnold</td>\n",
       "      <td>95.512821</td>\n",
       "      <td>moderate rain</td>\n",
       "    </tr>\n",
       "    <tr>\n",
       "      <th>1938</th>\n",
       "      <td>Rudolph</td>\n",
       "      <td>103.958333</td>\n",
       "      <td>moderate rain</td>\n",
       "    </tr>\n",
       "    <tr>\n",
       "      <th>1939</th>\n",
       "      <td>Hodges</td>\n",
       "      <td>37.009804</td>\n",
       "      <td>moderate rain</td>\n",
       "    </tr>\n",
       "    <tr>\n",
       "      <th>1946</th>\n",
       "      <td>Barkley</td>\n",
       "      <td>48.750000</td>\n",
       "      <td>moderate rain</td>\n",
       "    </tr>\n",
       "    <tr>\n",
       "      <th>1953</th>\n",
       "      <td>Brissett</td>\n",
       "      <td>69.083333</td>\n",
       "      <td>moderate rain</td>\n",
       "    </tr>\n",
       "    <tr>\n",
       "      <th>1957</th>\n",
       "      <td>Minshew</td>\n",
       "      <td>106.250000</td>\n",
       "      <td>moderate rain</td>\n",
       "    </tr>\n",
       "    <tr>\n",
       "      <th>1958</th>\n",
       "      <td>Darnold</td>\n",
       "      <td>76.041667</td>\n",
       "      <td>moderate rain</td>\n",
       "    </tr>\n",
       "    <tr>\n",
       "      <th>1963</th>\n",
       "      <td>Griffin</td>\n",
       "      <td>44.940476</td>\n",
       "      <td>moderate rain</td>\n",
       "    </tr>\n",
       "    <tr>\n",
       "      <th>1966</th>\n",
       "      <td>Hodges</td>\n",
       "      <td>47.916667</td>\n",
       "      <td>moderate rain</td>\n",
       "    </tr>\n",
       "    <tr>\n",
       "      <th>2075</th>\n",
       "      <td>Allen</td>\n",
       "      <td>73.379630</td>\n",
       "      <td>moderate rain</td>\n",
       "    </tr>\n",
       "    <tr>\n",
       "      <th>2080</th>\n",
       "      <td>Mahomes</td>\n",
       "      <td>128.365385</td>\n",
       "      <td>moderate rain</td>\n",
       "    </tr>\n",
       "    <tr>\n",
       "      <th>2092</th>\n",
       "      <td>Watson</td>\n",
       "      <td>138.907658</td>\n",
       "      <td>moderate rain</td>\n",
       "    </tr>\n",
       "    <tr>\n",
       "      <th>2093</th>\n",
       "      <td>Tannehill</td>\n",
       "      <td>122.408537</td>\n",
       "      <td>moderate rain</td>\n",
       "    </tr>\n",
       "    <tr>\n",
       "      <th>2115</th>\n",
       "      <td>Allen</td>\n",
       "      <td>65.509259</td>\n",
       "      <td>moderate rain</td>\n",
       "    </tr>\n",
       "    <tr>\n",
       "      <th>2124</th>\n",
       "      <td>Ryan</td>\n",
       "      <td>85.555556</td>\n",
       "      <td>moderate rain</td>\n",
       "    </tr>\n",
       "    <tr>\n",
       "      <th>2127</th>\n",
       "      <td>Bridgewater</td>\n",
       "      <td>84.692029</td>\n",
       "      <td>moderate rain</td>\n",
       "    </tr>\n",
       "    <tr>\n",
       "      <th>2128</th>\n",
       "      <td>Newton</td>\n",
       "      <td>81.083333</td>\n",
       "      <td>moderate rain</td>\n",
       "    </tr>\n",
       "    <tr>\n",
       "      <th>2131</th>\n",
       "      <td>Jackson</td>\n",
       "      <td>65.773810</td>\n",
       "      <td>mist</td>\n",
       "    </tr>\n",
       "    <tr>\n",
       "      <th>2134</th>\n",
       "      <td>Roethlisberger</td>\n",
       "      <td>101.302083</td>\n",
       "      <td>mist</td>\n",
       "    </tr>\n",
       "    <tr>\n",
       "      <th>2140</th>\n",
       "      <td>Brady</td>\n",
       "      <td>40.350877</td>\n",
       "      <td>moderate rain</td>\n",
       "    </tr>\n",
       "    <tr>\n",
       "      <th>2149</th>\n",
       "      <td>Brees</td>\n",
       "      <td>135.156250</td>\n",
       "      <td>moderate rain</td>\n",
       "    </tr>\n",
       "    <tr>\n",
       "      <th>2155</th>\n",
       "      <td>Burrow</td>\n",
       "      <td>76.354167</td>\n",
       "      <td>moderate rain</td>\n",
       "    </tr>\n",
       "    <tr>\n",
       "      <th>2156</th>\n",
       "      <td>Mayfield</td>\n",
       "      <td>79.583333</td>\n",
       "      <td>thunderstorm</td>\n",
       "    </tr>\n",
       "    <tr>\n",
       "      <th>2167</th>\n",
       "      <td>Roethlisberger</td>\n",
       "      <td>108.333333</td>\n",
       "      <td>moderate rain</td>\n",
       "    </tr>\n",
       "    <tr>\n",
       "      <th>2168</th>\n",
       "      <td>Watson</td>\n",
       "      <td>91.388889</td>\n",
       "      <td>thunderstorm</td>\n",
       "    </tr>\n",
       "    <tr>\n",
       "      <th>2200</th>\n",
       "      <td>Wentz</td>\n",
       "      <td>73.842593</td>\n",
       "      <td>rain</td>\n",
       "    </tr>\n",
       "    <tr>\n",
       "      <th>2208</th>\n",
       "      <td>Wilson</td>\n",
       "      <td>102.889785</td>\n",
       "      <td>rain</td>\n",
       "    </tr>\n",
       "    <tr>\n",
       "      <th>2281</th>\n",
       "      <td>Rodgers</td>\n",
       "      <td>128.083333</td>\n",
       "      <td>light snow</td>\n",
       "    </tr>\n",
       "    <tr>\n",
       "      <th>2289</th>\n",
       "      <td>Tannehill</td>\n",
       "      <td>40.451389</td>\n",
       "      <td>light snow</td>\n",
       "    </tr>\n",
       "    <tr>\n",
       "      <th>2293</th>\n",
       "      <td>Trubisky</td>\n",
       "      <td>81.746032</td>\n",
       "      <td>mist</td>\n",
       "    </tr>\n",
       "    <tr>\n",
       "      <th>2308</th>\n",
       "      <td>Rodgers</td>\n",
       "      <td>147.916667</td>\n",
       "      <td>mist</td>\n",
       "    </tr>\n",
       "  </tbody>\n",
       "</table>\n",
       "</div>"
      ],
      "text/plain": [
       "            lastName   QB Rating            conditions\n",
       "81           Winston   57.025194            heavy rain\n",
       "90            Newton   97.537879            heavy rain\n",
       "166             Luck   50.930851                  rain\n",
       "171           Newton   76.845238                  rain\n",
       "250         Osweiler   72.519841            light snow\n",
       "261            Brady   99.305556            light snow\n",
       "262             Carr  116.272523                  rain\n",
       "267          Mariota   69.425676                  rain\n",
       "296           Cutler  117.002688                  rain\n",
       "320          Cousins  104.233871                  rain\n",
       "347           Taylor   80.555556            light snow\n",
       "372           Taylor   82.738095            light snow\n",
       "382      Fitzpatrick   42.736486            light snow\n",
       "626           McCown   75.848765            light snow\n",
       "627          Kessler   52.083333            light snow\n",
       "631        Tannehill   89.338235                  rain\n",
       "638             Goff   65.793011                  rain\n",
       "642   Roethlisberger   74.652778            light snow\n",
       "665          Gabbert   50.000000                  snow\n",
       "666          Barkley   97.453704                  snow\n",
       "679          Rodgers  108.888889            light snow\n",
       "687         Osweiler   97.559524            light snow\n",
       "690           Taylor  100.083333            light snow\n",
       "712   Roethlisberger   37.768817            light snow\n",
       "894           Palmer   90.246212           shower rain\n",
       "897            Wentz  128.333333           shower rain\n",
       "936           Palmer   53.472222                  rain\n",
       "937          Stanton   21.726190                  rain\n",
       "947          Hundley   39.916667                  rain\n",
       "951             Goff   75.844595                  rain\n",
       "952            Brees   84.429825                  rain\n",
       "957         Beathard   46.875000                  rain\n",
       "959           Taylor  101.620370                  rain\n",
       "962           Rivers   75.972222                  rain\n",
       "965         Prescott   82.196970                  rain\n",
       "967            Wentz   84.244792                  rain\n",
       "968             Ryan  113.290230                  rain\n",
       "969           McCown  119.318182                  rain\n",
       "971            Brady   95.434397                  rain\n",
       "972             Carr   71.215986                  rain\n",
       "976          Cousins   83.600427                  rain\n",
       "994           Wilson   70.324074                  rain\n",
       "996          Cousins   91.733871                  rain\n",
       "1090        Peterman  100.833333                  snow\n",
       "1096        Brissett   71.969697                  snow\n",
       "1140        Trubisky   87.771739            light snow\n",
       "1144           Kizer   41.666667            light snow\n",
       "1167           Kizer   98.472222                  snow\n",
       "1185           Jones  100.462963                  snow\n",
       "1189           Allen   55.972222                  rain\n",
       "1190        Peterman    0.000000                  rain\n",
       "1192          Taylor   51.770833                  rain\n",
       "1196       Tannehill   89.880952                  rain\n",
       "1199         Manning   67.849099                  rain\n",
       "1200         Bortles   67.234848                  rain\n",
       "1206          Flacco  121.691176                  rain\n",
       "1208  Roethlisberger   60.518293                  rain\n",
       "1210         Gabbert   46.969697                  rain\n",
       "1211         Mariota   36.197917                  rain\n",
       "1246            Luck   79.583333                  rain\n",
       "1249           Wentz   84.853604                  rain\n",
       "1252         Rodgers   93.465909                  rain\n",
       "1260           Smith  110.416667                  rain\n",
       "1302            Goff   88.151042                  rain\n",
       "1304          Wilson  132.539683                  rain\n",
       "1325          Flacco   82.939189                  rain\n",
       "1328         Mariota   90.138889                  rain\n",
       "1463           Rosen   61.217949                  snow\n",
       "1472         Rodgers   79.833333                  snow\n",
       "1511           Allen   89.262821                  rain\n",
       "1514         Winston   54.916667                  rain\n",
       "1518         Manning   54.071970                  rain\n",
       "1521        Stafford  106.681034                  rain\n",
       "1527         Jackson   91.032609                  rain\n",
       "1532         Mariota   70.416667                  rain\n",
       "1538          Keenum   72.128378                  rain\n",
       "1550            Carr   89.743590                  rain\n",
       "1613         Winston  103.416667         moderate rain\n",
       "1623          Newton   70.138889         moderate rain\n",
       "1639          Flacco   75.790230         moderate rain\n",
       "1645         Minshew  108.194444         moderate rain\n",
       "1648         Rodgers   96.192529         moderate rain\n",
       "1656         Mariota   81.666667         moderate rain\n",
       "1658          Daniel  101.388889                  mist\n",
       "1674         Cousins   91.550926                  mist\n",
       "1705          Rivers   77.840909       very heavy rain\n",
       "1720          Hodges   87.916667       very heavy rain\n",
       "1725       Garoppolo   59.821429  heavy intensity rain\n",
       "1730          Murray   78.273810         moderate rain\n",
       "1740         Jackson   69.375000                  rain\n",
       "1742          Wilson   65.193089                  rain\n",
       "1744          Keenum   91.319444  heavy intensity rain\n",
       "1749        Mayfield   79.233871         moderate rain\n",
       "1759           Brady   96.875000         moderate rain\n",
       "1835        Prescott   64.204545                  rain\n",
       "1840         Driskel   50.946970         moderate rain\n",
       "1842           Brady   70.777027                  rain\n",
       "1850         Haskins   47.485632         moderate rain\n",
       "1851       Garoppolo  110.218254  heavy intensity rain\n",
       "1863         Rodgers  125.378788         moderate rain\n",
       "1866         Jackson   86.322464  heavy intensity rain\n",
       "1930         Darnold   95.512821         moderate rain\n",
       "1938         Rudolph  103.958333         moderate rain\n",
       "1939          Hodges   37.009804         moderate rain\n",
       "1946         Barkley   48.750000         moderate rain\n",
       "1953        Brissett   69.083333         moderate rain\n",
       "1957         Minshew  106.250000         moderate rain\n",
       "1958         Darnold   76.041667         moderate rain\n",
       "1963         Griffin   44.940476         moderate rain\n",
       "1966          Hodges   47.916667         moderate rain\n",
       "2075           Allen   73.379630         moderate rain\n",
       "2080         Mahomes  128.365385         moderate rain\n",
       "2092          Watson  138.907658         moderate rain\n",
       "2093       Tannehill  122.408537         moderate rain\n",
       "2115           Allen   65.509259         moderate rain\n",
       "2124            Ryan   85.555556         moderate rain\n",
       "2127     Bridgewater   84.692029         moderate rain\n",
       "2128          Newton   81.083333         moderate rain\n",
       "2131         Jackson   65.773810                  mist\n",
       "2134  Roethlisberger  101.302083                  mist\n",
       "2140           Brady   40.350877         moderate rain\n",
       "2149           Brees  135.156250         moderate rain\n",
       "2155          Burrow   76.354167         moderate rain\n",
       "2156        Mayfield   79.583333          thunderstorm\n",
       "2167  Roethlisberger  108.333333         moderate rain\n",
       "2168          Watson   91.388889          thunderstorm\n",
       "2200           Wentz   73.842593                  rain\n",
       "2208          Wilson  102.889785                  rain\n",
       "2281         Rodgers  128.083333            light snow\n",
       "2289       Tannehill   40.451389            light snow\n",
       "2293        Trubisky   81.746032                  mist\n",
       "2308         Rodgers  147.916667                  mist"
      ]
     },
     "execution_count": 266,
     "metadata": {},
     "output_type": "execute_result"
    }
   ],
   "source": [
    "QB_precip_df = QB_df[[\"lastName\", \"QB Rating\", \"conditions\"]]\n",
    "QB_precip_df = QB_precip_df.query('conditions == \"snow\" or conditions == \"light snow\" or conditions == \"shower rain\" or conditions == \"moderate rain\" or conditions == \"mist\" or conditions == \"rain\" or conditions == \"heavy intensity rain\" or conditions == \"very heavy rain\"or conditions == \"heavy rain\"  or  conditions == \"thunderstorm\" ')\n",
    "\n",
    "QB_precip_df"
   ]
  },
  {
   "cell_type": "code",
   "execution_count": 15,
   "metadata": {},
   "outputs": [
    {
     "data": {
      "text/plain": [
       "110.21825396825398"
      ]
     },
     "execution_count": 15,
     "metadata": {},
     "output_type": "execute_result"
    }
   ],
   "source": [
    "#QB Rating stats in heavy rain\n",
    "#Includes \"heavy rain\", \"very heavy rain\", \"heavy intensity rain\" and thunderstorms\n",
    "QB_heavyrain[\"QB Rating\"].max()"
   ]
  },
  {
   "cell_type": "code",
   "execution_count": 16,
   "metadata": {},
   "outputs": [
    {
     "data": {
      "text/plain": [
       "57.0251937984496"
      ]
     },
     "execution_count": 16,
     "metadata": {},
     "output_type": "execute_result"
    }
   ],
   "source": [
    "QB_heavyrain[\"QB Rating\"].min()"
   ]
  },
  {
   "cell_type": "code",
   "execution_count": 17,
   "metadata": {},
   "outputs": [
    {
     "data": {
      "text/plain": [
       "83.89744613183694"
      ]
     },
     "execution_count": 17,
     "metadata": {},
     "output_type": "execute_result"
    }
   ],
   "source": [
    "QB_heavyrain[\"QB Rating\"].mean()"
   ]
  },
  {
   "cell_type": "code",
   "execution_count": 18,
   "metadata": {},
   "outputs": [
    {
     "data": {
      "text/plain": [
       "87.11956521739131"
      ]
     },
     "execution_count": 18,
     "metadata": {},
     "output_type": "execute_result"
    }
   ],
   "source": [
    "QB_heavyrain[\"QB Rating\"].median()"
   ]
  },
  {
   "cell_type": "code",
   "execution_count": 202,
   "metadata": {},
   "outputs": [
    {
     "data": {
      "text/plain": [
       "117"
      ]
     },
     "execution_count": 202,
     "metadata": {},
     "output_type": "execute_result"
    }
   ],
   "source": [
    "#high temperature (>85)\n",
    "QB_hightemp = QB_df[[\"QB Rating\", \"temperature\",]]\n",
    "QB_hightemp = QB_hightemp.query('temperature > 85')\n",
    "QB_hightemp[\"QB Rating\"].count()"
   ]
  },
  {
   "cell_type": "code",
   "execution_count": 20,
   "metadata": {},
   "outputs": [],
   "source": [
    "#QB stats in high temperatures(>85)"
   ]
  },
  {
   "cell_type": "code",
   "execution_count": 21,
   "metadata": {},
   "outputs": [
    {
     "data": {
      "text/plain": [
       "158.33333333333331"
      ]
     },
     "execution_count": 21,
     "metadata": {},
     "output_type": "execute_result"
    }
   ],
   "source": [
    "QB_hightemp[\"QB Rating\"].max()"
   ]
  },
  {
   "cell_type": "code",
   "execution_count": 22,
   "metadata": {},
   "outputs": [
    {
     "data": {
      "text/plain": [
       "13.446969696969699"
      ]
     },
     "execution_count": 22,
     "metadata": {},
     "output_type": "execute_result"
    }
   ],
   "source": [
    "QB_hightemp[\"QB Rating\"].min()"
   ]
  },
  {
   "cell_type": "code",
   "execution_count": 23,
   "metadata": {},
   "outputs": [
    {
     "data": {
      "text/plain": [
       "89.05486488607615"
      ]
     },
     "execution_count": 23,
     "metadata": {},
     "output_type": "execute_result"
    }
   ],
   "source": [
    "QB_hightemp[\"QB Rating\"].mean()"
   ]
  },
  {
   "cell_type": "code",
   "execution_count": 24,
   "metadata": {},
   "outputs": [
    {
     "data": {
      "text/plain": [
       "91.19897959183672"
      ]
     },
     "execution_count": 24,
     "metadata": {},
     "output_type": "execute_result"
    }
   ],
   "source": [
    "QB_hightemp[\"QB Rating\"].median()"
   ]
  },
  {
   "cell_type": "code",
   "execution_count": 25,
   "metadata": {},
   "outputs": [
    {
     "data": {
      "text/plain": [
       "104"
      ]
     },
     "execution_count": 25,
     "metadata": {},
     "output_type": "execute_result"
    }
   ],
   "source": [
    "#low temperature (<32)\n",
    "QB_lowtemp = QB_df[[\"QB Rating\", \"temperature\"]]\n",
    "QB_lowtemp = QB_lowtemp.query('temperature < 32')\n",
    "QB_lowtemp[\"QB Rating\"].count()"
   ]
  },
  {
   "cell_type": "code",
   "execution_count": 26,
   "metadata": {},
   "outputs": [],
   "source": [
    "#QB stats in low temperatures(<32)"
   ]
  },
  {
   "cell_type": "code",
   "execution_count": 27,
   "metadata": {},
   "outputs": [
    {
     "data": {
      "text/plain": [
       "150.81521739130437"
      ]
     },
     "execution_count": 27,
     "metadata": {},
     "output_type": "execute_result"
    }
   ],
   "source": [
    "QB_lowtemp[\"QB Rating\"].max()"
   ]
  },
  {
   "cell_type": "code",
   "execution_count": 28,
   "metadata": {},
   "outputs": [
    {
     "data": {
      "text/plain": [
       "9.280303030303028"
      ]
     },
     "execution_count": 28,
     "metadata": {},
     "output_type": "execute_result"
    }
   ],
   "source": [
    "QB_lowtemp[\"QB Rating\"].min()"
   ]
  },
  {
   "cell_type": "code",
   "execution_count": 29,
   "metadata": {},
   "outputs": [
    {
     "data": {
      "text/plain": [
       "78.92892045933391"
      ]
     },
     "execution_count": 29,
     "metadata": {},
     "output_type": "execute_result"
    }
   ],
   "source": [
    "QB_lowtemp[\"QB Rating\"].mean()"
   ]
  },
  {
   "cell_type": "code",
   "execution_count": 30,
   "metadata": {},
   "outputs": [
    {
     "data": {
      "text/plain": [
       "82.85942192192192"
      ]
     },
     "execution_count": 30,
     "metadata": {},
     "output_type": "execute_result"
    }
   ],
   "source": [
    "QB_lowtemp[\"QB Rating\"].median()"
   ]
  },
  {
   "cell_type": "code",
   "execution_count": 31,
   "metadata": {},
   "outputs": [
    {
     "data": {
      "text/plain": [
       "158.33333333333331"
      ]
     },
     "execution_count": 31,
     "metadata": {},
     "output_type": "execute_result"
    }
   ],
   "source": [
    "#all conditions\n",
    "QB_df[\"QB Rating\"].max()"
   ]
  },
  {
   "cell_type": "code",
   "execution_count": 32,
   "metadata": {},
   "outputs": [
    {
     "data": {
      "text/plain": [
       "0.0"
      ]
     },
     "execution_count": 32,
     "metadata": {},
     "output_type": "execute_result"
    }
   ],
   "source": [
    "QB_df[\"QB Rating\"].min()"
   ]
  },
  {
   "cell_type": "code",
   "execution_count": 33,
   "metadata": {},
   "outputs": [],
   "source": [
    "QB_overall_mean=QB_df[\"QB Rating\"].mean()"
   ]
  },
  {
   "cell_type": "code",
   "execution_count": 34,
   "metadata": {},
   "outputs": [
    {
     "data": {
      "text/plain": [
       "88.95202020202021"
      ]
     },
     "execution_count": 34,
     "metadata": {},
     "output_type": "execute_result"
    }
   ],
   "source": [
    "QB_df[\"QB Rating\"].median()"
   ]
  },
  {
   "cell_type": "code",
   "execution_count": 35,
   "metadata": {},
   "outputs": [
    {
     "data": {
      "image/png": "[encoded data removed]",
      "text/plain": [
       "<Figure size 432x288 with 1 Axes>"
      ]
     },
     "metadata": {
      "needs_background": "light"
     },
     "output_type": "display_data"
    }
   ],
   "source": [
    "#look for outliers\n",
    "QBRating=QB_df[\"QB Rating\"]\n",
    "fig, ax = plt.subplots()\n",
    "ax.set_title('QB Game Ratings 2015-2020')\n",
    "ax.set_ylabel('QB Rating')\n",
    "ax.boxplot(QBRating)\n",
    "plt.show()"
   ]
  },
  {
   "cell_type": "code",
   "execution_count": 36,
   "metadata": {},
   "outputs": [
    {
     "name": "stdout",
     "output_type": "stream",
     "text": [
      "The lower quartile of QB Rating is: 71.73214285714286\n",
      "The upper quartile of QB Rating is: 107.68136160714286\n",
      "The interquartile range of QB Rating is: 35.94921875\n",
      "The the median of QB Rating is: 88.95202020202021 \n",
      "Values below 17.80831473214286 could be outliers.\n",
      "Values above 161.60518973214286 could be outliers.\n"
     ]
    }
   ],
   "source": [
    "quartiles = QBRating.quantile([0.25,0.5,0.75])\n",
    "lowerq = quartiles[0.25]\n",
    "upperq = quartiles[0.75]\n",
    "iqr = upperq-lowerq  \n",
    "\n",
    "print(f\"The lower quartile of QB Rating is: {lowerq}\")\n",
    "print(f\"The upper quartile of QB Rating is: {upperq}\")\n",
    "print(f\"The interquartile range of QB Rating is: {iqr}\")\n",
    "print(f\"The the median of QB Rating is: {quartiles[0.5]} \")\n",
    "\n",
    "lower_bound = lowerq - (1.5*iqr)\n",
    "upper_bound = upperq + (1.5*iqr)\n",
    "print(f\"Values below {lower_bound} could be outliers.\")\n",
    "print(f\"Values above {upper_bound} could be outliers.\")"
   ]
  },
  {
   "cell_type": "code",
   "execution_count": 38,
   "metadata": {},
   "outputs": [
    {
     "name": "stdout",
     "output_type": "stream",
     "text": [
      "NormaltestResult(statistic=4.09620590334466, pvalue=0.128979351713012)\n"
     ]
    },
    {
     "data": {
      "image/png": "[encoded data removed]",
      "text/plain": [
       "<Figure size 432x288 with 1 Axes>"
      ]
     },
     "metadata": {
      "needs_background": "light"
     },
     "output_type": "display_data"
    }
   ],
   "source": [
    "plt.title(\"QB rating vs windspeed\")\n",
    "plt.xlabel(\"wind conditions\")\n",
    "plt.ylabel(\"QB player Rating\")\n",
    "plt.scatter(QB_wind[\"windSpeed\"], QB_wind[\"QB Rating\"], color='r')\n",
    "print(sts.normaltest(QB_wind[\"QB Rating\"].sample(100)))\n",
    "#Does this have value?\n",
    "#p-value indicates accept null hypothesis"
   ]
  },
  {
   "cell_type": "code",
   "execution_count": 250,
   "metadata": {},
   "outputs": [],
   "source": [
    "QB_highwinds_mean=QB_highwinds[\"QB Rating\"].mean()\n",
    "QB_heavyrain_mean=QB_heavyrain[\"QB Rating\"].mean()\n",
    "QB_hightemp_mean=QB_hightemp[\"QB Rating\"].mean()\n",
    "QB_lowtemp_mean=QB_lowtemp[\"QB Rating\"].mean()\n",
    "QB_overall_mean=QB_df[\"QB Rating\"].mean()\n",
    "QB_precip_mean=QB_precip[\"QB Rating\"].mean()"
   ]
  },
  {
   "cell_type": "code",
   "execution_count": 169,
   "metadata": {},
   "outputs": [
    {
     "name": "stdout",
     "output_type": "stream",
     "text": [
      "NormaltestResult(statistic=0.7283689756303233, pvalue=0.6947630076094631)\n",
      "Variance = 700.6024744365968\n",
      "Standard Deviation = 26.46889635849211\n"
     ]
    },
    {
     "data": {
      "image/png": "[encoded data removed]",
      "text/plain": [
       "<Figure size 432x288 with 1 Axes>"
      ]
     },
     "metadata": {
      "needs_background": "light"
     },
     "output_type": "display_data"
    }
   ],
   "source": [
    "plt.title(\"QB rating vs freezing temperature\")\n",
    "plt.xlabel(\"temperature\")\n",
    "plt.ylabel(\"QB player Rating\")\n",
    "plt.scatter(QB_lowtemp[\"temperature\"], QB_lowtemp[\"QB Rating\"], color='b')\n",
    "plt.axhline(y=QB_overall_mean, color=\"gray\", linestyle = '-')\n",
    "plt.axhline(y=QB_lowtemp_mean, color=\"b\", linestyle = 'dotted')\n",
    "print(sts.normaltest(QB_lowtemp[\"QB Rating\"]))\n",
    "print(f'Variance = {QB_lowtemp[\"QB Rating\"].var()}')\n",
    "print(f'Standard Deviation = {QB_lowtemp[\"QB Rating\"].std()}')"
   ]
  },
  {
   "cell_type": "code",
   "execution_count": 248,
   "metadata": {},
   "outputs": [
    {
     "name": "stdout",
     "output_type": "stream",
     "text": [
      "NormaltestResult(statistic=0.7347783725666823, pvalue=0.6925400654953082)\n",
      "Variance = 838.7517048753682\n",
      "Standard Deviation = 28.961210348936874\n"
     ]
    },
    {
     "data": {
      "image/png": "[encoded data removed]",
      "text/plain": [
       "<Figure size 432x288 with 1 Axes>"
      ]
     },
     "metadata": {
      "needs_background": "light"
     },
     "output_type": "display_data"
    }
   ],
   "source": [
    "plt.title(\"QB rating vs high temperature\")\n",
    "plt.xlabel(\"temperature\")\n",
    "plt.ylabel(\"QB player Rating\")\n",
    "plt.scatter(QB_hightemp[\"temperature\"], QB_hightemp[\"QB Rating\"], color='m')\n",
    "plt.axhline(y=QB_overall_mean, color=\"gray\", linestyle = '-')\n",
    "plt.axhline(y=QB_hightemp_mean, color=\"m\", linestyle = 'dotted')\n",
    "ax.text(100, 89.2549, 'Mean QB Rating All Conditions', va='center', ha=\"left\", bbox=dict(facecolor=\"w\",alpha=0.5),\n",
    "        transform=ax.get_yaxis_transform())\n",
    "print(sts.normaltest(QB_hightemp[\"QB Rating\"]))\n",
    "print(f'Variance = {QB_hightemp[\"QB Rating\"].var()}')\n",
    "print(f'Standard Deviation = {QB_hightemp[\"QB Rating\"].std()}')"
   ]
  },
  {
   "cell_type": "code",
   "execution_count": 56,
   "metadata": {},
   "outputs": [
    {
     "name": "stdout",
     "output_type": "stream",
     "text": [
      "NormaltestResult(statistic=0.7347783725666823, pvalue=0.6925400654953082)\n",
      "Variance = 445.8688657552428\n",
      "Standard Deviation = 21.115607160468837\n"
     ]
    },
    {
     "data": {
      "image/png": "[encoded data removed]",
      "text/plain": [
       "<Figure size 432x288 with 1 Axes>"
      ]
     },
     "metadata": {
      "needs_background": "light"
     },
     "output_type": "display_data"
    }
   ],
   "source": [
    "plt.title(\"QB rating vs High Winds\")\n",
    "plt.xlabel(\"High Winds\")\n",
    "plt.ylabel(\"QB player Rating\")\n",
    "plt.scatter(QB_highwinds[\"windSpeed\"], QB_highwinds[\"QB Rating\"], color='g')\n",
    "plt.axhline(y=QB_overall_mean, color=\"gray\", linestyle = '-')\n",
    "plt.axhline(y=QB_highwinds_mean, color=\"g\", linestyle = 'dotted')\n",
    "print(sts.normaltest(QB_hightemp[\"QB Rating\"]))\n",
    "print(f'Variance = {QB_highwinds[\"QB Rating\"].var()}')\n",
    "print(f'Standard Deviation = {QB_highwinds[\"QB Rating\"].std()}')"
   ]
  },
  {
   "cell_type": "code",
   "execution_count": 220,
   "metadata": {},
   "outputs": [
    {
     "name": "stdout",
     "output_type": "stream",
     "text": [
      "[89.25491561594207, 89.25491561594207, 89.25491561594207, 89.25491561594207, 89.25491561594207, 89.25491561594207, 89.25491561594207, 89.25491561594207, 89.25491561594207, 89.25491561594207]\n",
      "NormaltestResult(statistic=0.3855215988285118, pvalue=0.8246792142992982)\n",
      "Variance = 263.239413687631\n",
      "Standard Deviation = 16.22465450133318\n"
     ]
    },
    {
     "name": "stderr",
     "output_type": "stream",
     "text": [
      "C:\\Users\\jenpu\\Anaconda3\\lib\\site-packages\\scipy\\stats\\stats.py:1603: UserWarning: kurtosistest only valid for n>=20 ... continuing anyway, n=10\n",
      "  warnings.warn(\"kurtosistest only valid for n>=20 ... continuing \"\n"
     ]
    },
    {
     "data": {
      "image/png": "[encoded data removed]",
      "text/plain": [
       "<Figure size 432x288 with 1 Axes>"
      ]
     },
     "metadata": {
      "needs_background": "light"
     },
     "output_type": "display_data"
    }
   ],
   "source": [
    "plt.title(\"QB rating vs Heavy Rain\")\n",
    "plt.xlabel(\"Heavy Rain\")\n",
    "plt.ylabel(\"QB player Rating\")\n",
    "plt.scatter(QB_heavyrain[\"conditions\"], QB_heavyrain[\"QB Rating\"], color='r')\n",
    "plt.axhline(y=QB_overall_mean, color=\"gray\", linestyle = '-')\n",
    "plt.axhline(y=QB_heavyrain_mean, color=\"r\", linestyle = 'dotted')\n",
    "\n",
    "#overall_mean = [QB_overall_mean for _ in QB_heavyrain[\"conditions\"]]\n",
    "\n",
    "#print(yval)\n",
    "plt.plot(QB_heavyrain[\"conditions\"],overall_mean, label=\"Overall Mean\", color='gray')\n",
    "\n",
    "print(sts.normaltest(QB_heavyrain[\"QB Rating\"]))\n",
    "print(f'Variance = {QB_heavyrain[\"QB Rating\"].var()}')\n",
    "print(f'Standard Deviation = {QB_heavyrain[\"QB Rating\"].std()}')"
   ]
  },
  {
   "cell_type": "code",
   "execution_count": 251,
   "metadata": {},
   "outputs": [
    {
     "name": "stdout",
     "output_type": "stream",
     "text": [
      "NormaltestResult(statistic=4.520989594529702, pvalue=0.10429886519198486)\n",
      "Variance = 584.5103717458899\n",
      "Standard Deviation = 21.115607160468837\n"
     ]
    },
    {
     "data": {
      "image/png": "[encoded data removed]",
      "text/plain": [
       "<Figure size 432x288 with 1 Axes>"
      ]
     },
     "metadata": {
      "needs_background": "light"
     },
     "output_type": "display_data"
    }
   ],
   "source": [
    "plt.title(\"QB rating vs Precipitation\")\n",
    "plt.xlabel(\"Precipitation\")\n",
    "plt.ylabel(\"QB player Rating\")\n",
    "plt.scatter(QB_precip[\"conditions\"], QB_precip[\"QB Rating\"], color='purple')\n",
    "plt.axhline(y=QB_overall_mean, color=\"gray\", linestyle = '-')\n",
    "plt.axhline(y=QB_precip_mean, color=\"purple\", linestyle = 'dotted')\n",
    "print(sts.normaltest(QB_precip[\"QB Rating\"]))\n",
    "print(f'Variance = {QB_precip[\"QB Rating\"].var()}')\n",
    "print(f'Standard Deviation = {QB_highwinds[\"QB Rating\"].std()}')"
   ]
  },
  {
   "cell_type": "code",
   "execution_count": 57,
   "metadata": {},
   "outputs": [],
   "source": [
    "QB_means=pd.Series([QB_highwinds_mean, QB_heavyrain_mean,QB_hightemp_mean, QB_lowtemp_mean],\\\n",
    "                   index=[\"high wind\", \"heavy rain\", \"high temp\", \"low temp\"])"
   ]
  },
  {
   "cell_type": "code",
   "execution_count": 58,
   "metadata": {},
   "outputs": [],
   "source": [
    "#for chi-sq\n",
    "comparison_df=pd.DataFrame([QB_means]).T"
   ]
  },
  {
   "cell_type": "code",
   "execution_count": 59,
   "metadata": {},
   "outputs": [],
   "source": [
    "#for chi-sq\n",
    "comparison_df[1]=QB_overall_mean"
   ]
  },
  {
   "cell_type": "code",
   "execution_count": 60,
   "metadata": {},
   "outputs": [
    {
     "data": {
      "text/html": [
       "<div>\n",
       "<style scoped>\n",
       "    .dataframe tbody tr th:only-of-type {\n",
       "        vertical-align: middle;\n",
       "    }\n",
       "\n",
       "    .dataframe tbody tr th {\n",
       "        vertical-align: top;\n",
       "    }\n",
       "\n",
       "    .dataframe thead th {\n",
       "        text-align: right;\n",
       "    }\n",
       "</style>\n",
       "<table border=\"1\" class=\"dataframe\">\n",
       "  <thead>\n",
       "    <tr style=\"text-align: right;\">\n",
       "      <th></th>\n",
       "      <th>observed</th>\n",
       "      <th>expected</th>\n",
       "    </tr>\n",
       "  </thead>\n",
       "  <tbody>\n",
       "    <tr>\n",
       "      <th>high wind</th>\n",
       "      <td>85.104569</td>\n",
       "      <td>89.254916</td>\n",
       "    </tr>\n",
       "    <tr>\n",
       "      <th>heavy rain</th>\n",
       "      <td>83.897446</td>\n",
       "      <td>89.254916</td>\n",
       "    </tr>\n",
       "    <tr>\n",
       "      <th>high temp</th>\n",
       "      <td>89.054865</td>\n",
       "      <td>89.254916</td>\n",
       "    </tr>\n",
       "    <tr>\n",
       "      <th>low temp</th>\n",
       "      <td>78.928920</td>\n",
       "      <td>89.254916</td>\n",
       "    </tr>\n",
       "  </tbody>\n",
       "</table>\n",
       "</div>"
      ],
      "text/plain": [
       "             observed   expected\n",
       "high wind   85.104569  89.254916\n",
       "heavy rain  83.897446  89.254916\n",
       "high temp   89.054865  89.254916\n",
       "low temp    78.928920  89.254916"
      ]
     },
     "execution_count": 60,
     "metadata": {},
     "output_type": "execute_result"
    }
   ],
   "source": [
    "#for chi-sq\n",
    "comparison_df.columns=[\"observed\", \"expected\"]\n",
    "\n",
    "comparison_df"
   ]
  },
  {
   "cell_type": "code",
   "execution_count": 65,
   "metadata": {},
   "outputs": [
    {
     "data": {
      "text/plain": [
       "<AxesSubplot:>"
      ]
     },
     "execution_count": 65,
     "metadata": {},
     "output_type": "execute_result"
    },
    {
     "data": {
      "image/png": "[encoded data removed]",
      "text/plain": [
       "<Figure size 432x288 with 1 Axes>"
      ]
     },
     "metadata": {
      "needs_background": "light"
     },
     "output_type": "display_data"
    }
   ],
   "source": [
    "comparison_df.boxplot()"
   ]
  },
  {
   "cell_type": "code",
   "execution_count": 66,
   "metadata": {},
   "outputs": [
    {
     "data": {
      "text/plain": [
       "5.991464547107979"
      ]
     },
     "execution_count": 66,
     "metadata": {},
     "output_type": "execute_result"
    }
   ],
   "source": [
    "critical_value = sts.chi2.ppf(q = 0.95, df = 2)\n",
    "critical_value"
   ]
  },
  {
   "cell_type": "code",
   "execution_count": 67,
   "metadata": {},
   "outputs": [
    {
     "data": {
      "text/plain": [
       "Power_divergenceResult(statistic=1.7096431367253235, pvalue=0.6347920379455683)"
      ]
     },
     "execution_count": 67,
     "metadata": {},
     "output_type": "execute_result"
    }
   ],
   "source": [
    "sts.chisquare(comparison_df['observed'],comparison_df['expected'])\n",
    "#compare statistic to critical value...what does it mean?"
   ]
  },
  {
   "cell_type": "code",
   "execution_count": null,
   "metadata": {},
   "outputs": [],
   "source": [
    "#for Anova build the dataframe\n",
    "#columns = weather condition, QB Rating\n",
    "#want to consolidate conditions to defined extremes"
   ]
  },
  {
   "cell_type": "code",
   "execution_count": null,
   "metadata": {},
   "outputs": [],
   "source": [
    "#for ANOVA\n",
    "#comparison_df.boxplot(\"QB_Rating\", by=\"weather\", figsize=(20, 10))"
   ]
  },
  {
   "cell_type": "code",
   "execution_count": 213,
   "metadata": {},
   "outputs": [
    {
     "data": {
      "text/plain": [
       "lastName        Temperature Category\n",
       "Allen           moderate(33-85)         49\n",
       "                freezing (<=32)          4\n",
       "                hot (>85)                2\n",
       "Anderson        moderate(33-85)          2\n",
       "Barkley         moderate(33-85)          8\n",
       "                freezing (<=32)          1\n",
       "Beathard        moderate(33-85)         13\n",
       "Blough          moderate(33-85)          1\n",
       "Bortles         moderate(33-85)         41\n",
       "                hot (>85)                7\n",
       "                freezing (<=32)          1\n",
       "Bradford        moderate(33-85)         18\n",
       "                hot (>85)                2\n",
       "Brady           moderate(33-85)         71\n",
       "                freezing (<=32)          7\n",
       "                hot (>85)                4\n",
       "Brees           moderate(33-85)         26\n",
       "Bridgewater     moderate(33-85)         24\n",
       "                freezing (<=32)          3\n",
       "                hot (>85)                1\n",
       "Brissett        moderate(33-85)         11\n",
       "                freezing (<=32)          1\n",
       "                hot (>85)                1\n",
       "Burrow          moderate(33-85)          9\n",
       "Carr            moderate(33-85)         71\n",
       "                freezing (<=32)          4\n",
       "                hot (>85)                4\n",
       "Cassel          moderate(33-85)          5\n",
       "                freezing (<=32)          1\n",
       "                hot (>85)                1\n",
       "Clausen         moderate(33-85)          4\n",
       "Cook            moderate(33-85)          1\n",
       "Cousins         moderate(33-85)         55\n",
       "                freezing (<=32)          2\n",
       "                hot (>85)                1\n",
       "Cutler          moderate(33-85)         21\n",
       "                freezing (<=32)          4\n",
       "                hot (>85)                3\n",
       "Dalton          moderate(33-85)         62\n",
       "                freezing (<=32)          4\n",
       "                hot (>85)                2\n",
       "Daniel          moderate(33-85)          3\n",
       "Darnold         moderate(33-85)         32\n",
       "                hot (>85)                2\n",
       "                freezing (<=32)          1\n",
       "Davis           moderate(33-85)          3\n",
       "DiNucci         moderate(33-85)          1\n",
       "Driskel         moderate(33-85)         10\n",
       "Fales           moderate(33-85)          1\n",
       "Falk            moderate(33-85)          3\n",
       "Finley          moderate(33-85)          5\n",
       "Fitzpatrick     moderate(33-85)         48\n",
       "                hot (>85)                6\n",
       "                freezing (<=32)          1\n",
       "Flacco          moderate(33-85)         55\n",
       "                hot (>85)                3\n",
       "                freezing (<=32)          2\n",
       "Foles           moderate(33-85)         19\n",
       "                freezing (<=32)          2\n",
       "                hot (>85)                1\n",
       "Gabbert         moderate(33-85)         15\n",
       "                hot (>85)                2\n",
       "                freezing (<=32)          1\n",
       "Garoppolo       moderate(33-85)         25\n",
       "                hot (>85)                2\n",
       "Glennon         moderate(33-85)          7\n",
       "                hot (>85)                1\n",
       "Goff            moderate(33-85)         45\n",
       "                hot (>85)                5\n",
       "                freezing (<=32)          1\n",
       "Griffin         moderate(33-85)          5\n",
       "                freezing (<=32)          2\n",
       "Haskins         moderate(33-85)         13\n",
       "Hasselbeck      moderate(33-85)          3\n",
       "Heinicke        moderate(33-85)          2\n",
       "Henne           freezing (<=32)          1\n",
       "Herbert         moderate(33-85)         10\n",
       "                freezing (<=32)          1\n",
       "Hill            moderate(33-85)          3\n",
       "Hodges          moderate(33-85)          5\n",
       "                freezing (<=32)          1\n",
       "Hogan           moderate(33-85)          3\n",
       "Hoyer           moderate(33-85)         14\n",
       "                hot (>85)                1\n",
       "Hundley         moderate(33-85)          5\n",
       "                freezing (<=32)          3\n",
       "Hurts           moderate(33-85)          3\n",
       "Jackson         moderate(33-85)         33\n",
       "                hot (>85)                1\n",
       "Johnson         moderate(33-85)          4\n",
       "Jones           moderate(33-85)          5\n",
       "                freezing (<=32)          1\n",
       "Kaepernick      moderate(33-85)         14\n",
       "Keenum          moderate(33-85)         31\n",
       "                hot (>85)                4\n",
       "                freezing (<=32)          3\n",
       "Kessler         moderate(33-85)         13\n",
       "Kizer           moderate(33-85)          9\n",
       "                freezing (<=32)          4\n",
       "Lock            moderate(33-85)         10\n",
       "                freezing (<=32)          4\n",
       "Luck            moderate(33-85)         16\n",
       "Luton           moderate(33-85)          3\n",
       "Lynch           moderate(33-85)          3\n",
       "                freezing (<=32)          1\n",
       "                hot (>85)                1\n",
       "Mahomes         moderate(33-85)         37\n",
       "                freezing (<=32)          4\n",
       "                hot (>85)                1\n",
       "Mallett         moderate(33-85)          2\n",
       "                hot (>85)                1\n",
       "Manning         moderate(33-85)         58\n",
       "                freezing (<=32)          3\n",
       "                hot (>85)                2\n",
       "Mannion         moderate(33-85)          1\n",
       "Manuel          moderate(33-85)          5\n",
       "Manziel         moderate(33-85)          7\n",
       "Mariota         moderate(33-85)         42\n",
       "                hot (>85)                6\n",
       "                freezing (<=32)          2\n",
       "Mayfield        moderate(33-85)         41\n",
       "                freezing (<=32)          1\n",
       "                hot (>85)                1\n",
       "McCarron        moderate(33-85)          3\n",
       "                freezing (<=32)          1\n",
       "McCown          moderate(33-85)         26\n",
       "                hot (>85)                2\n",
       "McCoy           moderate(33-85)          5\n",
       "McGloin         moderate(33-85)          2\n",
       "Mettenberger    moderate(33-85)          3\n",
       "Minshew         moderate(33-85)         19\n",
       "                hot (>85)                1\n",
       "Moore           moderate(33-85)          9\n",
       "                hot (>85)                1\n",
       "Mullens         moderate(33-85)         13\n",
       "Murray          moderate(33-85)         13\n",
       "Newton          moderate(33-85)         60\n",
       "                hot (>85)                5\n",
       "                freezing (<=32)          1\n",
       "Osweiler        moderate(33-85)         13\n",
       "                freezing (<=32)          6\n",
       "                hot (>85)                3\n",
       "Palmer          moderate(33-85)         13\n",
       "Peterman        moderate(33-85)          5\n",
       "                freezing (<=32)          1\n",
       "Petty           moderate(33-85)          5\n",
       "                freezing (<=32)          1\n",
       "Prescott        moderate(33-85)         23\n",
       "                freezing (<=32)          2\n",
       "                hot (>85)                2\n",
       "Rivers          moderate(33-85)         75\n",
       "                hot (>85)                4\n",
       "                freezing (<=32)          1\n",
       "Rodgers         moderate(33-85)         55\n",
       "                freezing (<=32)         10\n",
       "                hot (>85)                3\n",
       "Roethlisberger  moderate(33-85)         65\n",
       "                freezing (<=32)          2\n",
       "Romo            moderate(33-85)          2\n",
       "Rosen           moderate(33-85)          5\n",
       "                hot (>85)                3\n",
       "Rudolph         moderate(33-85)         10\n",
       "                freezing (<=32)          1\n",
       "Ryan            moderate(33-85)         33\n",
       "                freezing (<=32)          1\n",
       "                hot (>85)                1\n",
       "Rypien          moderate(33-85)          1\n",
       "Sanchez         moderate(33-85)          5\n",
       "Savage          moderate(33-85)          3\n",
       "Schaub          moderate(33-85)          2\n",
       "Siemian         moderate(33-85)         20\n",
       "                freezing (<=32)          1\n",
       "                hot (>85)                1\n",
       "Smith           moderate(33-85)         51\n",
       "                freezing (<=32)          4\n",
       "Stafford        moderate(33-85)         25\n",
       "                freezing (<=32)          2\n",
       "                hot (>85)                1\n",
       "Stanton         moderate(33-85)          4\n",
       "Stidham         moderate(33-85)          3\n",
       "Sudfeld         freezing (<=32)          1\n",
       "                moderate(33-85)          1\n",
       "Tagovailoa      moderate(33-85)          6\n",
       "                hot (>85)                1\n",
       "Tannehill       moderate(33-85)         53\n",
       "                hot (>85)                5\n",
       "                freezing (<=32)          2\n",
       "Taylor          moderate(33-85)         41\n",
       "                freezing (<=32)          5\n",
       "Tolzien         hot (>85)                1\n",
       "Trubisky        moderate(33-85)         32\n",
       "                freezing (<=32)          3\n",
       "                hot (>85)                3\n",
       "Vick            moderate(33-85)          2\n",
       "Walker          moderate(33-85)          2\n",
       "Watson          moderate(33-85)         21\n",
       "                hot (>85)                1\n",
       "Weeden          moderate(33-85)          1\n",
       "                hot (>85)                1\n",
       "Wentz           moderate(33-85)         59\n",
       "                hot (>85)                1\n",
       "Whitehurst      moderate(33-85)          2\n",
       "Wilson          moderate(33-85)         78\n",
       "                freezing (<=32)          2\n",
       "                hot (>85)                2\n",
       "Winston         moderate(33-85)         48\n",
       "                hot (>85)                7\n",
       "Yates           moderate(33-85)          2\n",
       "Name: Temperature Category, dtype: int64"
      ]
     },
     "execution_count": 213,
     "metadata": {},
     "output_type": "execute_result"
    }
   ],
   "source": [
    "QB_lowtemp_index=QB_df.set_index(\"lastName\").groupby([\"lastName\"])\n",
    "QB_lowtemp_df = QB_df[[\"lastName\", \"Temperature Category\"]]\n",
    "Avg_temp_df=QB_lowtemp_index[\"Temperature Category\"]\n",
    "\n",
    "Avg_temp_df.value_counts().head(500)"
   ]
  },
  {
   "cell_type": "code",
   "execution_count": 68,
   "metadata": {},
   "outputs": [
    {
     "data": {
      "text/plain": [
       "lastName\n",
       "Henne        111.197917\n",
       "Mahomes      110.147117\n",
       "Wilson       103.407367\n",
       "Brees        103.204613\n",
       "Rodgers      102.493012\n",
       "Weeden       102.243590\n",
       "Jackson      100.585098\n",
       "Tannehill     99.699027\n",
       "McCarron      99.483300\n",
       "Ryan          99.388318\n",
       "Name: QB Rating, dtype: float64"
      ]
     },
     "execution_count": 68,
     "metadata": {},
     "output_type": "execute_result"
    }
   ],
   "source": [
    "QB_index=QB_df.set_index(\"lastName\").groupby([\"lastName\"])\n",
    "Avg_QB_Rating_df=QB_index[\"QB Rating\"].mean()\n",
    "\n",
    "Avg_QB_Rating_df.sort_values(ascending=False).head(10)\n"
   ]
  },
  {
   "cell_type": "code",
   "execution_count": 69,
   "metadata": {},
   "outputs": [
    {
     "data": {
      "text/plain": [
       "lastName\n",
       "Kizer       58.452828\n",
       "Finley      58.249311\n",
       "Stanton     58.244048\n",
       "Peterman    56.657218\n",
       "Luton       56.153447\n",
       "Sudfeld     52.762681\n",
       "Walker      49.177171\n",
       "Sanchez     44.402882\n",
       "Stidham     42.547591\n",
       "Tolzien     33.796296\n",
       "Name: QB Rating, dtype: float64"
      ]
     },
     "execution_count": 69,
     "metadata": {},
     "output_type": "execute_result"
    }
   ],
   "source": [
    "pd.options.display.max_rows = 500 \n",
    "Avg_QB_Rating_df.sort_values(ascending=False).tail(10)"
   ]
  },
  {
   "cell_type": "code",
   "execution_count": 70,
   "metadata": {},
   "outputs": [
    {
     "data": {
      "text/plain": [
       "Romo        2\n",
       "Heinicke    2\n",
       "DiNucci     1\n",
       "Blough      1\n",
       "Tolzien     1\n",
       "Cook        1\n",
       "Rypien      1\n",
       "Fales       1\n",
       "Mannion     1\n",
       "Henne       1\n",
       "Name: lastName, dtype: int64"
      ]
     },
     "execution_count": 70,
     "metadata": {},
     "output_type": "execute_result"
    }
   ],
   "source": [
    "games_played=QB_df[\"lastName\"]\n",
    "games_played.value_counts().tail(10)"
   ]
  },
  {
   "cell_type": "code",
   "execution_count": 71,
   "metadata": {},
   "outputs": [
    {
     "data": {
      "text/plain": [
       "Brady             82\n",
       "Wilson            82\n",
       "Rivers            80\n",
       "Carr              79\n",
       "Rodgers           68\n",
       "Dalton            68\n",
       "Roethlisberger    67\n",
       "Newton            66\n",
       "Manning           63\n",
       "Wentz             60\n",
       "Name: lastName, dtype: int64"
      ]
     },
     "execution_count": 71,
     "metadata": {},
     "output_type": "execute_result"
    }
   ],
   "source": [
    "games_played.value_counts().head(10)"
   ]
  },
  {
   "cell_type": "code",
   "execution_count": 72,
   "metadata": {},
   "outputs": [],
   "source": [
    "games_played_query=QB_df.query"
   ]
  },
  {
   "cell_type": "code",
   "execution_count": 73,
   "metadata": {},
   "outputs": [
    {
     "data": {
      "text/plain": [
       "Wilson     82\n",
       "Rodgers    68\n",
       "Mahomes    42\n",
       "Jackson    34\n",
       "Brees      26\n",
       "Name: lastName, dtype: int64"
      ]
     },
     "execution_count": 73,
     "metadata": {},
     "output_type": "execute_result"
    }
   ],
   "source": [
    "games_played_query=QB_df.query('lastName == \"Mahomes\"or lastName == \"Wilson\"  or lastName == \"Brees\" or \\\n",
    "lastName == \"Rodgers\" or lastName == \"Jackson\" ')\n",
    "\n",
    "games_played_query[\"lastName\"].value_counts()"
   ]
  },
  {
   "cell_type": "code",
   "execution_count": 131,
   "metadata": {},
   "outputs": [
    {
     "data": {
      "text/plain": [
       "0     0-10\n",
       "1     0-10\n",
       "2    11-25\n",
       "3    11-25\n",
       "4    11-25\n",
       "Name: windSpeed, dtype: category\n",
       "Categories (3, object): ['0-10' < '11-25' < '26-40']"
      ]
     },
     "execution_count": 131,
     "metadata": {},
     "output_type": "execute_result"
    }
   ],
   "source": [
    "#Create bins for wind speed\n",
    "bins=[-1, 10, 25, 40]\n",
    "group_labels=[\"0-10\", \"11-25\", \"26-40\"]\n",
    "pd.cut(QB_wind[\"windSpeed\"], bins, labels=group_labels).head()"
   ]
  },
  {
   "cell_type": "code",
   "execution_count": 132,
   "metadata": {
    "scrolled": true
   },
   "outputs": [],
   "source": [
    "QB_df['Wind Category'] = pd.cut(QB_df['windSpeed'], bins, labels=group_labels)"
   ]
  },
  {
   "cell_type": "code",
   "execution_count": 133,
   "metadata": {},
   "outputs": [],
   "source": [
    "for qb_name,df_temp in QB_df.groupby(['lastName']):\n",
    "    \n",
    "    \n",
    "    temp_group = df_temp.groupby(['Wind Category'])['QB Rating'].mean()"
   ]
  },
  {
   "cell_type": "code",
   "execution_count": 134,
   "metadata": {},
   "outputs": [
    {
     "data": {
      "text/plain": [
       "['0-10', '11-25', '26-40']"
      ]
     },
     "execution_count": 134,
     "metadata": {},
     "output_type": "execute_result"
    }
   ],
   "source": [
    "list(temp_group.index)"
   ]
  },
  {
   "cell_type": "code",
   "execution_count": 135,
   "metadata": {},
   "outputs": [],
   "source": [
    "#top 5 by QB Rating\n",
    "top_five_rating=[\"Mahomes\", \"Wilson\", \"Brees\", \"Rodgers\", \"Jackson\"]\n",
    "top_QB_Rating_df= QB_df[QB_df.lastName.isin(top_five_rating)].copy()"
   ]
  },
  {
   "cell_type": "code",
   "execution_count": 136,
   "metadata": {},
   "outputs": [],
   "source": [
    "qb_wind_rating_df = pd.DataFrame(top_QB_Rating_df.groupby\\\n",
    "                                 (['lastName', 'Wind Category'])[\"QB Rating\"].mean().dropna()).reset_index()"
   ]
  },
  {
   "cell_type": "code",
   "execution_count": 137,
   "metadata": {},
   "outputs": [],
   "source": [
    "# Shaun says: don't use temp_group (from cell below)\n",
    "#temp_group=\n",
    "final_wind_df = pd.DataFrame({}, index=list(temp_group.index))\n",
    "\n",
    "for idx,row in qb_wind_rating_df.iterrows():\n",
    "    final_wind_df.loc[row[\"Wind Category\"], row[\"lastName\"]] = row[\"QB Rating\"]"
   ]
  },
  {
   "cell_type": "code",
   "execution_count": 263,
   "metadata": {},
   "outputs": [
    {
     "name": "stdout",
     "output_type": "stream",
     "text": [
      "Brady mean= QB Rating    99.381003\n",
      "dtype: float64\n",
      "Carr mean = QB Rating    94.489262\n",
      "dtype: float64\n",
      "Rivers mean = QB Rating    94.394207\n",
      "dtype: float64\n",
      "Rodgers mean = QB Rating    102.493012\n",
      "dtype: float64\n",
      "Wilson mean = QB Rating    103.407367\n",
      "dtype: float64\n",
      "Brees mean = QB Rating    103.204613\n",
      "dtype: float64\n",
      "Jackson mean = QB Rating    100.585098\n",
      "dtype: float64\n",
      "Mahomes mean = QB Rating    110.147117\n",
      "dtype: float64\n"
     ]
    }
   ],
   "source": [
    "Brady=QB_df[[\"QB Rating\", \"lastName\"]]\n",
    "Brady=Brady.query('lastName == \"Brady\"')\n",
    "Carr=QB_df[[\"QB Rating\", \"lastName\"]]\n",
    "Carr=Carr.query('lastName == \"Carr\"')\n",
    "Rivers=QB_df[[\"QB Rating\", \"lastName\"]]\n",
    "Rivers=Rivers.query('lastName == \"Rivers\"')\n",
    "Rodgers=QB_df[[\"QB Rating\", \"lastName\"]]\n",
    "Rodgers=Rodgers.query('lastName == \"Rodgers\"')\n",
    "Wilson=QB_df[[\"QB Rating\", \"lastName\"]]\n",
    "Wilson=Wilson.query('lastName == \"Wilson\"')\n",
    "Brees=QB_df[[\"QB Rating\", \"lastName\"]]\n",
    "Brees=Brees.query('lastName == \"Brees\"')\n",
    "Jackson=QB_df[[\"QB Rating\", \"lastName\"]]\n",
    "Jackson=Jackson.query('lastName == \"Jackson\"')\n",
    "Mahomes=QB_df[[\"QB Rating\", \"lastName\"]]\n",
    "Mahomes=Mahomes.query('lastName == \"Mahomes\"')\n",
    "print(f'Brady mean= {Brady.mean()}')\n",
    "print(f'Carr mean = {Carr.mean()}')\n",
    "print(f'Rivers mean = {Rivers.mean()}')\n",
    "print(f'Rodgers mean = {Rodgers.mean()}')\n",
    "print(f'Wilson mean = {Wilson.mean()}')\n",
    "print(f'Brees mean = {Brees.mean()}')\n",
    "print(f'Jackson mean = {Jackson.mean()}')\n",
    "print(f'Mahomes mean = {Mahomes.mean()}')"
   ]
  },
  {
   "cell_type": "code",
   "execution_count": 267,
   "metadata": {},
   "outputs": [
    {
     "name": "stdout",
     "output_type": "stream",
     "text": [
      "Kizer mean in precipitation = QB Rating    70.069444\n",
      "dtype: float64\n",
      "Foles mean in precipitation = QB Rating   NaN\n",
      "lastName    NaN\n",
      "dtype: float64\n",
      "Driskel mean in precipitation = QB Rating    50.94697\n",
      "dtype: float64\n",
      "Haskins mean in precipitation = QB Rating    47.485632\n",
      "dtype: float64\n",
      "Gabbert mean in precipitation = QB Rating    48.484848\n",
      "dtype: float64\n",
      "Brady mean in precipitation= QB Rating    80.548571\n",
      "dtype: float64\n",
      "Carr mean in precipitation= QB Rating    92.4107\n",
      "dtype: float64\n",
      "Rivers mean in precipitation = QB Rating    76.906566\n",
      "dtype: float64\n",
      "Rodgers mean in precipitation = QB Rating    111.394207\n",
      "dtype: float64\n",
      "Wilson mean in precipitation = QB Rating    92.736658\n",
      "dtype: float64\n",
      "Brees mean in precipitation = QB Rating    109.793037\n",
      "dtype: float64\n",
      "Jackson mean in precipitation = QB Rating    78.12597\n",
      "dtype: float64\n",
      "Mahomes mean in precipitation = QB Rating    128.365385\n",
      "dtype: float64\n"
     ]
    }
   ],
   "source": [
    "Brady=QB_precip_df[[\"QB Rating\", \"lastName\"]]\n",
    "Brady=Brady.query('lastName == \"Brady\"')\n",
    "Carr=QB_precip_df[[\"QB Rating\", \"lastName\"]]\n",
    "Carr=Carr.query('lastName == \"Carr\"')\n",
    "Rivers=QB_precip_df[[\"QB Rating\", \"lastName\"]]\n",
    "Rivers=Rivers.query('lastName == \"Rivers\"')\n",
    "Rodgers=QB_precip_df[[\"QB Rating\", \"lastName\"]]\n",
    "Rodgers=Rodgers.query('lastName == \"Rodgers\"')\n",
    "Wilson=QB_precip_df[[\"QB Rating\", \"lastName\"]]\n",
    "Wilson=Wilson.query('lastName == \"Wilson\"')\n",
    "Brees=QB_precip_df[[\"QB Rating\", \"lastName\"]]\n",
    "Brees=Brees.query('lastName == \"Brees\"')\n",
    "Jackson=QB_precip_df[[\"QB Rating\", \"lastName\"]]\n",
    "Jackson=Jackson.query('lastName == \"Jackson\"')\n",
    "Mahomes=QB_precip_df[[\"QB Rating\", \"lastName\"]]\n",
    "Mahomes=Mahomes.query('lastName == \"Mahomes\"')\n",
    "Kizer=QB_precip_df[[\"QB Rating\", \"lastName\"]]\n",
    "Kizer=Kizer.query('lastName == \"Kizer\"')\n",
    "Foles=QB_precip_df[[\"QB Rating\", \"lastName\"]]\n",
    "Foles=Foles.query('lastName == \"Foles\"')\n",
    "Driskel=QB_precip_df[[\"QB Rating\", \"lastName\"]]\n",
    "Driskel=Driskel.query('lastName == \"Driskel\"')\n",
    "Haskins=QB_precip_df[[\"QB Rating\", \"lastName\"]]\n",
    "Haskins=Haskins.query('lastName == \"Haskins\"')\n",
    "Gabbert=QB_precip_df[[\"QB Rating\", \"lastName\"]]\n",
    "Gabbert=Gabbert.query('lastName == \"Gabbert\"')\n",
    "print(f'Kizer mean in precipitation = {Kizer.mean()}')\n",
    "print(f'Foles mean in precipitation = {Foles.mean()}')\n",
    "print(f'Driskel mean in precipitation = {Driskel.mean()}')\n",
    "print(f'Haskins mean in precipitation = {Haskins.mean()}')\n",
    "print(f'Gabbert mean in precipitation = {Gabbert.mean()}')\n",
    "print(f'Brady mean in precipitation= {Brady.mean()}')\n",
    "print(f'Carr mean in precipitation= {Carr.mean()}')\n",
    "print(f'Rivers mean in precipitation = {Rivers.mean()}')\n",
    "print(f'Rodgers mean in precipitation = {Rodgers.mean()}')\n",
    "print(f'Wilson mean in precipitation = {Wilson.mean()}')\n",
    "print(f'Brees mean in precipitation = {Brees.mean()}')\n",
    "print(f'Jackson mean in precipitation = {Jackson.mean()}')\n",
    "print(f'Mahomes mean in precipitation = {Mahomes.mean()}')"
   ]
  },
  {
   "cell_type": "code",
   "execution_count": 233,
   "metadata": {},
   "outputs": [
    {
     "data": {
      "text/plain": [
       "<matplotlib.lines.Line2D at 0x1cca6fb1580>"
      ]
     },
     "execution_count": 233,
     "metadata": {},
     "output_type": "execute_result"
    },
    {
     "data": {
      "image/png": "[encoded data removed]",
      "text/plain": [
       "<Figure size 1080x720 with 1 Axes>"
      ]
     },
     "metadata": {
      "needs_background": "light"
     },
     "output_type": "display_data"
    }
   ],
   "source": [
    "final_wind_df.plot(kind=\"bar\", width = .8, ylim= (80, 120), figsize = (15, 10), fontsize=30, \\\n",
    "                    color= {\"Brees\": \"purple\", \"Jackson\": \"red\", \"Mahomes\": \"green\", \"Rodgers\": \"m\", \"Wilson\": \"b\"}) \n",
    "plt.title(\"Top 5 QB (min 10 games) by QB rating (with means)\", fontsize=30)\n",
    "plt.xlabel(\"Wind Speed Category\", fontsize=30)\n",
    "plt.ylabel(\"QB player Rating\", fontsize=30)\n",
    "plt.axhline(y=QB_overall_mean, color=\"gray\", linestyle = '-')\n",
    "plt.axhline(y=103.2, color=\"purple\", linestyle = '-')\n",
    "plt.axhline(y=100.6, color=\"red\", linestyle = '-')\n",
    "plt.axhline(y=110.1, color=\"green\", linestyle = '-')\n",
    "plt.axhline(y=102.5, color=\"m\", linestyle = '-')\n",
    "plt.axhline(y=103.4, color=\"b\", linestyle = '--')\n",
    "#, color={\"Brees\": \"gray\", \"Jackson\": \"gray\", \"Mahomes\": \"green\", \"Rodgers\": \"gray\", \"Wilson\": \"gray\"})"
   ]
  },
  {
   "cell_type": "code",
   "execution_count": 139,
   "metadata": {},
   "outputs": [],
   "source": [
    "#top 5 by games played\n",
    "top_five_games=[\"Brady\", \"Rivers\", \"Rodgers\", \"Carr\", \"Wilson\"]\n",
    "top_game_df= QB_df[QB_df.lastName.isin(top_five_games)].copy()\n"
   ]
  },
  {
   "cell_type": "code",
   "execution_count": null,
   "metadata": {},
   "outputs": [],
   "source": []
  },
  {
   "cell_type": "code",
   "execution_count": null,
   "metadata": {},
   "outputs": [],
   "source": []
  },
  {
   "cell_type": "code",
   "execution_count": null,
   "metadata": {},
   "outputs": [],
   "source": []
  },
  {
   "cell_type": "code",
   "execution_count": null,
   "metadata": {},
   "outputs": [],
   "source": []
  },
  {
   "cell_type": "code",
   "execution_count": 140,
   "metadata": {},
   "outputs": [],
   "source": [
    "for qb_name,df_temp in QB_df.groupby(['lastName']):\n",
    "    temp_group = df_temp.groupby(['Wind Category'])['QB Rating'].mean()"
   ]
  },
  {
   "cell_type": "code",
   "execution_count": 141,
   "metadata": {},
   "outputs": [
    {
     "data": {
      "text/plain": [
       "['0-10', '11-25', '26-40']"
      ]
     },
     "execution_count": 141,
     "metadata": {},
     "output_type": "execute_result"
    }
   ],
   "source": [
    "list(temp_group.index)"
   ]
  },
  {
   "cell_type": "code",
   "execution_count": 142,
   "metadata": {},
   "outputs": [],
   "source": [
    "qb_wind_game_df = pd.DataFrame(top_game_df.groupby(['lastName', 'Wind Category'])[\"QB Rating\"].mean().dropna()).reset_index()\n"
   ]
  },
  {
   "cell_type": "code",
   "execution_count": 143,
   "metadata": {},
   "outputs": [],
   "source": [
    "final_wind_game_df = pd.DataFrame({}, index=list(temp_group.index))\n",
    "\n",
    "for idx,row in qb_wind_game_df.iterrows():\n",
    "    final_wind_game_df.loc[row[\"Wind Category\"], row[\"lastName\"]] = row[\"QB Rating\"]"
   ]
  },
  {
   "cell_type": "code",
   "execution_count": 235,
   "metadata": {},
   "outputs": [
    {
     "data": {
      "text/plain": [
       "<matplotlib.lines.Line2D at 0x1cca7663f70>"
      ]
     },
     "execution_count": 235,
     "metadata": {},
     "output_type": "execute_result"
    },
    {
     "data": {
      "image/png": "[encoded data removed]",
      "text/plain": [
       "<Figure size 1080x720 with 1 Axes>"
      ]
     },
     "metadata": {
      "needs_background": "light"
     },
     "output_type": "display_data"
    }
   ],
   "source": [
    "final_wind_game_df.plot(kind=\"bar\", width = .8, ylim= (80, 120), figsize = (15, 10), fontsize=30, color= {\"Brady\": \"cyan\", \"Carr\": \"pink\", \"Rivers\": \"yellow\", \"Rodgers\": \"m\", \"Wilson\": \"b\"}) \n",
    "plt.title(\"QB Rating of Top 5 QB by QB games played\", fontsize=30)\n",
    "plt.xlabel(\"Wind Category\", fontsize=30)\n",
    "plt.ylabel(\"QB player Rating\", fontsize=30)\n",
    "\n",
    "plt.axhline(y=QB_overall_mean, color=\"gray\", linestyle = '-')\n",
    "plt.axhline(y=99.4, color=\"cyan\", linestyle = '-')\n",
    "plt.axhline(y=94.5, color=\"pink\", linestyle = '-')\n",
    "plt.axhline(y=94.4, color=\"y\", linestyle = '--')\n",
    "plt.axhline(y=102.5, color=\"m\", linestyle = '-')\n",
    "plt.axhline(y=103.4, color=\"b\", linestyle = '-')\n",
    "\n"
   ]
  },
  {
   "cell_type": "code",
   "execution_count": 145,
   "metadata": {},
   "outputs": [],
   "source": [
    "#bottom 5 by games rating with 10+ games\n",
    "bottom_five_rating=[\"Kizer\", \"Foles\", \"Driskel\", \"Haskins\", \"Gabbert\"]\n",
    "bottom_five_df= QB_df[QB_df.lastName.isin(bottom_five_rating)].copy()"
   ]
  },
  {
   "cell_type": "code",
   "execution_count": 146,
   "metadata": {},
   "outputs": [],
   "source": [
    "qb_wind_bottom_df = pd.DataFrame(bottom_five_df.groupby(['lastName', 'Wind Category'])[\"QB Rating\"].mean().dropna()).reset_index()"
   ]
  },
  {
   "cell_type": "code",
   "execution_count": 147,
   "metadata": {},
   "outputs": [],
   "source": [
    "final_wind_bottom_df = pd.DataFrame({}, index=list(temp_group.index))\n",
    "\n",
    "for idx,row in qb_wind_bottom_df.iterrows():\n",
    "    final_wind_bottom_df.loc[row[\"Wind Category\"], row[\"lastName\"]] = row[\"QB Rating\"]"
   ]
  },
  {
   "cell_type": "code",
   "execution_count": 102,
   "metadata": {},
   "outputs": [
    {
     "name": "stdout",
     "output_type": "stream",
     "text": [
      "Kizer mean= QB Rating    58.452828\n",
      "dtype: float64\n",
      "Foles mean = QB Rating    73.506912\n",
      "dtype: float64\n",
      "Driskel mean = QB Rating    77.895184\n",
      "dtype: float64\n",
      "Haskins mean = QB Rating    76.691263\n",
      "dtype: float64\n",
      "Gabbert mean = QB Rating    75.902264\n",
      "dtype: float64\n"
     ]
    }
   ],
   "source": [
    "Kizer=QB_df[[\"QB Rating\", \"lastName\"]]\n",
    "Kizer=Kizer.query('lastName == \"Kizer\"')\n",
    "Foles=QB_df[[\"QB Rating\", \"lastName\"]]\n",
    "Foles=Foles.query('lastName == \"Foles\"')\n",
    "Driskel=QB_df[[\"QB Rating\", \"lastName\"]]\n",
    "Driskel=Driskel.query('lastName == \"Driskel\"')\n",
    "Haskins=QB_df[[\"QB Rating\", \"lastName\"]]\n",
    "Haskins=Haskins.query('lastName == \"Haskins\"')\n",
    "Gabbert=QB_df[[\"QB Rating\", \"lastName\"]]\n",
    "Gabbert=Gabbert.query('lastName == \"Gabbert\"')\n",
    "print(f'Kizer mean= {Kizer.mean()}')\n",
    "print(f'Foles mean = {Foles.mean()}')\n",
    "print(f'Driskel mean = {Driskel.mean()}')\n",
    "print(f'Haskins mean = {Haskins.mean()}')\n",
    "print(f'Gabbert mean = {Gabbert.mean()}')\n"
   ]
  },
  {
   "cell_type": "code",
   "execution_count": 236,
   "metadata": {},
   "outputs": [
    {
     "data": {
      "text/plain": [
       "<matplotlib.lines.Line2D at 0x1cca7702880>"
      ]
     },
     "execution_count": 236,
     "metadata": {},
     "output_type": "execute_result"
    },
    {
     "data": {
      "image/png": "[encoded data removed]",
      "text/plain": [
       "<Figure size 1080x720 with 1 Axes>"
      ]
     },
     "metadata": {
      "needs_background": "light"
     },
     "output_type": "display_data"
    }
   ],
   "source": [
    "final_wind_bottom_df.plot(kind=\"bar\", width = .8, ylim= (20, 100), figsize = (15, 10), fontsize=30, color= {\"Kizer\": \"blue\", \"Foles\": \"green\", \"Driskel\": \"orange\", \"Haskins\": \"m\", \"Gabbert\": \"r\"}) \n",
    "plt.title(\"Bottom 5 QB (min 10 games) by QB rating (with means)\", fontsize=30)\n",
    "plt.xlabel(\"Wind Speed Category\", fontsize=30)\n",
    "plt.ylabel(\"QB player Rating\", fontsize=30)\n",
    "\n",
    "plt.axhline(y=QB_overall_mean, color=\"gray\", linestyle = '-')\n",
    "plt.axhline(y=58, color=\"b\", linestyle = '-')\n",
    "plt.axhline(y=74, color=\"g\", linestyle = '-')\n",
    "plt.axhline(y=78, color=\"orange\", linestyle = '-')\n",
    "plt.axhline(y=77, color=\"m\", linestyle = '-')\n",
    "plt.axhline(y=76, color=\"r\", linestyle = '-')\n"
   ]
  },
  {
   "cell_type": "code",
   "execution_count": 149,
   "metadata": {},
   "outputs": [],
   "source": [
    "QB_temperature = QB_df[[\"QB Rating\", \"temperature\"]]"
   ]
  },
  {
   "cell_type": "code",
   "execution_count": 150,
   "metadata": {},
   "outputs": [
    {
     "data": {
      "text/plain": [
       "0    moderate(33-85) \n",
       "1    moderate(33-85) \n",
       "2    moderate(33-85) \n",
       "3    moderate(33-85) \n",
       "4    moderate(33-85) \n",
       "Name: temperature, dtype: category\n",
       "Categories (3, object): ['freezing (<=32)' < 'moderate(33-85) ' < 'hot (>85)']"
      ]
     },
     "execution_count": 150,
     "metadata": {},
     "output_type": "execute_result"
    }
   ],
   "source": [
    "#Create bins for temperature\n",
    "bins=[-1, 32, 85, 100,]\n",
    "group_labels=[\"freezing (<=32)\", \"moderate(33-85) \", \"hot (>85)\"]\n",
    "pd.cut(QB_temperature[\"temperature\"], bins, labels=group_labels).head()"
   ]
  },
  {
   "cell_type": "code",
   "execution_count": 190,
   "metadata": {},
   "outputs": [
    {
     "data": {
      "text/html": [
       "<div>\n",
       "<style scoped>\n",
       "    .dataframe tbody tr th:only-of-type {\n",
       "        vertical-align: middle;\n",
       "    }\n",
       "\n",
       "    .dataframe tbody tr th {\n",
       "        vertical-align: top;\n",
       "    }\n",
       "\n",
       "    .dataframe thead th {\n",
       "        text-align: right;\n",
       "    }\n",
       "</style>\n",
       "<table border=\"1\" class=\"dataframe\">\n",
       "  <thead>\n",
       "    <tr style=\"text-align: right;\">\n",
       "      <th></th>\n",
       "      <th>Unnamed: 0</th>\n",
       "      <th>gameId</th>\n",
       "      <th>season_x</th>\n",
       "      <th>week</th>\n",
       "      <th>lastName</th>\n",
       "      <th>firstName</th>\n",
       "      <th>position</th>\n",
       "      <th>uniformNumber</th>\n",
       "      <th>opponent</th>\n",
       "      <th>team</th>\n",
       "      <th>...</th>\n",
       "      <th>QB Rating</th>\n",
       "      <th>season_y</th>\n",
       "      <th>type</th>\n",
       "      <th>surface</th>\n",
       "      <th>temperature</th>\n",
       "      <th>conditions</th>\n",
       "      <th>windSpeed</th>\n",
       "      <th>Wind Category</th>\n",
       "      <th>Temperature Category</th>\n",
       "      <th>TemperatureCategory</th>\n",
       "    </tr>\n",
       "  </thead>\n",
       "  <tbody>\n",
       "    <tr>\n",
       "      <th>0</th>\n",
       "      <td>0</td>\n",
       "      <td>3603</td>\n",
       "      <td>2015</td>\n",
       "      <td>1</td>\n",
       "      <td>Kaepernick</td>\n",
       "      <td>C</td>\n",
       "      <td>QB</td>\n",
       "      <td>7</td>\n",
       "      <td>Vikings</td>\n",
       "      <td>49ers</td>\n",
       "      <td>...</td>\n",
       "      <td>83.012821</td>\n",
       "      <td>2015</td>\n",
       "      <td>Regular</td>\n",
       "      <td>Grass</td>\n",
       "      <td>66.2</td>\n",
       "      <td>mostly cloudy</td>\n",
       "      <td>9.20</td>\n",
       "      <td>0-10</td>\n",
       "      <td>moderate(33-85)</td>\n",
       "      <td>moderate(33-85)</td>\n",
       "    </tr>\n",
       "    <tr>\n",
       "      <th>1</th>\n",
       "      <td>1</td>\n",
       "      <td>3590</td>\n",
       "      <td>2015</td>\n",
       "      <td>1</td>\n",
       "      <td>Cutler</td>\n",
       "      <td>J</td>\n",
       "      <td>QB</td>\n",
       "      <td>6</td>\n",
       "      <td>Packers</td>\n",
       "      <td>Bears</td>\n",
       "      <td>...</td>\n",
       "      <td>67.476852</td>\n",
       "      <td>2015</td>\n",
       "      <td>Regular</td>\n",
       "      <td>Grass</td>\n",
       "      <td>69.1</td>\n",
       "      <td>mostly cloudy</td>\n",
       "      <td>8.10</td>\n",
       "      <td>0-10</td>\n",
       "      <td>moderate(33-85)</td>\n",
       "      <td>moderate(33-85)</td>\n",
       "    </tr>\n",
       "    <tr>\n",
       "      <th>2</th>\n",
       "      <td>2</td>\n",
       "      <td>3599</td>\n",
       "      <td>2015</td>\n",
       "      <td>1</td>\n",
       "      <td>Dalton</td>\n",
       "      <td>A</td>\n",
       "      <td>QB</td>\n",
       "      <td>14</td>\n",
       "      <td>Raiders</td>\n",
       "      <td>Bengals</td>\n",
       "      <td>...</td>\n",
       "      <td>115.931373</td>\n",
       "      <td>2015</td>\n",
       "      <td>Regular</td>\n",
       "      <td>Grass</td>\n",
       "      <td>64.0</td>\n",
       "      <td>scattered clouds</td>\n",
       "      <td>15.00</td>\n",
       "      <td>11-25</td>\n",
       "      <td>moderate(33-85)</td>\n",
       "      <td>moderate(33-85)</td>\n",
       "    </tr>\n",
       "    <tr>\n",
       "      <th>3</th>\n",
       "      <td>3</td>\n",
       "      <td>3589</td>\n",
       "      <td>2015</td>\n",
       "      <td>1</td>\n",
       "      <td>Taylor</td>\n",
       "      <td>T</td>\n",
       "      <td>QB</td>\n",
       "      <td>2</td>\n",
       "      <td>Colts</td>\n",
       "      <td>Bills</td>\n",
       "      <td>...</td>\n",
       "      <td>123.793860</td>\n",
       "      <td>2015</td>\n",
       "      <td>Regular</td>\n",
       "      <td>Turf</td>\n",
       "      <td>53.1</td>\n",
       "      <td>light rain</td>\n",
       "      <td>13.80</td>\n",
       "      <td>11-25</td>\n",
       "      <td>moderate(33-85)</td>\n",
       "      <td>moderate(33-85)</td>\n",
       "    </tr>\n",
       "    <tr>\n",
       "      <th>4</th>\n",
       "      <td>4</td>\n",
       "      <td>3598</td>\n",
       "      <td>2015</td>\n",
       "      <td>1</td>\n",
       "      <td>Manning</td>\n",
       "      <td>P</td>\n",
       "      <td>QB</td>\n",
       "      <td>18</td>\n",
       "      <td>Ravens</td>\n",
       "      <td>Broncos</td>\n",
       "      <td>...</td>\n",
       "      <td>59.895833</td>\n",
       "      <td>2015</td>\n",
       "      <td>Regular</td>\n",
       "      <td>Grass</td>\n",
       "      <td>82.9</td>\n",
       "      <td>mostly cloudy</td>\n",
       "      <td>11.50</td>\n",
       "      <td>11-25</td>\n",
       "      <td>moderate(33-85)</td>\n",
       "      <td>moderate(33-85)</td>\n",
       "    </tr>\n",
       "    <tr>\n",
       "      <th>...</th>\n",
       "      <td>...</td>\n",
       "      <td>...</td>\n",
       "      <td>...</td>\n",
       "      <td>...</td>\n",
       "      <td>...</td>\n",
       "      <td>...</td>\n",
       "      <td>...</td>\n",
       "      <td>...</td>\n",
       "      <td>...</td>\n",
       "      <td>...</td>\n",
       "      <td>...</td>\n",
       "      <td>...</td>\n",
       "      <td>...</td>\n",
       "      <td>...</td>\n",
       "      <td>...</td>\n",
       "      <td>...</td>\n",
       "      <td>...</td>\n",
       "      <td>...</td>\n",
       "      <td>...</td>\n",
       "      <td>...</td>\n",
       "      <td>...</td>\n",
       "    </tr>\n",
       "    <tr>\n",
       "      <th>2313</th>\n",
       "      <td>3137</td>\n",
       "      <td>5455</td>\n",
       "      <td>2020</td>\n",
       "      <td>17</td>\n",
       "      <td>Jackson</td>\n",
       "      <td>Lamar</td>\n",
       "      <td>QB</td>\n",
       "      <td>8</td>\n",
       "      <td>Bengals</td>\n",
       "      <td>Ravens</td>\n",
       "      <td>...</td>\n",
       "      <td>90.972222</td>\n",
       "      <td>2020</td>\n",
       "      <td>Regular</td>\n",
       "      <td>Turf</td>\n",
       "      <td>39.0</td>\n",
       "      <td>overcast clouds</td>\n",
       "      <td>14.99</td>\n",
       "      <td>11-25</td>\n",
       "      <td>moderate(33-85)</td>\n",
       "      <td>moderate(33-85)</td>\n",
       "    </tr>\n",
       "    <tr>\n",
       "      <th>2314</th>\n",
       "      <td>3138</td>\n",
       "      <td>5453</td>\n",
       "      <td>2020</td>\n",
       "      <td>17</td>\n",
       "      <td>Brees</td>\n",
       "      <td>D</td>\n",
       "      <td>QB</td>\n",
       "      <td>9</td>\n",
       "      <td>Panthers</td>\n",
       "      <td>Saints</td>\n",
       "      <td>...</td>\n",
       "      <td>116.796875</td>\n",
       "      <td>2020</td>\n",
       "      <td>Regular</td>\n",
       "      <td>Grass</td>\n",
       "      <td>57.0</td>\n",
       "      <td>broken clouds</td>\n",
       "      <td>6.93</td>\n",
       "      <td>0-10</td>\n",
       "      <td>moderate(33-85)</td>\n",
       "      <td>moderate(33-85)</td>\n",
       "    </tr>\n",
       "    <tr>\n",
       "      <th>2315</th>\n",
       "      <td>3139</td>\n",
       "      <td>5467</td>\n",
       "      <td>2020</td>\n",
       "      <td>17</td>\n",
       "      <td>Wilson</td>\n",
       "      <td>R</td>\n",
       "      <td>QB</td>\n",
       "      <td>3</td>\n",
       "      <td>49ers</td>\n",
       "      <td>Seahawks</td>\n",
       "      <td>...</td>\n",
       "      <td>87.847222</td>\n",
       "      <td>2020</td>\n",
       "      <td>Regular</td>\n",
       "      <td>Grass</td>\n",
       "      <td>57.0</td>\n",
       "      <td>broken clouds</td>\n",
       "      <td>4.70</td>\n",
       "      <td>0-10</td>\n",
       "      <td>moderate(33-85)</td>\n",
       "      <td>moderate(33-85)</td>\n",
       "    </tr>\n",
       "    <tr>\n",
       "      <th>2316</th>\n",
       "      <td>3140</td>\n",
       "      <td>5456</td>\n",
       "      <td>2020</td>\n",
       "      <td>17</td>\n",
       "      <td>Rudolph</td>\n",
       "      <td>Mason</td>\n",
       "      <td>QB</td>\n",
       "      <td>2</td>\n",
       "      <td>Browns</td>\n",
       "      <td>Steelers</td>\n",
       "      <td>...</td>\n",
       "      <td>89.155983</td>\n",
       "      <td>2020</td>\n",
       "      <td>Regular</td>\n",
       "      <td>Grass</td>\n",
       "      <td>39.0</td>\n",
       "      <td>overcast clouds</td>\n",
       "      <td>6.93</td>\n",
       "      <td>0-10</td>\n",
       "      <td>moderate(33-85)</td>\n",
       "      <td>moderate(33-85)</td>\n",
       "    </tr>\n",
       "    <tr>\n",
       "      <th>2317</th>\n",
       "      <td>3144</td>\n",
       "      <td>5463</td>\n",
       "      <td>2020</td>\n",
       "      <td>17</td>\n",
       "      <td>Smith</td>\n",
       "      <td>A</td>\n",
       "      <td>QB</td>\n",
       "      <td>11</td>\n",
       "      <td>Eagles</td>\n",
       "      <td>Washington</td>\n",
       "      <td>...</td>\n",
       "      <td>75.260417</td>\n",
       "      <td>2020</td>\n",
       "      <td>Regular</td>\n",
       "      <td>Grass</td>\n",
       "      <td>38.0</td>\n",
       "      <td>light rain</td>\n",
       "      <td>10.29</td>\n",
       "      <td>11-25</td>\n",
       "      <td>moderate(33-85)</td>\n",
       "      <td>moderate(33-85)</td>\n",
       "    </tr>\n",
       "  </tbody>\n",
       "</table>\n",
       "<p>2318 rows × 33 columns</p>\n",
       "</div>"
      ],
      "text/plain": [
       "      Unnamed: 0  gameId  season_x  week    lastName firstName position  \\\n",
       "0              0    3603      2015     1  Kaepernick         C       QB   \n",
       "1              1    3590      2015     1      Cutler         J       QB   \n",
       "2              2    3599      2015     1      Dalton         A       QB   \n",
       "3              3    3589      2015     1      Taylor         T       QB   \n",
       "4              4    3598      2015     1     Manning         P       QB   \n",
       "...          ...     ...       ...   ...         ...       ...      ...   \n",
       "2313        3137    5455      2020    17     Jackson     Lamar       QB   \n",
       "2314        3138    5453      2020    17       Brees         D       QB   \n",
       "2315        3139    5467      2020    17      Wilson         R       QB   \n",
       "2316        3140    5456      2020    17     Rudolph     Mason       QB   \n",
       "2317        3144    5463      2020    17       Smith         A       QB   \n",
       "\n",
       "      uniformNumber  opponent        team  ...   QB Rating  season_y     type  \\\n",
       "0                 7   Vikings       49ers  ...   83.012821      2015  Regular   \n",
       "1                 6   Packers       Bears  ...   67.476852      2015  Regular   \n",
       "2                14   Raiders     Bengals  ...  115.931373      2015  Regular   \n",
       "3                 2     Colts       Bills  ...  123.793860      2015  Regular   \n",
       "4                18    Ravens     Broncos  ...   59.895833      2015  Regular   \n",
       "...             ...       ...         ...  ...         ...       ...      ...   \n",
       "2313              8   Bengals      Ravens  ...   90.972222      2020  Regular   \n",
       "2314              9  Panthers      Saints  ...  116.796875      2020  Regular   \n",
       "2315              3     49ers    Seahawks  ...   87.847222      2020  Regular   \n",
       "2316              2    Browns    Steelers  ...   89.155983      2020  Regular   \n",
       "2317             11    Eagles  Washington  ...   75.260417      2020  Regular   \n",
       "\n",
       "      surface  temperature        conditions  windSpeed  Wind Category  \\\n",
       "0       Grass         66.2     mostly cloudy       9.20           0-10   \n",
       "1       Grass         69.1     mostly cloudy       8.10           0-10   \n",
       "2       Grass         64.0  scattered clouds      15.00          11-25   \n",
       "3        Turf         53.1        light rain      13.80          11-25   \n",
       "4       Grass         82.9     mostly cloudy      11.50          11-25   \n",
       "...       ...          ...               ...        ...            ...   \n",
       "2313     Turf         39.0   overcast clouds      14.99          11-25   \n",
       "2314    Grass         57.0     broken clouds       6.93           0-10   \n",
       "2315    Grass         57.0     broken clouds       4.70           0-10   \n",
       "2316    Grass         39.0   overcast clouds       6.93           0-10   \n",
       "2317    Grass         38.0        light rain      10.29          11-25   \n",
       "\n",
       "      Temperature Category  TemperatureCategory  \n",
       "0         moderate(33-85)      moderate(33-85)   \n",
       "1         moderate(33-85)      moderate(33-85)   \n",
       "2         moderate(33-85)      moderate(33-85)   \n",
       "3         moderate(33-85)      moderate(33-85)   \n",
       "4         moderate(33-85)      moderate(33-85)   \n",
       "...                    ...                  ...  \n",
       "2313      moderate(33-85)      moderate(33-85)   \n",
       "2314      moderate(33-85)      moderate(33-85)   \n",
       "2315      moderate(33-85)      moderate(33-85)   \n",
       "2316      moderate(33-85)      moderate(33-85)   \n",
       "2317      moderate(33-85)      moderate(33-85)   \n",
       "\n",
       "[2318 rows x 33 columns]"
      ]
     },
     "execution_count": 190,
     "metadata": {},
     "output_type": "execute_result"
    }
   ],
   "source": [
    "QB_df['TemperatureCategory'] = pd.cut(QB_df['temperature'], bins, labels=group_labels)\n",
    "QB_df"
   ]
  },
  {
   "cell_type": "code",
   "execution_count": null,
   "metadata": {},
   "outputs": [],
   "source": [
    "#top 5 by QB Rating\n",
    "top_five_rating=[\"Mahomes\", \"Wilson\", \"Brees\", \"Rodgers\", \"Jackson\"]\n",
    "top_QB_Rating_df= QB_df[QB_df.lastName.isin(top_five_rating)].copy()"
   ]
  },
  {
   "cell_type": "code",
   "execution_count": 188,
   "metadata": {},
   "outputs": [],
   "source": [
    "for qb_name,df_temp in QB_df.groupby(['lastName']):\n",
    "    \n",
    "    \n",
    "    temp_group = df_temp.groupby(['Temperature Category'])['QB Rating'].mean()"
   ]
  },
  {
   "cell_type": "code",
   "execution_count": 191,
   "metadata": {},
   "outputs": [],
   "source": [
    "qb_temperature_rating_df = pd.DataFrame(top_QB_Rating_df.groupby\\\n",
    "                               (['lastName', 'Temperature Category'])[\"QB Rating\"].mean().dropna()).reset_index()\n"
   ]
  },
  {
   "cell_type": "code",
   "execution_count": 192,
   "metadata": {},
   "outputs": [],
   "source": [
    "final_temperature_rating_df = pd.DataFrame({}, index=list(temp_group.index))\n",
    "\n",
    "for idx,row in qb_temperature_rating_df.iterrows():\n",
    "    final_temperature_rating_df.loc[row[\"Temperature Category\"], row[\"lastName\"]] = row[\"QB Rating\"]"
   ]
  },
  {
   "cell_type": "code",
   "execution_count": 226,
   "metadata": {},
   "outputs": [
    {
     "data": {
      "text/plain": [
       "<matplotlib.lines.Line2D at 0x1cca8315250>"
      ]
     },
     "execution_count": 226,
     "metadata": {},
     "output_type": "execute_result"
    },
    {
     "data": {
      "image/png": "[encoded data removed]",
      "text/plain": [
       "<Figure size 1080x720 with 1 Axes>"
      ]
     },
     "metadata": {
      "needs_background": "light"
     },
     "output_type": "display_data"
    }
   ],
   "source": [
    "final_temperature_rating_df.plot(kind=\"bar\", width = .8, ylim= (80, 170), figsize = (15, 10), fontsize=30, \\\n",
    "                    color= {\"Brees\": \"purple\", \"Jackson\": \"red\", \"Mahomes\": \"green\", \"Rodgers\": \"m\", \"Wilson\": \"b\"}) \n",
    "plt.title(\"Top 5 QB (min 10) by QB rating (with means)\", fontsize=30)\n",
    "plt.xlabel(\"Temperature Category\", fontsize=25)\n",
    "plt.ylabel(\"QB player Rating\", fontsize=30)\n",
    "plt.axhline(y=QB_overall_mean, color=\"gray\", linestyle = '-')\n",
    "plt.axhline(y=103.2, color=\"purple\", linestyle = '-')\n",
    "plt.axhline(y=100.6, color=\"red\", linestyle = '-')\n",
    "plt.axhline(y=110.1, color=\"green\", linestyle = '-')\n",
    "plt.axhline(y=102.5, color=\"m\", linestyle = '-')\n",
    "plt.axhline(y=103.4, color=\"b\", linestyle = '--')"
   ]
  },
  {
   "cell_type": "code",
   "execution_count": null,
   "metadata": {},
   "outputs": [],
   "source": []
  },
  {
   "cell_type": "code",
   "execution_count": 153,
   "metadata": {},
   "outputs": [],
   "source": [
    "#top 5 by games played\n",
    "top_five_games=[\"Brady\", \"Rivers\", \"Rodgers\", \"Carr\", \"Wilson\"]\n",
    "top_game_df= QB_df[QB_df.lastName.isin(top_five_games)].copy()\n"
   ]
  },
  {
   "cell_type": "code",
   "execution_count": 154,
   "metadata": {},
   "outputs": [],
   "source": [
    "for qb_name,df_temp in QB_df.groupby(['lastName']):\n",
    "    \n",
    "    \n",
    "    temp_group = df_temp.groupby(['Temperature Category'])['QB Rating'].mean()"
   ]
  },
  {
   "cell_type": "code",
   "execution_count": 128,
   "metadata": {},
   "outputs": [],
   "source": [
    "qb_temperature_game_df = pd.DataFrame(top_game_df.groupby\\\n",
    "                               (['lastName', 'Temperature Category'])[\"QB Rating\"].mean().dropna()).reset_index()\n"
   ]
  },
  {
   "cell_type": "code",
   "execution_count": 156,
   "metadata": {},
   "outputs": [
    {
     "data": {
      "text/plain": [
       "['freezing (<=32)', 'moderate(33-85) ', 'hot (>85)']"
      ]
     },
     "execution_count": 156,
     "metadata": {},
     "output_type": "execute_result"
    }
   ],
   "source": [
    "list(temp_group.index)"
   ]
  },
  {
   "cell_type": "code",
   "execution_count": 155,
   "metadata": {},
   "outputs": [],
   "source": [
    "final_temperature_df = pd.DataFrame({}, index=list(temp_group.index))\n",
    "\n",
    "for idx,row in qb_temperature_game_df.iterrows():\n",
    "    final_temperature_df.loc[row[\"Temperature Category\"], row[\"lastName\"]] = row[\"QB Rating\"]"
   ]
  },
  {
   "cell_type": "code",
   "execution_count": 230,
   "metadata": {},
   "outputs": [
    {
     "data": {
      "text/plain": [
       "<matplotlib.lines.Line2D at 0x1cca6eebf70>"
      ]
     },
     "execution_count": 230,
     "metadata": {},
     "output_type": "execute_result"
    },
    {
     "data": {
      "image/png": "[encoded data removed]",
      "text/plain": [
       "<Figure size 1080x720 with 1 Axes>"
      ]
     },
     "metadata": {
      "needs_background": "light"
     },
     "output_type": "display_data"
    }
   ],
   "source": [
    "final_temperature_df.plot(kind=\"bar\", width = .8, ylim= (80, 120), figsize = (15, 10),fontsize=30, color= {\"Brady\": \"cyan\", \"Carr\": \"pink\", \"Rivers\": \"yellow\", \"Rodgers\": \"m\", \"Wilson\": \"b\"}) \n",
    "plt.title(\"Top 5 QB by Games Played (with means)\", fontsize=30)\n",
    "plt.xlabel(\"Temperature Category\", fontsize=30)\n",
    "plt.ylabel(\"QB player Rating\", fontsize=30)\n",
    "plt.axhline(y=QB_overall_mean, color=\"gray\", linestyle = '-')\n",
    "plt.axhline(y=99.4, color=\"cyan\", linestyle = '-')\n",
    "plt.axhline(y=94.5, color=\"pink\", linestyle = '-')\n",
    "plt.axhline(y=94.4, color=\"y\", linestyle = '--')\n",
    "plt.axhline(y=102.5, color=\"m\", linestyle = '-')\n",
    "plt.axhline(y=103.4, color=\"b\", linestyle = '-')\n"
   ]
  },
  {
   "cell_type": "code",
   "execution_count": 165,
   "metadata": {},
   "outputs": [],
   "source": [
    "#bottom 5 by games rating with 10+ games\n",
    "bottom_five_rating=[\"Kizer\", \"Foles\", \"Driskel\", \"Haskins\", \"Gabbert\"]\n",
    "bottom_five_df= QB_df[QB_df.lastName.isin(bottom_five_rating)].copy()"
   ]
  },
  {
   "cell_type": "code",
   "execution_count": null,
   "metadata": {},
   "outputs": [],
   "source": [
    "for qb_name,df_temp in QB_df.groupby(['lastName']):\n",
    "    \n",
    "    \n",
    "    temp_group = df_temp.groupby(['Temperature Category'])['QB Rating'].mean()"
   ]
  },
  {
   "cell_type": "code",
   "execution_count": 166,
   "metadata": {},
   "outputs": [],
   "source": [
    "qb_temperature_bottom_df = pd.DataFrame(bottom_five_df.groupby\\\n",
    "                               (['lastName', 'Temperature Category'])[\"QB Rating\"].mean().dropna()).reset_index()\n"
   ]
  },
  {
   "cell_type": "code",
   "execution_count": 167,
   "metadata": {},
   "outputs": [],
   "source": [
    "final_temperature_bottom_df = pd.DataFrame({}, index=list(temp_group.index))\n",
    "for idx,row in qb_temperature_bottom_df.iterrows():\n",
    "    final_temperature_bottom_df.loc[row[\"Temperature Category\"], row[\"lastName\"]] = row[\"QB Rating\"]"
   ]
  },
  {
   "cell_type": "code",
   "execution_count": 229,
   "metadata": {},
   "outputs": [
    {
     "data": {
      "text/plain": [
       "<matplotlib.lines.Line2D at 0x1cca6e60a00>"
      ]
     },
     "execution_count": 229,
     "metadata": {},
     "output_type": "execute_result"
    },
    {
     "data": {
      "image/png": "[encoded data removed]",
      "text/plain": [
       "<Figure size 1080x720 with 1 Axes>"
      ]
     },
     "metadata": {
      "needs_background": "light"
     },
     "output_type": "display_data"
    }
   ],
   "source": [
    "final_temperature_bottom_df.plot(kind=\"bar\", width = .8, ylim= (20, 100), figsize = (15, 10), fontsize=30, color= {\"Kizer\": \"blue\", \"Foles\": \"green\", \"Driskel\": \"orange\", \"Haskins\": \"m\", \"Gabbert\": \"r\"}) \n",
    "plt.title(\"Bottom 5 QB (min 10 games) by QB rating (with means)\", fontsize=30)\n",
    "plt.xlabel(\"Temperature Category\", fontsize=30)\n",
    "plt.ylabel(\"QB player Rating\", fontsize=30)\n",
    "\n",
    "plt.axhline(y=QB_overall_mean, color=\"gray\", linestyle = '-')\n",
    "plt.axhline(y=58, color=\"b\", linestyle = '-')\n",
    "plt.axhline(y=74, color=\"g\", linestyle = '-')\n",
    "plt.axhline(y=78, color=\"orange\", linestyle = '-')\n",
    "plt.axhline(y=77, color=\"m\", linestyle = '-')\n",
    "plt.axhline(y=76, color=\"r\", linestyle = '-')\n"
   ]
  },
  {
   "cell_type": "code",
   "execution_count": null,
   "metadata": {},
   "outputs": [],
   "source": []
  },
  {
   "cell_type": "code",
   "execution_count": null,
   "metadata": {},
   "outputs": [],
   "source": []
  },
  {
   "cell_type": "code",
   "execution_count": null,
   "metadata": {},
   "outputs": [],
   "source": []
  },
  {
   "cell_type": "code",
   "execution_count": null,
   "metadata": {},
   "outputs": [],
   "source": [
    "fig, ax = plt.subplots()\n",
    "for qb_name,df_temp in top_QB_Rating_df.groupby(['lastName']):\n",
    "\n",
    "    if qb_name==\"Henne\":\n",
    "        color=\"b\"\n",
    "    else:\n",
    "        color=\"gray\"\n",
    "        \n",
    "    temp_group = df_temp.groupby(['Wind Category'])['QB Rating'].mean()\n",
    "    ax = pd.DataFrame(temp_group).reset_index().plot(ax=ax, kind='line', x='Wind Category',y='QB Rating', c=color, label=qb_name)\n",
    "\n",
    "#x_axis = np.arange(len(\"Wind Category\"))    \n",
    "#tick_locations = [value for value in x_axis]\n",
    "\n",
    "#plt.xticks(tick_locations, group_labels)\n",
    "plt.legend()\n",
    "plt.show()"
   ]
  },
  {
   "cell_type": "code",
   "execution_count": null,
   "metadata": {},
   "outputs": [],
   "source": [
    "fig, ax = plt.subplots()\n",
    "for qb_name,df_temp in top_QB_Rating_df.groupby(['lastName']):\n",
    "\n",
    "    if qb_name==\"Jackson\":\n",
    "        color=\"orange\"\n",
    "    else:\n",
    "        color=\"gray\"\n",
    "        \n",
    "    temp_group = df_temp.groupby(['Wind Category'])['QB Rating'].mean()\n",
    "    ax = pd.DataFrame(temp_group).reset_index().plot(ax=ax, kind='line', x='Wind Category',y='QB Rating', c=color, label=qb_name)\n",
    "\n",
    "#x_axis = np.arange(len(\"Wind Category\"))    \n",
    "#tick_locations = [value for value in x_axis]\n",
    "\n",
    "#plt.xticks(tick_locations, group_labels)\n",
    "plt.legend()\n",
    "plt.show()"
   ]
  },
  {
   "cell_type": "code",
   "execution_count": null,
   "metadata": {},
   "outputs": [],
   "source": [
    "fig, ax = plt.subplots()\n",
    "for qb_name,df_temp in top_QB_Rating_df.groupby(['lastName']):\n",
    "\n",
    "    if qb_name==\"Mahomes\":\n",
    "        color=\"g\"\n",
    "    else:\n",
    "        color=\"gray\"\n",
    "        \n",
    "    temp_group = df_temp.groupby(['Wind Category'])['QB Rating'].mean()\n",
    "    ax = pd.DataFrame(temp_group).reset_index().plot(ax=ax, kind='line', x='Wind Category',y='QB Rating', c=color, label=qb_name)\n",
    "\n",
    "#x_axis = np.arange(len(\"Wind Category\"))    \n",
    "#tick_locations = [value for value in x_axis]\n",
    "\n",
    "#plt.xticks(tick_locations, group_labels)\n",
    "plt.legend()\n",
    "plt.show()"
   ]
  },
  {
   "cell_type": "code",
   "execution_count": null,
   "metadata": {},
   "outputs": [],
   "source": [
    "fig, ax = plt.subplots()\n",
    "for qb_name,df_temp in top_QB_df.groupby(['lastName']):\n",
    "    if qb_name==\"Wilson\":\n",
    "        color=\"m\"\n",
    "    else:\n",
    "        color=\"gray\"\n",
    "    \n",
    "    temp_group = df_temp.groupby(['Wind Category'])['QB Rating'].mean()\n",
    "    ax = pd.DataFrame(temp_group).reset_index().plot(ax=ax, kind='line', x='Wind Category',y='QB Rating',c=color, label=qb_name)\n",
    "#xticks=\n",
    "plt.legend()\n",
    "plt.show()"
   ]
  },
  {
   "cell_type": "code",
   "execution_count": null,
   "metadata": {},
   "outputs": [],
   "source": [
    "fig, ax = plt.subplots()\n",
    "for qb_name,df_temp in top_QB_df.groupby(['lastName']):\n",
    "    if qb_name==\"Carr\":\n",
    "        color=\"y\"\n",
    "    else:\n",
    "        color=\"gray\"\n",
    "    \n",
    "    temp_group = df_temp.groupby(['Wind Category'])['QB Rating'].mean()\n",
    "    ax = pd.DataFrame(temp_group).reset_index().plot(ax=ax, kind='line', x='Wind Category',y='QB Rating',c=color, label=qb_name)\n",
    "#xticks=\n",
    "plt.legend()\n",
    "plt.show()"
   ]
  },
  {
   "cell_type": "code",
   "execution_count": null,
   "metadata": {},
   "outputs": [],
   "source": [
    "fig, ax = plt.subplots()\n",
    "for qb_name,df_temp in top_QB_df.groupby(['lastName']):\n",
    "    if qb_name==\"Brady\":\n",
    "        color=\"b\"\n",
    "    else:\n",
    "        color=\"gray\"\n",
    "    \n",
    "    temp_group = df_temp.groupby(['Wind Category'])['QB Rating'].mean()\n",
    "    ax = pd.DataFrame(temp_group).reset_index().plot(ax=ax, kind='line', x='Wind Category',y='QB Rating',c=color, label=qb_name)\n",
    "\n",
    "#x_axis = np.arange(len(\"Wind Category\"))    \n",
    "#tick_locations = [value for value in x_axis]\n",
    "\n",
    "#plt.xticks(tick_locations, group_labels)\n",
    "plt.legend()\n",
    "plt.show()"
   ]
  },
  {
   "cell_type": "code",
   "execution_count": null,
   "metadata": {},
   "outputs": [],
   "source": [
    "fig, ax = plt.subplots()\n",
    "for qb_name,df_temp in top_QB_df.groupby(['lastName']):\n",
    "    if qb_name==\"Rivers\":\n",
    "        color=\"g\"\n",
    "    else:\n",
    "        color=\"gray\"\n",
    "    \n",
    "    temp_group = df_temp.groupby(['Wind Category'])['QB Rating'].mean()\n",
    "    ax = pd.DataFrame(temp_group).reset_index().plot(ax=ax, kind='line', x='Wind Category',y='QB Rating',c=color, label=qb_name)\n",
    "#xticks=\n",
    "plt.legend()\n",
    "plt.show()"
   ]
  },
  {
   "cell_type": "code",
   "execution_count": null,
   "metadata": {},
   "outputs": [],
   "source": [
    "fig, ax = plt.subplots()\n",
    "for qb_name,df_temp in top_QB_Rating_df.groupby(['lastName']):\n",
    "\n",
    "    if qb_name==\"Weeden\":\n",
    "        color=\"r\"\n",
    "    else:\n",
    "        color=\"gray\"\n",
    "        \n",
    "    temp_group = df_temp.groupby(['Wind Category'])['QB Rating'].mean()\n",
    "    ax = pd.DataFrame(temp_group).reset_index().plot(ax=ax, kind='line', x='Wind Category',y='QB Rating', c=color, label=qb_name)\n",
    "\n",
    "#x_axis = np.arange(len(\"Wind Category\"))    \n",
    "#tick_locations = [value for value in x_axis]\n",
    "\n",
    "#plt.xticks(tick_locations, group_labels)\n",
    "plt.legend()\n",
    "plt.show()"
   ]
  },
  {
   "cell_type": "code",
   "execution_count": null,
   "metadata": {},
   "outputs": [],
   "source": [
    "fig, ax = plt.subplots()\n",
    "for qb_name,df_temp in top_QB_Rating_df.groupby(['lastName']):\n",
    "\n",
    "    if qb_name==\"Wilson\":\n",
    "        color=\"purple\"\n",
    "    else:\n",
    "        color=\"gray\"\n",
    "        \n",
    "    temp_group = df_temp.groupby(['Wind Category'])['QB Rating'].mean()\n",
    "    ax = pd.DataFrame(temp_group).reset_index().plot(ax=ax, kind='line', x='Wind Category',y='QB Rating', c=color, label=qb_name)\n",
    "\n",
    "#x_axis = np.arange(len(\"Wind Category\"))    \n",
    "#tick_locations = [value for value in x_axis]\n",
    "\n",
    "#plt.xticks(tick_locations, group_labels)\n",
    "plt.legend()\n",
    "plt.show()"
   ]
  },
  {
   "cell_type": "code",
   "execution_count": null,
   "metadata": {},
   "outputs": [],
   "source": [
    "fig, ax = plt.subplots()\n",
    "for qb_name,df_temp in top_QB_df.groupby(['lastName']):\n",
    "    if qb_name==\"Rodgers\":\n",
    "        color=\"r\"\n",
    "    else:\n",
    "        color=\"gray\"\n",
    "    \n",
    "    temp_group = df_temp.groupby(['Wind Category'])['QB Rating'].mean()\n",
    "    ax = pd.DataFrame(temp_group).reset_index().plot(ax=ax, kind='line', x='Wind Category',y='QB Rating',c=color, label=qb_name)\n",
    "#xticks=\n",
    "ax.set_xlim(left=0, right=6)\n",
    "\n",
    "plt.legend()\n",
    "plt.show()"
   ]
  },
  {
   "cell_type": "code",
   "execution_count": null,
   "metadata": {},
   "outputs": [],
   "source": [
    "QB_index=QB_df.set_index(\"lastName\").groupby([\"lastName\"])\n",
    "Avg_QB_Rating_df=QB_index[\"QB Rating\"].mean()\n",
    "\n",
    "Avg_QB_Rating_df.sort_values(ascending=False).tail(20)"
   ]
  },
  {
   "cell_type": "code",
   "execution_count": null,
   "metadata": {},
   "outputs": [],
   "source": [
    "games_played_query=QB_df.query('lastName == \"Tolzien\"or lastName == \"Stidham\"  or lastName == \"Sanchez\" or \\\n",
    "lastName == \"Walker\" or lastName == \"Sudfield\" ')\n",
    "\n",
    "games_played_query[\"lastName\"].value_counts()"
   ]
  },
  {
   "cell_type": "code",
   "execution_count": null,
   "metadata": {},
   "outputs": [],
   "source": [
    "games_played_query=QB_df.query('lastName == \"Luten\"or lastName == \"Peterman\"  or lastName == \"Stanton\" or \\\n",
    "lastName == \"Finley\" or lastName == \"Kizer\" ')\n",
    "\n",
    "games_played_query[\"lastName\"].value_counts()"
   ]
  },
  {
   "cell_type": "code",
   "execution_count": null,
   "metadata": {},
   "outputs": [],
   "source": [
    "games_played_query=QB_df.query('lastName == \"Hurts\" or lastName == \"Griffin\"  or lastName == \"Falk\" or \\\n",
    "lastName == \"Petty\" or lastName == \"Rosen\" ')\n",
    "\n",
    "games_played_query[\"lastName\"].value_counts()"
   ]
  },
  {
   "cell_type": "code",
   "execution_count": null,
   "metadata": {},
   "outputs": [],
   "source": [
    "games_played_query=QB_df.query('lastName == \"DiNucci\"or lastName == \"Clausen\"  or lastName == \"Savage\" or \\\n",
    "lastName == \"Rypien\" or lastName == \"Cassel\" ')\n",
    "\n",
    "games_played_query[\"lastName\"].value_counts()"
   ]
  },
  {
   "cell_type": "code",
   "execution_count": null,
   "metadata": {},
   "outputs": [],
   "source": [
    "#fig, ax = plt.subplots()\n",
    "#bar_colors = [\"blue\", \"red\", \"green\", \"yellow\", \"purple\"]\n",
    "#for qb_name,df_temp in top_QB_Rating_df.groupby(['lastName']):\n",
    "    \n",
    "   # c = bar_colors.pop()\n",
    "    ##temp_group = df_temp.groupby(['Wind Category'])['QB Rating'].mean()\n",
    "    #ax = pd.DataFrame(temp_group).reset_index().plot(ax=ax, kind='bar', x='Wind Category',y='QB Rating', label=qb_name,color=c)\n",
    "\n",
    "#x_axis = np.arange(len(\"Wind Category\"))    \n",
    "#tick_locations = [value for value in x_axis]\n",
    "\n",
    "#plt.xticks(tick_locations, group_labels)\n",
    "#plt.legend()\n",
    "#plt.show()\n",
    "#print(sts.normaltest(top_QB_Rating_df[\"QB Rating\"]))"
   ]
  },
  {
   "cell_type": "code",
   "execution_count": null,
   "metadata": {},
   "outputs": [],
   "source": [
    "QB_wind.loc[\"Wind Category\"]=pd.cut(QB_wind[\"windSpeed\"], bins, labels=group_labels)\n",
    "QB_wind.head()"
   ]
  },
  {
   "cell_type": "code",
   "execution_count": null,
   "metadata": {},
   "outputs": [],
   "source": [
    "windspeed_group_df= QB_wind.groupby(\"Wind Category\")\n",
    "print(windspeed_group_df[\"QB Rating\"].count())"
   ]
  },
  {
   "cell_type": "code",
   "execution_count": null,
   "metadata": {},
   "outputs": [],
   "source": [
    "windspeed_top5_df= QB_wind.groupby(\"Wind Category\")\n",
    "print(windspeed_top5_df[\"QB Rating\"].count())"
   ]
  },
  {
   "cell_type": "code",
   "execution_count": null,
   "metadata": {},
   "outputs": [],
   "source": [
    "plt.title(\"QB rating vs windspeed\")\n",
    "plt.xlabel(\"wind conditions\")\n",
    "plt.ylabel(\"QB player Rating\")\n",
    "plt.scatter(windspeed_group_df[\"Wind Category\"], windspeed_group_df[\"QB Rating\"], color='r')"
   ]
  },
  {
   "cell_type": "code",
   "execution_count": null,
   "metadata": {},
   "outputs": [],
   "source": [
    "QB_rating_condition_narrow = QB_rating_condition.query('conditions == \"clear sky\" or conditions == \"overcast clouds\" or conditions == \"light snow\" ')\n",
    "QB_rating_condition_narrow"
   ]
  },
  {
   "cell_type": "code",
   "execution_count": null,
   "metadata": {},
   "outputs": [],
   "source": [
    "x_axis_pd = QB_rating_condition_narrow[\"conditions\"]\n",
    "x_axis_pd "
   ]
  },
  {
   "cell_type": "code",
   "execution_count": null,
   "metadata": {},
   "outputs": [],
   "source": [
    "plt.title(\"QB rating vs weather conditions\")\n",
    "plt.xlabel(\"weather conditions\")\n",
    "plt.ylabel(\"QB player Rating\")\n",
    "plt.bar(QB_rating_condition_narrow[\"conditions\"], QB_rating_condition_narrow[\"QB Rating\"], color='b', alpha=0.5, align=\"center\")"
   ]
  },
  {
   "cell_type": "code",
   "execution_count": null,
   "metadata": {},
   "outputs": [],
   "source": [
    "x_axis_wind_speed = weather_QB_pd[\"windSpeed\"]\n",
    "x_axis_wind_speed\n",
    "y_axis_wind_speed = weather_QB_pd[\"QB Rating\"]\n",
    "plt.xlabel(\"wind speed\")\n",
    "plt.ylabel(\"QB player Rating\")\n",
    "plt.bar(x_axis_wind_speed, y_axis_wind_speed , color='b', alpha=0.5, align=\"center\")"
   ]
  },
  {
   "cell_type": "code",
   "execution_count": null,
   "metadata": {},
   "outputs": [],
   "source": [
    "QB_rating_temperature = weather_QB_pd[[\"QB Rating\", \"temperature\"]]\n",
    "\n",
    "#Remove Nan from dataSet\n",
    "QB_rating_temperature[\"temperature\"].value_counts()"
   ]
  },
  {
   "cell_type": "code",
   "execution_count": null,
   "metadata": {},
   "outputs": [],
   "source": [
    "QB_rating_temperature.dropna(inplace=True)"
   ]
  },
  {
   "cell_type": "code",
   "execution_count": null,
   "metadata": {},
   "outputs": [],
   "source": [
    "QB_rating_temperature\n"
   ]
  },
  {
   "cell_type": "code",
   "execution_count": null,
   "metadata": {},
   "outputs": [],
   "source": [
    "x_values= QB_rating_temperature[\"temperature\"]\n",
    "y_values= QB_rating_temperature[\"QB Rating\"]\n",
    "(slope, intercept, rvalue, pvalue, stderr) = linregress(x_values, y_values)\n",
    "regress_values = x_values * slope + intercept\n",
    "line_eq = \"y = \" + str(round(slope,2)) + \"x + \" + str(round(intercept,2))\n",
    "plt.scatter(x_values,y_values)\n",
    "\n",
    "plt.plot(x_values,regress_values,\"r-\")\n",
    "plt.annotate(line_eq,(10,20),fontsize=15,color=\"red\")\n",
    "plt.title(\"QB_rating' VS  Temperature\")\n",
    "plt.xlabel('temperature')\n",
    "plt.ylabel('QB Rating')\n",
    "plt.xlim(0,100)\n",
    "plt.ylim(0,200)\n",
    "plt.grid(True)\n",
    "plt.show()\n",
    "print(f\"The r-squared value is: {rvalue**2}\")\n",
    "print(f\"The p-value is : {p})\n"
   ]
  },
  {
   "cell_type": "code",
   "execution_count": null,
   "metadata": {},
   "outputs": [],
   "source": []
  },
  {
   "cell_type": "code",
   "execution_count": null,
   "metadata": {},
   "outputs": [],
   "source": [
    " QB_rating_temperature[\"QB Rating\"]"
   ]
  },
  {
   "cell_type": "code",
   "execution_count": null,
   "metadata": {},
   "outputs": [],
   "source": [
    "fig, ax = plt.subplots()\n",
    "for qb_name,df_temp in top_QB_df.groupby(['lastName']):\n",
    "    \n",
    "    \n",
    "    temp_group = df_temp.groupby(['Wind Category'])['QB Rating'].mean()\n",
    "    ax = pd.DataFrame(temp_group).reset_index().plot(ax=ax, kind='line', x='Wind Category',y='QB Rating', label=qb_name)\n",
    "\n",
    "#x_axis = np.arange(len(\"Wind Category\"))    \n",
    "#tick_locations = [value for value in x_axis]\n",
    "\n",
    "#plt.xticks(tick_locations, group_labels)\n",
    "plt.legend()\n",
    "plt.show()\n",
    "print(sts.normaltest(top_QB_df[\"QB Rating\"]))"
   ]
  },
  {
   "cell_type": "code",
   "execution_count": null,
   "metadata": {},
   "outputs": [],
   "source": []
  },
  {
   "cell_type": "code",
   "execution_count": null,
   "metadata": {},
   "outputs": [],
   "source": []
  },
  {
   "cell_type": "code",
   "execution_count": null,
   "metadata": {},
   "outputs": [],
   "source": []
  },
  {
   "cell_type": "code",
   "execution_count": null,
   "metadata": {},
   "outputs": [],
   "source": []
  },
  {
   "cell_type": "code",
   "execution_count": null,
   "metadata": {},
   "outputs": [],
   "source": [
    "#Rain\n",
    "QB_rating_rain_df1 = weather_QB_pd.query('(conditions == \"rain rain \" or conditions == \"heavy intensity rain\") and lastName == \"Jackson\" ')\n",
    "\n",
    "QB_rating_rain_df1"
   ]
  },
  {
   "cell_type": "code",
   "execution_count": null,
   "metadata": {},
   "outputs": [],
   "source": []
  },
  {
   "cell_type": "code",
   "execution_count": null,
   "metadata": {},
   "outputs": [],
   "source": []
  },
  {
   "cell_type": "code",
   "execution_count": null,
   "metadata": {},
   "outputs": [],
   "source": [
    "QB_rating_rain_df2 = weather_QB_pd.query('conditions == \"heavy intensity rain\"')\n",
    "\n",
    "QB_rating_rain_df2"
   ]
  },
  {
   "cell_type": "code",
   "execution_count": null,
   "metadata": {},
   "outputs": [],
   "source": [
    "weather_QB_pd[[\"QB Rating\"]].describe"
   ]
  },
  {
   "cell_type": "code",
   "execution_count": null,
   "metadata": {},
   "outputs": [],
   "source": [
    "#weather data weather_QB_pd\n",
    "weather_QB_pd[[\"windSpeed\",\"temperature\",\"conditions\"]]"
   ]
  },
  {
   "cell_type": "code",
   "execution_count": null,
   "metadata": {},
   "outputs": [],
   "source": []
  },
  {
   "cell_type": "code",
   "execution_count": null,
   "metadata": {},
   "outputs": [],
   "source": []
  },
  {
   "cell_type": "code",
   "execution_count": null,
   "metadata": {},
   "outputs": [],
   "source": []
  },
  {
   "cell_type": "code",
   "execution_count": null,
   "metadata": {},
   "outputs": [],
   "source": []
  },
  {
   "cell_type": "code",
   "execution_count": null,
   "metadata": {},
   "outputs": [],
   "source": []
  },
  {
   "cell_type": "code",
   "execution_count": null,
   "metadata": {},
   "outputs": [],
   "source": []
  },
  {
   "cell_type": "code",
   "execution_count": null,
   "metadata": {},
   "outputs": [],
   "source": []
  },
  {
   "cell_type": "code",
   "execution_count": null,
   "metadata": {},
   "outputs": [],
   "source": []
  },
  {
   "cell_type": "code",
   "execution_count": null,
   "metadata": {},
   "outputs": [],
   "source": []
  },
  {
   "cell_type": "code",
   "execution_count": null,
   "metadata": {},
   "outputs": [],
   "source": []
  },
  {
   "cell_type": "code",
   "execution_count": null,
   "metadata": {},
   "outputs": [],
   "source": []
  },
  {
   "cell_type": "code",
   "execution_count": null,
   "metadata": {},
   "outputs": [],
   "source": []
  },
  {
   "cell_type": "code",
   "execution_count": null,
   "metadata": {},
   "outputs": [],
   "source": []
  },
  {
   "cell_type": "code",
   "execution_count": null,
   "metadata": {},
   "outputs": [],
   "source": []
  },
  {
   "cell_type": "code",
   "execution_count": null,
   "metadata": {},
   "outputs": [],
   "source": [
    "\n"
   ]
  },
  {
   "cell_type": "code",
   "execution_count": null,
   "metadata": {},
   "outputs": [],
   "source": []
  },
  {
   "cell_type": "code",
   "execution_count": null,
   "metadata": {},
   "outputs": [],
   "source": []
  },
  {
   "cell_type": "code",
   "execution_count": null,
   "metadata": {},
   "outputs": [],
   "source": []
  },
  {
   "cell_type": "code",
   "execution_count": null,
   "metadata": {},
   "outputs": [],
   "source": []
  },
  {
   "cell_type": "code",
   "execution_count": null,
   "metadata": {},
   "outputs": [],
   "source": []
  },
  {
   "cell_type": "code",
   "execution_count": null,
   "metadata": {},
   "outputs": [],
   "source": []
  },
  {
   "cell_type": "code",
   "execution_count": null,
   "metadata": {},
   "outputs": [],
   "source": []
  },
  {
   "cell_type": "code",
   "execution_count": null,
   "metadata": {},
   "outputs": [],
   "source": []
  },
  {
   "cell_type": "code",
   "execution_count": null,
   "metadata": {},
   "outputs": [],
   "source": []
  },
  {
   "cell_type": "code",
   "execution_count": null,
   "metadata": {},
   "outputs": [],
   "source": []
  }
 ],
 "metadata": {
  "kernelspec": {
   "display_name": "Python 3",
   "language": "python",
   "name": "python3"
  },
  "language_info": {
   "codemirror_mode": {
    "name": "ipython",
    "version": 3
   },
   "file_extension": ".py",
   "mimetype": "text/x-python",
   "name": "python",
   "nbconvert_exporter": "python",
   "pygments_lexer": "ipython3",
   "version": "3.8.5"
  },
  "latex_envs": {
   "LaTeX_envs_menu_present": true,
   "autoclose": false,
   "autocomplete": true,
   "bibliofile": "biblio.bib",
   "cite_by": "apalike",
   "current_citInitial": 1,
   "eqLabelWithNumbers": true,
   "eqNumInitial": 1,
   "hotkeys": {
    "equation": "Ctrl-E",
    "itemize": "Ctrl-I"
   },
   "labels_anchors": false,
   "latex_user_defs": false,
   "report_style_numbering": false,
   "user_envs_cfg": false
  }
 },
 "nbformat": 4,
 "nbformat_minor": 4
}
