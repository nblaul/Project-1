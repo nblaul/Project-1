{
 "cells": [
  {
   "cell_type": "markdown",
   "metadata": {},
   "source": [
    "# VacationPy\n",
    "----\n",
    "\n",
    "#### Note\n",
    "* Keep an eye on your API usage. Use https://developers.google.com/maps/reporting/gmp-reporting as reference for how to monitor your usage and billing.\n",
    "\n",
    "* Instructions have been included for each segment. You do not have to follow them exactly, but they are included to help you think through the steps."
   ]
  },
  {
   "cell_type": "code",
   "execution_count": 4,
   "metadata": {},
   "outputs": [],
   "source": [
    "# Dependencies and Setup\n",
    "import matplotlib.pyplot as plt\n",
    "import pandas as pd\n",
    "import numpy as np\n",
    "import requests\n",
    "import gmaps\n",
    "import os\n",
    "import time\n",
    "from scipy.stats import linregress\n",
    "from matplotlib import pyplot as plt\n",
    "import json\n",
    "from pprint import pprint\n",
    "\n"
   ]
  },
  {
   "cell_type": "markdown",
   "metadata": {},
   "source": [
    "### Store Part I results into DataFrame\n",
    "* Load the csv exported in Part I to a DataFrame"
   ]
  },
  {
   "cell_type": "code",
   "execution_count": 60,
   "metadata": {},
   "outputs": [
    {
     "data": {
      "text/html": [
       "<div>\n",
       "<style scoped>\n",
       "    .dataframe tbody tr th:only-of-type {\n",
       "        vertical-align: middle;\n",
       "    }\n",
       "\n",
       "    .dataframe tbody tr th {\n",
       "        vertical-align: top;\n",
       "    }\n",
       "\n",
       "    .dataframe thead th {\n",
       "        text-align: right;\n",
       "    }\n",
       "</style>\n",
       "<table border=\"1\" class=\"dataframe\">\n",
       "  <thead>\n",
       "    <tr style=\"text-align: right;\">\n",
       "      <th></th>\n",
       "      <th>Unnamed: 0</th>\n",
       "      <th>gameId</th>\n",
       "      <th>season_x</th>\n",
       "      <th>week</th>\n",
       "      <th>lastName</th>\n",
       "      <th>firstName</th>\n",
       "      <th>position</th>\n",
       "      <th>uniformNumber</th>\n",
       "      <th>opponent</th>\n",
       "      <th>team</th>\n",
       "      <th>...</th>\n",
       "      <th>rec</th>\n",
       "      <th>recYds</th>\n",
       "      <th>recTds</th>\n",
       "      <th>QB Rating</th>\n",
       "      <th>season_y</th>\n",
       "      <th>type</th>\n",
       "      <th>surface</th>\n",
       "      <th>temperature</th>\n",
       "      <th>conditions</th>\n",
       "      <th>windSpeed</th>\n",
       "    </tr>\n",
       "  </thead>\n",
       "  <tbody>\n",
       "    <tr>\n",
       "      <th>0</th>\n",
       "      <td>0</td>\n",
       "      <td>3603</td>\n",
       "      <td>2015</td>\n",
       "      <td>1</td>\n",
       "      <td>Kaepernick</td>\n",
       "      <td>C</td>\n",
       "      <td>QB</td>\n",
       "      <td>7</td>\n",
       "      <td>Vikings</td>\n",
       "      <td>49ers</td>\n",
       "      <td>...</td>\n",
       "      <td>0</td>\n",
       "      <td>0</td>\n",
       "      <td>0</td>\n",
       "      <td>83.012821</td>\n",
       "      <td>2015</td>\n",
       "      <td>Regular</td>\n",
       "      <td>Grass</td>\n",
       "      <td>66.2</td>\n",
       "      <td>mostly cloudy</td>\n",
       "      <td>9.2</td>\n",
       "    </tr>\n",
       "    <tr>\n",
       "      <th>1</th>\n",
       "      <td>1</td>\n",
       "      <td>3603</td>\n",
       "      <td>2015</td>\n",
       "      <td>1</td>\n",
       "      <td>Hyde</td>\n",
       "      <td>C</td>\n",
       "      <td>RB</td>\n",
       "      <td>28</td>\n",
       "      <td>Vikings</td>\n",
       "      <td>49ers</td>\n",
       "      <td>...</td>\n",
       "      <td>2</td>\n",
       "      <td>14</td>\n",
       "      <td>0</td>\n",
       "      <td>NaN</td>\n",
       "      <td>2015</td>\n",
       "      <td>Regular</td>\n",
       "      <td>Grass</td>\n",
       "      <td>66.2</td>\n",
       "      <td>mostly cloudy</td>\n",
       "      <td>9.2</td>\n",
       "    </tr>\n",
       "    <tr>\n",
       "      <th>2</th>\n",
       "      <td>2</td>\n",
       "      <td>3603</td>\n",
       "      <td>2015</td>\n",
       "      <td>1</td>\n",
       "      <td>Bush</td>\n",
       "      <td>R</td>\n",
       "      <td>RB</td>\n",
       "      <td>25</td>\n",
       "      <td>Vikings</td>\n",
       "      <td>49ers</td>\n",
       "      <td>...</td>\n",
       "      <td>0</td>\n",
       "      <td>0</td>\n",
       "      <td>0</td>\n",
       "      <td>NaN</td>\n",
       "      <td>2015</td>\n",
       "      <td>Regular</td>\n",
       "      <td>Grass</td>\n",
       "      <td>66.2</td>\n",
       "      <td>mostly cloudy</td>\n",
       "      <td>9.2</td>\n",
       "    </tr>\n",
       "    <tr>\n",
       "      <th>3</th>\n",
       "      <td>3</td>\n",
       "      <td>3603</td>\n",
       "      <td>2015</td>\n",
       "      <td>1</td>\n",
       "      <td>Hayne</td>\n",
       "      <td>Jarryd</td>\n",
       "      <td>RB</td>\n",
       "      <td>0</td>\n",
       "      <td>Vikings</td>\n",
       "      <td>49ers</td>\n",
       "      <td>...</td>\n",
       "      <td>1</td>\n",
       "      <td>7</td>\n",
       "      <td>0</td>\n",
       "      <td>NaN</td>\n",
       "      <td>2015</td>\n",
       "      <td>Regular</td>\n",
       "      <td>Grass</td>\n",
       "      <td>66.2</td>\n",
       "      <td>mostly cloudy</td>\n",
       "      <td>9.2</td>\n",
       "    </tr>\n",
       "    <tr>\n",
       "      <th>4</th>\n",
       "      <td>4</td>\n",
       "      <td>3603</td>\n",
       "      <td>2015</td>\n",
       "      <td>1</td>\n",
       "      <td>Celek</td>\n",
       "      <td>G</td>\n",
       "      <td>TE</td>\n",
       "      <td>81</td>\n",
       "      <td>Vikings</td>\n",
       "      <td>49ers</td>\n",
       "      <td>...</td>\n",
       "      <td>3</td>\n",
       "      <td>40</td>\n",
       "      <td>0</td>\n",
       "      <td>NaN</td>\n",
       "      <td>2015</td>\n",
       "      <td>Regular</td>\n",
       "      <td>Grass</td>\n",
       "      <td>66.2</td>\n",
       "      <td>mostly cloudy</td>\n",
       "      <td>9.2</td>\n",
       "    </tr>\n",
       "  </tbody>\n",
       "</table>\n",
       "<p>5 rows × 30 columns</p>\n",
       "</div>"
      ],
      "text/plain": [
       "   Unnamed: 0  gameId  season_x  week    lastName firstName position  \\\n",
       "0           0    3603      2015     1  Kaepernick         C       QB   \n",
       "1           1    3603      2015     1        Hyde         C       RB   \n",
       "2           2    3603      2015     1        Bush         R       RB   \n",
       "3           3    3603      2015     1       Hayne    Jarryd       RB   \n",
       "4           4    3603      2015     1       Celek         G       TE   \n",
       "\n",
       "   uniformNumber opponent   team  ...  rec  recYds  recTds  QB Rating  \\\n",
       "0              7  Vikings  49ers  ...    0       0       0  83.012821   \n",
       "1             28  Vikings  49ers  ...    2      14       0        NaN   \n",
       "2             25  Vikings  49ers  ...    0       0       0        NaN   \n",
       "3              0  Vikings  49ers  ...    1       7       0        NaN   \n",
       "4             81  Vikings  49ers  ...    3      40       0        NaN   \n",
       "\n",
       "   season_y     type  surface  temperature     conditions  windSpeed  \n",
       "0      2015  Regular    Grass         66.2  mostly cloudy        9.2  \n",
       "1      2015  Regular    Grass         66.2  mostly cloudy        9.2  \n",
       "2      2015  Regular    Grass         66.2  mostly cloudy        9.2  \n",
       "3      2015  Regular    Grass         66.2  mostly cloudy        9.2  \n",
       "4      2015  Regular    Grass         66.2  mostly cloudy        9.2  \n",
       "\n",
       "[5 rows x 30 columns]"
      ]
     },
     "execution_count": 60,
     "metadata": {},
     "output_type": "execute_result"
    }
   ],
   "source": [
    "#\n",
    "path_stats_file = \"data_resources/combined_playerStats_weatherData.csv\"\n",
    "combined_playerStats_weatherData_pd = pd.read_csv(path_stats_file)\n",
    "combined_playerStats_weatherData_pd.head()\n"
   ]
  },
  {
   "cell_type": "code",
   "execution_count": 61,
   "metadata": {},
   "outputs": [
    {
     "data": {
      "text/html": [
       "<div>\n",
       "<style scoped>\n",
       "    .dataframe tbody tr th:only-of-type {\n",
       "        vertical-align: middle;\n",
       "    }\n",
       "\n",
       "    .dataframe tbody tr th {\n",
       "        vertical-align: top;\n",
       "    }\n",
       "\n",
       "    .dataframe thead th {\n",
       "        text-align: right;\n",
       "    }\n",
       "</style>\n",
       "<table border=\"1\" class=\"dataframe\">\n",
       "  <thead>\n",
       "    <tr style=\"text-align: right;\">\n",
       "      <th></th>\n",
       "      <th>Unnamed: 0</th>\n",
       "      <th>gameId</th>\n",
       "      <th>season_x</th>\n",
       "      <th>week</th>\n",
       "      <th>lastName</th>\n",
       "      <th>firstName</th>\n",
       "      <th>position</th>\n",
       "      <th>uniformNumber</th>\n",
       "      <th>opponent</th>\n",
       "      <th>team</th>\n",
       "      <th>...</th>\n",
       "      <th>rec</th>\n",
       "      <th>recYds</th>\n",
       "      <th>recTds</th>\n",
       "      <th>QB Rating</th>\n",
       "      <th>season_y</th>\n",
       "      <th>type</th>\n",
       "      <th>surface</th>\n",
       "      <th>temperature</th>\n",
       "      <th>conditions</th>\n",
       "      <th>windSpeed</th>\n",
       "    </tr>\n",
       "  </thead>\n",
       "  <tbody>\n",
       "    <tr>\n",
       "      <th>26949</th>\n",
       "      <td>26949</td>\n",
       "      <td>4936</td>\n",
       "      <td>2020</td>\n",
       "      <td>1</td>\n",
       "      <td>Garoppolo</td>\n",
       "      <td>J</td>\n",
       "      <td>QB</td>\n",
       "      <td>10</td>\n",
       "      <td>Cardinals</td>\n",
       "      <td>49ers</td>\n",
       "      <td>...</td>\n",
       "      <td>0</td>\n",
       "      <td>0</td>\n",
       "      <td>0</td>\n",
       "      <td>102.967172</td>\n",
       "      <td>2020</td>\n",
       "      <td>Regular</td>\n",
       "      <td>Grass</td>\n",
       "      <td>66.0</td>\n",
       "      <td>haze</td>\n",
       "      <td>6.0</td>\n",
       "    </tr>\n",
       "  </tbody>\n",
       "</table>\n",
       "<p>1 rows × 30 columns</p>\n",
       "</div>"
      ],
      "text/plain": [
       "       Unnamed: 0  gameId  season_x  week   lastName firstName position  \\\n",
       "26949       26949    4936      2020     1  Garoppolo         J       QB   \n",
       "\n",
       "       uniformNumber   opponent   team  ...  rec  recYds  recTds   QB Rating  \\\n",
       "26949             10  Cardinals  49ers  ...    0       0       0  102.967172   \n",
       "\n",
       "       season_y     type  surface  temperature  conditions  windSpeed  \n",
       "26949      2020  Regular    Grass         66.0        haze        6.0  \n",
       "\n",
       "[1 rows x 30 columns]"
      ]
     },
     "execution_count": 61,
     "metadata": {},
     "output_type": "execute_result"
    }
   ],
   "source": [
    "combined_playerStats_weatherData_pd.query('lastName==\"Garoppolo\" and gameId == 4936')"
   ]
  },
  {
   "cell_type": "code",
   "execution_count": 83,
   "metadata": {},
   "outputs": [
    {
     "data": {
      "text/html": [
       "<div>\n",
       "<style scoped>\n",
       "    .dataframe tbody tr th:only-of-type {\n",
       "        vertical-align: middle;\n",
       "    }\n",
       "\n",
       "    .dataframe tbody tr th {\n",
       "        vertical-align: top;\n",
       "    }\n",
       "\n",
       "    .dataframe thead th {\n",
       "        text-align: right;\n",
       "    }\n",
       "</style>\n",
       "<table border=\"1\" class=\"dataframe\">\n",
       "  <thead>\n",
       "    <tr style=\"text-align: right;\">\n",
       "      <th></th>\n",
       "      <th>Unnamed: 0</th>\n",
       "      <th>gameId</th>\n",
       "      <th>season_x</th>\n",
       "      <th>week</th>\n",
       "      <th>lastName</th>\n",
       "      <th>firstName</th>\n",
       "      <th>position</th>\n",
       "      <th>uniformNumber</th>\n",
       "      <th>opponent</th>\n",
       "      <th>team</th>\n",
       "      <th>...</th>\n",
       "      <th>rec</th>\n",
       "      <th>recYds</th>\n",
       "      <th>recTds</th>\n",
       "      <th>QB Rating</th>\n",
       "      <th>season_y</th>\n",
       "      <th>type</th>\n",
       "      <th>surface</th>\n",
       "      <th>temperature</th>\n",
       "      <th>conditions</th>\n",
       "      <th>windSpeed</th>\n",
       "    </tr>\n",
       "  </thead>\n",
       "  <tbody>\n",
       "    <tr>\n",
       "      <th>0</th>\n",
       "      <td>0</td>\n",
       "      <td>3603</td>\n",
       "      <td>2015</td>\n",
       "      <td>1</td>\n",
       "      <td>Kaepernick</td>\n",
       "      <td>C</td>\n",
       "      <td>QB</td>\n",
       "      <td>7</td>\n",
       "      <td>Vikings</td>\n",
       "      <td>49ers</td>\n",
       "      <td>...</td>\n",
       "      <td>0</td>\n",
       "      <td>0</td>\n",
       "      <td>0</td>\n",
       "      <td>83.012821</td>\n",
       "      <td>2015</td>\n",
       "      <td>Regular</td>\n",
       "      <td>Grass</td>\n",
       "      <td>66.2</td>\n",
       "      <td>mostly cloudy</td>\n",
       "      <td>9.2</td>\n",
       "    </tr>\n",
       "    <tr>\n",
       "      <th>1</th>\n",
       "      <td>11</td>\n",
       "      <td>3590</td>\n",
       "      <td>2015</td>\n",
       "      <td>1</td>\n",
       "      <td>Cutler</td>\n",
       "      <td>J</td>\n",
       "      <td>QB</td>\n",
       "      <td>6</td>\n",
       "      <td>Packers</td>\n",
       "      <td>Bears</td>\n",
       "      <td>...</td>\n",
       "      <td>0</td>\n",
       "      <td>0</td>\n",
       "      <td>0</td>\n",
       "      <td>67.476852</td>\n",
       "      <td>2015</td>\n",
       "      <td>Regular</td>\n",
       "      <td>Grass</td>\n",
       "      <td>69.1</td>\n",
       "      <td>mostly cloudy</td>\n",
       "      <td>8.1</td>\n",
       "    </tr>\n",
       "    <tr>\n",
       "      <th>2</th>\n",
       "      <td>22</td>\n",
       "      <td>3599</td>\n",
       "      <td>2015</td>\n",
       "      <td>1</td>\n",
       "      <td>Dalton</td>\n",
       "      <td>A</td>\n",
       "      <td>QB</td>\n",
       "      <td>14</td>\n",
       "      <td>Raiders</td>\n",
       "      <td>Bengals</td>\n",
       "      <td>...</td>\n",
       "      <td>0</td>\n",
       "      <td>0</td>\n",
       "      <td>0</td>\n",
       "      <td>115.931373</td>\n",
       "      <td>2015</td>\n",
       "      <td>Regular</td>\n",
       "      <td>Grass</td>\n",
       "      <td>64.0</td>\n",
       "      <td>scattered clouds</td>\n",
       "      <td>15.0</td>\n",
       "    </tr>\n",
       "    <tr>\n",
       "      <th>3</th>\n",
       "      <td>32</td>\n",
       "      <td>3589</td>\n",
       "      <td>2015</td>\n",
       "      <td>1</td>\n",
       "      <td>Taylor</td>\n",
       "      <td>T</td>\n",
       "      <td>QB</td>\n",
       "      <td>2</td>\n",
       "      <td>Colts</td>\n",
       "      <td>Bills</td>\n",
       "      <td>...</td>\n",
       "      <td>0</td>\n",
       "      <td>0</td>\n",
       "      <td>0</td>\n",
       "      <td>123.793860</td>\n",
       "      <td>2015</td>\n",
       "      <td>Regular</td>\n",
       "      <td>Turf</td>\n",
       "      <td>53.1</td>\n",
       "      <td>light rain</td>\n",
       "      <td>13.8</td>\n",
       "    </tr>\n",
       "    <tr>\n",
       "      <th>4</th>\n",
       "      <td>42</td>\n",
       "      <td>3598</td>\n",
       "      <td>2015</td>\n",
       "      <td>1</td>\n",
       "      <td>Manning</td>\n",
       "      <td>P</td>\n",
       "      <td>QB</td>\n",
       "      <td>18</td>\n",
       "      <td>Ravens</td>\n",
       "      <td>Broncos</td>\n",
       "      <td>...</td>\n",
       "      <td>0</td>\n",
       "      <td>0</td>\n",
       "      <td>0</td>\n",
       "      <td>59.895833</td>\n",
       "      <td>2015</td>\n",
       "      <td>Regular</td>\n",
       "      <td>Grass</td>\n",
       "      <td>82.9</td>\n",
       "      <td>mostly cloudy</td>\n",
       "      <td>11.5</td>\n",
       "    </tr>\n",
       "  </tbody>\n",
       "</table>\n",
       "<p>5 rows × 30 columns</p>\n",
       "</div>"
      ],
      "text/plain": [
       "   Unnamed: 0  gameId  season_x  week    lastName firstName position  \\\n",
       "0           0    3603      2015     1  Kaepernick         C       QB   \n",
       "1          11    3590      2015     1      Cutler         J       QB   \n",
       "2          22    3599      2015     1      Dalton         A       QB   \n",
       "3          32    3589      2015     1      Taylor         T       QB   \n",
       "4          42    3598      2015     1     Manning         P       QB   \n",
       "\n",
       "   uniformNumber opponent     team  ...  rec  recYds  recTds   QB Rating  \\\n",
       "0              7  Vikings    49ers  ...    0       0       0   83.012821   \n",
       "1              6  Packers    Bears  ...    0       0       0   67.476852   \n",
       "2             14  Raiders  Bengals  ...    0       0       0  115.931373   \n",
       "3              2    Colts    Bills  ...    0       0       0  123.793860   \n",
       "4             18   Ravens  Broncos  ...    0       0       0   59.895833   \n",
       "\n",
       "   season_y     type  surface  temperature        conditions  windSpeed  \n",
       "0      2015  Regular    Grass         66.2     mostly cloudy        9.2  \n",
       "1      2015  Regular    Grass         69.1     mostly cloudy        8.1  \n",
       "2      2015  Regular    Grass         64.0  scattered clouds       15.0  \n",
       "3      2015  Regular     Turf         53.1        light rain       13.8  \n",
       "4      2015  Regular    Grass         82.9     mostly cloudy       11.5  \n",
       "\n",
       "[5 rows x 30 columns]"
      ]
     },
     "execution_count": 83,
     "metadata": {},
     "output_type": "execute_result"
    }
   ],
   "source": [
    "#File name = QB Stats and Weather Data.csv\n",
    "path_weather_QB_file = \"data_resources/QB Stats and Weather Data.csv\"\n",
    "weather_QB_pd = pd.read_csv(path_weather_QB_file)\n",
    "weather_QB_pd.head()"
   ]
  },
  {
   "cell_type": "code",
   "execution_count": 89,
   "metadata": {},
   "outputs": [
    {
     "data": {
      "text/plain": [
       "Unnamed: 0  gameId  season_x  week  lastName    firstName  position  uniformNumber  opponent  team        att  comp  passYds  passTds  ints  sacks  sackYds  rush  rushYds  rushTds  rec  recYds  recTds  QB Rating   season_y  type     surface  temperature  conditions        windSpeed\n",
       "32436       5463    2020      17    Smith       A          QB        11             Eagles    Washington  32   22    162      2        2     3      17       1      0       0        0    0       0       75.260417   2020      Regular  Grass    38.0         light rain        10.29        1\n",
       "9897        4071    2016      15    Smith       A          QB        11             Titans    Chiefs      28   15    163      0        1     1      4        4      11      1        0    0       0       56.101190   2016      Regular  Grass    10.0         clear sky         4.60         1\n",
       "10567       4108    2016      17    Rivers      P          QB        17             Chiefs    Chargers    38   22    269      2        2     0      0        1      1       0        0    0       0       75.438596   2016      Regular  Grass    55.0         scattered clouds  8.10         1\n",
       "10555       4107    2016      17    Palmer      C          QB        9              Rams      Cardinals   38   20    255      3        1     1      3        0      0       0        0    0       0       89.254386   2016      Regular  Grass    54.0         mostly cloudy     5.80         1\n",
       "10545       4103    2016      17    Winston     J          QB        3              Panthers  Buccaneers  35   20    202      1        1     3      14       3      18      0        0    0       0       71.369048   2016      Regular  Grass    79.0         scattered clouds  6.90         1\n",
       "                                                                                                                                                                                                                                                                                             ..\n",
       "21096       4620    2018      16    Kessler     C          QB        6              Dolphins  Jaguars     17   12    106      0        0     4      20       1      2       0        0    0       0       86.887255   2018      Regular  Grass    73.0         clear sky         8.05         1\n",
       "21072       4622    2018      16    Ryan        M          QB        2              Panthers  Falcons     26   15    239      3        0     1      6        1     -1       0        0    0       0       126.923077  2018      Regular  Grass    53.0         clear sky         5.82         1\n",
       "21059       4615    2018      16    Foles       N          QB        9              Texans    Eagles      49   35    471      4        1     1      9        1      1       0        0    0       0       120.365646  2018      Regular  Grass    43.0         clear sky         5.82         1\n",
       "21049       4620    2018      16    Tannehill   R          QB        17             Jaguars   Dolphins    22   15    146      1        1     3      25       3      22      0        0    0       0       82.765152   2018      Regular  Grass    73.0         clear sky         8.05         1\n",
       "0           3603    2015      1     Kaepernick  C          QB        7              Vikings   49ers       26   17    165      0        0     1      0        7      41      0        0    0       0       83.012821   2015      Regular  Grass    66.2         mostly cloudy     9.20         1\n",
       "Length: 2313, dtype: int64"
      ]
     },
     "execution_count": 89,
     "metadata": {},
     "output_type": "execute_result"
    }
   ],
   "source": [
    "weather_QB_pd.value_counts()"
   ]
  },
  {
   "cell_type": "markdown",
   "metadata": {},
   "source": [
    "#\n",
    "Data Clean up from weather_QB_pd"
   ]
  },
  {
   "cell_type": "code",
   "execution_count": 85,
   "metadata": {},
   "outputs": [
    {
     "data": {
      "text/plain": [
       "Unnamed: 0       2313\n",
       "gameId           2313\n",
       "season_x         2313\n",
       "week             2313\n",
       "lastName         2313\n",
       "firstName        2313\n",
       "position         2313\n",
       "uniformNumber    2313\n",
       "opponent         2313\n",
       "team             2313\n",
       "att              2313\n",
       "comp             2313\n",
       "passYds          2313\n",
       "passTds          2313\n",
       "ints             2313\n",
       "sacks            2313\n",
       "sackYds          2313\n",
       "rush             2313\n",
       "rushYds          2313\n",
       "rushTds          2313\n",
       "rec              2313\n",
       "recYds           2313\n",
       "recTds           2313\n",
       "QB Rating        2313\n",
       "season_y         2313\n",
       "type             2313\n",
       "surface          2313\n",
       "temperature      2313\n",
       "conditions       2313\n",
       "windSpeed        2313\n",
       "dtype: int64"
      ]
     },
     "execution_count": 85,
     "metadata": {},
     "output_type": "execute_result"
    }
   ],
   "source": [
    "weather_QB_pd.dropna(inplace=True)\n",
    "weather_QB_pd.count()"
   ]
  },
  {
   "cell_type": "code",
   "execution_count": null,
   "metadata": {},
   "outputs": [],
   "source": []
  },
  {
   "cell_type": "code",
   "execution_count": 11,
   "metadata": {},
   "outputs": [
    {
     "data": {
      "text/plain": [
       "clear sky               786\n",
       "overcast                392\n",
       "mostly cloudy           227\n",
       "partly cloudy           219\n",
       "scattered clouds        138\n",
       "overcast clouds         120\n",
       "broken clouds            95\n",
       "light rain               83\n",
       "few clouds               61\n",
       "rain                     57\n",
       "moderate rain            33\n",
       "cloudy                   33\n",
       "haze                     22\n",
       "light snow               16\n",
       "snow                      8\n",
       "mist                      6\n",
       "heavy intensity rain      4\n",
       "chance rain               4\n",
       "thunderstorm              2\n",
       "shower rain               2\n",
       "very heavy rain           2\n",
       "cold                      2\n",
       "heavy rain                2\n",
       "breeze                    2\n",
       "fog                       2\n",
       "Name: conditions, dtype: int64"
      ]
     },
     "execution_count": 11,
     "metadata": {},
     "output_type": "execute_result"
    }
   ],
   "source": [
    "QB_rating_condition = weather_QB_pd[[\"QB Rating\", \"conditions\"]]\n",
    "QB_rating_condition\n",
    "#Remove Nan from dataSet\n",
    "QB_rating_condition[\"conditions\"].value_counts()"
   ]
  },
  {
   "cell_type": "code",
   "execution_count": 12,
   "metadata": {},
   "outputs": [
    {
     "data": {
      "text/html": [
       "<div>\n",
       "<style scoped>\n",
       "    .dataframe tbody tr th:only-of-type {\n",
       "        vertical-align: middle;\n",
       "    }\n",
       "\n",
       "    .dataframe tbody tr th {\n",
       "        vertical-align: top;\n",
       "    }\n",
       "\n",
       "    .dataframe thead th {\n",
       "        text-align: right;\n",
       "    }\n",
       "</style>\n",
       "<table border=\"1\" class=\"dataframe\">\n",
       "  <thead>\n",
       "    <tr style=\"text-align: right;\">\n",
       "      <th></th>\n",
       "      <th>QB Rating</th>\n",
       "      <th>conditions</th>\n",
       "    </tr>\n",
       "  </thead>\n",
       "  <tbody>\n",
       "    <tr>\n",
       "      <th>5</th>\n",
       "      <td>75.347222</td>\n",
       "      <td>clear sky</td>\n",
       "    </tr>\n",
       "    <tr>\n",
       "      <th>7</th>\n",
       "      <td>107.638889</td>\n",
       "      <td>clear sky</td>\n",
       "    </tr>\n",
       "    <tr>\n",
       "      <th>11</th>\n",
       "      <td>95.659722</td>\n",
       "      <td>clear sky</td>\n",
       "    </tr>\n",
       "    <tr>\n",
       "      <th>12</th>\n",
       "      <td>83.472222</td>\n",
       "      <td>clear sky</td>\n",
       "    </tr>\n",
       "    <tr>\n",
       "      <th>27</th>\n",
       "      <td>86.898148</td>\n",
       "      <td>clear sky</td>\n",
       "    </tr>\n",
       "    <tr>\n",
       "      <th>...</th>\n",
       "      <td>...</td>\n",
       "      <td>...</td>\n",
       "    </tr>\n",
       "    <tr>\n",
       "      <th>2306</th>\n",
       "      <td>97.253788</td>\n",
       "      <td>overcast clouds</td>\n",
       "    </tr>\n",
       "    <tr>\n",
       "      <th>2307</th>\n",
       "      <td>76.348039</td>\n",
       "      <td>overcast clouds</td>\n",
       "    </tr>\n",
       "    <tr>\n",
       "      <th>2311</th>\n",
       "      <td>127.361111</td>\n",
       "      <td>overcast clouds</td>\n",
       "    </tr>\n",
       "    <tr>\n",
       "      <th>2313</th>\n",
       "      <td>106.944444</td>\n",
       "      <td>overcast clouds</td>\n",
       "    </tr>\n",
       "    <tr>\n",
       "      <th>2316</th>\n",
       "      <td>89.155983</td>\n",
       "      <td>overcast clouds</td>\n",
       "    </tr>\n",
       "  </tbody>\n",
       "</table>\n",
       "<p>922 rows × 2 columns</p>\n",
       "</div>"
      ],
      "text/plain": [
       "       QB Rating       conditions\n",
       "5      75.347222        clear sky\n",
       "7     107.638889        clear sky\n",
       "11     95.659722        clear sky\n",
       "12     83.472222        clear sky\n",
       "27     86.898148        clear sky\n",
       "...          ...              ...\n",
       "2306   97.253788  overcast clouds\n",
       "2307   76.348039  overcast clouds\n",
       "2311  127.361111  overcast clouds\n",
       "2313  106.944444  overcast clouds\n",
       "2316   89.155983  overcast clouds\n",
       "\n",
       "[922 rows x 2 columns]"
      ]
     },
     "execution_count": 12,
     "metadata": {},
     "output_type": "execute_result"
    }
   ],
   "source": [
    "QB_rating_condition_narrow = QB_rating_condition.query('conditions == \"clear sky\" or conditions == \"overcast clouds\" or conditions == \"light snow\" ')\n",
    "QB_rating_condition_narrow"
   ]
  },
  {
   "cell_type": "code",
   "execution_count": 13,
   "metadata": {},
   "outputs": [
    {
     "data": {
      "text/plain": [
       "5             clear sky\n",
       "7             clear sky\n",
       "11            clear sky\n",
       "12            clear sky\n",
       "27            clear sky\n",
       "             ...       \n",
       "2306    overcast clouds\n",
       "2307    overcast clouds\n",
       "2311    overcast clouds\n",
       "2313    overcast clouds\n",
       "2316    overcast clouds\n",
       "Name: conditions, Length: 922, dtype: object"
      ]
     },
     "execution_count": 13,
     "metadata": {},
     "output_type": "execute_result"
    }
   ],
   "source": [
    "x_axis_pd = QB_rating_condition_narrow[\"conditions\"]\n",
    "x_axis_pd "
   ]
  },
  {
   "cell_type": "code",
   "execution_count": 22,
   "metadata": {},
   "outputs": [
    {
     "data": {
      "text/plain": [
       "<BarContainer object of 301 artists>"
      ]
     },
     "execution_count": 22,
     "metadata": {},
     "output_type": "execute_result"
    },
    {
     "data": {
      "image/png": "[encoded data removed]",
      "text/plain": [
       "<Figure size 432x288 with 1 Axes>"
      ]
     },
     "metadata": {
      "needs_background": "light"
     },
     "output_type": "display_data"
    }
   ],
   "source": [
    "plt.title(\"QB rating vs weather conditions\")\n",
    "plt.xlabel(\"weather conditions\")\n",
    "plt.ylabel(\"QB player Rating\")\n",
    "plt.bar(QB_rating_condition_narrow[\"conditions\"], QB_rating_condition_narrow[\"QB Rating\"], color='b', alpha=0.5, align=\"center\")"
   ]
  },
  {
   "cell_type": "code",
   "execution_count": 14,
   "metadata": {},
   "outputs": [
    {
     "data": {
      "text/plain": [
       "<BarContainer object of 2318 artists>"
      ]
     },
     "execution_count": 14,
     "metadata": {},
     "output_type": "execute_result"
    },
    {
     "data": {
      "image/png": "[encoded data removed]",
      "text/plain": [
       "<Figure size 432x288 with 1 Axes>"
      ]
     },
     "metadata": {
      "needs_background": "light"
     },
     "output_type": "display_data"
    }
   ],
   "source": [
    "x_axis_wind_speed = weather_QB_pd[\"windSpeed\"]\n",
    "x_axis_wind_speed\n",
    "y_axis_wind_speed = weather_QB_pd[\"QB Rating\"]\n",
    "plt.xlabel(\"wind speed\")\n",
    "plt.ylabel(\"QB player Rating\")\n",
    "plt.bar(x_axis_wind_speed, y_axis_wind_speed , color='b', alpha=0.5, align=\"center\")"
   ]
  },
  {
   "cell_type": "code",
   "execution_count": 15,
   "metadata": {},
   "outputs": [
    {
     "data": {
      "text/plain": [
       "63.0    60\n",
       "61.0    57\n",
       "70.0    53\n",
       "81.0    52\n",
       "54.0    51\n",
       "        ..\n",
       "89.1     2\n",
       "12.2     2\n",
       "39.2     2\n",
       "73.4     2\n",
       "22.0     2\n",
       "Name: temperature, Length: 133, dtype: int64"
      ]
     },
     "execution_count": 15,
     "metadata": {},
     "output_type": "execute_result"
    }
   ],
   "source": [
    "QB_rating_temperature = weather_QB_pd[[\"QB Rating\", \"temperature\"]]\n",
    "\n",
    "#Remove Nan from dataSet\n",
    "QB_rating_temperature[\"temperature\"].value_counts()"
   ]
  },
  {
   "cell_type": "code",
   "execution_count": 20,
   "metadata": {},
   "outputs": [
    {
     "data": {
      "text/plain": [
       "223.75000000000003"
      ]
     },
     "execution_count": 20,
     "metadata": {},
     "output_type": "execute_result"
    }
   ],
   "source": [
    "QB_rating_temperature[\"QB Rating\"].max()"
   ]
  },
  {
   "cell_type": "code",
   "execution_count": 22,
   "metadata": {},
   "outputs": [
    {
     "data": {
      "text/plain": [
       "-91.36904761904762"
      ]
     },
     "execution_count": 22,
     "metadata": {},
     "output_type": "execute_result"
    }
   ],
   "source": [
    "QB_rating_temperature[\"QB Rating\"].min()"
   ]
  },
  {
   "cell_type": "code",
   "execution_count": null,
   "metadata": {},
   "outputs": [],
   "source": []
  },
  {
   "cell_type": "code",
   "execution_count": 64,
   "metadata": {},
   "outputs": [
    {
     "name": "stderr",
     "output_type": "stream",
     "text": [
      "<ipython-input-64-db70d1667053>:1: SettingWithCopyWarning: \n",
      "A value is trying to be set on a copy of a slice from a DataFrame\n",
      "\n",
      "See the caveats in the documentation: https://pandas.pydata.org/pandas-docs/stable/user_guide/indexing.html#returning-a-view-versus-a-copy\n",
      "  QB_rating_temperature.dropna(inplace=True)\n"
     ]
    }
   ],
   "source": [
    "QB_rating_temperature.dropna(inplace=True)"
   ]
  },
  {
   "cell_type": "code",
   "execution_count": 16,
   "metadata": {},
   "outputs": [
    {
     "data": {
      "text/html": [
       "<div>\n",
       "<style scoped>\n",
       "    .dataframe tbody tr th:only-of-type {\n",
       "        vertical-align: middle;\n",
       "    }\n",
       "\n",
       "    .dataframe tbody tr th {\n",
       "        vertical-align: top;\n",
       "    }\n",
       "\n",
       "    .dataframe thead th {\n",
       "        text-align: right;\n",
       "    }\n",
       "</style>\n",
       "<table border=\"1\" class=\"dataframe\">\n",
       "  <thead>\n",
       "    <tr style=\"text-align: right;\">\n",
       "      <th></th>\n",
       "      <th>QB Rating</th>\n",
       "      <th>temperature</th>\n",
       "    </tr>\n",
       "  </thead>\n",
       "  <tbody>\n",
       "    <tr>\n",
       "      <th>0</th>\n",
       "      <td>83.012821</td>\n",
       "      <td>66.2</td>\n",
       "    </tr>\n",
       "    <tr>\n",
       "      <th>1</th>\n",
       "      <td>67.476852</td>\n",
       "      <td>69.1</td>\n",
       "    </tr>\n",
       "    <tr>\n",
       "      <th>2</th>\n",
       "      <td>115.931373</td>\n",
       "      <td>64.0</td>\n",
       "    </tr>\n",
       "    <tr>\n",
       "      <th>3</th>\n",
       "      <td>123.793860</td>\n",
       "      <td>53.1</td>\n",
       "    </tr>\n",
       "    <tr>\n",
       "      <th>4</th>\n",
       "      <td>59.895833</td>\n",
       "      <td>82.9</td>\n",
       "    </tr>\n",
       "    <tr>\n",
       "      <th>...</th>\n",
       "      <td>...</td>\n",
       "      <td>...</td>\n",
       "    </tr>\n",
       "    <tr>\n",
       "      <th>2313</th>\n",
       "      <td>106.944444</td>\n",
       "      <td>39.0</td>\n",
       "    </tr>\n",
       "    <tr>\n",
       "      <th>2314</th>\n",
       "      <td>116.796875</td>\n",
       "      <td>57.0</td>\n",
       "    </tr>\n",
       "    <tr>\n",
       "      <th>2315</th>\n",
       "      <td>87.847222</td>\n",
       "      <td>57.0</td>\n",
       "    </tr>\n",
       "    <tr>\n",
       "      <th>2316</th>\n",
       "      <td>89.155983</td>\n",
       "      <td>39.0</td>\n",
       "    </tr>\n",
       "    <tr>\n",
       "      <th>2317</th>\n",
       "      <td>75.260417</td>\n",
       "      <td>38.0</td>\n",
       "    </tr>\n",
       "  </tbody>\n",
       "</table>\n",
       "<p>2318 rows × 2 columns</p>\n",
       "</div>"
      ],
      "text/plain": [
       "       QB Rating  temperature\n",
       "0      83.012821         66.2\n",
       "1      67.476852         69.1\n",
       "2     115.931373         64.0\n",
       "3     123.793860         53.1\n",
       "4      59.895833         82.9\n",
       "...          ...          ...\n",
       "2313  106.944444         39.0\n",
       "2314  116.796875         57.0\n",
       "2315   87.847222         57.0\n",
       "2316   89.155983         39.0\n",
       "2317   75.260417         38.0\n",
       "\n",
       "[2318 rows x 2 columns]"
      ]
     },
     "execution_count": 16,
     "metadata": {},
     "output_type": "execute_result"
    }
   ],
   "source": [
    "QB_rating_temperature\n"
   ]
  },
  {
   "cell_type": "code",
   "execution_count": 18,
   "metadata": {},
   "outputs": [
    {
     "data": {
      "image/png": "[encoded data removed]",
      "text/plain": [
       "<Figure size 432x288 with 1 Axes>"
      ]
     },
     "metadata": {
      "needs_background": "light"
     },
     "output_type": "display_data"
    },
    {
     "name": "stdout",
     "output_type": "stream",
     "text": [
      "The r-squared value is: 0.004508151481051889\n",
      "The p value value is: 0.0012184035363813177\n"
     ]
    }
   ],
   "source": [
    "x_values= QB_rating_temperature[\"temperature\"]\n",
    "y_values= QB_rating_temperature[\"QB Rating\"]\n",
    "(slope, intercept, rvalue, pvalue, stderr) = linregress(x_values, y_values)\n",
    "regress_values = x_values * slope + intercept\n",
    "line_eq = \"y = \" + str(round(slope,2)) + \"x + \" + str(round(intercept,2))\n",
    "plt.scatter(x_values,y_values)\n",
    "\n",
    "plt.plot(x_values,regress_values,\"r-\")\n",
    "plt.annotate(line_eq,(10,20),fontsize=15,color=\"red\")\n",
    "plt.title(\"QB_rating' VS  Temperature\")\n",
    "plt.xlabel('temperature')\n",
    "plt.ylabel('QB Rating')\n",
    "plt.xlim(0,100)\n",
    "plt.ylim(0,200)\n",
    "plt.grid(True)\n",
    "plt.show()\n",
    "print(f\"The r-squared value is: {rvalue**2}\")\n",
    "print(f\"The p value value is: {pvalue}\")\n"
   ]
  },
  {
   "cell_type": "code",
   "execution_count": null,
   "metadata": {},
   "outputs": [],
   "source": [
    "When looking at the relationship between QB Rating vs. Temp, there is very little correlation. \n",
    "An R-squared value of .0871 means that based on the data we have, if we were to make a prediction of Eli's QB Rating based on the temperature, we would only be accurate about 8.8 times out of 100. This translates into little or no statistical relevance.\n"
   ]
  },
  {
   "cell_type": "code",
   "execution_count": 17,
   "metadata": {},
   "outputs": [
    {
     "data": {
      "text/plain": [
       "0        83.012821\n",
       "1        67.476852\n",
       "2       115.931373\n",
       "3       123.793860\n",
       "4        59.895833\n",
       "           ...    \n",
       "2313    106.944444\n",
       "2314    116.796875\n",
       "2315     87.847222\n",
       "2316     89.155983\n",
       "2317     75.260417\n",
       "Name: QB Rating, Length: 2318, dtype: float64"
      ]
     },
     "execution_count": 17,
     "metadata": {},
     "output_type": "execute_result"
    }
   ],
   "source": [
    " QB_rating_temperature[\"QB Rating\"]"
   ]
  },
  {
   "cell_type": "code",
   "execution_count": 58,
   "metadata": {},
   "outputs": [
    {
     "data": {
      "text/html": [
       "<div>\n",
       "<style scoped>\n",
       "    .dataframe tbody tr th:only-of-type {\n",
       "        vertical-align: middle;\n",
       "    }\n",
       "\n",
       "    .dataframe tbody tr th {\n",
       "        vertical-align: top;\n",
       "    }\n",
       "\n",
       "    .dataframe thead th {\n",
       "        text-align: right;\n",
       "    }\n",
       "</style>\n",
       "<table border=\"1\" class=\"dataframe\">\n",
       "  <thead>\n",
       "    <tr style=\"text-align: right;\">\n",
       "      <th></th>\n",
       "      <th>QB Rating</th>\n",
       "      <th>temperature</th>\n",
       "    </tr>\n",
       "  </thead>\n",
       "  <tbody>\n",
       "    <tr>\n",
       "      <th>0</th>\n",
       "      <td>102.967172</td>\n",
       "      <td>66.0</td>\n",
       "    </tr>\n",
       "    <tr>\n",
       "      <th>1</th>\n",
       "      <td>104.166667</td>\n",
       "      <td>71.0</td>\n",
       "    </tr>\n",
       "    <tr>\n",
       "      <th>2</th>\n",
       "      <td>66.087963</td>\n",
       "      <td>83.0</td>\n",
       "    </tr>\n",
       "    <tr>\n",
       "      <th>3</th>\n",
       "      <td>104.619565</td>\n",
       "      <td>67.0</td>\n",
       "    </tr>\n",
       "    <tr>\n",
       "      <th>4</th>\n",
       "      <td>95.012626</td>\n",
       "      <td>74.0</td>\n",
       "    </tr>\n",
       "    <tr>\n",
       "      <th>...</th>\n",
       "      <td>...</td>\n",
       "      <td>...</td>\n",
       "    </tr>\n",
       "    <tr>\n",
       "      <th>633</th>\n",
       "      <td>115.865385</td>\n",
       "      <td>64.0</td>\n",
       "    </tr>\n",
       "    <tr>\n",
       "      <th>634</th>\n",
       "      <td>168.750000</td>\n",
       "      <td>64.0</td>\n",
       "    </tr>\n",
       "    <tr>\n",
       "      <th>635</th>\n",
       "      <td>103.317901</td>\n",
       "      <td>64.0</td>\n",
       "    </tr>\n",
       "    <tr>\n",
       "      <th>636</th>\n",
       "      <td>127.604167</td>\n",
       "      <td>35.0</td>\n",
       "    </tr>\n",
       "    <tr>\n",
       "      <th>637</th>\n",
       "      <td>75.260417</td>\n",
       "      <td>38.0</td>\n",
       "    </tr>\n",
       "  </tbody>\n",
       "</table>\n",
       "<p>571 rows × 2 columns</p>\n",
       "</div>"
      ],
      "text/plain": [
       "      QB Rating  temperature\n",
       "0    102.967172         66.0\n",
       "1    104.166667         71.0\n",
       "2     66.087963         83.0\n",
       "3    104.619565         67.0\n",
       "4     95.012626         74.0\n",
       "..          ...          ...\n",
       "633  115.865385         64.0\n",
       "634  168.750000         64.0\n",
       "635  103.317901         64.0\n",
       "636  127.604167         35.0\n",
       "637   75.260417         38.0\n",
       "\n",
       "[571 rows x 2 columns]"
      ]
     },
     "execution_count": 58,
     "metadata": {},
     "output_type": "execute_result"
    }
   ],
   "source": []
  },
  {
   "cell_type": "code",
   "execution_count": null,
   "metadata": {},
   "outputs": [],
   "source": []
  },
  {
   "cell_type": "code",
   "execution_count": null,
   "metadata": {},
   "outputs": [],
   "source": []
  },
  {
   "cell_type": "code",
   "execution_count": null,
   "metadata": {},
   "outputs": [],
   "source": []
  },
  {
   "cell_type": "code",
   "execution_count": 28,
   "metadata": {},
   "outputs": [
    {
     "data": {
      "text/html": [
       "<div>\n",
       "<style scoped>\n",
       "    .dataframe tbody tr th:only-of-type {\n",
       "        vertical-align: middle;\n",
       "    }\n",
       "\n",
       "    .dataframe tbody tr th {\n",
       "        vertical-align: top;\n",
       "    }\n",
       "\n",
       "    .dataframe thead th {\n",
       "        text-align: right;\n",
       "    }\n",
       "</style>\n",
       "<table border=\"1\" class=\"dataframe\">\n",
       "  <thead>\n",
       "    <tr style=\"text-align: right;\">\n",
       "      <th></th>\n",
       "      <th>Unnamed: 0</th>\n",
       "      <th>gameId</th>\n",
       "      <th>season_x</th>\n",
       "      <th>week</th>\n",
       "      <th>lastName</th>\n",
       "      <th>firstName</th>\n",
       "      <th>position</th>\n",
       "      <th>uniformNumber</th>\n",
       "      <th>opponent</th>\n",
       "      <th>team</th>\n",
       "      <th>...</th>\n",
       "      <th>rec</th>\n",
       "      <th>recYds</th>\n",
       "      <th>recTds</th>\n",
       "      <th>QB Rating</th>\n",
       "      <th>season_y</th>\n",
       "      <th>type</th>\n",
       "      <th>surface</th>\n",
       "      <th>temperature</th>\n",
       "      <th>conditions</th>\n",
       "      <th>windSpeed</th>\n",
       "    </tr>\n",
       "  </thead>\n",
       "  <tbody>\n",
       "    <tr>\n",
       "      <th>64</th>\n",
       "      <td>64</td>\n",
       "      <td>5240</td>\n",
       "      <td>2020</td>\n",
       "      <td>2</td>\n",
       "      <td>Jackson</td>\n",
       "      <td>Lamar</td>\n",
       "      <td>QB</td>\n",
       "      <td>8</td>\n",
       "      <td>Texans</td>\n",
       "      <td>Ravens</td>\n",
       "      <td>...</td>\n",
       "      <td>0</td>\n",
       "      <td>0</td>\n",
       "      <td>0</td>\n",
       "      <td>113.888889</td>\n",
       "      <td>2020.0</td>\n",
       "      <td>Regular</td>\n",
       "      <td>Turf-Roof</td>\n",
       "      <td>71.0</td>\n",
       "      <td>heavy intensity rain</td>\n",
       "      <td>17.22</td>\n",
       "    </tr>\n",
       "  </tbody>\n",
       "</table>\n",
       "<p>1 rows × 30 columns</p>\n",
       "</div>"
      ],
      "text/plain": [
       "    Unnamed: 0  gameId  season_x  week lastName firstName position  \\\n",
       "64          64    5240      2020     2  Jackson     Lamar       QB   \n",
       "\n",
       "    uniformNumber opponent    team  ...  rec  recYds  recTds   QB Rating  \\\n",
       "64              8   Texans  Ravens  ...    0       0       0  113.888889   \n",
       "\n",
       "    season_y     type    surface  temperature            conditions  windSpeed  \n",
       "64    2020.0  Regular  Turf-Roof         71.0  heavy intensity rain      17.22  \n",
       "\n",
       "[1 rows x 30 columns]"
      ]
     },
     "execution_count": 28,
     "metadata": {},
     "output_type": "execute_result"
    }
   ],
   "source": [
    "#Rain\n",
    "QB_rating_rain_df1 = weather_QB_pd.query('(conditions == \"rain rain \" or conditions == \"heavy intensity rain\") and lastName == \"Jackson\" ')\n",
    "\n",
    "QB_rating_rain_df1"
   ]
  },
  {
   "cell_type": "code",
   "execution_count": null,
   "metadata": {},
   "outputs": [],
   "source": []
  },
  {
   "cell_type": "code",
   "execution_count": null,
   "metadata": {},
   "outputs": [],
   "source": []
  },
  {
   "cell_type": "code",
   "execution_count": 32,
   "metadata": {},
   "outputs": [
    {
     "data": {
      "text/html": [
       "<div>\n",
       "<style scoped>\n",
       "    .dataframe tbody tr th:only-of-type {\n",
       "        vertical-align: middle;\n",
       "    }\n",
       "\n",
       "    .dataframe tbody tr th {\n",
       "        vertical-align: top;\n",
       "    }\n",
       "\n",
       "    .dataframe thead th {\n",
       "        text-align: right;\n",
       "    }\n",
       "</style>\n",
       "<table border=\"1\" class=\"dataframe\">\n",
       "  <thead>\n",
       "    <tr style=\"text-align: right;\">\n",
       "      <th></th>\n",
       "      <th>Unnamed: 0</th>\n",
       "      <th>gameId</th>\n",
       "      <th>season_x</th>\n",
       "      <th>week</th>\n",
       "      <th>lastName</th>\n",
       "      <th>firstName</th>\n",
       "      <th>position</th>\n",
       "      <th>uniformNumber</th>\n",
       "      <th>opponent</th>\n",
       "      <th>team</th>\n",
       "      <th>...</th>\n",
       "      <th>rec</th>\n",
       "      <th>recYds</th>\n",
       "      <th>recTds</th>\n",
       "      <th>QB Rating</th>\n",
       "      <th>season_y</th>\n",
       "      <th>type</th>\n",
       "      <th>surface</th>\n",
       "      <th>temperature</th>\n",
       "      <th>conditions</th>\n",
       "      <th>windSpeed</th>\n",
       "    </tr>\n",
       "  </thead>\n",
       "  <tbody>\n",
       "    <tr>\n",
       "      <th>64</th>\n",
       "      <td>64</td>\n",
       "      <td>5240</td>\n",
       "      <td>2020</td>\n",
       "      <td>2</td>\n",
       "      <td>Jackson</td>\n",
       "      <td>Lamar</td>\n",
       "      <td>QB</td>\n",
       "      <td>8</td>\n",
       "      <td>Texans</td>\n",
       "      <td>Ravens</td>\n",
       "      <td>...</td>\n",
       "      <td>0</td>\n",
       "      <td>0</td>\n",
       "      <td>0</td>\n",
       "      <td>113.888889</td>\n",
       "      <td>2020.0</td>\n",
       "      <td>Regular</td>\n",
       "      <td>Turf-Roof</td>\n",
       "      <td>71.0</td>\n",
       "      <td>heavy intensity rain</td>\n",
       "      <td>17.22</td>\n",
       "    </tr>\n",
       "    <tr>\n",
       "      <th>69</th>\n",
       "      <td>69</td>\n",
       "      <td>5240</td>\n",
       "      <td>2020</td>\n",
       "      <td>2</td>\n",
       "      <td>Watson</td>\n",
       "      <td>Deshaun</td>\n",
       "      <td>QB</td>\n",
       "      <td>4</td>\n",
       "      <td>Ravens</td>\n",
       "      <td>Texans</td>\n",
       "      <td>...</td>\n",
       "      <td>0</td>\n",
       "      <td>0</td>\n",
       "      <td>0</td>\n",
       "      <td>89.467593</td>\n",
       "      <td>2020.0</td>\n",
       "      <td>Regular</td>\n",
       "      <td>Turf-Roof</td>\n",
       "      <td>71.0</td>\n",
       "      <td>heavy intensity rain</td>\n",
       "      <td>17.22</td>\n",
       "    </tr>\n",
       "  </tbody>\n",
       "</table>\n",
       "<p>2 rows × 30 columns</p>\n",
       "</div>"
      ],
      "text/plain": [
       "    Unnamed: 0  gameId  season_x  week lastName firstName position  \\\n",
       "64          64    5240      2020     2  Jackson     Lamar       QB   \n",
       "69          69    5240      2020     2   Watson   Deshaun       QB   \n",
       "\n",
       "    uniformNumber opponent    team  ...  rec  recYds  recTds   QB Rating  \\\n",
       "64              8   Texans  Ravens  ...    0       0       0  113.888889   \n",
       "69              4   Ravens  Texans  ...    0       0       0   89.467593   \n",
       "\n",
       "    season_y     type    surface  temperature            conditions  windSpeed  \n",
       "64    2020.0  Regular  Turf-Roof         71.0  heavy intensity rain      17.22  \n",
       "69    2020.0  Regular  Turf-Roof         71.0  heavy intensity rain      17.22  \n",
       "\n",
       "[2 rows x 30 columns]"
      ]
     },
     "execution_count": 32,
     "metadata": {},
     "output_type": "execute_result"
    }
   ],
   "source": [
    "QB_rating_rain_df2 = weather_QB_pd.query('conditions == \"heavy intensity rain\"')\n",
    "\n",
    "QB_rating_rain_df2"
   ]
  },
  {
   "cell_type": "code",
   "execution_count": 90,
   "metadata": {},
   "outputs": [
    {
     "data": {
      "text/plain": [
       "<bound method NDFrame.describe of        QB Rating\n",
       "0      83.012821\n",
       "1      67.476852\n",
       "2     115.931373\n",
       "3     123.793860\n",
       "4      59.895833\n",
       "...          ...\n",
       "2313  106.944444\n",
       "2314  116.796875\n",
       "2315   87.847222\n",
       "2316   89.155983\n",
       "2317   75.260417\n",
       "\n",
       "[2313 rows x 1 columns]>"
      ]
     },
     "execution_count": 90,
     "metadata": {},
     "output_type": "execute_result"
    }
   ],
   "source": [
    "weather_QB_pd[[\"QB Rating\"]].describe"
   ]
  },
  {
   "cell_type": "code",
   "execution_count": 91,
   "metadata": {},
   "outputs": [
    {
     "data": {
      "text/html": [
       "<div>\n",
       "<style scoped>\n",
       "    .dataframe tbody tr th:only-of-type {\n",
       "        vertical-align: middle;\n",
       "    }\n",
       "\n",
       "    .dataframe tbody tr th {\n",
       "        vertical-align: top;\n",
       "    }\n",
       "\n",
       "    .dataframe thead th {\n",
       "        text-align: right;\n",
       "    }\n",
       "</style>\n",
       "<table border=\"1\" class=\"dataframe\">\n",
       "  <thead>\n",
       "    <tr style=\"text-align: right;\">\n",
       "      <th></th>\n",
       "      <th>windSpeed</th>\n",
       "      <th>temperature</th>\n",
       "      <th>conditions</th>\n",
       "    </tr>\n",
       "  </thead>\n",
       "  <tbody>\n",
       "    <tr>\n",
       "      <th>0</th>\n",
       "      <td>9.20</td>\n",
       "      <td>66.2</td>\n",
       "      <td>mostly cloudy</td>\n",
       "    </tr>\n",
       "    <tr>\n",
       "      <th>1</th>\n",
       "      <td>8.10</td>\n",
       "      <td>69.1</td>\n",
       "      <td>mostly cloudy</td>\n",
       "    </tr>\n",
       "    <tr>\n",
       "      <th>2</th>\n",
       "      <td>15.00</td>\n",
       "      <td>64.0</td>\n",
       "      <td>scattered clouds</td>\n",
       "    </tr>\n",
       "    <tr>\n",
       "      <th>3</th>\n",
       "      <td>13.80</td>\n",
       "      <td>53.1</td>\n",
       "      <td>light rain</td>\n",
       "    </tr>\n",
       "    <tr>\n",
       "      <th>4</th>\n",
       "      <td>11.50</td>\n",
       "      <td>82.9</td>\n",
       "      <td>mostly cloudy</td>\n",
       "    </tr>\n",
       "    <tr>\n",
       "      <th>...</th>\n",
       "      <td>...</td>\n",
       "      <td>...</td>\n",
       "      <td>...</td>\n",
       "    </tr>\n",
       "    <tr>\n",
       "      <th>2313</th>\n",
       "      <td>14.99</td>\n",
       "      <td>39.0</td>\n",
       "      <td>overcast clouds</td>\n",
       "    </tr>\n",
       "    <tr>\n",
       "      <th>2314</th>\n",
       "      <td>6.93</td>\n",
       "      <td>57.0</td>\n",
       "      <td>broken clouds</td>\n",
       "    </tr>\n",
       "    <tr>\n",
       "      <th>2315</th>\n",
       "      <td>4.70</td>\n",
       "      <td>57.0</td>\n",
       "      <td>broken clouds</td>\n",
       "    </tr>\n",
       "    <tr>\n",
       "      <th>2316</th>\n",
       "      <td>6.93</td>\n",
       "      <td>39.0</td>\n",
       "      <td>overcast clouds</td>\n",
       "    </tr>\n",
       "    <tr>\n",
       "      <th>2317</th>\n",
       "      <td>10.29</td>\n",
       "      <td>38.0</td>\n",
       "      <td>light rain</td>\n",
       "    </tr>\n",
       "  </tbody>\n",
       "</table>\n",
       "<p>2313 rows × 3 columns</p>\n",
       "</div>"
      ],
      "text/plain": [
       "      windSpeed  temperature        conditions\n",
       "0          9.20         66.2     mostly cloudy\n",
       "1          8.10         69.1     mostly cloudy\n",
       "2         15.00         64.0  scattered clouds\n",
       "3         13.80         53.1        light rain\n",
       "4         11.50         82.9     mostly cloudy\n",
       "...         ...          ...               ...\n",
       "2313      14.99         39.0   overcast clouds\n",
       "2314       6.93         57.0     broken clouds\n",
       "2315       4.70         57.0     broken clouds\n",
       "2316       6.93         39.0   overcast clouds\n",
       "2317      10.29         38.0        light rain\n",
       "\n",
       "[2313 rows x 3 columns]"
      ]
     },
     "execution_count": 91,
     "metadata": {},
     "output_type": "execute_result"
    }
   ],
   "source": [
    "#weather data weather_QB_pd\n",
    "weather_QB_pd[[\"windSpeed\",\"temperature\",\"conditions\"]]"
   ]
  },
  {
   "cell_type": "code",
   "execution_count": null,
   "metadata": {},
   "outputs": [],
   "source": []
  },
  {
   "cell_type": "code",
   "execution_count": 10,
   "metadata": {},
   "outputs": [
    {
     "data": {
      "text/html": [
       "<div>\n",
       "<style scoped>\n",
       "    .dataframe tbody tr th:only-of-type {\n",
       "        vertical-align: middle;\n",
       "    }\n",
       "\n",
       "    .dataframe tbody tr th {\n",
       "        vertical-align: top;\n",
       "    }\n",
       "\n",
       "    .dataframe thead th {\n",
       "        text-align: right;\n",
       "    }\n",
       "</style>\n",
       "<table border=\"1\" class=\"dataframe\">\n",
       "  <thead>\n",
       "    <tr style=\"text-align: right;\">\n",
       "      <th></th>\n",
       "      <th>City</th>\n",
       "      <th>Lat</th>\n",
       "      <th>Lng</th>\n",
       "      <th>Max Temp</th>\n",
       "      <th>Humidity %</th>\n",
       "      <th>Cloudiness</th>\n",
       "      <th>Wind Speed</th>\n",
       "      <th>Country</th>\n",
       "      <th>Date</th>\n",
       "      <th>Temperature</th>\n",
       "    </tr>\n",
       "  </thead>\n",
       "  <tbody>\n",
       "    <tr>\n",
       "      <th>0</th>\n",
       "      <td>Cape Town</td>\n",
       "      <td>-33.9258</td>\n",
       "      <td>18.4232</td>\n",
       "      <td>68.34</td>\n",
       "      <td>61</td>\n",
       "      <td>0</td>\n",
       "      <td>1.99</td>\n",
       "      <td>ZA</td>\n",
       "      <td>1627916523</td>\n",
       "      <td>65.3</td>\n",
       "    </tr>\n",
       "  </tbody>\n",
       "</table>\n",
       "</div>"
      ],
      "text/plain": [
       "        City      Lat      Lng  Max Temp  Humidity %  Cloudiness  Wind Speed  \\\n",
       "0  Cape Town -33.9258  18.4232     68.34          61           0        1.99   \n",
       "\n",
       "  Country        Date  Temperature  \n",
       "0      ZA  1627916523         65.3  "
      ]
     },
     "execution_count": 10,
     "metadata": {},
     "output_type": "execute_result"
    }
   ],
   "source": [
    "y2 = weather_city_df.query('City==\"Cape Town\" and Temperature>65')\n",
    "y2"
   ]
  },
  {
   "cell_type": "code",
   "execution_count": null,
   "metadata": {},
   "outputs": [],
   "source": []
  },
  {
   "cell_type": "code",
   "execution_count": null,
   "metadata": {},
   "outputs": [],
   "source": []
  },
  {
   "cell_type": "code",
   "execution_count": null,
   "metadata": {},
   "outputs": [],
   "source": [
    "y2 = weather_city_df.query('City==\"Cape Town\" and Temperature>65')"
   ]
  },
  {
   "cell_type": "code",
   "execution_count": 31,
   "metadata": {},
   "outputs": [
    {
     "data": {
      "text/plain": [
       "Index(['Unnamed: 0', 'gameId', 'season_x', 'week', 'lastName', 'firstName',\n",
       "       'position', 'uniformNumber', 'opponent', 'team', 'att', 'comp',\n",
       "       'passYds', 'passTds', 'ints', 'sacks', 'sackYds', 'rush', 'rushYds',\n",
       "       'rushTds', 'rec', 'recYds', 'recTds', 'QB Rating', 'season_y', 'type',\n",
       "       'surface', 'temperature', 'conditions', 'windSpeed'],\n",
       "      dtype='object')"
      ]
     },
     "execution_count": 31,
     "metadata": {},
     "output_type": "execute_result"
    }
   ],
   "source": [
    "weather_QB_pd.columns"
   ]
  },
  {
   "cell_type": "code",
   "execution_count": null,
   "metadata": {},
   "outputs": [],
   "source": [
    "# Including the season --- New work .... Start here"
   ]
  },
  {
   "cell_type": "markdown",
   "metadata": {},
   "source": [
    "#\n",
    "New work start from here"
   ]
  },
  {
   "cell_type": "code",
   "execution_count": 67,
   "metadata": {},
   "outputs": [
    {
     "data": {
      "text/html": [
       "<div>\n",
       "<style scoped>\n",
       "    .dataframe tbody tr th:only-of-type {\n",
       "        vertical-align: middle;\n",
       "    }\n",
       "\n",
       "    .dataframe tbody tr th {\n",
       "        vertical-align: top;\n",
       "    }\n",
       "\n",
       "    .dataframe thead th {\n",
       "        text-align: right;\n",
       "    }\n",
       "</style>\n",
       "<table border=\"1\" class=\"dataframe\">\n",
       "  <thead>\n",
       "    <tr style=\"text-align: right;\">\n",
       "      <th></th>\n",
       "      <th>QB Rating</th>\n",
       "      <th>season_y</th>\n",
       "      <th>temperature</th>\n",
       "      <th>conditions</th>\n",
       "      <th>windSpeed</th>\n",
       "    </tr>\n",
       "  </thead>\n",
       "  <tbody>\n",
       "    <tr>\n",
       "      <th>0</th>\n",
       "      <td>83.012821</td>\n",
       "      <td>2015</td>\n",
       "      <td>66.2</td>\n",
       "      <td>mostly cloudy</td>\n",
       "      <td>9.20</td>\n",
       "    </tr>\n",
       "    <tr>\n",
       "      <th>1</th>\n",
       "      <td>67.476852</td>\n",
       "      <td>2015</td>\n",
       "      <td>69.1</td>\n",
       "      <td>mostly cloudy</td>\n",
       "      <td>8.10</td>\n",
       "    </tr>\n",
       "    <tr>\n",
       "      <th>2</th>\n",
       "      <td>115.931373</td>\n",
       "      <td>2015</td>\n",
       "      <td>64.0</td>\n",
       "      <td>scattered clouds</td>\n",
       "      <td>15.00</td>\n",
       "    </tr>\n",
       "    <tr>\n",
       "      <th>3</th>\n",
       "      <td>123.793860</td>\n",
       "      <td>2015</td>\n",
       "      <td>53.1</td>\n",
       "      <td>light rain</td>\n",
       "      <td>13.80</td>\n",
       "    </tr>\n",
       "    <tr>\n",
       "      <th>4</th>\n",
       "      <td>59.895833</td>\n",
       "      <td>2015</td>\n",
       "      <td>82.9</td>\n",
       "      <td>mostly cloudy</td>\n",
       "      <td>11.50</td>\n",
       "    </tr>\n",
       "    <tr>\n",
       "      <th>...</th>\n",
       "      <td>...</td>\n",
       "      <td>...</td>\n",
       "      <td>...</td>\n",
       "      <td>...</td>\n",
       "      <td>...</td>\n",
       "    </tr>\n",
       "    <tr>\n",
       "      <th>2313</th>\n",
       "      <td>106.944444</td>\n",
       "      <td>2020</td>\n",
       "      <td>39.0</td>\n",
       "      <td>overcast clouds</td>\n",
       "      <td>14.99</td>\n",
       "    </tr>\n",
       "    <tr>\n",
       "      <th>2314</th>\n",
       "      <td>116.796875</td>\n",
       "      <td>2020</td>\n",
       "      <td>57.0</td>\n",
       "      <td>broken clouds</td>\n",
       "      <td>6.93</td>\n",
       "    </tr>\n",
       "    <tr>\n",
       "      <th>2315</th>\n",
       "      <td>87.847222</td>\n",
       "      <td>2020</td>\n",
       "      <td>57.0</td>\n",
       "      <td>broken clouds</td>\n",
       "      <td>4.70</td>\n",
       "    </tr>\n",
       "    <tr>\n",
       "      <th>2316</th>\n",
       "      <td>89.155983</td>\n",
       "      <td>2020</td>\n",
       "      <td>39.0</td>\n",
       "      <td>overcast clouds</td>\n",
       "      <td>6.93</td>\n",
       "    </tr>\n",
       "    <tr>\n",
       "      <th>2317</th>\n",
       "      <td>75.260417</td>\n",
       "      <td>2020</td>\n",
       "      <td>38.0</td>\n",
       "      <td>light rain</td>\n",
       "      <td>10.29</td>\n",
       "    </tr>\n",
       "  </tbody>\n",
       "</table>\n",
       "<p>2318 rows × 5 columns</p>\n",
       "</div>"
      ],
      "text/plain": [
       "       QB Rating  season_y  temperature        conditions  windSpeed\n",
       "0      83.012821      2015         66.2     mostly cloudy       9.20\n",
       "1      67.476852      2015         69.1     mostly cloudy       8.10\n",
       "2     115.931373      2015         64.0  scattered clouds      15.00\n",
       "3     123.793860      2015         53.1        light rain      13.80\n",
       "4      59.895833      2015         82.9     mostly cloudy      11.50\n",
       "...          ...       ...          ...               ...        ...\n",
       "2313  106.944444      2020         39.0   overcast clouds      14.99\n",
       "2314  116.796875      2020         57.0     broken clouds       6.93\n",
       "2315   87.847222      2020         57.0     broken clouds       4.70\n",
       "2316   89.155983      2020         39.0   overcast clouds       6.93\n",
       "2317   75.260417      2020         38.0        light rain      10.29\n",
       "\n",
       "[2318 rows x 5 columns]"
      ]
     },
     "execution_count": 67,
     "metadata": {},
     "output_type": "execute_result"
    }
   ],
   "source": [
    "QB_R_season_weather =weather_QB_pd[[\"QB Rating\",\"season_y\",\"temperature\" , \"conditions\",\"windSpeed\"]]\n",
    "QB_R_season_weather"
   ]
  },
  {
   "cell_type": "code",
   "execution_count": 94,
   "metadata": {},
   "outputs": [
    {
     "data": {
      "text/plain": [
       "<bound method NDFrame.describe of 0        83.012821\n",
       "1        67.476852\n",
       "2       115.931373\n",
       "3       123.793860\n",
       "4        59.895833\n",
       "           ...    \n",
       "2313    106.944444\n",
       "2314    116.796875\n",
       "2315     87.847222\n",
       "2316     89.155983\n",
       "2317     75.260417\n",
       "Name: QB Rating, Length: 2318, dtype: float64>"
      ]
     },
     "execution_count": 94,
     "metadata": {},
     "output_type": "execute_result"
    }
   ],
   "source": [
    "# Data is clean there is no NAN\n",
    "QB_R_season_weather[\"QB Rating\"].describe"
   ]
  },
  {
   "cell_type": "code",
   "execution_count": 68,
   "metadata": {},
   "outputs": [
    {
     "data": {
      "text/html": [
       "<div>\n",
       "<style scoped>\n",
       "    .dataframe tbody tr th:only-of-type {\n",
       "        vertical-align: middle;\n",
       "    }\n",
       "\n",
       "    .dataframe tbody tr th {\n",
       "        vertical-align: top;\n",
       "    }\n",
       "\n",
       "    .dataframe thead th {\n",
       "        text-align: right;\n",
       "    }\n",
       "</style>\n",
       "<table border=\"1\" class=\"dataframe\">\n",
       "  <thead>\n",
       "    <tr style=\"text-align: right;\">\n",
       "      <th></th>\n",
       "      <th>QB Rating</th>\n",
       "      <th>season_y</th>\n",
       "      <th>temperature</th>\n",
       "      <th>conditions</th>\n",
       "      <th>windSpeed</th>\n",
       "    </tr>\n",
       "  </thead>\n",
       "  <tbody>\n",
       "    <tr>\n",
       "      <th>1967</th>\n",
       "      <td>102.967172</td>\n",
       "      <td>2020</td>\n",
       "      <td>66.0</td>\n",
       "      <td>haze</td>\n",
       "      <td>6.00</td>\n",
       "    </tr>\n",
       "    <tr>\n",
       "      <th>1968</th>\n",
       "      <td>66.087963</td>\n",
       "      <td>2020</td>\n",
       "      <td>83.0</td>\n",
       "      <td>partly cloudy</td>\n",
       "      <td>6.00</td>\n",
       "    </tr>\n",
       "    <tr>\n",
       "      <th>1969</th>\n",
       "      <td>104.619565</td>\n",
       "      <td>2020</td>\n",
       "      <td>67.0</td>\n",
       "      <td>cloudy</td>\n",
       "      <td>15.00</td>\n",
       "    </tr>\n",
       "    <tr>\n",
       "      <th>1970</th>\n",
       "      <td>95.012626</td>\n",
       "      <td>2020</td>\n",
       "      <td>74.0</td>\n",
       "      <td>clear sky</td>\n",
       "      <td>1.01</td>\n",
       "    </tr>\n",
       "    <tr>\n",
       "      <th>1971</th>\n",
       "      <td>65.010684</td>\n",
       "      <td>2020</td>\n",
       "      <td>76.0</td>\n",
       "      <td>cloudy</td>\n",
       "      <td>5.00</td>\n",
       "    </tr>\n",
       "    <tr>\n",
       "      <th>...</th>\n",
       "      <td>...</td>\n",
       "      <td>...</td>\n",
       "      <td>...</td>\n",
       "      <td>...</td>\n",
       "      <td>...</td>\n",
       "    </tr>\n",
       "    <tr>\n",
       "      <th>2313</th>\n",
       "      <td>106.944444</td>\n",
       "      <td>2020</td>\n",
       "      <td>39.0</td>\n",
       "      <td>overcast clouds</td>\n",
       "      <td>14.99</td>\n",
       "    </tr>\n",
       "    <tr>\n",
       "      <th>2314</th>\n",
       "      <td>116.796875</td>\n",
       "      <td>2020</td>\n",
       "      <td>57.0</td>\n",
       "      <td>broken clouds</td>\n",
       "      <td>6.93</td>\n",
       "    </tr>\n",
       "    <tr>\n",
       "      <th>2315</th>\n",
       "      <td>87.847222</td>\n",
       "      <td>2020</td>\n",
       "      <td>57.0</td>\n",
       "      <td>broken clouds</td>\n",
       "      <td>4.70</td>\n",
       "    </tr>\n",
       "    <tr>\n",
       "      <th>2316</th>\n",
       "      <td>89.155983</td>\n",
       "      <td>2020</td>\n",
       "      <td>39.0</td>\n",
       "      <td>overcast clouds</td>\n",
       "      <td>6.93</td>\n",
       "    </tr>\n",
       "    <tr>\n",
       "      <th>2317</th>\n",
       "      <td>75.260417</td>\n",
       "      <td>2020</td>\n",
       "      <td>38.0</td>\n",
       "      <td>light rain</td>\n",
       "      <td>10.29</td>\n",
       "    </tr>\n",
       "  </tbody>\n",
       "</table>\n",
       "<p>351 rows × 5 columns</p>\n",
       "</div>"
      ],
      "text/plain": [
       "       QB Rating  season_y  temperature       conditions  windSpeed\n",
       "1967  102.967172      2020         66.0             haze       6.00\n",
       "1968   66.087963      2020         83.0    partly cloudy       6.00\n",
       "1969  104.619565      2020         67.0           cloudy      15.00\n",
       "1970   95.012626      2020         74.0        clear sky       1.01\n",
       "1971   65.010684      2020         76.0           cloudy       5.00\n",
       "...          ...       ...          ...              ...        ...\n",
       "2313  106.944444      2020         39.0  overcast clouds      14.99\n",
       "2314  116.796875      2020         57.0    broken clouds       6.93\n",
       "2315   87.847222      2020         57.0    broken clouds       4.70\n",
       "2316   89.155983      2020         39.0  overcast clouds       6.93\n",
       "2317   75.260417      2020         38.0       light rain      10.29\n",
       "\n",
       "[351 rows x 5 columns]"
      ]
     },
     "execution_count": 68,
     "metadata": {},
     "output_type": "execute_result"
    }
   ],
   "source": [
    "three_rating = pd.DataFrame()\n",
    "QB_R_season_weather_2020 = QB_R_season.query('season_y==\"2020\"')\n",
    "#r = QB_R_season_2020[\"QB Rating\"].max()\n",
    "#three_rating[\"MAX\"] = 2.4\n",
    "#hree_rating[\"Min\"] = 2\n",
    "#three_rating\n",
    "QB_R_season_weather_2020"
   ]
  },
  {
   "cell_type": "code",
   "execution_count": 72,
   "metadata": {},
   "outputs": [
    {
     "data": {
      "text/html": [
       "<div>\n",
       "<style scoped>\n",
       "    .dataframe tbody tr th:only-of-type {\n",
       "        vertical-align: middle;\n",
       "    }\n",
       "\n",
       "    .dataframe tbody tr th {\n",
       "        vertical-align: top;\n",
       "    }\n",
       "\n",
       "    .dataframe thead th {\n",
       "        text-align: right;\n",
       "    }\n",
       "</style>\n",
       "<table border=\"1\" class=\"dataframe\">\n",
       "  <thead>\n",
       "    <tr style=\"text-align: right;\">\n",
       "      <th></th>\n",
       "      <th>QB Rating</th>\n",
       "      <th>season_y</th>\n",
       "      <th>temperature</th>\n",
       "      <th>conditions</th>\n",
       "      <th>windSpeed</th>\n",
       "    </tr>\n",
       "  </thead>\n",
       "  <tbody>\n",
       "    <tr>\n",
       "      <th>1970</th>\n",
       "      <td>95.012626</td>\n",
       "      <td>2020</td>\n",
       "      <td>74.0</td>\n",
       "      <td>clear sky</td>\n",
       "      <td>1.01</td>\n",
       "    </tr>\n",
       "    <tr>\n",
       "      <th>1980</th>\n",
       "      <td>98.897059</td>\n",
       "      <td>2020</td>\n",
       "      <td>81.0</td>\n",
       "      <td>clear sky</td>\n",
       "      <td>5.00</td>\n",
       "    </tr>\n",
       "    <tr>\n",
       "      <th>1982</th>\n",
       "      <td>107.500000</td>\n",
       "      <td>2020</td>\n",
       "      <td>81.0</td>\n",
       "      <td>clear sky</td>\n",
       "      <td>5.00</td>\n",
       "    </tr>\n",
       "    <tr>\n",
       "      <th>1984</th>\n",
       "      <td>117.838542</td>\n",
       "      <td>2020</td>\n",
       "      <td>65.0</td>\n",
       "      <td>clear sky</td>\n",
       "      <td>15.14</td>\n",
       "    </tr>\n",
       "    <tr>\n",
       "      <th>1986</th>\n",
       "      <td>97.916667</td>\n",
       "      <td>2020</td>\n",
       "      <td>74.0</td>\n",
       "      <td>clear sky</td>\n",
       "      <td>1.01</td>\n",
       "    </tr>\n",
       "    <tr>\n",
       "      <th>...</th>\n",
       "      <td>...</td>\n",
       "      <td>...</td>\n",
       "      <td>...</td>\n",
       "      <td>...</td>\n",
       "      <td>...</td>\n",
       "    </tr>\n",
       "    <tr>\n",
       "      <th>2306</th>\n",
       "      <td>97.253788</td>\n",
       "      <td>2020</td>\n",
       "      <td>65.0</td>\n",
       "      <td>overcast clouds</td>\n",
       "      <td>5.82</td>\n",
       "    </tr>\n",
       "    <tr>\n",
       "      <th>2307</th>\n",
       "      <td>76.348039</td>\n",
       "      <td>2020</td>\n",
       "      <td>35.0</td>\n",
       "      <td>overcast clouds</td>\n",
       "      <td>3.36</td>\n",
       "    </tr>\n",
       "    <tr>\n",
       "      <th>2311</th>\n",
       "      <td>127.361111</td>\n",
       "      <td>2020</td>\n",
       "      <td>35.0</td>\n",
       "      <td>overcast clouds</td>\n",
       "      <td>3.36</td>\n",
       "    </tr>\n",
       "    <tr>\n",
       "      <th>2313</th>\n",
       "      <td>106.944444</td>\n",
       "      <td>2020</td>\n",
       "      <td>39.0</td>\n",
       "      <td>overcast clouds</td>\n",
       "      <td>14.99</td>\n",
       "    </tr>\n",
       "    <tr>\n",
       "      <th>2316</th>\n",
       "      <td>89.155983</td>\n",
       "      <td>2020</td>\n",
       "      <td>39.0</td>\n",
       "      <td>overcast clouds</td>\n",
       "      <td>6.93</td>\n",
       "    </tr>\n",
       "  </tbody>\n",
       "</table>\n",
       "<p>167 rows × 5 columns</p>\n",
       "</div>"
      ],
      "text/plain": [
       "       QB Rating  season_y  temperature       conditions  windSpeed\n",
       "1970   95.012626      2020         74.0        clear sky       1.01\n",
       "1980   98.897059      2020         81.0        clear sky       5.00\n",
       "1982  107.500000      2020         81.0        clear sky       5.00\n",
       "1984  117.838542      2020         65.0        clear sky      15.14\n",
       "1986   97.916667      2020         74.0        clear sky       1.01\n",
       "...          ...       ...          ...              ...        ...\n",
       "2306   97.253788      2020         65.0  overcast clouds       5.82\n",
       "2307   76.348039      2020         35.0  overcast clouds       3.36\n",
       "2311  127.361111      2020         35.0  overcast clouds       3.36\n",
       "2313  106.944444      2020         39.0  overcast clouds      14.99\n",
       "2316   89.155983      2020         39.0  overcast clouds       6.93\n",
       "\n",
       "[167 rows x 5 columns]"
      ]
     },
     "execution_count": 72,
     "metadata": {},
     "output_type": "execute_result"
    }
   ],
   "source": [
    "# Narrow the condition:\n",
    "QB_R_season_weather_2020_con_3 = QB_R_season_weather_2020.query('conditions == \"clear sky\" or conditions == \"overcast clouds\" or conditions == \"light snow\" ')\n",
    "QB_R_season_weather_2020_con_3"
   ]
  },
  {
   "cell_type": "markdown",
   "metadata": {},
   "source": [
    "# Draw a  graph QB rating for season = 2020 against three weather condition"
   ]
  },
  {
   "cell_type": "code",
   "execution_count": 73,
   "metadata": {},
   "outputs": [
    {
     "data": {
      "text/plain": [
       "<BarContainer object of 167 artists>"
      ]
     },
     "execution_count": 73,
     "metadata": {},
     "output_type": "execute_result"
    },
    {
     "data": {
      "image/png": "[encoded data removed]",
      "text/plain": [
       "<Figure size 432x288 with 1 Axes>"
      ]
     },
     "metadata": {
      "needs_background": "light"
     },
     "output_type": "display_data"
    }
   ],
   "source": [
    "plt.title(\"QB rating vs weather conditions\")\n",
    "plt.xlabel(\"weather conditions\")\n",
    "plt.ylabel(\"QB player Rating\")\n",
    "plt.bar(QB_R_season_weather_2020_con_3[\"conditions\"], QB_R_season_weather_2020_con_3[\"QB Rating\"], color='b', alpha=0.5, align=\"center\")"
   ]
  },
  {
   "cell_type": "markdown",
   "metadata": {},
   "source": [
    "# graph # 2\n",
    "#Draw a  graph QB rating for season = 2020 against temperature"
   ]
  },
  {
   "cell_type": "code",
   "execution_count": 75,
   "metadata": {},
   "outputs": [
    {
     "data": {
      "text/plain": [
       "<BarContainer object of 351 artists>"
      ]
     },
     "execution_count": 75,
     "metadata": {},
     "output_type": "execute_result"
    },
    {
     "data": {
      "image/png": "[encoded data removed]",
      "text/plain": [
       "<Figure size 432x288 with 1 Axes>"
      ]
     },
     "metadata": {
      "needs_background": "light"
     },
     "output_type": "display_data"
    }
   ],
   "source": [
    "plt.title(\"QB rating vs temperature\")\n",
    "plt.xlabel(\"Temperature\")\n",
    "plt.ylabel(\"QB player Rating\")\n",
    "plt.bar(QB_R_season_weather_2020[\"temperature\"], QB_R_season_weather_2020[\"QB Rating\"], color='b', alpha=0.5, align=\"center\")"
   ]
  },
  {
   "cell_type": "markdown",
   "metadata": {},
   "source": [
    "#  Bar Graph 3\n",
    "## ##Draw a  graph QB rating for season = 2020 against windspeed "
   ]
  },
  {
   "cell_type": "code",
   "execution_count": 78,
   "metadata": {},
   "outputs": [
    {
     "data": {
      "text/plain": [
       "<BarContainer object of 351 artists>"
      ]
     },
     "execution_count": 78,
     "metadata": {},
     "output_type": "execute_result"
    },
    {
     "data": {
      "image/png": "[encoded data removed]",
      "text/plain": [
       "<Figure size 432x288 with 1 Axes>"
      ]
     },
     "metadata": {
      "needs_background": "light"
     },
     "output_type": "display_data"
    }
   ],
   "source": [
    "plt.title(\"QB rating vs windspeed\")\n",
    "plt.xlabel(\"wind speed\")\n",
    "plt.ylabel(\"QB player Rating\")\n",
    "plt.bar(QB_R_season_weather_2020[\"windSpeed\"], QB_R_season_weather_2020[\"QB Rating\"], color='b', alpha=0.5, align=\"center\")"
   ]
  },
  {
   "cell_type": "markdown",
   "metadata": {},
   "source": [
    "#  Scatter  Graph 4\n",
    "# QB Rating against temperature where seaon = 2020\n",
    "# r value\n",
    "# P value\n",
    "# line eq"
   ]
  },
  {
   "cell_type": "code",
   "execution_count": 77,
   "metadata": {},
   "outputs": [
    {
     "data": {
      "image/png": "[encoded data removed]",
      "text/plain": [
       "<Figure size 432x288 with 1 Axes>"
      ]
     },
     "metadata": {
      "needs_background": "light"
     },
     "output_type": "display_data"
    },
    {
     "name": "stdout",
     "output_type": "stream",
     "text": [
      "The r-squared value is: 0.005162712111913021\n",
      "The p value value is: 0.179245505125972\n"
     ]
    }
   ],
   "source": [
    "x_values= QB_R_season_weather_2020[\"temperature\"]\n",
    "y_values= QB_R_season_weather_2020[\"QB Rating\"]\n",
    "(slope, intercept, rvalue, pvalue, stderr) = linregress(x_values, y_values)\n",
    "regress_values = x_values * slope + intercept\n",
    "line_eq = \"y = \" + str(round(slope,2)) + \"x + \" + str(round(intercept,2))\n",
    "plt.scatter(x_values,y_values)\n",
    "\n",
    "plt.plot(x_values,regress_values,\"r-\")\n",
    "plt.annotate(line_eq,(10,20),fontsize=15,color=\"red\")\n",
    "plt.title(\"QB_rating' VS  Temperature\")\n",
    "plt.xlabel('temperature')\n",
    "plt.ylabel('QB Rating')\n",
    "plt.xlim(0,100)\n",
    "plt.ylim(0,200)\n",
    "plt.grid(True)\n",
    "plt.show()\n",
    "print(f\"The r-squared value is: {rvalue**2}\")\n",
    "print(f\"The p value value is: {pvalue}\")\n"
   ]
  },
  {
   "cell_type": "markdown",
   "metadata": {},
   "source": [
    "\n",
    "# Graph 5 - QB Rating against windspeed where seaon = 2020\n",
    "# r value\n",
    "# P value\n",
    "# line eq"
   ]
  },
  {
   "cell_type": "code",
   "execution_count": 82,
   "metadata": {},
   "outputs": [
    {
     "data": {
      "image/png": "[encoded data removed]",
      "text/plain": [
       "<Figure size 432x288 with 1 Axes>"
      ]
     },
     "metadata": {
      "needs_background": "light"
     },
     "output_type": "display_data"
    },
    {
     "name": "stdout",
     "output_type": "stream",
     "text": [
      "The r-squared value is: 0.000287058985600271\n",
      "The p value value is: 0.7517642125227776\n"
     ]
    }
   ],
   "source": [
    "x_values= QB_R_season_weather_2020[\"windSpeed\"]\n",
    "y_values= QB_R_season_weather_2020[\"QB Rating\"]\n",
    "(slope, intercept, rvalue, pvalue, stderr) = linregress(x_values, y_values)\n",
    "regress_values = x_values * slope + intercept\n",
    "line_eq = \"y = \" + str(round(slope,2)) + \"x + \" + str(round(intercept,2))\n",
    "plt.scatter(x_values,y_values)\n",
    "\n",
    "plt.plot(x_values,regress_values,\"r-\")\n",
    "plt.annotate(line_eq,(10,20),fontsize=15,color=\"red\")\n",
    "plt.title(\"QB_rating' VS  windspeed\")\n",
    "plt.xlabel('wind speed')\n",
    "plt.ylabel('QB Rating')\n",
    "plt.xlim(-1,50)\n",
    "plt.ylim(0,200)\n",
    "plt.grid(True)\n",
    "plt.show()\n",
    "print(f\"The r-squared value is: {rvalue**2}\")\n",
    "print(f\"The p value value is: {pvalue}\")\n"
   ]
  },
  {
   "cell_type": "code",
   "execution_count": null,
   "metadata": {},
   "outputs": [],
   "source": []
  },
  {
   "cell_type": "code",
   "execution_count": null,
   "metadata": {},
   "outputs": [],
   "source": []
  },
  {
   "cell_type": "code",
   "execution_count": null,
   "metadata": {},
   "outputs": [],
   "source": []
  },
  {
   "cell_type": "code",
   "execution_count": null,
   "metadata": {},
   "outputs": [],
   "source": []
  },
  {
   "cell_type": "code",
   "execution_count": null,
   "metadata": {},
   "outputs": [],
   "source": []
  },
  {
   "cell_type": "code",
   "execution_count": null,
   "metadata": {},
   "outputs": [],
   "source": []
  },
  {
   "cell_type": "code",
   "execution_count": 60,
   "metadata": {},
   "outputs": [],
   "source": []
  },
  {
   "cell_type": "code",
   "execution_count": 73,
   "metadata": {},
   "outputs": [
    {
     "data": {
      "application/vnd.jupyter.widget-view+json": {
       "model_id": "91685ff19a2741a5a1c7418e167f55eb",
       "version_major": 2,
       "version_minor": 0
      },
      "text/plain": [
       "Figure(layout=FigureLayout(height='420px'))"
      ]
     },
     "metadata": {},
     "output_type": "display_data"
    }
   ],
   "source": []
  },
  {
   "cell_type": "code",
   "execution_count": null,
   "metadata": {},
   "outputs": [],
   "source": []
  },
  {
   "cell_type": "code",
   "execution_count": null,
   "metadata": {},
   "outputs": [],
   "source": []
  }
 ],
 "metadata": {
  "kernelspec": {
   "display_name": "Python 3",
   "language": "python",
   "name": "python3"
  },
  "language_info": {
   "codemirror_mode": {
    "name": "ipython",
    "version": 3
   },
   "file_extension": ".py",
   "mimetype": "text/x-python",
   "name": "python",
   "nbconvert_exporter": "python",
   "pygments_lexer": "ipython3",
   "version": "3.8.5"
  },
  "latex_envs": {
   "LaTeX_envs_menu_present": true,
   "autoclose": false,
   "autocomplete": true,
   "bibliofile": "biblio.bib",
   "cite_by": "apalike",
   "current_citInitial": 1,
   "eqLabelWithNumbers": true,
   "eqNumInitial": 1,
   "hotkeys": {
    "equation": "Ctrl-E",
    "itemize": "Ctrl-I"
   },
   "labels_anchors": false,
   "latex_user_defs": false,
   "report_style_numbering": false,
   "user_envs_cfg": false
  }
 },
 "nbformat": 4,
 "nbformat_minor": 4
}
