{
 "cells": [
  {
   "cell_type": "code",
   "execution_count": 1,
   "id": "de1fc182",
   "metadata": {},
   "outputs": [],
   "source": [
    "import pandas as pd\n",
    "import os, csv\n",
    "import matplotlib.pyplot as plt\n",
    "import scipy.stats as st\n",
    "import scipy as stats\n",
    "import numpy as np\n",
    "import seaborn as sns\n",
    "import seaborn as sb\n",
    "from scipy.stats import f_oneway"
   ]
  },
  {
   "cell_type": "code",
   "execution_count": 6,
   "id": "759f0e65",
   "metadata": {},
   "outputs": [],
   "source": [
    "csv_path = \"data_resources/QB Stats and Weather Data.csv\""
   ]
  },
  {
   "cell_type": "code",
   "execution_count": 7,
   "id": "b9c22c15",
   "metadata": {},
   "outputs": [
    {
     "data": {
      "text/html": [
       "<div>\n",
       "<style scoped>\n",
       "    .dataframe tbody tr th:only-of-type {\n",
       "        vertical-align: middle;\n",
       "    }\n",
       "\n",
       "    .dataframe tbody tr th {\n",
       "        vertical-align: top;\n",
       "    }\n",
       "\n",
       "    .dataframe thead th {\n",
       "        text-align: right;\n",
       "    }\n",
       "</style>\n",
       "<table border=\"1\" class=\"dataframe\">\n",
       "  <thead>\n",
       "    <tr style=\"text-align: right;\">\n",
       "      <th></th>\n",
       "      <th>Unnamed: 0</th>\n",
       "      <th>gameId</th>\n",
       "      <th>season_x</th>\n",
       "      <th>week</th>\n",
       "      <th>lastName</th>\n",
       "      <th>firstName</th>\n",
       "      <th>position</th>\n",
       "      <th>uniformNumber</th>\n",
       "      <th>opponent</th>\n",
       "      <th>team</th>\n",
       "      <th>...</th>\n",
       "      <th>rec</th>\n",
       "      <th>recYds</th>\n",
       "      <th>recTds</th>\n",
       "      <th>QB Rating</th>\n",
       "      <th>season_y</th>\n",
       "      <th>type</th>\n",
       "      <th>surface</th>\n",
       "      <th>temperature</th>\n",
       "      <th>conditions</th>\n",
       "      <th>windSpeed</th>\n",
       "    </tr>\n",
       "  </thead>\n",
       "  <tbody>\n",
       "    <tr>\n",
       "      <th>0</th>\n",
       "      <td>0</td>\n",
       "      <td>3603</td>\n",
       "      <td>2015</td>\n",
       "      <td>1</td>\n",
       "      <td>Kaepernick</td>\n",
       "      <td>C</td>\n",
       "      <td>QB</td>\n",
       "      <td>7</td>\n",
       "      <td>Vikings</td>\n",
       "      <td>49ers</td>\n",
       "      <td>...</td>\n",
       "      <td>0</td>\n",
       "      <td>0</td>\n",
       "      <td>0</td>\n",
       "      <td>83.012821</td>\n",
       "      <td>2015</td>\n",
       "      <td>Regular</td>\n",
       "      <td>Grass</td>\n",
       "      <td>66.2</td>\n",
       "      <td>mostly cloudy</td>\n",
       "      <td>9.2</td>\n",
       "    </tr>\n",
       "    <tr>\n",
       "      <th>1</th>\n",
       "      <td>1</td>\n",
       "      <td>3590</td>\n",
       "      <td>2015</td>\n",
       "      <td>1</td>\n",
       "      <td>Cutler</td>\n",
       "      <td>J</td>\n",
       "      <td>QB</td>\n",
       "      <td>6</td>\n",
       "      <td>Packers</td>\n",
       "      <td>Bears</td>\n",
       "      <td>...</td>\n",
       "      <td>0</td>\n",
       "      <td>0</td>\n",
       "      <td>0</td>\n",
       "      <td>67.476852</td>\n",
       "      <td>2015</td>\n",
       "      <td>Regular</td>\n",
       "      <td>Grass</td>\n",
       "      <td>69.1</td>\n",
       "      <td>mostly cloudy</td>\n",
       "      <td>8.1</td>\n",
       "    </tr>\n",
       "    <tr>\n",
       "      <th>2</th>\n",
       "      <td>2</td>\n",
       "      <td>3599</td>\n",
       "      <td>2015</td>\n",
       "      <td>1</td>\n",
       "      <td>Dalton</td>\n",
       "      <td>A</td>\n",
       "      <td>QB</td>\n",
       "      <td>14</td>\n",
       "      <td>Raiders</td>\n",
       "      <td>Bengals</td>\n",
       "      <td>...</td>\n",
       "      <td>0</td>\n",
       "      <td>0</td>\n",
       "      <td>0</td>\n",
       "      <td>115.931373</td>\n",
       "      <td>2015</td>\n",
       "      <td>Regular</td>\n",
       "      <td>Grass</td>\n",
       "      <td>64.0</td>\n",
       "      <td>scattered clouds</td>\n",
       "      <td>15.0</td>\n",
       "    </tr>\n",
       "    <tr>\n",
       "      <th>3</th>\n",
       "      <td>3</td>\n",
       "      <td>3589</td>\n",
       "      <td>2015</td>\n",
       "      <td>1</td>\n",
       "      <td>Taylor</td>\n",
       "      <td>T</td>\n",
       "      <td>QB</td>\n",
       "      <td>2</td>\n",
       "      <td>Colts</td>\n",
       "      <td>Bills</td>\n",
       "      <td>...</td>\n",
       "      <td>0</td>\n",
       "      <td>0</td>\n",
       "      <td>0</td>\n",
       "      <td>123.793860</td>\n",
       "      <td>2015</td>\n",
       "      <td>Regular</td>\n",
       "      <td>Turf</td>\n",
       "      <td>53.1</td>\n",
       "      <td>light rain</td>\n",
       "      <td>13.8</td>\n",
       "    </tr>\n",
       "    <tr>\n",
       "      <th>4</th>\n",
       "      <td>4</td>\n",
       "      <td>3598</td>\n",
       "      <td>2015</td>\n",
       "      <td>1</td>\n",
       "      <td>Manning</td>\n",
       "      <td>P</td>\n",
       "      <td>QB</td>\n",
       "      <td>18</td>\n",
       "      <td>Ravens</td>\n",
       "      <td>Broncos</td>\n",
       "      <td>...</td>\n",
       "      <td>0</td>\n",
       "      <td>0</td>\n",
       "      <td>0</td>\n",
       "      <td>59.895833</td>\n",
       "      <td>2015</td>\n",
       "      <td>Regular</td>\n",
       "      <td>Grass</td>\n",
       "      <td>82.9</td>\n",
       "      <td>mostly cloudy</td>\n",
       "      <td>11.5</td>\n",
       "    </tr>\n",
       "  </tbody>\n",
       "</table>\n",
       "<p>5 rows × 30 columns</p>\n",
       "</div>"
      ],
      "text/plain": [
       "   Unnamed: 0  gameId  season_x  week    lastName firstName position  \\\n",
       "0           0    3603      2015     1  Kaepernick         C       QB   \n",
       "1           1    3590      2015     1      Cutler         J       QB   \n",
       "2           2    3599      2015     1      Dalton         A       QB   \n",
       "3           3    3589      2015     1      Taylor         T       QB   \n",
       "4           4    3598      2015     1     Manning         P       QB   \n",
       "\n",
       "   uniformNumber opponent     team  ...  rec  recYds  recTds   QB Rating  \\\n",
       "0              7  Vikings    49ers  ...    0       0       0   83.012821   \n",
       "1              6  Packers    Bears  ...    0       0       0   67.476852   \n",
       "2             14  Raiders  Bengals  ...    0       0       0  115.931373   \n",
       "3              2    Colts    Bills  ...    0       0       0  123.793860   \n",
       "4             18   Ravens  Broncos  ...    0       0       0   59.895833   \n",
       "\n",
       "   season_y     type  surface  temperature        conditions  windSpeed  \n",
       "0      2015  Regular    Grass         66.2     mostly cloudy        9.2  \n",
       "1      2015  Regular    Grass         69.1     mostly cloudy        8.1  \n",
       "2      2015  Regular    Grass         64.0  scattered clouds       15.0  \n",
       "3      2015  Regular     Turf         53.1        light rain       13.8  \n",
       "4      2015  Regular    Grass         82.9     mostly cloudy       11.5  \n",
       "\n",
       "[5 rows x 30 columns]"
      ]
     },
     "execution_count": 7,
     "metadata": {},
     "output_type": "execute_result"
    }
   ],
   "source": [
    "QB_stats_and_weather_df = pd.read_csv(csv_path)\n",
    "QB_stats_and_weather_df.head()"
   ]
  },
  {
   "cell_type": "code",
   "execution_count": 8,
   "id": "d3cd2e82",
   "metadata": {},
   "outputs": [
    {
     "data": {
      "text/plain": [
       "0        9.20\n",
       "1        8.10\n",
       "2       15.00\n",
       "3       13.80\n",
       "4       11.50\n",
       "        ...  \n",
       "2313    14.99\n",
       "2314     6.93\n",
       "2315     4.70\n",
       "2316     6.93\n",
       "2317    10.29\n",
       "Name: windSpeed, Length: 2318, dtype: float64"
      ]
     },
     "execution_count": 8,
     "metadata": {},
     "output_type": "execute_result"
    }
   ],
   "source": [
    "windSpeed = QB_stats_and_weather_df[\"windSpeed\"]\n",
    "windSpeed"
   ]
  },
  {
   "cell_type": "code",
   "execution_count": 9,
   "id": "941dee3a",
   "metadata": {},
   "outputs": [
    {
     "data": {
      "text/plain": [
       "0        83.012821\n",
       "1        67.476852\n",
       "2       115.931373\n",
       "3       123.793860\n",
       "4        59.895833\n",
       "           ...    \n",
       "2313     90.972222\n",
       "2314    116.796875\n",
       "2315     87.847222\n",
       "2316     89.155983\n",
       "2317     75.260417\n",
       "Name: QB Rating, Length: 2318, dtype: float64"
      ]
     },
     "execution_count": 9,
     "metadata": {},
     "output_type": "execute_result"
    }
   ],
   "source": [
    "qbrating = QB_stats_and_weather_df[\"QB Rating\"]\n",
    "qbrating"
   ]
  },
  {
   "cell_type": "code",
   "execution_count": 10,
   "id": "62f52f0b",
   "metadata": {},
   "outputs": [
    {
     "name": "stdout",
     "output_type": "stream",
     "text": [
      "71.73214285714286\n",
      "107.68136160714286\n",
      "35.94921875\n"
     ]
    }
   ],
   "source": [
    "quartile = qbrating.quantile([0.25, 0.5, 0.75])\n",
    "lower = quartile[0.25]\n",
    "upper = quartile[0.75]\n",
    "iqr = upper - lower\n",
    "\n",
    "print(lower)\n",
    "print(upper)\n",
    "print(iqr)\n",
    "\n",
    "#OUr lower quartile is at 73 and upper quartile is 111 = 38 degrees of difference\n",
    "#to be considered an outlier, we would consider #s 57 degrees below 73 or 57 degrees above 111"
   ]
  },
  {
   "cell_type": "code",
   "execution_count": 11,
   "id": "67514fd3",
   "metadata": {},
   "outputs": [
    {
     "name": "stdout",
     "output_type": "stream",
     "text": [
      "Values below 17.80831473214286 could be outliers.\n",
      "Values above 161.60518973214286 could be outliers.\n"
     ]
    }
   ],
   "source": [
    "lower_bound = lower - (1.5*iqr)\n",
    "upper_bound = upper + (1.5*iqr)\n",
    "outliers = QB_stats_and_weather_df.loc[(QB_stats_and_weather_df[\"QB Rating\"] > upper_bound) | (QB_stats_and_weather_df[\"QB Rating\"] < lower_bound)]\n",
    "\n",
    "print(f\"Values below {lower_bound} could be outliers.\")\n",
    "print(f\"Values above {upper_bound} could be outliers.\")"
   ]
  },
  {
   "cell_type": "code",
   "execution_count": 12,
   "id": "0f366fed",
   "metadata": {},
   "outputs": [],
   "source": [
    "#Remove negative QB ratings\n",
    "new_qb_df = QB_stats_and_weather_df[QB_stats_and_weather_df[\"QB Rating\"] >= 0]"
   ]
  },
  {
   "cell_type": "code",
   "execution_count": 18,
   "id": "e77390c1",
   "metadata": {},
   "outputs": [
    {
     "data": {
      "text/plain": [
       "Text(0.5, 0.98, '')"
      ]
     },
     "execution_count": 18,
     "metadata": {},
     "output_type": "execute_result"
    },
    {
     "data": {
      "image/png": "[encoded data removed]",
      "text/plain": [
       "<Figure size 432x288 with 1 Axes>"
      ]
     },
     "metadata": {
      "needs_background": "light"
     },
     "output_type": "display_data"
    }
   ],
   "source": [
    "new_qb_df.boxplot(\"QB Rating\", by=\"conditions\", rot=90)\n",
    "plt.suptitle(\"\")"
   ]
  },
  {
   "cell_type": "code",
   "execution_count": 14,
   "id": "dcba1743",
   "metadata": {},
   "outputs": [],
   "source": [
    "#anova value to compare the means of qb ratings across each weather conditions\n",
    "group1 = new_qb_df[new_qb_df[\"conditions\"] == \"clear sky\"][\"QB Rating\"]\n",
    "group2 = new_qb_df[new_qb_df[\"conditions\"] == \"heavy intensity rain\"][\"QB Rating\"]\n",
    "group3 = new_qb_df[new_qb_df[\"conditions\"] == \"few clouds\"][\"QB Rating\"]\n",
    "group4 = new_qb_df[new_qb_df[\"conditions\"] == \"thunderstorm\"][\"QB Rating\"]\n",
    "group5 = new_qb_df[new_qb_df[\"conditions\"] == \"light snow\"][\"QB Rating\"]\n",
    "\n",
    "# real hyp: qb ratings will vary given different weather conditions.\n",
    "# null: NOT"
   ]
  },
  {
   "cell_type": "code",
   "execution_count": 15,
   "id": "32890539",
   "metadata": {},
   "outputs": [
    {
     "data": {
      "text/plain": [
       "F_onewayResult(statistic=1.1104981637648177, pvalue=0.3502356907369383)"
      ]
     },
     "execution_count": 15,
     "metadata": {},
     "output_type": "execute_result"
    }
   ],
   "source": [
    "f_oneway(group1, group2,group3, group4, group5)"
   ]
  },
  {
   "cell_type": "code",
   "execution_count": 19,
   "id": "c20260f0",
   "metadata": {},
   "outputs": [
    {
     "data": {
      "image/png": "[encoded data removed]",
      "text/plain": [
       "<Figure size 432x288 with 1 Axes>"
      ]
     },
     "metadata": {
      "needs_background": "light"
     },
     "output_type": "display_data"
    }
   ],
   "source": [
    "data16 = new_qb_df[new_qb_df[\"conditions\"] == \"breeze\"][\"QB Rating\"]\n",
    "data1 = new_qb_df[new_qb_df[\"conditions\"] == \"broken clouds\"][\"QB Rating\"]\n",
    "data2 = new_qb_df[new_qb_df[\"conditions\"] == \"clear sky\"][\"QB Rating\"]\n",
    "data3 = new_qb_df[new_qb_df[\"conditions\"] == \"cloudy\"][\"QB Rating\"]\n",
    "data4 = new_qb_df[new_qb_df[\"conditions\"] == \"few clouds\"][\"QB Rating\"]\n",
    "data5 = new_qb_df[new_qb_df[\"conditions\"] == \"fog\"][\"QB Rating\"]\n",
    "data6 = new_qb_df[new_qb_df[\"conditions\"] == \"haze\"][\"QB Rating\"]\n",
    "data7 = new_qb_df[new_qb_df[\"conditions\"] == \"heavy intensity rain\"][\"QB Rating\"]\n",
    "data8 = new_qb_df[new_qb_df[\"conditions\"] == \"light rain\"][\"QB Rating\"]\n",
    "data9 = new_qb_df[new_qb_df[\"conditions\"] == \"mist\"][\"QB Rating\"]\n",
    "data10 = new_qb_df[new_qb_df[\"conditions\"] == \"moderate rain\"][\"QB Rating\"]\n",
    "data11 = new_qb_df[new_qb_df[\"conditions\"] == \"overcast clouds\"][\"QB Rating\"]\n",
    "data12 = new_qb_df[new_qb_df[\"conditions\"] == \"partly cloudy\"][\"QB Rating\"]\n",
    "data13 = new_qb_df[new_qb_df[\"conditions\"] == \"rain\"][\"QB Rating\"]\n",
    "data14 = new_qb_df[new_qb_df[\"conditions\"] == \"scattered clouds\"][\"QB Rating\"]\n",
    "data15 = new_qb_df[new_qb_df[\"conditions\"] == \"thunderstorm\"][\"QB Rating\"]\n",
    "data = list([data16, data1, data2, data3, data4, data5, data6, data7, data8, data9, data10, data11, data12, data13, data14, data15])\n",
    "\n",
    "\n",
    "fig, ax = plt.subplots()\n",
    "\n",
    "# build a violin plot\n",
    "qb_rating_weather_plot = ax.violinplot(data, showmeans=False, showmedians=True)\n",
    "# add color \n",
    "for pc in qb_rating_weather_plot['bodies']:\n",
    "    pc.set_facecolor('red')\n",
    "    pc.set_edgecolor('black')\n",
    "\n"
   ]
  },
  {
   "cell_type": "markdown",
   "id": "4d29af6f",
   "metadata": {},
   "source": [
    "From the violin plot, we can see that although the medians are similar, the distribution of QB ratings are not"
   ]
  },
  {
   "cell_type": "code",
   "execution_count": 17,
   "id": "44ff2aad",
   "metadata": {},
   "outputs": [],
   "source": [
    "# def qb_rating(cmpls, yds, tds, ints):\n",
    "    \n",
    "# def _min_max(x, xmin, xmax):\n",
    "         \n",
    "# Defines a function which enforces a minimum and maximum value.\n",
    "# Input: x, the value to check.\n",
    "# Input: xmin, the minumum value.\n",
    "# Input: xmax, the maximum value.\n",
    "# Output: Either x, xmin or xmax, depending.\n",
    "       "
   ]
  },
  {
   "cell_type": "code",
   "execution_count": null,
   "id": "87c02bd9",
   "metadata": {},
   "outputs": [],
   "source": [
    "#  # Check if x is less than the minimum. If so, return the minimum.\n",
    "# if x < xmin:\n",
    "#     return xmin\n",
    "         \n",
    "# # Check if x is greater than the maximum. If so, return the maximum.\n",
    "# elif x > xmax:\n",
    "#     return xmax\n",
    "         \n",
    "# # Otherwise,  return x. \n",
    "# else:\n",
    "#     return x\n",
    "            "
   ]
  },
  {
   "cell_type": "code",
   "execution_count": null,
   "id": "7234237f",
   "metadata": {},
   "outputs": [],
   "source": [
    "# # Step 1: The completion percentage.         \n",
    "# step_1 = cmpls - 0.3\n",
    "# step_1 = step_1 * 5\n",
    "# step_1 = _min_max(step_1, 0, 2.375)\n",
    "     \n",
    "# # Step 2: The yards per attempt.\n",
    "# step_2 = yds - 3\n",
    "# step_2 = step_2 * 0.25\n",
    "# step_2 = _min_max(step_2, 0, 2.375)\n",
    "    \n",
    "# # Step 3: Touchdown percentage.\n",
    "# step_3 = tds * 20\n",
    "# step_3 = _min_max(step_3, 0, 2.375)\n",
    "     \n",
    "# # Step 4: Interception percentage.\n",
    "# step_4 = ints * 25\n",
    "# step_4 = 2.375 - step_4\n",
    "# step_4 = _min_max(step_4, 0, 2.375)\n",
    "     \n",
    "# # Step 5: Compute the rating based on the sum of steps 1-4.\n",
    "# rating = step_1 + step_2 + step_3 + step_4 + 0.0\n",
    "# rating = rating / 6\n",
    "# rating = rating * 100\n",
    "     \n",
    "# # Step 6: Return the rating, formatted to 1 decimal place, as a Decimal.\n",
    "# return rating\n"
   ]
  }
 ],
 "metadata": {
  "kernelspec": {
   "display_name": "Python 3",
   "language": "python",
   "name": "python3"
  },
  "language_info": {
   "codemirror_mode": {
    "name": "ipython",
    "version": 3
   },
   "file_extension": ".py",
   "mimetype": "text/x-python",
   "name": "python",
   "nbconvert_exporter": "python",
   "pygments_lexer": "ipython3",
   "version": "3.8.8"
  }
 },
 "nbformat": 4,
 "nbformat_minor": 5
}
